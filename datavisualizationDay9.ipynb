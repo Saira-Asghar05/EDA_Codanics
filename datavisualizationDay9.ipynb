{
 "cells": [
  {
   "attachments": {},
   "cell_type": "markdown",
   "metadata": {},
   "source": [
    "Data Visualization"
   ]
  },
  {
   "cell_type": "code",
   "execution_count": 1,
   "metadata": {},
   "outputs": [],
   "source": [
    "#load the librarie\n",
    "import pandas as pd #dat ko handle krti hy\n",
    "import numpy as np  #numerical operation \n",
    "#data visulaization\n",
    "import matplotlib.pyplot as plt\n",
    "import seaborn as sns"
   ]
  },
  {
   "cell_type": "code",
   "execution_count": 3,
   "metadata": {},
   "outputs": [],
   "source": [
    "df = sns.load_dataset('tips')"
   ]
  },
  {
   "cell_type": "code",
   "execution_count": 4,
   "metadata": {},
   "outputs": [
    {
     "name": "stdout",
     "output_type": "stream",
     "text": [
      "<class 'pandas.core.frame.DataFrame'>\n",
      "RangeIndex: 244 entries, 0 to 243\n",
      "Data columns (total 7 columns):\n",
      " #   Column      Non-Null Count  Dtype   \n",
      "---  ------      --------------  -----   \n",
      " 0   total_bill  244 non-null    float64 \n",
      " 1   tip         244 non-null    float64 \n",
      " 2   sex         244 non-null    category\n",
      " 3   smoker      244 non-null    category\n",
      " 4   day         244 non-null    category\n",
      " 5   time        244 non-null    category\n",
      " 6   size        244 non-null    int64   \n",
      "dtypes: category(4), float64(2), int64(1)\n",
      "memory usage: 7.4 KB\n"
     ]
    }
   ],
   "source": [
    "df.info()"
   ]
  },
  {
   "cell_type": "code",
   "execution_count": 5,
   "metadata": {},
   "outputs": [
    {
     "data": {
      "text/plain": [
       "(244, 7)"
      ]
     },
     "execution_count": 5,
     "metadata": {},
     "output_type": "execute_result"
    }
   ],
   "source": [
    "df.shape"
   ]
  },
  {
   "cell_type": "code",
   "execution_count": 6,
   "metadata": {},
   "outputs": [
    {
     "data": {
      "text/html": [
       "<div>\n",
       "<style scoped>\n",
       "    .dataframe tbody tr th:only-of-type {\n",
       "        vertical-align: middle;\n",
       "    }\n",
       "\n",
       "    .dataframe tbody tr th {\n",
       "        vertical-align: top;\n",
       "    }\n",
       "\n",
       "    .dataframe thead th {\n",
       "        text-align: right;\n",
       "    }\n",
       "</style>\n",
       "<table border=\"1\" class=\"dataframe\">\n",
       "  <thead>\n",
       "    <tr style=\"text-align: right;\">\n",
       "      <th></th>\n",
       "      <th>total_bill</th>\n",
       "      <th>tip</th>\n",
       "      <th>size</th>\n",
       "    </tr>\n",
       "  </thead>\n",
       "  <tbody>\n",
       "    <tr>\n",
       "      <th>count</th>\n",
       "      <td>244.000000</td>\n",
       "      <td>244.000000</td>\n",
       "      <td>244.000000</td>\n",
       "    </tr>\n",
       "    <tr>\n",
       "      <th>mean</th>\n",
       "      <td>19.785943</td>\n",
       "      <td>2.998279</td>\n",
       "      <td>2.569672</td>\n",
       "    </tr>\n",
       "    <tr>\n",
       "      <th>std</th>\n",
       "      <td>8.902412</td>\n",
       "      <td>1.383638</td>\n",
       "      <td>0.951100</td>\n",
       "    </tr>\n",
       "    <tr>\n",
       "      <th>min</th>\n",
       "      <td>3.070000</td>\n",
       "      <td>1.000000</td>\n",
       "      <td>1.000000</td>\n",
       "    </tr>\n",
       "    <tr>\n",
       "      <th>25%</th>\n",
       "      <td>13.347500</td>\n",
       "      <td>2.000000</td>\n",
       "      <td>2.000000</td>\n",
       "    </tr>\n",
       "    <tr>\n",
       "      <th>50%</th>\n",
       "      <td>17.795000</td>\n",
       "      <td>2.900000</td>\n",
       "      <td>2.000000</td>\n",
       "    </tr>\n",
       "    <tr>\n",
       "      <th>75%</th>\n",
       "      <td>24.127500</td>\n",
       "      <td>3.562500</td>\n",
       "      <td>3.000000</td>\n",
       "    </tr>\n",
       "    <tr>\n",
       "      <th>max</th>\n",
       "      <td>50.810000</td>\n",
       "      <td>10.000000</td>\n",
       "      <td>6.000000</td>\n",
       "    </tr>\n",
       "  </tbody>\n",
       "</table>\n",
       "</div>"
      ],
      "text/plain": [
       "       total_bill         tip        size\n",
       "count  244.000000  244.000000  244.000000\n",
       "mean    19.785943    2.998279    2.569672\n",
       "std      8.902412    1.383638    0.951100\n",
       "min      3.070000    1.000000    1.000000\n",
       "25%     13.347500    2.000000    2.000000\n",
       "50%     17.795000    2.900000    2.000000\n",
       "75%     24.127500    3.562500    3.000000\n",
       "max     50.810000   10.000000    6.000000"
      ]
     },
     "execution_count": 6,
     "metadata": {},
     "output_type": "execute_result"
    }
   ],
   "source": [
    "df.describe() #to show the colombs who have numericc values"
   ]
  },
  {
   "cell_type": "code",
   "execution_count": 7,
   "metadata": {},
   "outputs": [
    {
     "data": {
      "text/plain": [
       "total_bill     float64\n",
       "tip            float64\n",
       "sex           category\n",
       "smoker        category\n",
       "day           category\n",
       "time          category\n",
       "size             int64\n",
       "dtype: object"
      ]
     },
     "execution_count": 7,
     "metadata": {},
     "output_type": "execute_result"
    }
   ],
   "source": [
    "df.dtypes"
   ]
  },
  {
   "cell_type": "code",
   "execution_count": 10,
   "metadata": {},
   "outputs": [
    {
     "data": {
      "text/plain": [
       "<Axes: xlabel='total_bill', ylabel='tip'>"
      ]
     },
     "execution_count": 10,
     "metadata": {},
     "output_type": "execute_result"
    },
    {
     "data": {
      "image/png": "[encoded data removed]",
      "text/plain": [
       "<Figure size 640x480 with 1 Axes>"
      ]
     },
     "metadata": {},
     "output_type": "display_data"
    }
   ],
   "source": [
    "sns.scatterplot(data=df,x='total_bill', y='tip',color='orange')"
   ]
  },
  {
   "cell_type": "code",
   "execution_count": 11,
   "metadata": {},
   "outputs": [
    {
     "data": {
      "text/plain": [
       "<Axes: xlabel='total_bill', ylabel='tip'>"
      ]
     },
     "execution_count": 11,
     "metadata": {},
     "output_type": "execute_result"
    },
    {
     "data": {
      "image/png": "[encoded data removed]",
      "text/plain": [
       "<Figure size 640x480 with 1 Axes>"
      ]
     },
     "metadata": {},
     "output_type": "display_data"
    }
   ],
   "source": [
    "sns.scatterplot(data=df,x='total_bill', y='tip',hue='day')"
   ]
  },
  {
   "attachments": {},
   "cell_type": "markdown",
   "metadata": {},
   "source": []
  },
  {
   "cell_type": "code",
   "execution_count": 12,
   "metadata": {},
   "outputs": [
    {
     "data": {
      "application/vnd.plotly.v1+json": {
       "config": {
        "plotlyServerURL": "https://plot.ly"
       },
       "data": [
        {
         "domain": {
          "x": [
           0,
           1
          ],
          "y": [
           0,
           1
          ]
         },
         "hovertemplate": "character=%{label}<br>value=%{value}<br>parent=%{parent}<extra></extra>",
         "labels": [
          "Eve",
          "Cain",
          "Seth",
          "Enos",
          "Noam",
          "Abel",
          "Awan",
          "Enoch",
          "Azura"
         ],
         "name": "",
         "parents": [
          "",
          "Eve",
          "Eve",
          "Seth",
          "Seth",
          "Eve",
          "Eve",
          "Awan",
          "Eve"
         ],
         "type": "sunburst",
         "values": [
          10,
          14,
          12,
          10,
          2,
          6,
          6,
          4,
          4
         ]
        }
       ],
       "layout": {
        "legend": {
         "tracegroupgap": 0
        },
        "margin": {
         "t": 60
        },
        "template": {
         "data": {
          "bar": [
           {
            "error_x": {
             "color": "#2a3f5f"
            },
            "error_y": {
             "color": "#2a3f5f"
            },
            "marker": {
             "line": {
              "color": "#E5ECF6",
              "width": 0.5
             },
             "pattern": {
              "fillmode": "overlay",
              "size": 10,
              "solidity": 0.2
             }
            },
            "type": "bar"
           }
          ],
          "barpolar": [
           {
            "marker": {
             "line": {
              "color": "#E5ECF6",
              "width": 0.5
             },
             "pattern": {
              "fillmode": "overlay",
              "size": 10,
              "solidity": 0.2
             }
            },
            "type": "barpolar"
           }
          ],
          "carpet": [
           {
            "aaxis": {
             "endlinecolor": "#2a3f5f",
             "gridcolor": "white",
             "linecolor": "white",
             "minorgridcolor": "white",
             "startlinecolor": "#2a3f5f"
            },
            "baxis": {
             "endlinecolor": "#2a3f5f",
             "gridcolor": "white",
             "linecolor": "white",
             "minorgridcolor": "white",
             "startlinecolor": "#2a3f5f"
            },
            "type": "carpet"
           }
          ],
          "choropleth": [
           {
            "colorbar": {
             "outlinewidth": 0,
             "ticks": ""
            },
            "type": "choropleth"
           }
          ],
          "contour": [
           {
            "colorbar": {
             "outlinewidth": 0,
             "ticks": ""
            },
            "colorscale": [
             [
              0,
              "#0d0887"
             ],
             [
              0.1111111111111111,
              "#46039f"
             ],
             [
              0.2222222222222222,
              "#7201a8"
             ],
             [
              0.3333333333333333,
              "#9c179e"
             ],
             [
              0.4444444444444444,
              "#bd3786"
             ],
             [
              0.5555555555555556,
              "#d8576b"
             ],
             [
              0.6666666666666666,
              "#ed7953"
             ],
             [
              0.7777777777777778,
              "#fb9f3a"
             ],
             [
              0.8888888888888888,
              "#fdca26"
             ],
             [
              1,
              "#f0f921"
             ]
            ],
            "type": "contour"
           }
          ],
          "contourcarpet": [
           {
            "colorbar": {
             "outlinewidth": 0,
             "ticks": ""
            },
            "type": "contourcarpet"
           }
          ],
          "heatmap": [
           {
            "colorbar": {
             "outlinewidth": 0,
             "ticks": ""
            },
            "colorscale": [
             [
              0,
              "#0d0887"
             ],
             [
              0.1111111111111111,
              "#46039f"
             ],
             [
              0.2222222222222222,
              "#7201a8"
             ],
             [
              0.3333333333333333,
              "#9c179e"
             ],
             [
              0.4444444444444444,
              "#bd3786"
             ],
             [
              0.5555555555555556,
              "#d8576b"
             ],
             [
              0.6666666666666666,
              "#ed7953"
             ],
             [
              0.7777777777777778,
              "#fb9f3a"
             ],
             [
              0.8888888888888888,
              "#fdca26"
             ],
             [
              1,
              "#f0f921"
             ]
            ],
            "type": "heatmap"
           }
          ],
          "heatmapgl": [
           {
            "colorbar": {
             "outlinewidth": 0,
             "ticks": ""
            },
            "colorscale": [
             [
              0,
              "#0d0887"
             ],
             [
              0.1111111111111111,
              "#46039f"
             ],
             [
              0.2222222222222222,
              "#7201a8"
             ],
             [
              0.3333333333333333,
              "#9c179e"
             ],
             [
              0.4444444444444444,
              "#bd3786"
             ],
             [
              0.5555555555555556,
              "#d8576b"
             ],
             [
              0.6666666666666666,
              "#ed7953"
             ],
             [
              0.7777777777777778,
              "#fb9f3a"
             ],
             [
              0.8888888888888888,
              "#fdca26"
             ],
             [
              1,
              "#f0f921"
             ]
            ],
            "type": "heatmapgl"
           }
          ],
          "histogram": [
           {
            "marker": {
             "pattern": {
              "fillmode": "overlay",
              "size": 10,
              "solidity": 0.2
             }
            },
            "type": "histogram"
           }
          ],
          "histogram2d": [
           {
            "colorbar": {
             "outlinewidth": 0,
             "ticks": ""
            },
            "colorscale": [
             [
              0,
              "#0d0887"
             ],
             [
              0.1111111111111111,
              "#46039f"
             ],
             [
              0.2222222222222222,
              "#7201a8"
             ],
             [
              0.3333333333333333,
              "#9c179e"
             ],
             [
              0.4444444444444444,
              "#bd3786"
             ],
             [
              0.5555555555555556,
              "#d8576b"
             ],
             [
              0.6666666666666666,
              "#ed7953"
             ],
             [
              0.7777777777777778,
              "#fb9f3a"
             ],
             [
              0.8888888888888888,
              "#fdca26"
             ],
             [
              1,
              "#f0f921"
             ]
            ],
            "type": "histogram2d"
           }
          ],
          "histogram2dcontour": [
           {
            "colorbar": {
             "outlinewidth": 0,
             "ticks": ""
            },
            "colorscale": [
             [
              0,
              "#0d0887"
             ],
             [
              0.1111111111111111,
              "#46039f"
             ],
             [
              0.2222222222222222,
              "#7201a8"
             ],
             [
              0.3333333333333333,
              "#9c179e"
             ],
             [
              0.4444444444444444,
              "#bd3786"
             ],
             [
              0.5555555555555556,
              "#d8576b"
             ],
             [
              0.6666666666666666,
              "#ed7953"
             ],
             [
              0.7777777777777778,
              "#fb9f3a"
             ],
             [
              0.8888888888888888,
              "#fdca26"
             ],
             [
              1,
              "#f0f921"
             ]
            ],
            "type": "histogram2dcontour"
           }
          ],
          "mesh3d": [
           {
            "colorbar": {
             "outlinewidth": 0,
             "ticks": ""
            },
            "type": "mesh3d"
           }
          ],
          "parcoords": [
           {
            "line": {
             "colorbar": {
              "outlinewidth": 0,
              "ticks": ""
             }
            },
            "type": "parcoords"
           }
          ],
          "pie": [
           {
            "automargin": true,
            "type": "pie"
           }
          ],
          "scatter": [
           {
            "fillpattern": {
             "fillmode": "overlay",
             "size": 10,
             "solidity": 0.2
            },
            "type": "scatter"
           }
          ],
          "scatter3d": [
           {
            "line": {
             "colorbar": {
              "outlinewidth": 0,
              "ticks": ""
             }
            },
            "marker": {
             "colorbar": {
              "outlinewidth": 0,
              "ticks": ""
             }
            },
            "type": "scatter3d"
           }
          ],
          "scattercarpet": [
           {
            "marker": {
             "colorbar": {
              "outlinewidth": 0,
              "ticks": ""
             }
            },
            "type": "scattercarpet"
           }
          ],
          "scattergeo": [
           {
            "marker": {
             "colorbar": {
              "outlinewidth": 0,
              "ticks": ""
             }
            },
            "type": "scattergeo"
           }
          ],
          "scattergl": [
           {
            "marker": {
             "colorbar": {
              "outlinewidth": 0,
              "ticks": ""
             }
            },
            "type": "scattergl"
           }
          ],
          "scattermapbox": [
           {
            "marker": {
             "colorbar": {
              "outlinewidth": 0,
              "ticks": ""
             }
            },
            "type": "scattermapbox"
           }
          ],
          "scatterpolar": [
           {
            "marker": {
             "colorbar": {
              "outlinewidth": 0,
              "ticks": ""
             }
            },
            "type": "scatterpolar"
           }
          ],
          "scatterpolargl": [
           {
            "marker": {
             "colorbar": {
              "outlinewidth": 0,
              "ticks": ""
             }
            },
            "type": "scatterpolargl"
           }
          ],
          "scatterternary": [
           {
            "marker": {
             "colorbar": {
              "outlinewidth": 0,
              "ticks": ""
             }
            },
            "type": "scatterternary"
           }
          ],
          "surface": [
           {
            "colorbar": {
             "outlinewidth": 0,
             "ticks": ""
            },
            "colorscale": [
             [
              0,
              "#0d0887"
             ],
             [
              0.1111111111111111,
              "#46039f"
             ],
             [
              0.2222222222222222,
              "#7201a8"
             ],
             [
              0.3333333333333333,
              "#9c179e"
             ],
             [
              0.4444444444444444,
              "#bd3786"
             ],
             [
              0.5555555555555556,
              "#d8576b"
             ],
             [
              0.6666666666666666,
              "#ed7953"
             ],
             [
              0.7777777777777778,
              "#fb9f3a"
             ],
             [
              0.8888888888888888,
              "#fdca26"
             ],
             [
              1,
              "#f0f921"
             ]
            ],
            "type": "surface"
           }
          ],
          "table": [
           {
            "cells": {
             "fill": {
              "color": "#EBF0F8"
             },
             "line": {
              "color": "white"
             }
            },
            "header": {
             "fill": {
              "color": "#C8D4E3"
             },
             "line": {
              "color": "white"
             }
            },
            "type": "table"
           }
          ]
         },
         "layout": {
          "annotationdefaults": {
           "arrowcolor": "#2a3f5f",
           "arrowhead": 0,
           "arrowwidth": 1
          },
          "autotypenumbers": "strict",
          "coloraxis": {
           "colorbar": {
            "outlinewidth": 0,
            "ticks": ""
           }
          },
          "colorscale": {
           "diverging": [
            [
             0,
             "#8e0152"
            ],
            [
             0.1,
             "#c51b7d"
            ],
            [
             0.2,
             "#de77ae"
            ],
            [
             0.3,
             "#f1b6da"
            ],
            [
             0.4,
             "#fde0ef"
            ],
            [
             0.5,
             "#f7f7f7"
            ],
            [
             0.6,
             "#e6f5d0"
            ],
            [
             0.7,
             "#b8e186"
            ],
            [
             0.8,
             "#7fbc41"
            ],
            [
             0.9,
             "#4d9221"
            ],
            [
             1,
             "#276419"
            ]
           ],
           "sequential": [
            [
             0,
             "#0d0887"
            ],
            [
             0.1111111111111111,
             "#46039f"
            ],
            [
             0.2222222222222222,
             "#7201a8"
            ],
            [
             0.3333333333333333,
             "#9c179e"
            ],
            [
             0.4444444444444444,
             "#bd3786"
            ],
            [
             0.5555555555555556,
             "#d8576b"
            ],
            [
             0.6666666666666666,
             "#ed7953"
            ],
            [
             0.7777777777777778,
             "#fb9f3a"
            ],
            [
             0.8888888888888888,
             "#fdca26"
            ],
            [
             1,
             "#f0f921"
            ]
           ],
           "sequentialminus": [
            [
             0,
             "#0d0887"
            ],
            [
             0.1111111111111111,
             "#46039f"
            ],
            [
             0.2222222222222222,
             "#7201a8"
            ],
            [
             0.3333333333333333,
             "#9c179e"
            ],
            [
             0.4444444444444444,
             "#bd3786"
            ],
            [
             0.5555555555555556,
             "#d8576b"
            ],
            [
             0.6666666666666666,
             "#ed7953"
            ],
            [
             0.7777777777777778,
             "#fb9f3a"
            ],
            [
             0.8888888888888888,
             "#fdca26"
            ],
            [
             1,
             "#f0f921"
            ]
           ]
          },
          "colorway": [
           "#636efa",
           "#EF553B",
           "#00cc96",
           "#ab63fa",
           "#FFA15A",
           "#19d3f3",
           "#FF6692",
           "#B6E880",
           "#FF97FF",
           "#FECB52"
          ],
          "font": {
           "color": "#2a3f5f"
          },
          "geo": {
           "bgcolor": "white",
           "lakecolor": "white",
           "landcolor": "#E5ECF6",
           "showlakes": true,
           "showland": true,
           "subunitcolor": "white"
          },
          "hoverlabel": {
           "align": "left"
          },
          "hovermode": "closest",
          "mapbox": {
           "style": "light"
          },
          "paper_bgcolor": "white",
          "plot_bgcolor": "#E5ECF6",
          "polar": {
           "angularaxis": {
            "gridcolor": "white",
            "linecolor": "white",
            "ticks": ""
           },
           "bgcolor": "#E5ECF6",
           "radialaxis": {
            "gridcolor": "white",
            "linecolor": "white",
            "ticks": ""
           }
          },
          "scene": {
           "xaxis": {
            "backgroundcolor": "#E5ECF6",
            "gridcolor": "white",
            "gridwidth": 2,
            "linecolor": "white",
            "showbackground": true,
            "ticks": "",
            "zerolinecolor": "white"
           },
           "yaxis": {
            "backgroundcolor": "#E5ECF6",
            "gridcolor": "white",
            "gridwidth": 2,
            "linecolor": "white",
            "showbackground": true,
            "ticks": "",
            "zerolinecolor": "white"
           },
           "zaxis": {
            "backgroundcolor": "#E5ECF6",
            "gridcolor": "white",
            "gridwidth": 2,
            "linecolor": "white",
            "showbackground": true,
            "ticks": "",
            "zerolinecolor": "white"
           }
          },
          "shapedefaults": {
           "line": {
            "color": "#2a3f5f"
           }
          },
          "ternary": {
           "aaxis": {
            "gridcolor": "white",
            "linecolor": "white",
            "ticks": ""
           },
           "baxis": {
            "gridcolor": "white",
            "linecolor": "white",
            "ticks": ""
           },
           "bgcolor": "#E5ECF6",
           "caxis": {
            "gridcolor": "white",
            "linecolor": "white",
            "ticks": ""
           }
          },
          "title": {
           "x": 0.05
          },
          "xaxis": {
           "automargin": true,
           "gridcolor": "white",
           "linecolor": "white",
           "ticks": "",
           "title": {
            "standoff": 15
           },
           "zerolinecolor": "white",
           "zerolinewidth": 2
          },
          "yaxis": {
           "automargin": true,
           "gridcolor": "white",
           "linecolor": "white",
           "ticks": "",
           "title": {
            "standoff": 15
           },
           "zerolinecolor": "white",
           "zerolinewidth": 2
          }
         }
        }
       }
      }
     },
     "metadata": {},
     "output_type": "display_data"
    }
   ],
   "source": [
    "import plotly.express as px\n",
    "data = dict(\n",
    "    character=[\"Eve\", \"Cain\", \"Seth\", \"Enos\", \"Noam\", \"Abel\", \"Awan\", \"Enoch\", \"Azura\"],\n",
    "    parent=[\"\", \"Eve\", \"Eve\", \"Seth\", \"Seth\", \"Eve\", \"Eve\", \"Awan\", \"Eve\" ],\n",
    "    value=[10, 14, 12, 10, 2, 6, 6, 4, 4])\n",
    "\n",
    "fig = px.sunburst(\n",
    "    data,\n",
    "    names='character',\n",
    "    parents='parent',\n",
    "    values='value',\n",
    ")\n",
    "fig.show()"
   ]
  },
  {
   "attachments": {},
   "cell_type": "markdown",
   "metadata": {},
   "source": [
    "sunburs plot"
   ]
  },
  {
   "cell_type": "code",
   "execution_count": 14,
   "metadata": {},
   "outputs": [
    {
     "data": {
      "text/html": [
       "<div>\n",
       "<style scoped>\n",
       "    .dataframe tbody tr th:only-of-type {\n",
       "        vertical-align: middle;\n",
       "    }\n",
       "\n",
       "    .dataframe tbody tr th {\n",
       "        vertical-align: top;\n",
       "    }\n",
       "\n",
       "    .dataframe thead th {\n",
       "        text-align: right;\n",
       "    }\n",
       "</style>\n",
       "<table border=\"1\" class=\"dataframe\">\n",
       "  <thead>\n",
       "    <tr style=\"text-align: right;\">\n",
       "      <th></th>\n",
       "      <th>total_bill</th>\n",
       "      <th>tip</th>\n",
       "      <th>sex</th>\n",
       "      <th>smoker</th>\n",
       "      <th>day</th>\n",
       "      <th>time</th>\n",
       "      <th>size</th>\n",
       "    </tr>\n",
       "  </thead>\n",
       "  <tbody>\n",
       "    <tr>\n",
       "      <th>0</th>\n",
       "      <td>16.99</td>\n",
       "      <td>1.01</td>\n",
       "      <td>Female</td>\n",
       "      <td>No</td>\n",
       "      <td>Sun</td>\n",
       "      <td>Dinner</td>\n",
       "      <td>2</td>\n",
       "    </tr>\n",
       "    <tr>\n",
       "      <th>1</th>\n",
       "      <td>10.34</td>\n",
       "      <td>1.66</td>\n",
       "      <td>Male</td>\n",
       "      <td>No</td>\n",
       "      <td>Sun</td>\n",
       "      <td>Dinner</td>\n",
       "      <td>3</td>\n",
       "    </tr>\n",
       "    <tr>\n",
       "      <th>2</th>\n",
       "      <td>21.01</td>\n",
       "      <td>3.50</td>\n",
       "      <td>Male</td>\n",
       "      <td>No</td>\n",
       "      <td>Sun</td>\n",
       "      <td>Dinner</td>\n",
       "      <td>3</td>\n",
       "    </tr>\n",
       "    <tr>\n",
       "      <th>3</th>\n",
       "      <td>23.68</td>\n",
       "      <td>3.31</td>\n",
       "      <td>Male</td>\n",
       "      <td>No</td>\n",
       "      <td>Sun</td>\n",
       "      <td>Dinner</td>\n",
       "      <td>2</td>\n",
       "    </tr>\n",
       "    <tr>\n",
       "      <th>4</th>\n",
       "      <td>24.59</td>\n",
       "      <td>3.61</td>\n",
       "      <td>Female</td>\n",
       "      <td>No</td>\n",
       "      <td>Sun</td>\n",
       "      <td>Dinner</td>\n",
       "      <td>4</td>\n",
       "    </tr>\n",
       "  </tbody>\n",
       "</table>\n",
       "</div>"
      ],
      "text/plain": [
       "   total_bill   tip     sex smoker  day    time  size\n",
       "0       16.99  1.01  Female     No  Sun  Dinner     2\n",
       "1       10.34  1.66    Male     No  Sun  Dinner     3\n",
       "2       21.01  3.50    Male     No  Sun  Dinner     3\n",
       "3       23.68  3.31    Male     No  Sun  Dinner     2\n",
       "4       24.59  3.61  Female     No  Sun  Dinner     4"
      ]
     },
     "execution_count": 14,
     "metadata": {},
     "output_type": "execute_result"
    }
   ],
   "source": [
    "df.head()"
   ]
  },
  {
   "cell_type": "code",
   "execution_count": 5,
   "metadata": {},
   "outputs": [
    {
     "data": {
      "application/vnd.plotly.v1+json": {
       "config": {
        "plotlyServerURL": "https://plot.ly"
       },
       "data": [
        {
         "branchvalues": "total",
         "domain": {
          "x": [
           0,
           1
          ],
          "y": [
           0,
           1
          ]
         },
         "hovertemplate": "labels=%{label}<br>total_bill=%{value}<br>parent=%{parent}<br>id=%{id}<extra></extra>",
         "ids": [
          "Thur/Lunch/Male",
          "Fri/Lunch/Male",
          "Sat/Lunch/Male",
          "Sun/Lunch/Male",
          "Thur/Dinner/Male",
          "Fri/Dinner/Male",
          "Sat/Dinner/Male",
          "Sun/Dinner/Male",
          "Thur/Lunch/Female",
          "Fri/Lunch/Female",
          "Sat/Lunch/Female",
          "Sun/Lunch/Female",
          "Thur/Dinner/Female",
          "Fri/Dinner/Female",
          "Sat/Dinner/Female",
          "Sun/Dinner/Female",
          "Thur/Lunch",
          "Fri/Lunch",
          "Sat/Lunch",
          "Sun/Lunch",
          "Thur/Dinner",
          "Fri/Dinner",
          "Sat/Dinner",
          "Sun/Dinner",
          "Thur",
          "Fri",
          "Sat",
          "Sun"
         ],
         "labels": [
          "Male",
          "Male",
          "Male",
          "Male",
          "Male",
          "Male",
          "Male",
          "Male",
          "Female",
          "Female",
          "Female",
          "Female",
          "Female",
          "Female",
          "Female",
          "Female",
          "Lunch",
          "Lunch",
          "Lunch",
          "Lunch",
          "Dinner",
          "Dinner",
          "Dinner",
          "Dinner",
          "Thur",
          "Fri",
          "Sat",
          "Sun"
         ],
         "name": "",
         "parents": [
          "Thur/Lunch",
          "Fri/Lunch",
          "Sat/Lunch",
          "Sun/Lunch",
          "Thur/Dinner",
          "Fri/Dinner",
          "Sat/Dinner",
          "Sun/Dinner",
          "Thur/Lunch",
          "Fri/Lunch",
          "Sat/Lunch",
          "Sun/Lunch",
          "Thur/Dinner",
          "Fri/Dinner",
          "Sat/Dinner",
          "Sun/Dinner",
          "Thur",
          "Fri",
          "Sat",
          "Sun",
          "Thur",
          "Fri",
          "Sat",
          "Sun",
          "",
          "",
          "",
          ""
         ],
         "type": "sunburst",
         "values": [
          561.4399999999999,
          34.16,
          0,
          0,
          0,
          164.41,
          1227.35,
          1269.46,
          516.11,
          55.760000000000005,
          0,
          0,
          18.78,
          71.55,
          551.05,
          357.7,
          1077.55,
          89.92,
          0,
          0,
          18.78,
          235.96,
          1778.4,
          1627.16,
          1096.33,
          325.88,
          1778.4,
          1627.16
         ]
        }
       ],
       "layout": {
        "legend": {
         "tracegroupgap": 0
        },
        "margin": {
         "t": 60
        },
        "template": {
         "data": {
          "bar": [
           {
            "error_x": {
             "color": "#2a3f5f"
            },
            "error_y": {
             "color": "#2a3f5f"
            },
            "marker": {
             "line": {
              "color": "#E5ECF6",
              "width": 0.5
             },
             "pattern": {
              "fillmode": "overlay",
              "size": 10,
              "solidity": 0.2
             }
            },
            "type": "bar"
           }
          ],
          "barpolar": [
           {
            "marker": {
             "line": {
              "color": "#E5ECF6",
              "width": 0.5
             },
             "pattern": {
              "fillmode": "overlay",
              "size": 10,
              "solidity": 0.2
             }
            },
            "type": "barpolar"
           }
          ],
          "carpet": [
           {
            "aaxis": {
             "endlinecolor": "#2a3f5f",
             "gridcolor": "white",
             "linecolor": "white",
             "minorgridcolor": "white",
             "startlinecolor": "#2a3f5f"
            },
            "baxis": {
             "endlinecolor": "#2a3f5f",
             "gridcolor": "white",
             "linecolor": "white",
             "minorgridcolor": "white",
             "startlinecolor": "#2a3f5f"
            },
            "type": "carpet"
           }
          ],
          "choropleth": [
           {
            "colorbar": {
             "outlinewidth": 0,
             "ticks": ""
            },
            "type": "choropleth"
           }
          ],
          "contour": [
           {
            "colorbar": {
             "outlinewidth": 0,
             "ticks": ""
            },
            "colorscale": [
             [
              0,
              "#0d0887"
             ],
             [
              0.1111111111111111,
              "#46039f"
             ],
             [
              0.2222222222222222,
              "#7201a8"
             ],
             [
              0.3333333333333333,
              "#9c179e"
             ],
             [
              0.4444444444444444,
              "#bd3786"
             ],
             [
              0.5555555555555556,
              "#d8576b"
             ],
             [
              0.6666666666666666,
              "#ed7953"
             ],
             [
              0.7777777777777778,
              "#fb9f3a"
             ],
             [
              0.8888888888888888,
              "#fdca26"
             ],
             [
              1,
              "#f0f921"
             ]
            ],
            "type": "contour"
           }
          ],
          "contourcarpet": [
           {
            "colorbar": {
             "outlinewidth": 0,
             "ticks": ""
            },
            "type": "contourcarpet"
           }
          ],
          "heatmap": [
           {
            "colorbar": {
             "outlinewidth": 0,
             "ticks": ""
            },
            "colorscale": [
             [
              0,
              "#0d0887"
             ],
             [
              0.1111111111111111,
              "#46039f"
             ],
             [
              0.2222222222222222,
              "#7201a8"
             ],
             [
              0.3333333333333333,
              "#9c179e"
             ],
             [
              0.4444444444444444,
              "#bd3786"
             ],
             [
              0.5555555555555556,
              "#d8576b"
             ],
             [
              0.6666666666666666,
              "#ed7953"
             ],
             [
              0.7777777777777778,
              "#fb9f3a"
             ],
             [
              0.8888888888888888,
              "#fdca26"
             ],
             [
              1,
              "#f0f921"
             ]
            ],
            "type": "heatmap"
           }
          ],
          "heatmapgl": [
           {
            "colorbar": {
             "outlinewidth": 0,
             "ticks": ""
            },
            "colorscale": [
             [
              0,
              "#0d0887"
             ],
             [
              0.1111111111111111,
              "#46039f"
             ],
             [
              0.2222222222222222,
              "#7201a8"
             ],
             [
              0.3333333333333333,
              "#9c179e"
             ],
             [
              0.4444444444444444,
              "#bd3786"
             ],
             [
              0.5555555555555556,
              "#d8576b"
             ],
             [
              0.6666666666666666,
              "#ed7953"
             ],
             [
              0.7777777777777778,
              "#fb9f3a"
             ],
             [
              0.8888888888888888,
              "#fdca26"
             ],
             [
              1,
              "#f0f921"
             ]
            ],
            "type": "heatmapgl"
           }
          ],
          "histogram": [
           {
            "marker": {
             "pattern": {
              "fillmode": "overlay",
              "size": 10,
              "solidity": 0.2
             }
            },
            "type": "histogram"
           }
          ],
          "histogram2d": [
           {
            "colorbar": {
             "outlinewidth": 0,
             "ticks": ""
            },
            "colorscale": [
             [
              0,
              "#0d0887"
             ],
             [
              0.1111111111111111,
              "#46039f"
             ],
             [
              0.2222222222222222,
              "#7201a8"
             ],
             [
              0.3333333333333333,
              "#9c179e"
             ],
             [
              0.4444444444444444,
              "#bd3786"
             ],
             [
              0.5555555555555556,
              "#d8576b"
             ],
             [
              0.6666666666666666,
              "#ed7953"
             ],
             [
              0.7777777777777778,
              "#fb9f3a"
             ],
             [
              0.8888888888888888,
              "#fdca26"
             ],
             [
              1,
              "#f0f921"
             ]
            ],
            "type": "histogram2d"
           }
          ],
          "histogram2dcontour": [
           {
            "colorbar": {
             "outlinewidth": 0,
             "ticks": ""
            },
            "colorscale": [
             [
              0,
              "#0d0887"
             ],
             [
              0.1111111111111111,
              "#46039f"
             ],
             [
              0.2222222222222222,
              "#7201a8"
             ],
             [
              0.3333333333333333,
              "#9c179e"
             ],
             [
              0.4444444444444444,
              "#bd3786"
             ],
             [
              0.5555555555555556,
              "#d8576b"
             ],
             [
              0.6666666666666666,
              "#ed7953"
             ],
             [
              0.7777777777777778,
              "#fb9f3a"
             ],
             [
              0.8888888888888888,
              "#fdca26"
             ],
             [
              1,
              "#f0f921"
             ]
            ],
            "type": "histogram2dcontour"
           }
          ],
          "mesh3d": [
           {
            "colorbar": {
             "outlinewidth": 0,
             "ticks": ""
            },
            "type": "mesh3d"
           }
          ],
          "parcoords": [
           {
            "line": {
             "colorbar": {
              "outlinewidth": 0,
              "ticks": ""
             }
            },
            "type": "parcoords"
           }
          ],
          "pie": [
           {
            "automargin": true,
            "type": "pie"
           }
          ],
          "scatter": [
           {
            "fillpattern": {
             "fillmode": "overlay",
             "size": 10,
             "solidity": 0.2
            },
            "type": "scatter"
           }
          ],
          "scatter3d": [
           {
            "line": {
             "colorbar": {
              "outlinewidth": 0,
              "ticks": ""
             }
            },
            "marker": {
             "colorbar": {
              "outlinewidth": 0,
              "ticks": ""
             }
            },
            "type": "scatter3d"
           }
          ],
          "scattercarpet": [
           {
            "marker": {
             "colorbar": {
              "outlinewidth": 0,
              "ticks": ""
             }
            },
            "type": "scattercarpet"
           }
          ],
          "scattergeo": [
           {
            "marker": {
             "colorbar": {
              "outlinewidth": 0,
              "ticks": ""
             }
            },
            "type": "scattergeo"
           }
          ],
          "scattergl": [
           {
            "marker": {
             "colorbar": {
              "outlinewidth": 0,
              "ticks": ""
             }
            },
            "type": "scattergl"
           }
          ],
          "scattermapbox": [
           {
            "marker": {
             "colorbar": {
              "outlinewidth": 0,
              "ticks": ""
             }
            },
            "type": "scattermapbox"
           }
          ],
          "scatterpolar": [
           {
            "marker": {
             "colorbar": {
              "outlinewidth": 0,
              "ticks": ""
             }
            },
            "type": "scatterpolar"
           }
          ],
          "scatterpolargl": [
           {
            "marker": {
             "colorbar": {
              "outlinewidth": 0,
              "ticks": ""
             }
            },
            "type": "scatterpolargl"
           }
          ],
          "scatterternary": [
           {
            "marker": {
             "colorbar": {
              "outlinewidth": 0,
              "ticks": ""
             }
            },
            "type": "scatterternary"
           }
          ],
          "surface": [
           {
            "colorbar": {
             "outlinewidth": 0,
             "ticks": ""
            },
            "colorscale": [
             [
              0,
              "#0d0887"
             ],
             [
              0.1111111111111111,
              "#46039f"
             ],
             [
              0.2222222222222222,
              "#7201a8"
             ],
             [
              0.3333333333333333,
              "#9c179e"
             ],
             [
              0.4444444444444444,
              "#bd3786"
             ],
             [
              0.5555555555555556,
              "#d8576b"
             ],
             [
              0.6666666666666666,
              "#ed7953"
             ],
             [
              0.7777777777777778,
              "#fb9f3a"
             ],
             [
              0.8888888888888888,
              "#fdca26"
             ],
             [
              1,
              "#f0f921"
             ]
            ],
            "type": "surface"
           }
          ],
          "table": [
           {
            "cells": {
             "fill": {
              "color": "#EBF0F8"
             },
             "line": {
              "color": "white"
             }
            },
            "header": {
             "fill": {
              "color": "#C8D4E3"
             },
             "line": {
              "color": "white"
             }
            },
            "type": "table"
           }
          ]
         },
         "layout": {
          "annotationdefaults": {
           "arrowcolor": "#2a3f5f",
           "arrowhead": 0,
           "arrowwidth": 1
          },
          "autotypenumbers": "strict",
          "coloraxis": {
           "colorbar": {
            "outlinewidth": 0,
            "ticks": ""
           }
          },
          "colorscale": {
           "diverging": [
            [
             0,
             "#8e0152"
            ],
            [
             0.1,
             "#c51b7d"
            ],
            [
             0.2,
             "#de77ae"
            ],
            [
             0.3,
             "#f1b6da"
            ],
            [
             0.4,
             "#fde0ef"
            ],
            [
             0.5,
             "#f7f7f7"
            ],
            [
             0.6,
             "#e6f5d0"
            ],
            [
             0.7,
             "#b8e186"
            ],
            [
             0.8,
             "#7fbc41"
            ],
            [
             0.9,
             "#4d9221"
            ],
            [
             1,
             "#276419"
            ]
           ],
           "sequential": [
            [
             0,
             "#0d0887"
            ],
            [
             0.1111111111111111,
             "#46039f"
            ],
            [
             0.2222222222222222,
             "#7201a8"
            ],
            [
             0.3333333333333333,
             "#9c179e"
            ],
            [
             0.4444444444444444,
             "#bd3786"
            ],
            [
             0.5555555555555556,
             "#d8576b"
            ],
            [
             0.6666666666666666,
             "#ed7953"
            ],
            [
             0.7777777777777778,
             "#fb9f3a"
            ],
            [
             0.8888888888888888,
             "#fdca26"
            ],
            [
             1,
             "#f0f921"
            ]
           ],
           "sequentialminus": [
            [
             0,
             "#0d0887"
            ],
            [
             0.1111111111111111,
             "#46039f"
            ],
            [
             0.2222222222222222,
             "#7201a8"
            ],
            [
             0.3333333333333333,
             "#9c179e"
            ],
            [
             0.4444444444444444,
             "#bd3786"
            ],
            [
             0.5555555555555556,
             "#d8576b"
            ],
            [
             0.6666666666666666,
             "#ed7953"
            ],
            [
             0.7777777777777778,
             "#fb9f3a"
            ],
            [
             0.8888888888888888,
             "#fdca26"
            ],
            [
             1,
             "#f0f921"
            ]
           ]
          },
          "colorway": [
           "#636efa",
           "#EF553B",
           "#00cc96",
           "#ab63fa",
           "#FFA15A",
           "#19d3f3",
           "#FF6692",
           "#B6E880",
           "#FF97FF",
           "#FECB52"
          ],
          "font": {
           "color": "#2a3f5f"
          },
          "geo": {
           "bgcolor": "white",
           "lakecolor": "white",
           "landcolor": "#E5ECF6",
           "showlakes": true,
           "showland": true,
           "subunitcolor": "white"
          },
          "hoverlabel": {
           "align": "left"
          },
          "hovermode": "closest",
          "mapbox": {
           "style": "light"
          },
          "paper_bgcolor": "white",
          "plot_bgcolor": "#E5ECF6",
          "polar": {
           "angularaxis": {
            "gridcolor": "white",
            "linecolor": "white",
            "ticks": ""
           },
           "bgcolor": "#E5ECF6",
           "radialaxis": {
            "gridcolor": "white",
            "linecolor": "white",
            "ticks": ""
           }
          },
          "scene": {
           "xaxis": {
            "backgroundcolor": "#E5ECF6",
            "gridcolor": "white",
            "gridwidth": 2,
            "linecolor": "white",
            "showbackground": true,
            "ticks": "",
            "zerolinecolor": "white"
           },
           "yaxis": {
            "backgroundcolor": "#E5ECF6",
            "gridcolor": "white",
            "gridwidth": 2,
            "linecolor": "white",
            "showbackground": true,
            "ticks": "",
            "zerolinecolor": "white"
           },
           "zaxis": {
            "backgroundcolor": "#E5ECF6",
            "gridcolor": "white",
            "gridwidth": 2,
            "linecolor": "white",
            "showbackground": true,
            "ticks": "",
            "zerolinecolor": "white"
           }
          },
          "shapedefaults": {
           "line": {
            "color": "#2a3f5f"
           }
          },
          "ternary": {
           "aaxis": {
            "gridcolor": "white",
            "linecolor": "white",
            "ticks": ""
           },
           "baxis": {
            "gridcolor": "white",
            "linecolor": "white",
            "ticks": ""
           },
           "bgcolor": "#E5ECF6",
           "caxis": {
            "gridcolor": "white",
            "linecolor": "white",
            "ticks": ""
           }
          },
          "title": {
           "x": 0.05
          },
          "xaxis": {
           "automargin": true,
           "gridcolor": "white",
           "linecolor": "white",
           "ticks": "",
           "title": {
            "standoff": 15
           },
           "zerolinecolor": "white",
           "zerolinewidth": 2
          },
          "yaxis": {
           "automargin": true,
           "gridcolor": "white",
           "linecolor": "white",
           "ticks": "",
           "title": {
            "standoff": 15
           },
           "zerolinecolor": "white",
           "zerolinewidth": 2
          }
         }
        }
       }
      }
     },
     "metadata": {},
     "output_type": "display_data"
    }
   ],
   "source": [
    "import plotly.express as px\n",
    "#df = px.data.tips() or\n",
    "df = sns.load_dataset('tips')\n",
    "fig = px.sunburst(df, path=['day', 'time', 'sex'], values='total_bill')\n",
    "fig.show()"
   ]
  },
  {
   "cell_type": "code",
   "execution_count": 17,
   "metadata": {},
   "outputs": [
    {
     "data": {
      "application/vnd.plotly.v1+json": {
       "config": {
        "plotlyServerURL": "https://plot.ly"
       },
       "data": [
        {
         "hovertemplate": "day=Sun<br>total_bill=%{x}<br>tip=%{y}<extra></extra>",
         "legendgroup": "Sun",
         "marker": {
          "color": "#636efa",
          "symbol": "circle"
         },
         "mode": "markers",
         "name": "Sun",
         "orientation": "v",
         "showlegend": true,
         "type": "scatter",
         "x": [
          16.99,
          10.34,
          21.01,
          23.68,
          24.59,
          25.29,
          8.77,
          26.88,
          15.04,
          14.78,
          10.27,
          35.26,
          15.42,
          18.43,
          14.83,
          21.58,
          10.33,
          16.29,
          16.97,
          17.46,
          13.94,
          9.68,
          30.4,
          18.29,
          22.23,
          32.4,
          28.55,
          18.04,
          12.54,
          10.29,
          34.81,
          9.94,
          25.56,
          19.49,
          38.07,
          23.95,
          25.71,
          17.31,
          29.93,
          14.07,
          13.13,
          17.26,
          24.55,
          19.77,
          29.85,
          48.17,
          25,
          13.39,
          16.49,
          21.5,
          12.66,
          16.21,
          13.81,
          17.51,
          24.52,
          20.76,
          31.71,
          7.25,
          31.85,
          16.82,
          32.9,
          17.89,
          14.48,
          9.6,
          34.63,
          34.65,
          23.33,
          45.35,
          23.17,
          40.55,
          20.69,
          20.9,
          30.46,
          18.15,
          23.1,
          15.69
         ],
         "xaxis": "x",
         "y": [
          1.01,
          1.66,
          3.5,
          3.31,
          3.61,
          4.71,
          2,
          3.12,
          1.96,
          3.23,
          1.71,
          5,
          1.57,
          3,
          3.02,
          3.92,
          1.67,
          3.71,
          3.5,
          2.54,
          3.06,
          1.32,
          5.6,
          3,
          5,
          6,
          2.05,
          3,
          2.5,
          2.6,
          5.2,
          1.56,
          4.34,
          3.51,
          4,
          2.55,
          4,
          3.5,
          5.07,
          2.5,
          2,
          2.74,
          2,
          2,
          5.14,
          5,
          3.75,
          2.61,
          2,
          3.5,
          2.5,
          2,
          2,
          3,
          3.48,
          2.24,
          4.5,
          5.15,
          3.18,
          4,
          3.11,
          2,
          2,
          4,
          3.55,
          3.68,
          5.65,
          3.5,
          6.5,
          3,
          5,
          3.5,
          2,
          3.5,
          4,
          1.5
         ],
         "yaxis": "y"
        },
        {
         "hovertemplate": "day=Sat<br>total_bill=%{x}<br>tip=%{y}<extra></extra>",
         "legendgroup": "Sat",
         "marker": {
          "color": "#EF553B",
          "symbol": "circle"
         },
         "mode": "markers",
         "name": "Sat",
         "orientation": "v",
         "showlegend": true,
         "type": "scatter",
         "x": [
          20.65,
          17.92,
          20.29,
          15.77,
          39.42,
          19.82,
          17.81,
          13.37,
          12.69,
          21.7,
          19.65,
          9.55,
          18.35,
          15.06,
          20.69,
          17.78,
          24.06,
          16.31,
          16.93,
          18.69,
          31.27,
          16.04,
          38.01,
          26.41,
          11.24,
          48.27,
          20.29,
          13.81,
          11.02,
          18.29,
          17.59,
          20.08,
          16.45,
          3.07,
          20.23,
          15.01,
          12.02,
          17.07,
          26.86,
          25.28,
          14.73,
          10.51,
          17.92,
          44.3,
          22.42,
          20.92,
          15.36,
          20.49,
          25.21,
          18.24,
          14.31,
          14,
          7.25,
          10.59,
          10.63,
          50.81,
          15.81,
          26.59,
          38.73,
          24.27,
          12.76,
          30.06,
          25.89,
          48.33,
          13.27,
          28.17,
          12.9,
          28.15,
          11.59,
          7.74,
          30.14,
          20.45,
          13.28,
          22.12,
          24.01,
          15.69,
          11.61,
          10.77,
          15.53,
          10.07,
          12.6,
          32.83,
          35.83,
          29.03,
          27.18,
          22.67,
          17.82
         ],
         "xaxis": "x",
         "y": [
          3.35,
          4.08,
          2.75,
          2.23,
          7.58,
          3.18,
          2.34,
          2,
          2,
          4.3,
          3,
          1.45,
          2.5,
          3,
          2.45,
          3.27,
          3.6,
          2,
          3.07,
          2.31,
          5,
          2.24,
          3,
          1.5,
          1.76,
          6.73,
          3.21,
          2,
          1.98,
          3.76,
          2.64,
          3.15,
          2.47,
          1,
          2.01,
          2.09,
          1.97,
          3,
          3.14,
          5,
          2.2,
          1.25,
          3.08,
          2.5,
          3.48,
          4.08,
          1.64,
          4.06,
          4.29,
          3.76,
          4,
          3,
          1,
          1.61,
          2,
          10,
          3.16,
          3.41,
          3,
          2.03,
          2.23,
          2,
          5.16,
          9,
          2.5,
          6.5,
          1.1,
          3,
          1.5,
          1.44,
          3.09,
          3,
          2.72,
          2.88,
          2,
          3,
          3.39,
          1.47,
          3,
          1.25,
          1,
          1.17,
          4.67,
          5.92,
          2,
          2,
          1.75
         ],
         "yaxis": "y"
        },
        {
         "hovertemplate": "day=Thur<br>total_bill=%{x}<br>tip=%{y}<extra></extra>",
         "legendgroup": "Thur",
         "marker": {
          "color": "#00cc96",
          "symbol": "circle"
         },
         "mode": "markers",
         "name": "Thur",
         "orientation": "v",
         "showlegend": true,
         "type": "scatter",
         "x": [
          27.2,
          22.76,
          17.29,
          19.44,
          16.66,
          10.07,
          32.68,
          15.98,
          34.83,
          13.03,
          18.28,
          24.71,
          21.16,
          10.65,
          12.43,
          24.08,
          11.69,
          13.42,
          14.26,
          15.95,
          12.48,
          29.8,
          8.52,
          14.52,
          11.38,
          22.82,
          19.08,
          20.27,
          11.17,
          12.26,
          18.26,
          8.51,
          10.33,
          14.15,
          16,
          13.16,
          17.47,
          34.3,
          41.19,
          27.05,
          16.43,
          8.35,
          18.64,
          11.87,
          9.78,
          7.51,
          19.81,
          28.44,
          15.48,
          16.58,
          7.56,
          10.34,
          43.11,
          13,
          13.51,
          18.71,
          12.74,
          13,
          16.4,
          20.53,
          16.47,
          18.78
         ],
         "xaxis": "x",
         "y": [
          4,
          3,
          2.71,
          3,
          3.4,
          1.83,
          5,
          2.03,
          5.17,
          2,
          4,
          5.85,
          3,
          1.5,
          1.8,
          2.92,
          2.31,
          1.68,
          2.5,
          2,
          2.52,
          4.2,
          1.48,
          2,
          2,
          2.18,
          1.5,
          2.83,
          1.5,
          2,
          3.25,
          1.25,
          2,
          2,
          2,
          2.75,
          3.5,
          6.7,
          5,
          5,
          2.3,
          1.5,
          1.36,
          1.63,
          1.73,
          2,
          4.19,
          2.56,
          2.02,
          4,
          1.44,
          2,
          5,
          2,
          2,
          4,
          2.01,
          2,
          2.5,
          4,
          3.23,
          3
         ],
         "yaxis": "y"
        },
        {
         "hovertemplate": "day=Fri<br>total_bill=%{x}<br>tip=%{y}<extra></extra>",
         "legendgroup": "Fri",
         "marker": {
          "color": "#ab63fa",
          "symbol": "circle"
         },
         "mode": "markers",
         "name": "Fri",
         "orientation": "v",
         "showlegend": true,
         "type": "scatter",
         "x": [
          28.97,
          22.49,
          5.75,
          16.32,
          22.75,
          40.17,
          27.28,
          12.03,
          21.01,
          12.46,
          11.35,
          15.38,
          12.16,
          13.42,
          8.58,
          15.98,
          13.42,
          16.27,
          10.09
         ],
         "xaxis": "x",
         "y": [
          3,
          3.5,
          1,
          4.3,
          3.25,
          4.73,
          4,
          1.5,
          3,
          1.5,
          2.5,
          3,
          2.2,
          3.48,
          1.92,
          3,
          1.58,
          2.5,
          2
         ],
         "yaxis": "y"
        }
       ],
       "layout": {
        "legend": {
         "title": {
          "text": "day"
         },
         "tracegroupgap": 0
        },
        "margin": {
         "t": 60
        },
        "template": {
         "data": {
          "bar": [
           {
            "error_x": {
             "color": "#2a3f5f"
            },
            "error_y": {
             "color": "#2a3f5f"
            },
            "marker": {
             "line": {
              "color": "#E5ECF6",
              "width": 0.5
             },
             "pattern": {
              "fillmode": "overlay",
              "size": 10,
              "solidity": 0.2
             }
            },
            "type": "bar"
           }
          ],
          "barpolar": [
           {
            "marker": {
             "line": {
              "color": "#E5ECF6",
              "width": 0.5
             },
             "pattern": {
              "fillmode": "overlay",
              "size": 10,
              "solidity": 0.2
             }
            },
            "type": "barpolar"
           }
          ],
          "carpet": [
           {
            "aaxis": {
             "endlinecolor": "#2a3f5f",
             "gridcolor": "white",
             "linecolor": "white",
             "minorgridcolor": "white",
             "startlinecolor": "#2a3f5f"
            },
            "baxis": {
             "endlinecolor": "#2a3f5f",
             "gridcolor": "white",
             "linecolor": "white",
             "minorgridcolor": "white",
             "startlinecolor": "#2a3f5f"
            },
            "type": "carpet"
           }
          ],
          "choropleth": [
           {
            "colorbar": {
             "outlinewidth": 0,
             "ticks": ""
            },
            "type": "choropleth"
           }
          ],
          "contour": [
           {
            "colorbar": {
             "outlinewidth": 0,
             "ticks": ""
            },
            "colorscale": [
             [
              0,
              "#0d0887"
             ],
             [
              0.1111111111111111,
              "#46039f"
             ],
             [
              0.2222222222222222,
              "#7201a8"
             ],
             [
              0.3333333333333333,
              "#9c179e"
             ],
             [
              0.4444444444444444,
              "#bd3786"
             ],
             [
              0.5555555555555556,
              "#d8576b"
             ],
             [
              0.6666666666666666,
              "#ed7953"
             ],
             [
              0.7777777777777778,
              "#fb9f3a"
             ],
             [
              0.8888888888888888,
              "#fdca26"
             ],
             [
              1,
              "#f0f921"
             ]
            ],
            "type": "contour"
           }
          ],
          "contourcarpet": [
           {
            "colorbar": {
             "outlinewidth": 0,
             "ticks": ""
            },
            "type": "contourcarpet"
           }
          ],
          "heatmap": [
           {
            "colorbar": {
             "outlinewidth": 0,
             "ticks": ""
            },
            "colorscale": [
             [
              0,
              "#0d0887"
             ],
             [
              0.1111111111111111,
              "#46039f"
             ],
             [
              0.2222222222222222,
              "#7201a8"
             ],
             [
              0.3333333333333333,
              "#9c179e"
             ],
             [
              0.4444444444444444,
              "#bd3786"
             ],
             [
              0.5555555555555556,
              "#d8576b"
             ],
             [
              0.6666666666666666,
              "#ed7953"
             ],
             [
              0.7777777777777778,
              "#fb9f3a"
             ],
             [
              0.8888888888888888,
              "#fdca26"
             ],
             [
              1,
              "#f0f921"
             ]
            ],
            "type": "heatmap"
           }
          ],
          "heatmapgl": [
           {
            "colorbar": {
             "outlinewidth": 0,
             "ticks": ""
            },
            "colorscale": [
             [
              0,
              "#0d0887"
             ],
             [
              0.1111111111111111,
              "#46039f"
             ],
             [
              0.2222222222222222,
              "#7201a8"
             ],
             [
              0.3333333333333333,
              "#9c179e"
             ],
             [
              0.4444444444444444,
              "#bd3786"
             ],
             [
              0.5555555555555556,
              "#d8576b"
             ],
             [
              0.6666666666666666,
              "#ed7953"
             ],
             [
              0.7777777777777778,
              "#fb9f3a"
             ],
             [
              0.8888888888888888,
              "#fdca26"
             ],
             [
              1,
              "#f0f921"
             ]
            ],
            "type": "heatmapgl"
           }
          ],
          "histogram": [
           {
            "marker": {
             "pattern": {
              "fillmode": "overlay",
              "size": 10,
              "solidity": 0.2
             }
            },
            "type": "histogram"
           }
          ],
          "histogram2d": [
           {
            "colorbar": {
             "outlinewidth": 0,
             "ticks": ""
            },
            "colorscale": [
             [
              0,
              "#0d0887"
             ],
             [
              0.1111111111111111,
              "#46039f"
             ],
             [
              0.2222222222222222,
              "#7201a8"
             ],
             [
              0.3333333333333333,
              "#9c179e"
             ],
             [
              0.4444444444444444,
              "#bd3786"
             ],
             [
              0.5555555555555556,
              "#d8576b"
             ],
             [
              0.6666666666666666,
              "#ed7953"
             ],
             [
              0.7777777777777778,
              "#fb9f3a"
             ],
             [
              0.8888888888888888,
              "#fdca26"
             ],
             [
              1,
              "#f0f921"
             ]
            ],
            "type": "histogram2d"
           }
          ],
          "histogram2dcontour": [
           {
            "colorbar": {
             "outlinewidth": 0,
             "ticks": ""
            },
            "colorscale": [
             [
              0,
              "#0d0887"
             ],
             [
              0.1111111111111111,
              "#46039f"
             ],
             [
              0.2222222222222222,
              "#7201a8"
             ],
             [
              0.3333333333333333,
              "#9c179e"
             ],
             [
              0.4444444444444444,
              "#bd3786"
             ],
             [
              0.5555555555555556,
              "#d8576b"
             ],
             [
              0.6666666666666666,
              "#ed7953"
             ],
             [
              0.7777777777777778,
              "#fb9f3a"
             ],
             [
              0.8888888888888888,
              "#fdca26"
             ],
             [
              1,
              "#f0f921"
             ]
            ],
            "type": "histogram2dcontour"
           }
          ],
          "mesh3d": [
           {
            "colorbar": {
             "outlinewidth": 0,
             "ticks": ""
            },
            "type": "mesh3d"
           }
          ],
          "parcoords": [
           {
            "line": {
             "colorbar": {
              "outlinewidth": 0,
              "ticks": ""
             }
            },
            "type": "parcoords"
           }
          ],
          "pie": [
           {
            "automargin": true,
            "type": "pie"
           }
          ],
          "scatter": [
           {
            "fillpattern": {
             "fillmode": "overlay",
             "size": 10,
             "solidity": 0.2
            },
            "type": "scatter"
           }
          ],
          "scatter3d": [
           {
            "line": {
             "colorbar": {
              "outlinewidth": 0,
              "ticks": ""
             }
            },
            "marker": {
             "colorbar": {
              "outlinewidth": 0,
              "ticks": ""
             }
            },
            "type": "scatter3d"
           }
          ],
          "scattercarpet": [
           {
            "marker": {
             "colorbar": {
              "outlinewidth": 0,
              "ticks": ""
             }
            },
            "type": "scattercarpet"
           }
          ],
          "scattergeo": [
           {
            "marker": {
             "colorbar": {
              "outlinewidth": 0,
              "ticks": ""
             }
            },
            "type": "scattergeo"
           }
          ],
          "scattergl": [
           {
            "marker": {
             "colorbar": {
              "outlinewidth": 0,
              "ticks": ""
             }
            },
            "type": "scattergl"
           }
          ],
          "scattermapbox": [
           {
            "marker": {
             "colorbar": {
              "outlinewidth": 0,
              "ticks": ""
             }
            },
            "type": "scattermapbox"
           }
          ],
          "scatterpolar": [
           {
            "marker": {
             "colorbar": {
              "outlinewidth": 0,
              "ticks": ""
             }
            },
            "type": "scatterpolar"
           }
          ],
          "scatterpolargl": [
           {
            "marker": {
             "colorbar": {
              "outlinewidth": 0,
              "ticks": ""
             }
            },
            "type": "scatterpolargl"
           }
          ],
          "scatterternary": [
           {
            "marker": {
             "colorbar": {
              "outlinewidth": 0,
              "ticks": ""
             }
            },
            "type": "scatterternary"
           }
          ],
          "surface": [
           {
            "colorbar": {
             "outlinewidth": 0,
             "ticks": ""
            },
            "colorscale": [
             [
              0,
              "#0d0887"
             ],
             [
              0.1111111111111111,
              "#46039f"
             ],
             [
              0.2222222222222222,
              "#7201a8"
             ],
             [
              0.3333333333333333,
              "#9c179e"
             ],
             [
              0.4444444444444444,
              "#bd3786"
             ],
             [
              0.5555555555555556,
              "#d8576b"
             ],
             [
              0.6666666666666666,
              "#ed7953"
             ],
             [
              0.7777777777777778,
              "#fb9f3a"
             ],
             [
              0.8888888888888888,
              "#fdca26"
             ],
             [
              1,
              "#f0f921"
             ]
            ],
            "type": "surface"
           }
          ],
          "table": [
           {
            "cells": {
             "fill": {
              "color": "#EBF0F8"
             },
             "line": {
              "color": "white"
             }
            },
            "header": {
             "fill": {
              "color": "#C8D4E3"
             },
             "line": {
              "color": "white"
             }
            },
            "type": "table"
           }
          ]
         },
         "layout": {
          "annotationdefaults": {
           "arrowcolor": "#2a3f5f",
           "arrowhead": 0,
           "arrowwidth": 1
          },
          "autotypenumbers": "strict",
          "coloraxis": {
           "colorbar": {
            "outlinewidth": 0,
            "ticks": ""
           }
          },
          "colorscale": {
           "diverging": [
            [
             0,
             "#8e0152"
            ],
            [
             0.1,
             "#c51b7d"
            ],
            [
             0.2,
             "#de77ae"
            ],
            [
             0.3,
             "#f1b6da"
            ],
            [
             0.4,
             "#fde0ef"
            ],
            [
             0.5,
             "#f7f7f7"
            ],
            [
             0.6,
             "#e6f5d0"
            ],
            [
             0.7,
             "#b8e186"
            ],
            [
             0.8,
             "#7fbc41"
            ],
            [
             0.9,
             "#4d9221"
            ],
            [
             1,
             "#276419"
            ]
           ],
           "sequential": [
            [
             0,
             "#0d0887"
            ],
            [
             0.1111111111111111,
             "#46039f"
            ],
            [
             0.2222222222222222,
             "#7201a8"
            ],
            [
             0.3333333333333333,
             "#9c179e"
            ],
            [
             0.4444444444444444,
             "#bd3786"
            ],
            [
             0.5555555555555556,
             "#d8576b"
            ],
            [
             0.6666666666666666,
             "#ed7953"
            ],
            [
             0.7777777777777778,
             "#fb9f3a"
            ],
            [
             0.8888888888888888,
             "#fdca26"
            ],
            [
             1,
             "#f0f921"
            ]
           ],
           "sequentialminus": [
            [
             0,
             "#0d0887"
            ],
            [
             0.1111111111111111,
             "#46039f"
            ],
            [
             0.2222222222222222,
             "#7201a8"
            ],
            [
             0.3333333333333333,
             "#9c179e"
            ],
            [
             0.4444444444444444,
             "#bd3786"
            ],
            [
             0.5555555555555556,
             "#d8576b"
            ],
            [
             0.6666666666666666,
             "#ed7953"
            ],
            [
             0.7777777777777778,
             "#fb9f3a"
            ],
            [
             0.8888888888888888,
             "#fdca26"
            ],
            [
             1,
             "#f0f921"
            ]
           ]
          },
          "colorway": [
           "#636efa",
           "#EF553B",
           "#00cc96",
           "#ab63fa",
           "#FFA15A",
           "#19d3f3",
           "#FF6692",
           "#B6E880",
           "#FF97FF",
           "#FECB52"
          ],
          "font": {
           "color": "#2a3f5f"
          },
          "geo": {
           "bgcolor": "white",
           "lakecolor": "white",
           "landcolor": "#E5ECF6",
           "showlakes": true,
           "showland": true,
           "subunitcolor": "white"
          },
          "hoverlabel": {
           "align": "left"
          },
          "hovermode": "closest",
          "mapbox": {
           "style": "light"
          },
          "paper_bgcolor": "white",
          "plot_bgcolor": "#E5ECF6",
          "polar": {
           "angularaxis": {
            "gridcolor": "white",
            "linecolor": "white",
            "ticks": ""
           },
           "bgcolor": "#E5ECF6",
           "radialaxis": {
            "gridcolor": "white",
            "linecolor": "white",
            "ticks": ""
           }
          },
          "scene": {
           "xaxis": {
            "backgroundcolor": "#E5ECF6",
            "gridcolor": "white",
            "gridwidth": 2,
            "linecolor": "white",
            "showbackground": true,
            "ticks": "",
            "zerolinecolor": "white"
           },
           "yaxis": {
            "backgroundcolor": "#E5ECF6",
            "gridcolor": "white",
            "gridwidth": 2,
            "linecolor": "white",
            "showbackground": true,
            "ticks": "",
            "zerolinecolor": "white"
           },
           "zaxis": {
            "backgroundcolor": "#E5ECF6",
            "gridcolor": "white",
            "gridwidth": 2,
            "linecolor": "white",
            "showbackground": true,
            "ticks": "",
            "zerolinecolor": "white"
           }
          },
          "shapedefaults": {
           "line": {
            "color": "#2a3f5f"
           }
          },
          "ternary": {
           "aaxis": {
            "gridcolor": "white",
            "linecolor": "white",
            "ticks": ""
           },
           "baxis": {
            "gridcolor": "white",
            "linecolor": "white",
            "ticks": ""
           },
           "bgcolor": "#E5ECF6",
           "caxis": {
            "gridcolor": "white",
            "linecolor": "white",
            "ticks": ""
           }
          },
          "title": {
           "x": 0.05
          },
          "xaxis": {
           "automargin": true,
           "gridcolor": "white",
           "linecolor": "white",
           "ticks": "",
           "title": {
            "standoff": 15
           },
           "zerolinecolor": "white",
           "zerolinewidth": 2
          },
          "yaxis": {
           "automargin": true,
           "gridcolor": "white",
           "linecolor": "white",
           "ticks": "",
           "title": {
            "standoff": 15
           },
           "zerolinecolor": "white",
           "zerolinewidth": 2
          }
         }
        },
        "xaxis": {
         "anchor": "y",
         "domain": [
          0,
          1
         ],
         "title": {
          "text": "total_bill"
         }
        },
        "yaxis": {
         "anchor": "x",
         "domain": [
          0,
          1
         ],
         "title": {
          "text": "tip"
         }
        }
       }
      }
     },
     "metadata": {},
     "output_type": "display_data"
    }
   ],
   "source": [
    "fig = px.scatter(df,x='total_bill',y='tip',color='day')\n",
    "fig.show()"
   ]
  },
  {
   "cell_type": "code",
   "execution_count": 19,
   "metadata": {},
   "outputs": [
    {
     "data": {
      "application/vnd.plotly.v1+json": {
       "config": {
        "plotlyServerURL": "https://plot.ly"
       },
       "data": [
        {
         "alignmentgroup": "True",
         "hovertemplate": "day=%{x}<br>tip=%{y}<extra></extra>",
         "legendgroup": "Sun",
         "marker": {
          "color": "#636efa",
          "pattern": {
           "shape": ""
          }
         },
         "name": "Sun",
         "offsetgroup": "Sun",
         "orientation": "v",
         "showlegend": true,
         "textposition": "auto",
         "type": "bar",
         "x": [
          "Sun",
          "Sun",
          "Sun",
          "Sun",
          "Sun",
          "Sun",
          "Sun",
          "Sun",
          "Sun",
          "Sun",
          "Sun",
          "Sun",
          "Sun",
          "Sun",
          "Sun",
          "Sun",
          "Sun",
          "Sun",
          "Sun",
          "Sun",
          "Sun",
          "Sun",
          "Sun",
          "Sun",
          "Sun",
          "Sun",
          "Sun",
          "Sun",
          "Sun",
          "Sun",
          "Sun",
          "Sun",
          "Sun",
          "Sun",
          "Sun",
          "Sun",
          "Sun",
          "Sun",
          "Sun",
          "Sun",
          "Sun",
          "Sun",
          "Sun",
          "Sun",
          "Sun",
          "Sun",
          "Sun",
          "Sun",
          "Sun",
          "Sun",
          "Sun",
          "Sun",
          "Sun",
          "Sun",
          "Sun",
          "Sun",
          "Sun",
          "Sun",
          "Sun",
          "Sun",
          "Sun",
          "Sun",
          "Sun",
          "Sun",
          "Sun",
          "Sun",
          "Sun",
          "Sun",
          "Sun",
          "Sun",
          "Sun",
          "Sun",
          "Sun",
          "Sun",
          "Sun",
          "Sun"
         ],
         "xaxis": "x",
         "y": [
          1.01,
          1.66,
          3.5,
          3.31,
          3.61,
          4.71,
          2,
          3.12,
          1.96,
          3.23,
          1.71,
          5,
          1.57,
          3,
          3.02,
          3.92,
          1.67,
          3.71,
          3.5,
          2.54,
          3.06,
          1.32,
          5.6,
          3,
          5,
          6,
          2.05,
          3,
          2.5,
          2.6,
          5.2,
          1.56,
          4.34,
          3.51,
          4,
          2.55,
          4,
          3.5,
          5.07,
          2.5,
          2,
          2.74,
          2,
          2,
          5.14,
          5,
          3.75,
          2.61,
          2,
          3.5,
          2.5,
          2,
          2,
          3,
          3.48,
          2.24,
          4.5,
          5.15,
          3.18,
          4,
          3.11,
          2,
          2,
          4,
          3.55,
          3.68,
          5.65,
          3.5,
          6.5,
          3,
          5,
          3.5,
          2,
          3.5,
          4,
          1.5
         ],
         "yaxis": "y"
        },
        {
         "alignmentgroup": "True",
         "hovertemplate": "day=%{x}<br>tip=%{y}<extra></extra>",
         "legendgroup": "Sat",
         "marker": {
          "color": "#EF553B",
          "pattern": {
           "shape": ""
          }
         },
         "name": "Sat",
         "offsetgroup": "Sat",
         "orientation": "v",
         "showlegend": true,
         "textposition": "auto",
         "type": "bar",
         "x": [
          "Sat",
          "Sat",
          "Sat",
          "Sat",
          "Sat",
          "Sat",
          "Sat",
          "Sat",
          "Sat",
          "Sat",
          "Sat",
          "Sat",
          "Sat",
          "Sat",
          "Sat",
          "Sat",
          "Sat",
          "Sat",
          "Sat",
          "Sat",
          "Sat",
          "Sat",
          "Sat",
          "Sat",
          "Sat",
          "Sat",
          "Sat",
          "Sat",
          "Sat",
          "Sat",
          "Sat",
          "Sat",
          "Sat",
          "Sat",
          "Sat",
          "Sat",
          "Sat",
          "Sat",
          "Sat",
          "Sat",
          "Sat",
          "Sat",
          "Sat",
          "Sat",
          "Sat",
          "Sat",
          "Sat",
          "Sat",
          "Sat",
          "Sat",
          "Sat",
          "Sat",
          "Sat",
          "Sat",
          "Sat",
          "Sat",
          "Sat",
          "Sat",
          "Sat",
          "Sat",
          "Sat",
          "Sat",
          "Sat",
          "Sat",
          "Sat",
          "Sat",
          "Sat",
          "Sat",
          "Sat",
          "Sat",
          "Sat",
          "Sat",
          "Sat",
          "Sat",
          "Sat",
          "Sat",
          "Sat",
          "Sat",
          "Sat",
          "Sat",
          "Sat",
          "Sat",
          "Sat",
          "Sat",
          "Sat",
          "Sat",
          "Sat"
         ],
         "xaxis": "x",
         "y": [
          3.35,
          4.08,
          2.75,
          2.23,
          7.58,
          3.18,
          2.34,
          2,
          2,
          4.3,
          3,
          1.45,
          2.5,
          3,
          2.45,
          3.27,
          3.6,
          2,
          3.07,
          2.31,
          5,
          2.24,
          3,
          1.5,
          1.76,
          6.73,
          3.21,
          2,
          1.98,
          3.76,
          2.64,
          3.15,
          2.47,
          1,
          2.01,
          2.09,
          1.97,
          3,
          3.14,
          5,
          2.2,
          1.25,
          3.08,
          2.5,
          3.48,
          4.08,
          1.64,
          4.06,
          4.29,
          3.76,
          4,
          3,
          1,
          1.61,
          2,
          10,
          3.16,
          3.41,
          3,
          2.03,
          2.23,
          2,
          5.16,
          9,
          2.5,
          6.5,
          1.1,
          3,
          1.5,
          1.44,
          3.09,
          3,
          2.72,
          2.88,
          2,
          3,
          3.39,
          1.47,
          3,
          1.25,
          1,
          1.17,
          4.67,
          5.92,
          2,
          2,
          1.75
         ],
         "yaxis": "y"
        },
        {
         "alignmentgroup": "True",
         "hovertemplate": "day=%{x}<br>tip=%{y}<extra></extra>",
         "legendgroup": "Thur",
         "marker": {
          "color": "#00cc96",
          "pattern": {
           "shape": ""
          }
         },
         "name": "Thur",
         "offsetgroup": "Thur",
         "orientation": "v",
         "showlegend": true,
         "textposition": "auto",
         "type": "bar",
         "x": [
          "Thur",
          "Thur",
          "Thur",
          "Thur",
          "Thur",
          "Thur",
          "Thur",
          "Thur",
          "Thur",
          "Thur",
          "Thur",
          "Thur",
          "Thur",
          "Thur",
          "Thur",
          "Thur",
          "Thur",
          "Thur",
          "Thur",
          "Thur",
          "Thur",
          "Thur",
          "Thur",
          "Thur",
          "Thur",
          "Thur",
          "Thur",
          "Thur",
          "Thur",
          "Thur",
          "Thur",
          "Thur",
          "Thur",
          "Thur",
          "Thur",
          "Thur",
          "Thur",
          "Thur",
          "Thur",
          "Thur",
          "Thur",
          "Thur",
          "Thur",
          "Thur",
          "Thur",
          "Thur",
          "Thur",
          "Thur",
          "Thur",
          "Thur",
          "Thur",
          "Thur",
          "Thur",
          "Thur",
          "Thur",
          "Thur",
          "Thur",
          "Thur",
          "Thur",
          "Thur",
          "Thur",
          "Thur"
         ],
         "xaxis": "x",
         "y": [
          4,
          3,
          2.71,
          3,
          3.4,
          1.83,
          5,
          2.03,
          5.17,
          2,
          4,
          5.85,
          3,
          1.5,
          1.8,
          2.92,
          2.31,
          1.68,
          2.5,
          2,
          2.52,
          4.2,
          1.48,
          2,
          2,
          2.18,
          1.5,
          2.83,
          1.5,
          2,
          3.25,
          1.25,
          2,
          2,
          2,
          2.75,
          3.5,
          6.7,
          5,
          5,
          2.3,
          1.5,
          1.36,
          1.63,
          1.73,
          2,
          4.19,
          2.56,
          2.02,
          4,
          1.44,
          2,
          5,
          2,
          2,
          4,
          2.01,
          2,
          2.5,
          4,
          3.23,
          3
         ],
         "yaxis": "y"
        },
        {
         "alignmentgroup": "True",
         "hovertemplate": "day=%{x}<br>tip=%{y}<extra></extra>",
         "legendgroup": "Fri",
         "marker": {
          "color": "#ab63fa",
          "pattern": {
           "shape": ""
          }
         },
         "name": "Fri",
         "offsetgroup": "Fri",
         "orientation": "v",
         "showlegend": true,
         "textposition": "auto",
         "type": "bar",
         "x": [
          "Fri",
          "Fri",
          "Fri",
          "Fri",
          "Fri",
          "Fri",
          "Fri",
          "Fri",
          "Fri",
          "Fri",
          "Fri",
          "Fri",
          "Fri",
          "Fri",
          "Fri",
          "Fri",
          "Fri",
          "Fri",
          "Fri"
         ],
         "xaxis": "x",
         "y": [
          3,
          3.5,
          1,
          4.3,
          3.25,
          4.73,
          4,
          1.5,
          3,
          1.5,
          2.5,
          3,
          2.2,
          3.48,
          1.92,
          3,
          1.58,
          2.5,
          2
         ],
         "yaxis": "y"
        }
       ],
       "layout": {
        "barmode": "relative",
        "legend": {
         "title": {
          "text": "day"
         },
         "tracegroupgap": 0
        },
        "margin": {
         "t": 60
        },
        "template": {
         "data": {
          "bar": [
           {
            "error_x": {
             "color": "#2a3f5f"
            },
            "error_y": {
             "color": "#2a3f5f"
            },
            "marker": {
             "line": {
              "color": "#E5ECF6",
              "width": 0.5
             },
             "pattern": {
              "fillmode": "overlay",
              "size": 10,
              "solidity": 0.2
             }
            },
            "type": "bar"
           }
          ],
          "barpolar": [
           {
            "marker": {
             "line": {
              "color": "#E5ECF6",
              "width": 0.5
             },
             "pattern": {
              "fillmode": "overlay",
              "size": 10,
              "solidity": 0.2
             }
            },
            "type": "barpolar"
           }
          ],
          "carpet": [
           {
            "aaxis": {
             "endlinecolor": "#2a3f5f",
             "gridcolor": "white",
             "linecolor": "white",
             "minorgridcolor": "white",
             "startlinecolor": "#2a3f5f"
            },
            "baxis": {
             "endlinecolor": "#2a3f5f",
             "gridcolor": "white",
             "linecolor": "white",
             "minorgridcolor": "white",
             "startlinecolor": "#2a3f5f"
            },
            "type": "carpet"
           }
          ],
          "choropleth": [
           {
            "colorbar": {
             "outlinewidth": 0,
             "ticks": ""
            },
            "type": "choropleth"
           }
          ],
          "contour": [
           {
            "colorbar": {
             "outlinewidth": 0,
             "ticks": ""
            },
            "colorscale": [
             [
              0,
              "#0d0887"
             ],
             [
              0.1111111111111111,
              "#46039f"
             ],
             [
              0.2222222222222222,
              "#7201a8"
             ],
             [
              0.3333333333333333,
              "#9c179e"
             ],
             [
              0.4444444444444444,
              "#bd3786"
             ],
             [
              0.5555555555555556,
              "#d8576b"
             ],
             [
              0.6666666666666666,
              "#ed7953"
             ],
             [
              0.7777777777777778,
              "#fb9f3a"
             ],
             [
              0.8888888888888888,
              "#fdca26"
             ],
             [
              1,
              "#f0f921"
             ]
            ],
            "type": "contour"
           }
          ],
          "contourcarpet": [
           {
            "colorbar": {
             "outlinewidth": 0,
             "ticks": ""
            },
            "type": "contourcarpet"
           }
          ],
          "heatmap": [
           {
            "colorbar": {
             "outlinewidth": 0,
             "ticks": ""
            },
            "colorscale": [
             [
              0,
              "#0d0887"
             ],
             [
              0.1111111111111111,
              "#46039f"
             ],
             [
              0.2222222222222222,
              "#7201a8"
             ],
             [
              0.3333333333333333,
              "#9c179e"
             ],
             [
              0.4444444444444444,
              "#bd3786"
             ],
             [
              0.5555555555555556,
              "#d8576b"
             ],
             [
              0.6666666666666666,
              "#ed7953"
             ],
             [
              0.7777777777777778,
              "#fb9f3a"
             ],
             [
              0.8888888888888888,
              "#fdca26"
             ],
             [
              1,
              "#f0f921"
             ]
            ],
            "type": "heatmap"
           }
          ],
          "heatmapgl": [
           {
            "colorbar": {
             "outlinewidth": 0,
             "ticks": ""
            },
            "colorscale": [
             [
              0,
              "#0d0887"
             ],
             [
              0.1111111111111111,
              "#46039f"
             ],
             [
              0.2222222222222222,
              "#7201a8"
             ],
             [
              0.3333333333333333,
              "#9c179e"
             ],
             [
              0.4444444444444444,
              "#bd3786"
             ],
             [
              0.5555555555555556,
              "#d8576b"
             ],
             [
              0.6666666666666666,
              "#ed7953"
             ],
             [
              0.7777777777777778,
              "#fb9f3a"
             ],
             [
              0.8888888888888888,
              "#fdca26"
             ],
             [
              1,
              "#f0f921"
             ]
            ],
            "type": "heatmapgl"
           }
          ],
          "histogram": [
           {
            "marker": {
             "pattern": {
              "fillmode": "overlay",
              "size": 10,
              "solidity": 0.2
             }
            },
            "type": "histogram"
           }
          ],
          "histogram2d": [
           {
            "colorbar": {
             "outlinewidth": 0,
             "ticks": ""
            },
            "colorscale": [
             [
              0,
              "#0d0887"
             ],
             [
              0.1111111111111111,
              "#46039f"
             ],
             [
              0.2222222222222222,
              "#7201a8"
             ],
             [
              0.3333333333333333,
              "#9c179e"
             ],
             [
              0.4444444444444444,
              "#bd3786"
             ],
             [
              0.5555555555555556,
              "#d8576b"
             ],
             [
              0.6666666666666666,
              "#ed7953"
             ],
             [
              0.7777777777777778,
              "#fb9f3a"
             ],
             [
              0.8888888888888888,
              "#fdca26"
             ],
             [
              1,
              "#f0f921"
             ]
            ],
            "type": "histogram2d"
           }
          ],
          "histogram2dcontour": [
           {
            "colorbar": {
             "outlinewidth": 0,
             "ticks": ""
            },
            "colorscale": [
             [
              0,
              "#0d0887"
             ],
             [
              0.1111111111111111,
              "#46039f"
             ],
             [
              0.2222222222222222,
              "#7201a8"
             ],
             [
              0.3333333333333333,
              "#9c179e"
             ],
             [
              0.4444444444444444,
              "#bd3786"
             ],
             [
              0.5555555555555556,
              "#d8576b"
             ],
             [
              0.6666666666666666,
              "#ed7953"
             ],
             [
              0.7777777777777778,
              "#fb9f3a"
             ],
             [
              0.8888888888888888,
              "#fdca26"
             ],
             [
              1,
              "#f0f921"
             ]
            ],
            "type": "histogram2dcontour"
           }
          ],
          "mesh3d": [
           {
            "colorbar": {
             "outlinewidth": 0,
             "ticks": ""
            },
            "type": "mesh3d"
           }
          ],
          "parcoords": [
           {
            "line": {
             "colorbar": {
              "outlinewidth": 0,
              "ticks": ""
             }
            },
            "type": "parcoords"
           }
          ],
          "pie": [
           {
            "automargin": true,
            "type": "pie"
           }
          ],
          "scatter": [
           {
            "fillpattern": {
             "fillmode": "overlay",
             "size": 10,
             "solidity": 0.2
            },
            "type": "scatter"
           }
          ],
          "scatter3d": [
           {
            "line": {
             "colorbar": {
              "outlinewidth": 0,
              "ticks": ""
             }
            },
            "marker": {
             "colorbar": {
              "outlinewidth": 0,
              "ticks": ""
             }
            },
            "type": "scatter3d"
           }
          ],
          "scattercarpet": [
           {
            "marker": {
             "colorbar": {
              "outlinewidth": 0,
              "ticks": ""
             }
            },
            "type": "scattercarpet"
           }
          ],
          "scattergeo": [
           {
            "marker": {
             "colorbar": {
              "outlinewidth": 0,
              "ticks": ""
             }
            },
            "type": "scattergeo"
           }
          ],
          "scattergl": [
           {
            "marker": {
             "colorbar": {
              "outlinewidth": 0,
              "ticks": ""
             }
            },
            "type": "scattergl"
           }
          ],
          "scattermapbox": [
           {
            "marker": {
             "colorbar": {
              "outlinewidth": 0,
              "ticks": ""
             }
            },
            "type": "scattermapbox"
           }
          ],
          "scatterpolar": [
           {
            "marker": {
             "colorbar": {
              "outlinewidth": 0,
              "ticks": ""
             }
            },
            "type": "scatterpolar"
           }
          ],
          "scatterpolargl": [
           {
            "marker": {
             "colorbar": {
              "outlinewidth": 0,
              "ticks": ""
             }
            },
            "type": "scatterpolargl"
           }
          ],
          "scatterternary": [
           {
            "marker": {
             "colorbar": {
              "outlinewidth": 0,
              "ticks": ""
             }
            },
            "type": "scatterternary"
           }
          ],
          "surface": [
           {
            "colorbar": {
             "outlinewidth": 0,
             "ticks": ""
            },
            "colorscale": [
             [
              0,
              "#0d0887"
             ],
             [
              0.1111111111111111,
              "#46039f"
             ],
             [
              0.2222222222222222,
              "#7201a8"
             ],
             [
              0.3333333333333333,
              "#9c179e"
             ],
             [
              0.4444444444444444,
              "#bd3786"
             ],
             [
              0.5555555555555556,
              "#d8576b"
             ],
             [
              0.6666666666666666,
              "#ed7953"
             ],
             [
              0.7777777777777778,
              "#fb9f3a"
             ],
             [
              0.8888888888888888,
              "#fdca26"
             ],
             [
              1,
              "#f0f921"
             ]
            ],
            "type": "surface"
           }
          ],
          "table": [
           {
            "cells": {
             "fill": {
              "color": "#EBF0F8"
             },
             "line": {
              "color": "white"
             }
            },
            "header": {
             "fill": {
              "color": "#C8D4E3"
             },
             "line": {
              "color": "white"
             }
            },
            "type": "table"
           }
          ]
         },
         "layout": {
          "annotationdefaults": {
           "arrowcolor": "#2a3f5f",
           "arrowhead": 0,
           "arrowwidth": 1
          },
          "autotypenumbers": "strict",
          "coloraxis": {
           "colorbar": {
            "outlinewidth": 0,
            "ticks": ""
           }
          },
          "colorscale": {
           "diverging": [
            [
             0,
             "#8e0152"
            ],
            [
             0.1,
             "#c51b7d"
            ],
            [
             0.2,
             "#de77ae"
            ],
            [
             0.3,
             "#f1b6da"
            ],
            [
             0.4,
             "#fde0ef"
            ],
            [
             0.5,
             "#f7f7f7"
            ],
            [
             0.6,
             "#e6f5d0"
            ],
            [
             0.7,
             "#b8e186"
            ],
            [
             0.8,
             "#7fbc41"
            ],
            [
             0.9,
             "#4d9221"
            ],
            [
             1,
             "#276419"
            ]
           ],
           "sequential": [
            [
             0,
             "#0d0887"
            ],
            [
             0.1111111111111111,
             "#46039f"
            ],
            [
             0.2222222222222222,
             "#7201a8"
            ],
            [
             0.3333333333333333,
             "#9c179e"
            ],
            [
             0.4444444444444444,
             "#bd3786"
            ],
            [
             0.5555555555555556,
             "#d8576b"
            ],
            [
             0.6666666666666666,
             "#ed7953"
            ],
            [
             0.7777777777777778,
             "#fb9f3a"
            ],
            [
             0.8888888888888888,
             "#fdca26"
            ],
            [
             1,
             "#f0f921"
            ]
           ],
           "sequentialminus": [
            [
             0,
             "#0d0887"
            ],
            [
             0.1111111111111111,
             "#46039f"
            ],
            [
             0.2222222222222222,
             "#7201a8"
            ],
            [
             0.3333333333333333,
             "#9c179e"
            ],
            [
             0.4444444444444444,
             "#bd3786"
            ],
            [
             0.5555555555555556,
             "#d8576b"
            ],
            [
             0.6666666666666666,
             "#ed7953"
            ],
            [
             0.7777777777777778,
             "#fb9f3a"
            ],
            [
             0.8888888888888888,
             "#fdca26"
            ],
            [
             1,
             "#f0f921"
            ]
           ]
          },
          "colorway": [
           "#636efa",
           "#EF553B",
           "#00cc96",
           "#ab63fa",
           "#FFA15A",
           "#19d3f3",
           "#FF6692",
           "#B6E880",
           "#FF97FF",
           "#FECB52"
          ],
          "font": {
           "color": "#2a3f5f"
          },
          "geo": {
           "bgcolor": "white",
           "lakecolor": "white",
           "landcolor": "#E5ECF6",
           "showlakes": true,
           "showland": true,
           "subunitcolor": "white"
          },
          "hoverlabel": {
           "align": "left"
          },
          "hovermode": "closest",
          "mapbox": {
           "style": "light"
          },
          "paper_bgcolor": "white",
          "plot_bgcolor": "#E5ECF6",
          "polar": {
           "angularaxis": {
            "gridcolor": "white",
            "linecolor": "white",
            "ticks": ""
           },
           "bgcolor": "#E5ECF6",
           "radialaxis": {
            "gridcolor": "white",
            "linecolor": "white",
            "ticks": ""
           }
          },
          "scene": {
           "xaxis": {
            "backgroundcolor": "#E5ECF6",
            "gridcolor": "white",
            "gridwidth": 2,
            "linecolor": "white",
            "showbackground": true,
            "ticks": "",
            "zerolinecolor": "white"
           },
           "yaxis": {
            "backgroundcolor": "#E5ECF6",
            "gridcolor": "white",
            "gridwidth": 2,
            "linecolor": "white",
            "showbackground": true,
            "ticks": "",
            "zerolinecolor": "white"
           },
           "zaxis": {
            "backgroundcolor": "#E5ECF6",
            "gridcolor": "white",
            "gridwidth": 2,
            "linecolor": "white",
            "showbackground": true,
            "ticks": "",
            "zerolinecolor": "white"
           }
          },
          "shapedefaults": {
           "line": {
            "color": "#2a3f5f"
           }
          },
          "ternary": {
           "aaxis": {
            "gridcolor": "white",
            "linecolor": "white",
            "ticks": ""
           },
           "baxis": {
            "gridcolor": "white",
            "linecolor": "white",
            "ticks": ""
           },
           "bgcolor": "#E5ECF6",
           "caxis": {
            "gridcolor": "white",
            "linecolor": "white",
            "ticks": ""
           }
          },
          "title": {
           "x": 0.05
          },
          "xaxis": {
           "automargin": true,
           "gridcolor": "white",
           "linecolor": "white",
           "ticks": "",
           "title": {
            "standoff": 15
           },
           "zerolinecolor": "white",
           "zerolinewidth": 2
          },
          "yaxis": {
           "automargin": true,
           "gridcolor": "white",
           "linecolor": "white",
           "ticks": "",
           "title": {
            "standoff": 15
           },
           "zerolinecolor": "white",
           "zerolinewidth": 2
          }
         }
        },
        "xaxis": {
         "anchor": "y",
         "categoryarray": [
          "Sun",
          "Sat",
          "Thur",
          "Fri"
         ],
         "categoryorder": "array",
         "domain": [
          0,
          1
         ],
         "title": {
          "text": "day"
         }
        },
        "yaxis": {
         "anchor": "x",
         "domain": [
          0,
          1
         ],
         "title": {
          "text": "tip"
         }
        }
       }
      }
     },
     "metadata": {},
     "output_type": "display_data"
    }
   ],
   "source": [
    "fig = px.bar(df,x='day',y='tip',color='day')\n",
    "fig.show()"
   ]
  },
  {
   "cell_type": "code",
   "execution_count": 20,
   "metadata": {},
   "outputs": [
    {
     "data": {
      "application/vnd.plotly.v1+json": {
       "config": {
        "plotlyServerURL": "https://plot.ly"
       },
       "data": [
        {
         "alignmentgroup": "True",
         "hovertemplate": "sex=Female<br>day=%{x}<br>tip=%{y}<extra></extra>",
         "legendgroup": "Female",
         "marker": {
          "color": "#636efa",
          "pattern": {
           "shape": ""
          }
         },
         "name": "Female",
         "offsetgroup": "Female",
         "orientation": "v",
         "showlegend": true,
         "textposition": "auto",
         "type": "bar",
         "x": [
          "Sun",
          "Sun",
          "Sun",
          "Sun",
          "Sun",
          "Sun",
          "Sat",
          "Sat",
          "Sat",
          "Sat",
          "Sat",
          "Sat",
          "Sun",
          "Sun",
          "Sat",
          "Sat",
          "Sat",
          "Sat",
          "Sat",
          "Sat",
          "Sat",
          "Thur",
          "Thur",
          "Fri",
          "Fri",
          "Fri",
          "Fri",
          "Fri",
          "Sat",
          "Sat",
          "Sat",
          "Sat",
          "Sat",
          "Sun",
          "Sun",
          "Thur",
          "Thur",
          "Thur",
          "Thur",
          "Thur",
          "Thur",
          "Thur",
          "Thur",
          "Thur",
          "Thur",
          "Thur",
          "Thur",
          "Thur",
          "Thur",
          "Thur",
          "Thur",
          "Thur",
          "Thur",
          "Thur",
          "Thur",
          "Thur",
          "Thur",
          "Sun",
          "Sun",
          "Sun",
          "Sun",
          "Sun",
          "Sat",
          "Sat",
          "Sun",
          "Sun",
          "Sun",
          "Thur",
          "Thur",
          "Thur",
          "Thur",
          "Thur",
          "Thur",
          "Thur",
          "Sat",
          "Sat",
          "Sat",
          "Sat",
          "Sat",
          "Fri",
          "Fri",
          "Fri",
          "Fri",
          "Sat",
          "Sat",
          "Sat",
          "Thur"
         ],
         "xaxis": "x",
         "y": [
          1.01,
          3.61,
          5,
          3.02,
          1.67,
          3.5,
          2.75,
          2.23,
          3,
          3,
          2.45,
          3.07,
          2.6,
          5.2,
          1.5,
          2.47,
          1,
          3,
          3.14,
          5,
          2.2,
          1.83,
          5.17,
          1,
          4.3,
          3.25,
          2.5,
          3,
          2.5,
          3.48,
          4.08,
          4,
          1,
          4,
          3.5,
          1.5,
          1.8,
          2.92,
          1.68,
          2.52,
          4.2,
          2,
          2,
          2.83,
          1.5,
          2,
          3.25,
          1.25,
          2,
          2,
          2.75,
          3.5,
          5,
          2.3,
          1.5,
          1.36,
          1.63,
          5.14,
          3.75,
          2.61,
          2,
          3,
          1.61,
          2,
          4,
          3.5,
          3.5,
          4.19,
          5,
          2,
          2.01,
          2,
          2.5,
          3.23,
          2.23,
          2.5,
          6.5,
          1.1,
          3.09,
          3.48,
          3,
          2.5,
          2,
          2.88,
          4.67,
          2,
          3
         ],
         "yaxis": "y"
        },
        {
         "alignmentgroup": "True",
         "hovertemplate": "sex=Male<br>day=%{x}<br>tip=%{y}<extra></extra>",
         "legendgroup": "Male",
         "marker": {
          "color": "#EF553B",
          "pattern": {
           "shape": ""
          }
         },
         "name": "Male",
         "offsetgroup": "Male",
         "orientation": "v",
         "showlegend": true,
         "textposition": "auto",
         "type": "bar",
         "x": [
          "Sun",
          "Sun",
          "Sun",
          "Sun",
          "Sun",
          "Sun",
          "Sun",
          "Sun",
          "Sun",
          "Sun",
          "Sun",
          "Sun",
          "Sun",
          "Sat",
          "Sat",
          "Sat",
          "Sat",
          "Sat",
          "Sat",
          "Sat",
          "Sat",
          "Sat",
          "Sat",
          "Sat",
          "Sat",
          "Sat",
          "Sat",
          "Sat",
          "Sat",
          "Sun",
          "Sun",
          "Sun",
          "Sun",
          "Sun",
          "Sun",
          "Sun",
          "Sun",
          "Sun",
          "Sun",
          "Sun",
          "Sun",
          "Sun",
          "Sat",
          "Sat",
          "Sat",
          "Sat",
          "Sat",
          "Sat",
          "Sat",
          "Sat",
          "Sat",
          "Sat",
          "Sat",
          "Sat",
          "Sat",
          "Sat",
          "Thur",
          "Thur",
          "Thur",
          "Thur",
          "Thur",
          "Thur",
          "Thur",
          "Thur",
          "Thur",
          "Thur",
          "Thur",
          "Fri",
          "Fri",
          "Fri",
          "Fri",
          "Fri",
          "Fri",
          "Fri",
          "Sat",
          "Sat",
          "Sat",
          "Sat",
          "Sat",
          "Sun",
          "Sun",
          "Sun",
          "Thur",
          "Thur",
          "Thur",
          "Thur",
          "Thur",
          "Thur",
          "Thur",
          "Thur",
          "Thur",
          "Thur",
          "Thur",
          "Sun",
          "Sun",
          "Sun",
          "Sun",
          "Sun",
          "Sun",
          "Sun",
          "Sun",
          "Sun",
          "Sun",
          "Sun",
          "Sun",
          "Sun",
          "Sat",
          "Sat",
          "Sun",
          "Sun",
          "Sun",
          "Sun",
          "Sun",
          "Sun",
          "Sun",
          "Sun",
          "Sun",
          "Sun",
          "Sun",
          "Sun",
          "Sun",
          "Sun",
          "Sun",
          "Sun",
          "Thur",
          "Thur",
          "Thur",
          "Thur",
          "Thur",
          "Thur",
          "Thur",
          "Thur",
          "Sat",
          "Sat",
          "Sat",
          "Sat",
          "Sat",
          "Sat",
          "Sat",
          "Sat",
          "Sat",
          "Fri",
          "Fri",
          "Fri",
          "Sat",
          "Sat",
          "Sat",
          "Sat",
          "Sat",
          "Sat",
          "Sat",
          "Sat",
          "Sat",
          "Sat",
          "Sat",
          "Sat",
          "Sat"
         ],
         "xaxis": "x",
         "y": [
          1.66,
          3.5,
          3.31,
          4.71,
          2,
          3.12,
          1.96,
          3.23,
          1.71,
          1.57,
          3,
          3.92,
          3.71,
          3.35,
          4.08,
          7.58,
          3.18,
          2.34,
          2,
          2,
          4.3,
          1.45,
          2.5,
          3.27,
          3.6,
          2,
          2.31,
          5,
          2.24,
          2.54,
          3.06,
          1.32,
          5.6,
          3,
          5,
          6,
          2.05,
          3,
          2.5,
          1.56,
          4.34,
          3.51,
          3,
          1.76,
          6.73,
          3.21,
          2,
          1.98,
          3.76,
          2.64,
          3.15,
          2.01,
          2.09,
          1.97,
          1.25,
          3.08,
          4,
          3,
          2.71,
          3,
          3.4,
          5,
          2.03,
          2,
          4,
          5.85,
          3,
          3,
          3.5,
          4.73,
          4,
          1.5,
          3,
          1.5,
          1.64,
          4.06,
          4.29,
          3.76,
          3,
          4,
          2.55,
          5.07,
          2.31,
          2.5,
          2,
          1.48,
          2.18,
          1.5,
          2,
          6.7,
          5,
          1.73,
          2,
          2.5,
          2,
          2.74,
          2,
          2,
          5,
          2,
          3.5,
          2.5,
          2,
          3.48,
          2.24,
          4.5,
          10,
          3.16,
          5.15,
          3.18,
          4,
          3.11,
          2,
          2,
          3.55,
          3.68,
          5.65,
          3.5,
          6.5,
          3,
          5,
          2,
          4,
          1.5,
          2.56,
          2.02,
          4,
          1.44,
          2,
          2,
          4,
          4,
          3.41,
          3,
          2.03,
          2,
          5.16,
          9,
          3,
          1.5,
          1.44,
          2.2,
          1.92,
          1.58,
          3,
          2.72,
          2,
          3,
          3.39,
          1.47,
          3,
          1.25,
          1,
          1.17,
          5.92,
          2,
          1.75
         ],
         "yaxis": "y"
        }
       ],
       "layout": {
        "barmode": "relative",
        "legend": {
         "title": {
          "text": "sex"
         },
         "tracegroupgap": 0
        },
        "margin": {
         "t": 60
        },
        "template": {
         "data": {
          "bar": [
           {
            "error_x": {
             "color": "#2a3f5f"
            },
            "error_y": {
             "color": "#2a3f5f"
            },
            "marker": {
             "line": {
              "color": "#E5ECF6",
              "width": 0.5
             },
             "pattern": {
              "fillmode": "overlay",
              "size": 10,
              "solidity": 0.2
             }
            },
            "type": "bar"
           }
          ],
          "barpolar": [
           {
            "marker": {
             "line": {
              "color": "#E5ECF6",
              "width": 0.5
             },
             "pattern": {
              "fillmode": "overlay",
              "size": 10,
              "solidity": 0.2
             }
            },
            "type": "barpolar"
           }
          ],
          "carpet": [
           {
            "aaxis": {
             "endlinecolor": "#2a3f5f",
             "gridcolor": "white",
             "linecolor": "white",
             "minorgridcolor": "white",
             "startlinecolor": "#2a3f5f"
            },
            "baxis": {
             "endlinecolor": "#2a3f5f",
             "gridcolor": "white",
             "linecolor": "white",
             "minorgridcolor": "white",
             "startlinecolor": "#2a3f5f"
            },
            "type": "carpet"
           }
          ],
          "choropleth": [
           {
            "colorbar": {
             "outlinewidth": 0,
             "ticks": ""
            },
            "type": "choropleth"
           }
          ],
          "contour": [
           {
            "colorbar": {
             "outlinewidth": 0,
             "ticks": ""
            },
            "colorscale": [
             [
              0,
              "#0d0887"
             ],
             [
              0.1111111111111111,
              "#46039f"
             ],
             [
              0.2222222222222222,
              "#7201a8"
             ],
             [
              0.3333333333333333,
              "#9c179e"
             ],
             [
              0.4444444444444444,
              "#bd3786"
             ],
             [
              0.5555555555555556,
              "#d8576b"
             ],
             [
              0.6666666666666666,
              "#ed7953"
             ],
             [
              0.7777777777777778,
              "#fb9f3a"
             ],
             [
              0.8888888888888888,
              "#fdca26"
             ],
             [
              1,
              "#f0f921"
             ]
            ],
            "type": "contour"
           }
          ],
          "contourcarpet": [
           {
            "colorbar": {
             "outlinewidth": 0,
             "ticks": ""
            },
            "type": "contourcarpet"
           }
          ],
          "heatmap": [
           {
            "colorbar": {
             "outlinewidth": 0,
             "ticks": ""
            },
            "colorscale": [
             [
              0,
              "#0d0887"
             ],
             [
              0.1111111111111111,
              "#46039f"
             ],
             [
              0.2222222222222222,
              "#7201a8"
             ],
             [
              0.3333333333333333,
              "#9c179e"
             ],
             [
              0.4444444444444444,
              "#bd3786"
             ],
             [
              0.5555555555555556,
              "#d8576b"
             ],
             [
              0.6666666666666666,
              "#ed7953"
             ],
             [
              0.7777777777777778,
              "#fb9f3a"
             ],
             [
              0.8888888888888888,
              "#fdca26"
             ],
             [
              1,
              "#f0f921"
             ]
            ],
            "type": "heatmap"
           }
          ],
          "heatmapgl": [
           {
            "colorbar": {
             "outlinewidth": 0,
             "ticks": ""
            },
            "colorscale": [
             [
              0,
              "#0d0887"
             ],
             [
              0.1111111111111111,
              "#46039f"
             ],
             [
              0.2222222222222222,
              "#7201a8"
             ],
             [
              0.3333333333333333,
              "#9c179e"
             ],
             [
              0.4444444444444444,
              "#bd3786"
             ],
             [
              0.5555555555555556,
              "#d8576b"
             ],
             [
              0.6666666666666666,
              "#ed7953"
             ],
             [
              0.7777777777777778,
              "#fb9f3a"
             ],
             [
              0.8888888888888888,
              "#fdca26"
             ],
             [
              1,
              "#f0f921"
             ]
            ],
            "type": "heatmapgl"
           }
          ],
          "histogram": [
           {
            "marker": {
             "pattern": {
              "fillmode": "overlay",
              "size": 10,
              "solidity": 0.2
             }
            },
            "type": "histogram"
           }
          ],
          "histogram2d": [
           {
            "colorbar": {
             "outlinewidth": 0,
             "ticks": ""
            },
            "colorscale": [
             [
              0,
              "#0d0887"
             ],
             [
              0.1111111111111111,
              "#46039f"
             ],
             [
              0.2222222222222222,
              "#7201a8"
             ],
             [
              0.3333333333333333,
              "#9c179e"
             ],
             [
              0.4444444444444444,
              "#bd3786"
             ],
             [
              0.5555555555555556,
              "#d8576b"
             ],
             [
              0.6666666666666666,
              "#ed7953"
             ],
             [
              0.7777777777777778,
              "#fb9f3a"
             ],
             [
              0.8888888888888888,
              "#fdca26"
             ],
             [
              1,
              "#f0f921"
             ]
            ],
            "type": "histogram2d"
           }
          ],
          "histogram2dcontour": [
           {
            "colorbar": {
             "outlinewidth": 0,
             "ticks": ""
            },
            "colorscale": [
             [
              0,
              "#0d0887"
             ],
             [
              0.1111111111111111,
              "#46039f"
             ],
             [
              0.2222222222222222,
              "#7201a8"
             ],
             [
              0.3333333333333333,
              "#9c179e"
             ],
             [
              0.4444444444444444,
              "#bd3786"
             ],
             [
              0.5555555555555556,
              "#d8576b"
             ],
             [
              0.6666666666666666,
              "#ed7953"
             ],
             [
              0.7777777777777778,
              "#fb9f3a"
             ],
             [
              0.8888888888888888,
              "#fdca26"
             ],
             [
              1,
              "#f0f921"
             ]
            ],
            "type": "histogram2dcontour"
           }
          ],
          "mesh3d": [
           {
            "colorbar": {
             "outlinewidth": 0,
             "ticks": ""
            },
            "type": "mesh3d"
           }
          ],
          "parcoords": [
           {
            "line": {
             "colorbar": {
              "outlinewidth": 0,
              "ticks": ""
             }
            },
            "type": "parcoords"
           }
          ],
          "pie": [
           {
            "automargin": true,
            "type": "pie"
           }
          ],
          "scatter": [
           {
            "fillpattern": {
             "fillmode": "overlay",
             "size": 10,
             "solidity": 0.2
            },
            "type": "scatter"
           }
          ],
          "scatter3d": [
           {
            "line": {
             "colorbar": {
              "outlinewidth": 0,
              "ticks": ""
             }
            },
            "marker": {
             "colorbar": {
              "outlinewidth": 0,
              "ticks": ""
             }
            },
            "type": "scatter3d"
           }
          ],
          "scattercarpet": [
           {
            "marker": {
             "colorbar": {
              "outlinewidth": 0,
              "ticks": ""
             }
            },
            "type": "scattercarpet"
           }
          ],
          "scattergeo": [
           {
            "marker": {
             "colorbar": {
              "outlinewidth": 0,
              "ticks": ""
             }
            },
            "type": "scattergeo"
           }
          ],
          "scattergl": [
           {
            "marker": {
             "colorbar": {
              "outlinewidth": 0,
              "ticks": ""
             }
            },
            "type": "scattergl"
           }
          ],
          "scattermapbox": [
           {
            "marker": {
             "colorbar": {
              "outlinewidth": 0,
              "ticks": ""
             }
            },
            "type": "scattermapbox"
           }
          ],
          "scatterpolar": [
           {
            "marker": {
             "colorbar": {
              "outlinewidth": 0,
              "ticks": ""
             }
            },
            "type": "scatterpolar"
           }
          ],
          "scatterpolargl": [
           {
            "marker": {
             "colorbar": {
              "outlinewidth": 0,
              "ticks": ""
             }
            },
            "type": "scatterpolargl"
           }
          ],
          "scatterternary": [
           {
            "marker": {
             "colorbar": {
              "outlinewidth": 0,
              "ticks": ""
             }
            },
            "type": "scatterternary"
           }
          ],
          "surface": [
           {
            "colorbar": {
             "outlinewidth": 0,
             "ticks": ""
            },
            "colorscale": [
             [
              0,
              "#0d0887"
             ],
             [
              0.1111111111111111,
              "#46039f"
             ],
             [
              0.2222222222222222,
              "#7201a8"
             ],
             [
              0.3333333333333333,
              "#9c179e"
             ],
             [
              0.4444444444444444,
              "#bd3786"
             ],
             [
              0.5555555555555556,
              "#d8576b"
             ],
             [
              0.6666666666666666,
              "#ed7953"
             ],
             [
              0.7777777777777778,
              "#fb9f3a"
             ],
             [
              0.8888888888888888,
              "#fdca26"
             ],
             [
              1,
              "#f0f921"
             ]
            ],
            "type": "surface"
           }
          ],
          "table": [
           {
            "cells": {
             "fill": {
              "color": "#EBF0F8"
             },
             "line": {
              "color": "white"
             }
            },
            "header": {
             "fill": {
              "color": "#C8D4E3"
             },
             "line": {
              "color": "white"
             }
            },
            "type": "table"
           }
          ]
         },
         "layout": {
          "annotationdefaults": {
           "arrowcolor": "#2a3f5f",
           "arrowhead": 0,
           "arrowwidth": 1
          },
          "autotypenumbers": "strict",
          "coloraxis": {
           "colorbar": {
            "outlinewidth": 0,
            "ticks": ""
           }
          },
          "colorscale": {
           "diverging": [
            [
             0,
             "#8e0152"
            ],
            [
             0.1,
             "#c51b7d"
            ],
            [
             0.2,
             "#de77ae"
            ],
            [
             0.3,
             "#f1b6da"
            ],
            [
             0.4,
             "#fde0ef"
            ],
            [
             0.5,
             "#f7f7f7"
            ],
            [
             0.6,
             "#e6f5d0"
            ],
            [
             0.7,
             "#b8e186"
            ],
            [
             0.8,
             "#7fbc41"
            ],
            [
             0.9,
             "#4d9221"
            ],
            [
             1,
             "#276419"
            ]
           ],
           "sequential": [
            [
             0,
             "#0d0887"
            ],
            [
             0.1111111111111111,
             "#46039f"
            ],
            [
             0.2222222222222222,
             "#7201a8"
            ],
            [
             0.3333333333333333,
             "#9c179e"
            ],
            [
             0.4444444444444444,
             "#bd3786"
            ],
            [
             0.5555555555555556,
             "#d8576b"
            ],
            [
             0.6666666666666666,
             "#ed7953"
            ],
            [
             0.7777777777777778,
             "#fb9f3a"
            ],
            [
             0.8888888888888888,
             "#fdca26"
            ],
            [
             1,
             "#f0f921"
            ]
           ],
           "sequentialminus": [
            [
             0,
             "#0d0887"
            ],
            [
             0.1111111111111111,
             "#46039f"
            ],
            [
             0.2222222222222222,
             "#7201a8"
            ],
            [
             0.3333333333333333,
             "#9c179e"
            ],
            [
             0.4444444444444444,
             "#bd3786"
            ],
            [
             0.5555555555555556,
             "#d8576b"
            ],
            [
             0.6666666666666666,
             "#ed7953"
            ],
            [
             0.7777777777777778,
             "#fb9f3a"
            ],
            [
             0.8888888888888888,
             "#fdca26"
            ],
            [
             1,
             "#f0f921"
            ]
           ]
          },
          "colorway": [
           "#636efa",
           "#EF553B",
           "#00cc96",
           "#ab63fa",
           "#FFA15A",
           "#19d3f3",
           "#FF6692",
           "#B6E880",
           "#FF97FF",
           "#FECB52"
          ],
          "font": {
           "color": "#2a3f5f"
          },
          "geo": {
           "bgcolor": "white",
           "lakecolor": "white",
           "landcolor": "#E5ECF6",
           "showlakes": true,
           "showland": true,
           "subunitcolor": "white"
          },
          "hoverlabel": {
           "align": "left"
          },
          "hovermode": "closest",
          "mapbox": {
           "style": "light"
          },
          "paper_bgcolor": "white",
          "plot_bgcolor": "#E5ECF6",
          "polar": {
           "angularaxis": {
            "gridcolor": "white",
            "linecolor": "white",
            "ticks": ""
           },
           "bgcolor": "#E5ECF6",
           "radialaxis": {
            "gridcolor": "white",
            "linecolor": "white",
            "ticks": ""
           }
          },
          "scene": {
           "xaxis": {
            "backgroundcolor": "#E5ECF6",
            "gridcolor": "white",
            "gridwidth": 2,
            "linecolor": "white",
            "showbackground": true,
            "ticks": "",
            "zerolinecolor": "white"
           },
           "yaxis": {
            "backgroundcolor": "#E5ECF6",
            "gridcolor": "white",
            "gridwidth": 2,
            "linecolor": "white",
            "showbackground": true,
            "ticks": "",
            "zerolinecolor": "white"
           },
           "zaxis": {
            "backgroundcolor": "#E5ECF6",
            "gridcolor": "white",
            "gridwidth": 2,
            "linecolor": "white",
            "showbackground": true,
            "ticks": "",
            "zerolinecolor": "white"
           }
          },
          "shapedefaults": {
           "line": {
            "color": "#2a3f5f"
           }
          },
          "ternary": {
           "aaxis": {
            "gridcolor": "white",
            "linecolor": "white",
            "ticks": ""
           },
           "baxis": {
            "gridcolor": "white",
            "linecolor": "white",
            "ticks": ""
           },
           "bgcolor": "#E5ECF6",
           "caxis": {
            "gridcolor": "white",
            "linecolor": "white",
            "ticks": ""
           }
          },
          "title": {
           "x": 0.05
          },
          "xaxis": {
           "automargin": true,
           "gridcolor": "white",
           "linecolor": "white",
           "ticks": "",
           "title": {
            "standoff": 15
           },
           "zerolinecolor": "white",
           "zerolinewidth": 2
          },
          "yaxis": {
           "automargin": true,
           "gridcolor": "white",
           "linecolor": "white",
           "ticks": "",
           "title": {
            "standoff": 15
           },
           "zerolinecolor": "white",
           "zerolinewidth": 2
          }
         }
        },
        "xaxis": {
         "anchor": "y",
         "domain": [
          0,
          1
         ],
         "title": {
          "text": "day"
         }
        },
        "yaxis": {
         "anchor": "x",
         "domain": [
          0,
          1
         ],
         "title": {
          "text": "tip"
         }
        }
       }
      }
     },
     "metadata": {},
     "output_type": "display_data"
    }
   ],
   "source": [
    "fig = px.bar(df,x='day',y='tip',color='sex')\n",
    "fig.show()"
   ]
  },
  {
   "attachments": {},
   "cell_type": "markdown",
   "metadata": {},
   "source": [
    "we also draw above graphs using data visulization libraries\n",
    "bokeh,Vega-altair,matplot,pyplot "
   ]
  },
  {
   "cell_type": "code",
   "execution_count": 21,
   "metadata": {},
   "outputs": [
    {
     "data": {
      "application/vnd.plotly.v1+json": {
       "config": {
        "plotlyServerURL": "https://plot.ly"
       },
       "data": [
        {
         "alignmentgroup": "True",
         "hovertemplate": "day=%{x}<br>tip=%{y}<extra></extra>",
         "legendgroup": "Sun",
         "marker": {
          "color": "#636efa"
         },
         "name": "Sun",
         "notched": false,
         "offsetgroup": "Sun",
         "orientation": "v",
         "showlegend": true,
         "type": "box",
         "x": [
          "Sun",
          "Sun",
          "Sun",
          "Sun",
          "Sun",
          "Sun",
          "Sun",
          "Sun",
          "Sun",
          "Sun",
          "Sun",
          "Sun",
          "Sun",
          "Sun",
          "Sun",
          "Sun",
          "Sun",
          "Sun",
          "Sun",
          "Sun",
          "Sun",
          "Sun",
          "Sun",
          "Sun",
          "Sun",
          "Sun",
          "Sun",
          "Sun",
          "Sun",
          "Sun",
          "Sun",
          "Sun",
          "Sun",
          "Sun",
          "Sun",
          "Sun",
          "Sun",
          "Sun",
          "Sun",
          "Sun",
          "Sun",
          "Sun",
          "Sun",
          "Sun",
          "Sun",
          "Sun",
          "Sun",
          "Sun",
          "Sun",
          "Sun",
          "Sun",
          "Sun",
          "Sun",
          "Sun",
          "Sun",
          "Sun",
          "Sun",
          "Sun",
          "Sun",
          "Sun",
          "Sun",
          "Sun",
          "Sun",
          "Sun",
          "Sun",
          "Sun",
          "Sun",
          "Sun",
          "Sun",
          "Sun",
          "Sun",
          "Sun",
          "Sun",
          "Sun",
          "Sun",
          "Sun"
         ],
         "x0": " ",
         "xaxis": "x",
         "y": [
          1.01,
          1.66,
          3.5,
          3.31,
          3.61,
          4.71,
          2,
          3.12,
          1.96,
          3.23,
          1.71,
          5,
          1.57,
          3,
          3.02,
          3.92,
          1.67,
          3.71,
          3.5,
          2.54,
          3.06,
          1.32,
          5.6,
          3,
          5,
          6,
          2.05,
          3,
          2.5,
          2.6,
          5.2,
          1.56,
          4.34,
          3.51,
          4,
          2.55,
          4,
          3.5,
          5.07,
          2.5,
          2,
          2.74,
          2,
          2,
          5.14,
          5,
          3.75,
          2.61,
          2,
          3.5,
          2.5,
          2,
          2,
          3,
          3.48,
          2.24,
          4.5,
          5.15,
          3.18,
          4,
          3.11,
          2,
          2,
          4,
          3.55,
          3.68,
          5.65,
          3.5,
          6.5,
          3,
          5,
          3.5,
          2,
          3.5,
          4,
          1.5
         ],
         "y0": " ",
         "yaxis": "y"
        },
        {
         "alignmentgroup": "True",
         "hovertemplate": "day=%{x}<br>tip=%{y}<extra></extra>",
         "legendgroup": "Sat",
         "marker": {
          "color": "#EF553B"
         },
         "name": "Sat",
         "notched": false,
         "offsetgroup": "Sat",
         "orientation": "v",
         "showlegend": true,
         "type": "box",
         "x": [
          "Sat",
          "Sat",
          "Sat",
          "Sat",
          "Sat",
          "Sat",
          "Sat",
          "Sat",
          "Sat",
          "Sat",
          "Sat",
          "Sat",
          "Sat",
          "Sat",
          "Sat",
          "Sat",
          "Sat",
          "Sat",
          "Sat",
          "Sat",
          "Sat",
          "Sat",
          "Sat",
          "Sat",
          "Sat",
          "Sat",
          "Sat",
          "Sat",
          "Sat",
          "Sat",
          "Sat",
          "Sat",
          "Sat",
          "Sat",
          "Sat",
          "Sat",
          "Sat",
          "Sat",
          "Sat",
          "Sat",
          "Sat",
          "Sat",
          "Sat",
          "Sat",
          "Sat",
          "Sat",
          "Sat",
          "Sat",
          "Sat",
          "Sat",
          "Sat",
          "Sat",
          "Sat",
          "Sat",
          "Sat",
          "Sat",
          "Sat",
          "Sat",
          "Sat",
          "Sat",
          "Sat",
          "Sat",
          "Sat",
          "Sat",
          "Sat",
          "Sat",
          "Sat",
          "Sat",
          "Sat",
          "Sat",
          "Sat",
          "Sat",
          "Sat",
          "Sat",
          "Sat",
          "Sat",
          "Sat",
          "Sat",
          "Sat",
          "Sat",
          "Sat",
          "Sat",
          "Sat",
          "Sat",
          "Sat",
          "Sat",
          "Sat"
         ],
         "x0": " ",
         "xaxis": "x",
         "y": [
          3.35,
          4.08,
          2.75,
          2.23,
          7.58,
          3.18,
          2.34,
          2,
          2,
          4.3,
          3,
          1.45,
          2.5,
          3,
          2.45,
          3.27,
          3.6,
          2,
          3.07,
          2.31,
          5,
          2.24,
          3,
          1.5,
          1.76,
          6.73,
          3.21,
          2,
          1.98,
          3.76,
          2.64,
          3.15,
          2.47,
          1,
          2.01,
          2.09,
          1.97,
          3,
          3.14,
          5,
          2.2,
          1.25,
          3.08,
          2.5,
          3.48,
          4.08,
          1.64,
          4.06,
          4.29,
          3.76,
          4,
          3,
          1,
          1.61,
          2,
          10,
          3.16,
          3.41,
          3,
          2.03,
          2.23,
          2,
          5.16,
          9,
          2.5,
          6.5,
          1.1,
          3,
          1.5,
          1.44,
          3.09,
          3,
          2.72,
          2.88,
          2,
          3,
          3.39,
          1.47,
          3,
          1.25,
          1,
          1.17,
          4.67,
          5.92,
          2,
          2,
          1.75
         ],
         "y0": " ",
         "yaxis": "y"
        },
        {
         "alignmentgroup": "True",
         "hovertemplate": "day=%{x}<br>tip=%{y}<extra></extra>",
         "legendgroup": "Thur",
         "marker": {
          "color": "#00cc96"
         },
         "name": "Thur",
         "notched": false,
         "offsetgroup": "Thur",
         "orientation": "v",
         "showlegend": true,
         "type": "box",
         "x": [
          "Thur",
          "Thur",
          "Thur",
          "Thur",
          "Thur",
          "Thur",
          "Thur",
          "Thur",
          "Thur",
          "Thur",
          "Thur",
          "Thur",
          "Thur",
          "Thur",
          "Thur",
          "Thur",
          "Thur",
          "Thur",
          "Thur",
          "Thur",
          "Thur",
          "Thur",
          "Thur",
          "Thur",
          "Thur",
          "Thur",
          "Thur",
          "Thur",
          "Thur",
          "Thur",
          "Thur",
          "Thur",
          "Thur",
          "Thur",
          "Thur",
          "Thur",
          "Thur",
          "Thur",
          "Thur",
          "Thur",
          "Thur",
          "Thur",
          "Thur",
          "Thur",
          "Thur",
          "Thur",
          "Thur",
          "Thur",
          "Thur",
          "Thur",
          "Thur",
          "Thur",
          "Thur",
          "Thur",
          "Thur",
          "Thur",
          "Thur",
          "Thur",
          "Thur",
          "Thur",
          "Thur",
          "Thur"
         ],
         "x0": " ",
         "xaxis": "x",
         "y": [
          4,
          3,
          2.71,
          3,
          3.4,
          1.83,
          5,
          2.03,
          5.17,
          2,
          4,
          5.85,
          3,
          1.5,
          1.8,
          2.92,
          2.31,
          1.68,
          2.5,
          2,
          2.52,
          4.2,
          1.48,
          2,
          2,
          2.18,
          1.5,
          2.83,
          1.5,
          2,
          3.25,
          1.25,
          2,
          2,
          2,
          2.75,
          3.5,
          6.7,
          5,
          5,
          2.3,
          1.5,
          1.36,
          1.63,
          1.73,
          2,
          4.19,
          2.56,
          2.02,
          4,
          1.44,
          2,
          5,
          2,
          2,
          4,
          2.01,
          2,
          2.5,
          4,
          3.23,
          3
         ],
         "y0": " ",
         "yaxis": "y"
        },
        {
         "alignmentgroup": "True",
         "hovertemplate": "day=%{x}<br>tip=%{y}<extra></extra>",
         "legendgroup": "Fri",
         "marker": {
          "color": "#ab63fa"
         },
         "name": "Fri",
         "notched": false,
         "offsetgroup": "Fri",
         "orientation": "v",
         "showlegend": true,
         "type": "box",
         "x": [
          "Fri",
          "Fri",
          "Fri",
          "Fri",
          "Fri",
          "Fri",
          "Fri",
          "Fri",
          "Fri",
          "Fri",
          "Fri",
          "Fri",
          "Fri",
          "Fri",
          "Fri",
          "Fri",
          "Fri",
          "Fri",
          "Fri"
         ],
         "x0": " ",
         "xaxis": "x",
         "y": [
          3,
          3.5,
          1,
          4.3,
          3.25,
          4.73,
          4,
          1.5,
          3,
          1.5,
          2.5,
          3,
          2.2,
          3.48,
          1.92,
          3,
          1.58,
          2.5,
          2
         ],
         "y0": " ",
         "yaxis": "y"
        }
       ],
       "layout": {
        "boxmode": "overlay",
        "legend": {
         "title": {
          "text": "day"
         },
         "tracegroupgap": 0
        },
        "margin": {
         "t": 60
        },
        "template": {
         "data": {
          "bar": [
           {
            "error_x": {
             "color": "#2a3f5f"
            },
            "error_y": {
             "color": "#2a3f5f"
            },
            "marker": {
             "line": {
              "color": "#E5ECF6",
              "width": 0.5
             },
             "pattern": {
              "fillmode": "overlay",
              "size": 10,
              "solidity": 0.2
             }
            },
            "type": "bar"
           }
          ],
          "barpolar": [
           {
            "marker": {
             "line": {
              "color": "#E5ECF6",
              "width": 0.5
             },
             "pattern": {
              "fillmode": "overlay",
              "size": 10,
              "solidity": 0.2
             }
            },
            "type": "barpolar"
           }
          ],
          "carpet": [
           {
            "aaxis": {
             "endlinecolor": "#2a3f5f",
             "gridcolor": "white",
             "linecolor": "white",
             "minorgridcolor": "white",
             "startlinecolor": "#2a3f5f"
            },
            "baxis": {
             "endlinecolor": "#2a3f5f",
             "gridcolor": "white",
             "linecolor": "white",
             "minorgridcolor": "white",
             "startlinecolor": "#2a3f5f"
            },
            "type": "carpet"
           }
          ],
          "choropleth": [
           {
            "colorbar": {
             "outlinewidth": 0,
             "ticks": ""
            },
            "type": "choropleth"
           }
          ],
          "contour": [
           {
            "colorbar": {
             "outlinewidth": 0,
             "ticks": ""
            },
            "colorscale": [
             [
              0,
              "#0d0887"
             ],
             [
              0.1111111111111111,
              "#46039f"
             ],
             [
              0.2222222222222222,
              "#7201a8"
             ],
             [
              0.3333333333333333,
              "#9c179e"
             ],
             [
              0.4444444444444444,
              "#bd3786"
             ],
             [
              0.5555555555555556,
              "#d8576b"
             ],
             [
              0.6666666666666666,
              "#ed7953"
             ],
             [
              0.7777777777777778,
              "#fb9f3a"
             ],
             [
              0.8888888888888888,
              "#fdca26"
             ],
             [
              1,
              "#f0f921"
             ]
            ],
            "type": "contour"
           }
          ],
          "contourcarpet": [
           {
            "colorbar": {
             "outlinewidth": 0,
             "ticks": ""
            },
            "type": "contourcarpet"
           }
          ],
          "heatmap": [
           {
            "colorbar": {
             "outlinewidth": 0,
             "ticks": ""
            },
            "colorscale": [
             [
              0,
              "#0d0887"
             ],
             [
              0.1111111111111111,
              "#46039f"
             ],
             [
              0.2222222222222222,
              "#7201a8"
             ],
             [
              0.3333333333333333,
              "#9c179e"
             ],
             [
              0.4444444444444444,
              "#bd3786"
             ],
             [
              0.5555555555555556,
              "#d8576b"
             ],
             [
              0.6666666666666666,
              "#ed7953"
             ],
             [
              0.7777777777777778,
              "#fb9f3a"
             ],
             [
              0.8888888888888888,
              "#fdca26"
             ],
             [
              1,
              "#f0f921"
             ]
            ],
            "type": "heatmap"
           }
          ],
          "heatmapgl": [
           {
            "colorbar": {
             "outlinewidth": 0,
             "ticks": ""
            },
            "colorscale": [
             [
              0,
              "#0d0887"
             ],
             [
              0.1111111111111111,
              "#46039f"
             ],
             [
              0.2222222222222222,
              "#7201a8"
             ],
             [
              0.3333333333333333,
              "#9c179e"
             ],
             [
              0.4444444444444444,
              "#bd3786"
             ],
             [
              0.5555555555555556,
              "#d8576b"
             ],
             [
              0.6666666666666666,
              "#ed7953"
             ],
             [
              0.7777777777777778,
              "#fb9f3a"
             ],
             [
              0.8888888888888888,
              "#fdca26"
             ],
             [
              1,
              "#f0f921"
             ]
            ],
            "type": "heatmapgl"
           }
          ],
          "histogram": [
           {
            "marker": {
             "pattern": {
              "fillmode": "overlay",
              "size": 10,
              "solidity": 0.2
             }
            },
            "type": "histogram"
           }
          ],
          "histogram2d": [
           {
            "colorbar": {
             "outlinewidth": 0,
             "ticks": ""
            },
            "colorscale": [
             [
              0,
              "#0d0887"
             ],
             [
              0.1111111111111111,
              "#46039f"
             ],
             [
              0.2222222222222222,
              "#7201a8"
             ],
             [
              0.3333333333333333,
              "#9c179e"
             ],
             [
              0.4444444444444444,
              "#bd3786"
             ],
             [
              0.5555555555555556,
              "#d8576b"
             ],
             [
              0.6666666666666666,
              "#ed7953"
             ],
             [
              0.7777777777777778,
              "#fb9f3a"
             ],
             [
              0.8888888888888888,
              "#fdca26"
             ],
             [
              1,
              "#f0f921"
             ]
            ],
            "type": "histogram2d"
           }
          ],
          "histogram2dcontour": [
           {
            "colorbar": {
             "outlinewidth": 0,
             "ticks": ""
            },
            "colorscale": [
             [
              0,
              "#0d0887"
             ],
             [
              0.1111111111111111,
              "#46039f"
             ],
             [
              0.2222222222222222,
              "#7201a8"
             ],
             [
              0.3333333333333333,
              "#9c179e"
             ],
             [
              0.4444444444444444,
              "#bd3786"
             ],
             [
              0.5555555555555556,
              "#d8576b"
             ],
             [
              0.6666666666666666,
              "#ed7953"
             ],
             [
              0.7777777777777778,
              "#fb9f3a"
             ],
             [
              0.8888888888888888,
              "#fdca26"
             ],
             [
              1,
              "#f0f921"
             ]
            ],
            "type": "histogram2dcontour"
           }
          ],
          "mesh3d": [
           {
            "colorbar": {
             "outlinewidth": 0,
             "ticks": ""
            },
            "type": "mesh3d"
           }
          ],
          "parcoords": [
           {
            "line": {
             "colorbar": {
              "outlinewidth": 0,
              "ticks": ""
             }
            },
            "type": "parcoords"
           }
          ],
          "pie": [
           {
            "automargin": true,
            "type": "pie"
           }
          ],
          "scatter": [
           {
            "fillpattern": {
             "fillmode": "overlay",
             "size": 10,
             "solidity": 0.2
            },
            "type": "scatter"
           }
          ],
          "scatter3d": [
           {
            "line": {
             "colorbar": {
              "outlinewidth": 0,
              "ticks": ""
             }
            },
            "marker": {
             "colorbar": {
              "outlinewidth": 0,
              "ticks": ""
             }
            },
            "type": "scatter3d"
           }
          ],
          "scattercarpet": [
           {
            "marker": {
             "colorbar": {
              "outlinewidth": 0,
              "ticks": ""
             }
            },
            "type": "scattercarpet"
           }
          ],
          "scattergeo": [
           {
            "marker": {
             "colorbar": {
              "outlinewidth": 0,
              "ticks": ""
             }
            },
            "type": "scattergeo"
           }
          ],
          "scattergl": [
           {
            "marker": {
             "colorbar": {
              "outlinewidth": 0,
              "ticks": ""
             }
            },
            "type": "scattergl"
           }
          ],
          "scattermapbox": [
           {
            "marker": {
             "colorbar": {
              "outlinewidth": 0,
              "ticks": ""
             }
            },
            "type": "scattermapbox"
           }
          ],
          "scatterpolar": [
           {
            "marker": {
             "colorbar": {
              "outlinewidth": 0,
              "ticks": ""
             }
            },
            "type": "scatterpolar"
           }
          ],
          "scatterpolargl": [
           {
            "marker": {
             "colorbar": {
              "outlinewidth": 0,
              "ticks": ""
             }
            },
            "type": "scatterpolargl"
           }
          ],
          "scatterternary": [
           {
            "marker": {
             "colorbar": {
              "outlinewidth": 0,
              "ticks": ""
             }
            },
            "type": "scatterternary"
           }
          ],
          "surface": [
           {
            "colorbar": {
             "outlinewidth": 0,
             "ticks": ""
            },
            "colorscale": [
             [
              0,
              "#0d0887"
             ],
             [
              0.1111111111111111,
              "#46039f"
             ],
             [
              0.2222222222222222,
              "#7201a8"
             ],
             [
              0.3333333333333333,
              "#9c179e"
             ],
             [
              0.4444444444444444,
              "#bd3786"
             ],
             [
              0.5555555555555556,
              "#d8576b"
             ],
             [
              0.6666666666666666,
              "#ed7953"
             ],
             [
              0.7777777777777778,
              "#fb9f3a"
             ],
             [
              0.8888888888888888,
              "#fdca26"
             ],
             [
              1,
              "#f0f921"
             ]
            ],
            "type": "surface"
           }
          ],
          "table": [
           {
            "cells": {
             "fill": {
              "color": "#EBF0F8"
             },
             "line": {
              "color": "white"
             }
            },
            "header": {
             "fill": {
              "color": "#C8D4E3"
             },
             "line": {
              "color": "white"
             }
            },
            "type": "table"
           }
          ]
         },
         "layout": {
          "annotationdefaults": {
           "arrowcolor": "#2a3f5f",
           "arrowhead": 0,
           "arrowwidth": 1
          },
          "autotypenumbers": "strict",
          "coloraxis": {
           "colorbar": {
            "outlinewidth": 0,
            "ticks": ""
           }
          },
          "colorscale": {
           "diverging": [
            [
             0,
             "#8e0152"
            ],
            [
             0.1,
             "#c51b7d"
            ],
            [
             0.2,
             "#de77ae"
            ],
            [
             0.3,
             "#f1b6da"
            ],
            [
             0.4,
             "#fde0ef"
            ],
            [
             0.5,
             "#f7f7f7"
            ],
            [
             0.6,
             "#e6f5d0"
            ],
            [
             0.7,
             "#b8e186"
            ],
            [
             0.8,
             "#7fbc41"
            ],
            [
             0.9,
             "#4d9221"
            ],
            [
             1,
             "#276419"
            ]
           ],
           "sequential": [
            [
             0,
             "#0d0887"
            ],
            [
             0.1111111111111111,
             "#46039f"
            ],
            [
             0.2222222222222222,
             "#7201a8"
            ],
            [
             0.3333333333333333,
             "#9c179e"
            ],
            [
             0.4444444444444444,
             "#bd3786"
            ],
            [
             0.5555555555555556,
             "#d8576b"
            ],
            [
             0.6666666666666666,
             "#ed7953"
            ],
            [
             0.7777777777777778,
             "#fb9f3a"
            ],
            [
             0.8888888888888888,
             "#fdca26"
            ],
            [
             1,
             "#f0f921"
            ]
           ],
           "sequentialminus": [
            [
             0,
             "#0d0887"
            ],
            [
             0.1111111111111111,
             "#46039f"
            ],
            [
             0.2222222222222222,
             "#7201a8"
            ],
            [
             0.3333333333333333,
             "#9c179e"
            ],
            [
             0.4444444444444444,
             "#bd3786"
            ],
            [
             0.5555555555555556,
             "#d8576b"
            ],
            [
             0.6666666666666666,
             "#ed7953"
            ],
            [
             0.7777777777777778,
             "#fb9f3a"
            ],
            [
             0.8888888888888888,
             "#fdca26"
            ],
            [
             1,
             "#f0f921"
            ]
           ]
          },
          "colorway": [
           "#636efa",
           "#EF553B",
           "#00cc96",
           "#ab63fa",
           "#FFA15A",
           "#19d3f3",
           "#FF6692",
           "#B6E880",
           "#FF97FF",
           "#FECB52"
          ],
          "font": {
           "color": "#2a3f5f"
          },
          "geo": {
           "bgcolor": "white",
           "lakecolor": "white",
           "landcolor": "#E5ECF6",
           "showlakes": true,
           "showland": true,
           "subunitcolor": "white"
          },
          "hoverlabel": {
           "align": "left"
          },
          "hovermode": "closest",
          "mapbox": {
           "style": "light"
          },
          "paper_bgcolor": "white",
          "plot_bgcolor": "#E5ECF6",
          "polar": {
           "angularaxis": {
            "gridcolor": "white",
            "linecolor": "white",
            "ticks": ""
           },
           "bgcolor": "#E5ECF6",
           "radialaxis": {
            "gridcolor": "white",
            "linecolor": "white",
            "ticks": ""
           }
          },
          "scene": {
           "xaxis": {
            "backgroundcolor": "#E5ECF6",
            "gridcolor": "white",
            "gridwidth": 2,
            "linecolor": "white",
            "showbackground": true,
            "ticks": "",
            "zerolinecolor": "white"
           },
           "yaxis": {
            "backgroundcolor": "#E5ECF6",
            "gridcolor": "white",
            "gridwidth": 2,
            "linecolor": "white",
            "showbackground": true,
            "ticks": "",
            "zerolinecolor": "white"
           },
           "zaxis": {
            "backgroundcolor": "#E5ECF6",
            "gridcolor": "white",
            "gridwidth": 2,
            "linecolor": "white",
            "showbackground": true,
            "ticks": "",
            "zerolinecolor": "white"
           }
          },
          "shapedefaults": {
           "line": {
            "color": "#2a3f5f"
           }
          },
          "ternary": {
           "aaxis": {
            "gridcolor": "white",
            "linecolor": "white",
            "ticks": ""
           },
           "baxis": {
            "gridcolor": "white",
            "linecolor": "white",
            "ticks": ""
           },
           "bgcolor": "#E5ECF6",
           "caxis": {
            "gridcolor": "white",
            "linecolor": "white",
            "ticks": ""
           }
          },
          "title": {
           "x": 0.05
          },
          "xaxis": {
           "automargin": true,
           "gridcolor": "white",
           "linecolor": "white",
           "ticks": "",
           "title": {
            "standoff": 15
           },
           "zerolinecolor": "white",
           "zerolinewidth": 2
          },
          "yaxis": {
           "automargin": true,
           "gridcolor": "white",
           "linecolor": "white",
           "ticks": "",
           "title": {
            "standoff": 15
           },
           "zerolinecolor": "white",
           "zerolinewidth": 2
          }
         }
        },
        "xaxis": {
         "anchor": "y",
         "categoryarray": [
          "Sun",
          "Sat",
          "Thur",
          "Fri"
         ],
         "categoryorder": "array",
         "domain": [
          0,
          1
         ],
         "title": {
          "text": "day"
         }
        },
        "yaxis": {
         "anchor": "x",
         "domain": [
          0,
          1
         ],
         "title": {
          "text": "tip"
         }
        }
       }
      }
     },
     "metadata": {},
     "output_type": "display_data"
    }
   ],
   "source": [
    "fig = px.box(df,x='day',y='tip',color='day')\n",
    "fig.show()"
   ]
  },
  {
   "cell_type": "code",
   "execution_count": 22,
   "metadata": {},
   "outputs": [
    {
     "data": {
      "application/vnd.plotly.v1+json": {
       "config": {
        "plotlyServerURL": "https://plot.ly"
       },
       "data": [
        {
         "alignmentgroup": "True",
         "hovertemplate": "sex=Female<br>day=%{x}<br>tip=%{y}<extra></extra>",
         "legendgroup": "Female",
         "marker": {
          "color": "#636efa"
         },
         "name": "Female",
         "notched": false,
         "offsetgroup": "Female",
         "orientation": "v",
         "showlegend": true,
         "type": "box",
         "x": [
          "Sun",
          "Sun",
          "Sun",
          "Sun",
          "Sun",
          "Sun",
          "Sat",
          "Sat",
          "Sat",
          "Sat",
          "Sat",
          "Sat",
          "Sun",
          "Sun",
          "Sat",
          "Sat",
          "Sat",
          "Sat",
          "Sat",
          "Sat",
          "Sat",
          "Thur",
          "Thur",
          "Fri",
          "Fri",
          "Fri",
          "Fri",
          "Fri",
          "Sat",
          "Sat",
          "Sat",
          "Sat",
          "Sat",
          "Sun",
          "Sun",
          "Thur",
          "Thur",
          "Thur",
          "Thur",
          "Thur",
          "Thur",
          "Thur",
          "Thur",
          "Thur",
          "Thur",
          "Thur",
          "Thur",
          "Thur",
          "Thur",
          "Thur",
          "Thur",
          "Thur",
          "Thur",
          "Thur",
          "Thur",
          "Thur",
          "Thur",
          "Sun",
          "Sun",
          "Sun",
          "Sun",
          "Sun",
          "Sat",
          "Sat",
          "Sun",
          "Sun",
          "Sun",
          "Thur",
          "Thur",
          "Thur",
          "Thur",
          "Thur",
          "Thur",
          "Thur",
          "Sat",
          "Sat",
          "Sat",
          "Sat",
          "Sat",
          "Fri",
          "Fri",
          "Fri",
          "Fri",
          "Sat",
          "Sat",
          "Sat",
          "Thur"
         ],
         "x0": " ",
         "xaxis": "x",
         "y": [
          1.01,
          3.61,
          5,
          3.02,
          1.67,
          3.5,
          2.75,
          2.23,
          3,
          3,
          2.45,
          3.07,
          2.6,
          5.2,
          1.5,
          2.47,
          1,
          3,
          3.14,
          5,
          2.2,
          1.83,
          5.17,
          1,
          4.3,
          3.25,
          2.5,
          3,
          2.5,
          3.48,
          4.08,
          4,
          1,
          4,
          3.5,
          1.5,
          1.8,
          2.92,
          1.68,
          2.52,
          4.2,
          2,
          2,
          2.83,
          1.5,
          2,
          3.25,
          1.25,
          2,
          2,
          2.75,
          3.5,
          5,
          2.3,
          1.5,
          1.36,
          1.63,
          5.14,
          3.75,
          2.61,
          2,
          3,
          1.61,
          2,
          4,
          3.5,
          3.5,
          4.19,
          5,
          2,
          2.01,
          2,
          2.5,
          3.23,
          2.23,
          2.5,
          6.5,
          1.1,
          3.09,
          3.48,
          3,
          2.5,
          2,
          2.88,
          4.67,
          2,
          3
         ],
         "y0": " ",
         "yaxis": "y"
        },
        {
         "alignmentgroup": "True",
         "hovertemplate": "sex=Male<br>day=%{x}<br>tip=%{y}<extra></extra>",
         "legendgroup": "Male",
         "marker": {
          "color": "#EF553B"
         },
         "name": "Male",
         "notched": false,
         "offsetgroup": "Male",
         "orientation": "v",
         "showlegend": true,
         "type": "box",
         "x": [
          "Sun",
          "Sun",
          "Sun",
          "Sun",
          "Sun",
          "Sun",
          "Sun",
          "Sun",
          "Sun",
          "Sun",
          "Sun",
          "Sun",
          "Sun",
          "Sat",
          "Sat",
          "Sat",
          "Sat",
          "Sat",
          "Sat",
          "Sat",
          "Sat",
          "Sat",
          "Sat",
          "Sat",
          "Sat",
          "Sat",
          "Sat",
          "Sat",
          "Sat",
          "Sun",
          "Sun",
          "Sun",
          "Sun",
          "Sun",
          "Sun",
          "Sun",
          "Sun",
          "Sun",
          "Sun",
          "Sun",
          "Sun",
          "Sun",
          "Sat",
          "Sat",
          "Sat",
          "Sat",
          "Sat",
          "Sat",
          "Sat",
          "Sat",
          "Sat",
          "Sat",
          "Sat",
          "Sat",
          "Sat",
          "Sat",
          "Thur",
          "Thur",
          "Thur",
          "Thur",
          "Thur",
          "Thur",
          "Thur",
          "Thur",
          "Thur",
          "Thur",
          "Thur",
          "Fri",
          "Fri",
          "Fri",
          "Fri",
          "Fri",
          "Fri",
          "Fri",
          "Sat",
          "Sat",
          "Sat",
          "Sat",
          "Sat",
          "Sun",
          "Sun",
          "Sun",
          "Thur",
          "Thur",
          "Thur",
          "Thur",
          "Thur",
          "Thur",
          "Thur",
          "Thur",
          "Thur",
          "Thur",
          "Thur",
          "Sun",
          "Sun",
          "Sun",
          "Sun",
          "Sun",
          "Sun",
          "Sun",
          "Sun",
          "Sun",
          "Sun",
          "Sun",
          "Sun",
          "Sun",
          "Sat",
          "Sat",
          "Sun",
          "Sun",
          "Sun",
          "Sun",
          "Sun",
          "Sun",
          "Sun",
          "Sun",
          "Sun",
          "Sun",
          "Sun",
          "Sun",
          "Sun",
          "Sun",
          "Sun",
          "Sun",
          "Thur",
          "Thur",
          "Thur",
          "Thur",
          "Thur",
          "Thur",
          "Thur",
          "Thur",
          "Sat",
          "Sat",
          "Sat",
          "Sat",
          "Sat",
          "Sat",
          "Sat",
          "Sat",
          "Sat",
          "Fri",
          "Fri",
          "Fri",
          "Sat",
          "Sat",
          "Sat",
          "Sat",
          "Sat",
          "Sat",
          "Sat",
          "Sat",
          "Sat",
          "Sat",
          "Sat",
          "Sat",
          "Sat"
         ],
         "x0": " ",
         "xaxis": "x",
         "y": [
          1.66,
          3.5,
          3.31,
          4.71,
          2,
          3.12,
          1.96,
          3.23,
          1.71,
          1.57,
          3,
          3.92,
          3.71,
          3.35,
          4.08,
          7.58,
          3.18,
          2.34,
          2,
          2,
          4.3,
          1.45,
          2.5,
          3.27,
          3.6,
          2,
          2.31,
          5,
          2.24,
          2.54,
          3.06,
          1.32,
          5.6,
          3,
          5,
          6,
          2.05,
          3,
          2.5,
          1.56,
          4.34,
          3.51,
          3,
          1.76,
          6.73,
          3.21,
          2,
          1.98,
          3.76,
          2.64,
          3.15,
          2.01,
          2.09,
          1.97,
          1.25,
          3.08,
          4,
          3,
          2.71,
          3,
          3.4,
          5,
          2.03,
          2,
          4,
          5.85,
          3,
          3,
          3.5,
          4.73,
          4,
          1.5,
          3,
          1.5,
          1.64,
          4.06,
          4.29,
          3.76,
          3,
          4,
          2.55,
          5.07,
          2.31,
          2.5,
          2,
          1.48,
          2.18,
          1.5,
          2,
          6.7,
          5,
          1.73,
          2,
          2.5,
          2,
          2.74,
          2,
          2,
          5,
          2,
          3.5,
          2.5,
          2,
          3.48,
          2.24,
          4.5,
          10,
          3.16,
          5.15,
          3.18,
          4,
          3.11,
          2,
          2,
          3.55,
          3.68,
          5.65,
          3.5,
          6.5,
          3,
          5,
          2,
          4,
          1.5,
          2.56,
          2.02,
          4,
          1.44,
          2,
          2,
          4,
          4,
          3.41,
          3,
          2.03,
          2,
          5.16,
          9,
          3,
          1.5,
          1.44,
          2.2,
          1.92,
          1.58,
          3,
          2.72,
          2,
          3,
          3.39,
          1.47,
          3,
          1.25,
          1,
          1.17,
          5.92,
          2,
          1.75
         ],
         "y0": " ",
         "yaxis": "y"
        }
       ],
       "layout": {
        "boxmode": "group",
        "legend": {
         "title": {
          "text": "sex"
         },
         "tracegroupgap": 0
        },
        "margin": {
         "t": 60
        },
        "template": {
         "data": {
          "bar": [
           {
            "error_x": {
             "color": "#2a3f5f"
            },
            "error_y": {
             "color": "#2a3f5f"
            },
            "marker": {
             "line": {
              "color": "#E5ECF6",
              "width": 0.5
             },
             "pattern": {
              "fillmode": "overlay",
              "size": 10,
              "solidity": 0.2
             }
            },
            "type": "bar"
           }
          ],
          "barpolar": [
           {
            "marker": {
             "line": {
              "color": "#E5ECF6",
              "width": 0.5
             },
             "pattern": {
              "fillmode": "overlay",
              "size": 10,
              "solidity": 0.2
             }
            },
            "type": "barpolar"
           }
          ],
          "carpet": [
           {
            "aaxis": {
             "endlinecolor": "#2a3f5f",
             "gridcolor": "white",
             "linecolor": "white",
             "minorgridcolor": "white",
             "startlinecolor": "#2a3f5f"
            },
            "baxis": {
             "endlinecolor": "#2a3f5f",
             "gridcolor": "white",
             "linecolor": "white",
             "minorgridcolor": "white",
             "startlinecolor": "#2a3f5f"
            },
            "type": "carpet"
           }
          ],
          "choropleth": [
           {
            "colorbar": {
             "outlinewidth": 0,
             "ticks": ""
            },
            "type": "choropleth"
           }
          ],
          "contour": [
           {
            "colorbar": {
             "outlinewidth": 0,
             "ticks": ""
            },
            "colorscale": [
             [
              0,
              "#0d0887"
             ],
             [
              0.1111111111111111,
              "#46039f"
             ],
             [
              0.2222222222222222,
              "#7201a8"
             ],
             [
              0.3333333333333333,
              "#9c179e"
             ],
             [
              0.4444444444444444,
              "#bd3786"
             ],
             [
              0.5555555555555556,
              "#d8576b"
             ],
             [
              0.6666666666666666,
              "#ed7953"
             ],
             [
              0.7777777777777778,
              "#fb9f3a"
             ],
             [
              0.8888888888888888,
              "#fdca26"
             ],
             [
              1,
              "#f0f921"
             ]
            ],
            "type": "contour"
           }
          ],
          "contourcarpet": [
           {
            "colorbar": {
             "outlinewidth": 0,
             "ticks": ""
            },
            "type": "contourcarpet"
           }
          ],
          "heatmap": [
           {
            "colorbar": {
             "outlinewidth": 0,
             "ticks": ""
            },
            "colorscale": [
             [
              0,
              "#0d0887"
             ],
             [
              0.1111111111111111,
              "#46039f"
             ],
             [
              0.2222222222222222,
              "#7201a8"
             ],
             [
              0.3333333333333333,
              "#9c179e"
             ],
             [
              0.4444444444444444,
              "#bd3786"
             ],
             [
              0.5555555555555556,
              "#d8576b"
             ],
             [
              0.6666666666666666,
              "#ed7953"
             ],
             [
              0.7777777777777778,
              "#fb9f3a"
             ],
             [
              0.8888888888888888,
              "#fdca26"
             ],
             [
              1,
              "#f0f921"
             ]
            ],
            "type": "heatmap"
           }
          ],
          "heatmapgl": [
           {
            "colorbar": {
             "outlinewidth": 0,
             "ticks": ""
            },
            "colorscale": [
             [
              0,
              "#0d0887"
             ],
             [
              0.1111111111111111,
              "#46039f"
             ],
             [
              0.2222222222222222,
              "#7201a8"
             ],
             [
              0.3333333333333333,
              "#9c179e"
             ],
             [
              0.4444444444444444,
              "#bd3786"
             ],
             [
              0.5555555555555556,
              "#d8576b"
             ],
             [
              0.6666666666666666,
              "#ed7953"
             ],
             [
              0.7777777777777778,
              "#fb9f3a"
             ],
             [
              0.8888888888888888,
              "#fdca26"
             ],
             [
              1,
              "#f0f921"
             ]
            ],
            "type": "heatmapgl"
           }
          ],
          "histogram": [
           {
            "marker": {
             "pattern": {
              "fillmode": "overlay",
              "size": 10,
              "solidity": 0.2
             }
            },
            "type": "histogram"
           }
          ],
          "histogram2d": [
           {
            "colorbar": {
             "outlinewidth": 0,
             "ticks": ""
            },
            "colorscale": [
             [
              0,
              "#0d0887"
             ],
             [
              0.1111111111111111,
              "#46039f"
             ],
             [
              0.2222222222222222,
              "#7201a8"
             ],
             [
              0.3333333333333333,
              "#9c179e"
             ],
             [
              0.4444444444444444,
              "#bd3786"
             ],
             [
              0.5555555555555556,
              "#d8576b"
             ],
             [
              0.6666666666666666,
              "#ed7953"
             ],
             [
              0.7777777777777778,
              "#fb9f3a"
             ],
             [
              0.8888888888888888,
              "#fdca26"
             ],
             [
              1,
              "#f0f921"
             ]
            ],
            "type": "histogram2d"
           }
          ],
          "histogram2dcontour": [
           {
            "colorbar": {
             "outlinewidth": 0,
             "ticks": ""
            },
            "colorscale": [
             [
              0,
              "#0d0887"
             ],
             [
              0.1111111111111111,
              "#46039f"
             ],
             [
              0.2222222222222222,
              "#7201a8"
             ],
             [
              0.3333333333333333,
              "#9c179e"
             ],
             [
              0.4444444444444444,
              "#bd3786"
             ],
             [
              0.5555555555555556,
              "#d8576b"
             ],
             [
              0.6666666666666666,
              "#ed7953"
             ],
             [
              0.7777777777777778,
              "#fb9f3a"
             ],
             [
              0.8888888888888888,
              "#fdca26"
             ],
             [
              1,
              "#f0f921"
             ]
            ],
            "type": "histogram2dcontour"
           }
          ],
          "mesh3d": [
           {
            "colorbar": {
             "outlinewidth": 0,
             "ticks": ""
            },
            "type": "mesh3d"
           }
          ],
          "parcoords": [
           {
            "line": {
             "colorbar": {
              "outlinewidth": 0,
              "ticks": ""
             }
            },
            "type": "parcoords"
           }
          ],
          "pie": [
           {
            "automargin": true,
            "type": "pie"
           }
          ],
          "scatter": [
           {
            "fillpattern": {
             "fillmode": "overlay",
             "size": 10,
             "solidity": 0.2
            },
            "type": "scatter"
           }
          ],
          "scatter3d": [
           {
            "line": {
             "colorbar": {
              "outlinewidth": 0,
              "ticks": ""
             }
            },
            "marker": {
             "colorbar": {
              "outlinewidth": 0,
              "ticks": ""
             }
            },
            "type": "scatter3d"
           }
          ],
          "scattercarpet": [
           {
            "marker": {
             "colorbar": {
              "outlinewidth": 0,
              "ticks": ""
             }
            },
            "type": "scattercarpet"
           }
          ],
          "scattergeo": [
           {
            "marker": {
             "colorbar": {
              "outlinewidth": 0,
              "ticks": ""
             }
            },
            "type": "scattergeo"
           }
          ],
          "scattergl": [
           {
            "marker": {
             "colorbar": {
              "outlinewidth": 0,
              "ticks": ""
             }
            },
            "type": "scattergl"
           }
          ],
          "scattermapbox": [
           {
            "marker": {
             "colorbar": {
              "outlinewidth": 0,
              "ticks": ""
             }
            },
            "type": "scattermapbox"
           }
          ],
          "scatterpolar": [
           {
            "marker": {
             "colorbar": {
              "outlinewidth": 0,
              "ticks": ""
             }
            },
            "type": "scatterpolar"
           }
          ],
          "scatterpolargl": [
           {
            "marker": {
             "colorbar": {
              "outlinewidth": 0,
              "ticks": ""
             }
            },
            "type": "scatterpolargl"
           }
          ],
          "scatterternary": [
           {
            "marker": {
             "colorbar": {
              "outlinewidth": 0,
              "ticks": ""
             }
            },
            "type": "scatterternary"
           }
          ],
          "surface": [
           {
            "colorbar": {
             "outlinewidth": 0,
             "ticks": ""
            },
            "colorscale": [
             [
              0,
              "#0d0887"
             ],
             [
              0.1111111111111111,
              "#46039f"
             ],
             [
              0.2222222222222222,
              "#7201a8"
             ],
             [
              0.3333333333333333,
              "#9c179e"
             ],
             [
              0.4444444444444444,
              "#bd3786"
             ],
             [
              0.5555555555555556,
              "#d8576b"
             ],
             [
              0.6666666666666666,
              "#ed7953"
             ],
             [
              0.7777777777777778,
              "#fb9f3a"
             ],
             [
              0.8888888888888888,
              "#fdca26"
             ],
             [
              1,
              "#f0f921"
             ]
            ],
            "type": "surface"
           }
          ],
          "table": [
           {
            "cells": {
             "fill": {
              "color": "#EBF0F8"
             },
             "line": {
              "color": "white"
             }
            },
            "header": {
             "fill": {
              "color": "#C8D4E3"
             },
             "line": {
              "color": "white"
             }
            },
            "type": "table"
           }
          ]
         },
         "layout": {
          "annotationdefaults": {
           "arrowcolor": "#2a3f5f",
           "arrowhead": 0,
           "arrowwidth": 1
          },
          "autotypenumbers": "strict",
          "coloraxis": {
           "colorbar": {
            "outlinewidth": 0,
            "ticks": ""
           }
          },
          "colorscale": {
           "diverging": [
            [
             0,
             "#8e0152"
            ],
            [
             0.1,
             "#c51b7d"
            ],
            [
             0.2,
             "#de77ae"
            ],
            [
             0.3,
             "#f1b6da"
            ],
            [
             0.4,
             "#fde0ef"
            ],
            [
             0.5,
             "#f7f7f7"
            ],
            [
             0.6,
             "#e6f5d0"
            ],
            [
             0.7,
             "#b8e186"
            ],
            [
             0.8,
             "#7fbc41"
            ],
            [
             0.9,
             "#4d9221"
            ],
            [
             1,
             "#276419"
            ]
           ],
           "sequential": [
            [
             0,
             "#0d0887"
            ],
            [
             0.1111111111111111,
             "#46039f"
            ],
            [
             0.2222222222222222,
             "#7201a8"
            ],
            [
             0.3333333333333333,
             "#9c179e"
            ],
            [
             0.4444444444444444,
             "#bd3786"
            ],
            [
             0.5555555555555556,
             "#d8576b"
            ],
            [
             0.6666666666666666,
             "#ed7953"
            ],
            [
             0.7777777777777778,
             "#fb9f3a"
            ],
            [
             0.8888888888888888,
             "#fdca26"
            ],
            [
             1,
             "#f0f921"
            ]
           ],
           "sequentialminus": [
            [
             0,
             "#0d0887"
            ],
            [
             0.1111111111111111,
             "#46039f"
            ],
            [
             0.2222222222222222,
             "#7201a8"
            ],
            [
             0.3333333333333333,
             "#9c179e"
            ],
            [
             0.4444444444444444,
             "#bd3786"
            ],
            [
             0.5555555555555556,
             "#d8576b"
            ],
            [
             0.6666666666666666,
             "#ed7953"
            ],
            [
             0.7777777777777778,
             "#fb9f3a"
            ],
            [
             0.8888888888888888,
             "#fdca26"
            ],
            [
             1,
             "#f0f921"
            ]
           ]
          },
          "colorway": [
           "#636efa",
           "#EF553B",
           "#00cc96",
           "#ab63fa",
           "#FFA15A",
           "#19d3f3",
           "#FF6692",
           "#B6E880",
           "#FF97FF",
           "#FECB52"
          ],
          "font": {
           "color": "#2a3f5f"
          },
          "geo": {
           "bgcolor": "white",
           "lakecolor": "white",
           "landcolor": "#E5ECF6",
           "showlakes": true,
           "showland": true,
           "subunitcolor": "white"
          },
          "hoverlabel": {
           "align": "left"
          },
          "hovermode": "closest",
          "mapbox": {
           "style": "light"
          },
          "paper_bgcolor": "white",
          "plot_bgcolor": "#E5ECF6",
          "polar": {
           "angularaxis": {
            "gridcolor": "white",
            "linecolor": "white",
            "ticks": ""
           },
           "bgcolor": "#E5ECF6",
           "radialaxis": {
            "gridcolor": "white",
            "linecolor": "white",
            "ticks": ""
           }
          },
          "scene": {
           "xaxis": {
            "backgroundcolor": "#E5ECF6",
            "gridcolor": "white",
            "gridwidth": 2,
            "linecolor": "white",
            "showbackground": true,
            "ticks": "",
            "zerolinecolor": "white"
           },
           "yaxis": {
            "backgroundcolor": "#E5ECF6",
            "gridcolor": "white",
            "gridwidth": 2,
            "linecolor": "white",
            "showbackground": true,
            "ticks": "",
            "zerolinecolor": "white"
           },
           "zaxis": {
            "backgroundcolor": "#E5ECF6",
            "gridcolor": "white",
            "gridwidth": 2,
            "linecolor": "white",
            "showbackground": true,
            "ticks": "",
            "zerolinecolor": "white"
           }
          },
          "shapedefaults": {
           "line": {
            "color": "#2a3f5f"
           }
          },
          "ternary": {
           "aaxis": {
            "gridcolor": "white",
            "linecolor": "white",
            "ticks": ""
           },
           "baxis": {
            "gridcolor": "white",
            "linecolor": "white",
            "ticks": ""
           },
           "bgcolor": "#E5ECF6",
           "caxis": {
            "gridcolor": "white",
            "linecolor": "white",
            "ticks": ""
           }
          },
          "title": {
           "x": 0.05
          },
          "xaxis": {
           "automargin": true,
           "gridcolor": "white",
           "linecolor": "white",
           "ticks": "",
           "title": {
            "standoff": 15
           },
           "zerolinecolor": "white",
           "zerolinewidth": 2
          },
          "yaxis": {
           "automargin": true,
           "gridcolor": "white",
           "linecolor": "white",
           "ticks": "",
           "title": {
            "standoff": 15
           },
           "zerolinecolor": "white",
           "zerolinewidth": 2
          }
         }
        },
        "xaxis": {
         "anchor": "y",
         "domain": [
          0,
          1
         ],
         "title": {
          "text": "day"
         }
        },
        "yaxis": {
         "anchor": "x",
         "domain": [
          0,
          1
         ],
         "title": {
          "text": "tip"
         }
        }
       }
      }
     },
     "metadata": {},
     "output_type": "display_data"
    }
   ],
   "source": [
    "fig = px.box(df,x='day',y='tip',color='sex')\n",
    "fig.show()"
   ]
  },
  {
   "cell_type": "code",
   "execution_count": 23,
   "metadata": {},
   "outputs": [
    {
     "data": {
      "application/vnd.plotly.v1+json": {
       "config": {
        "plotlyServerURL": "https://plot.ly"
       },
       "data": [
        {
         "alignmentgroup": "True",
         "bingroup": "x",
         "hovertemplate": "total_bill=%{x}<br>count=%{y}<extra></extra>",
         "legendgroup": "",
         "marker": {
          "color": "#636efa",
          "pattern": {
           "shape": ""
          }
         },
         "name": "",
         "nbinsx": 20,
         "offsetgroup": "",
         "orientation": "v",
         "showlegend": false,
         "type": "histogram",
         "x": [
          16.99,
          10.34,
          21.01,
          23.68,
          24.59,
          25.29,
          8.77,
          26.88,
          15.04,
          14.78,
          10.27,
          35.26,
          15.42,
          18.43,
          14.83,
          21.58,
          10.33,
          16.29,
          16.97,
          20.65,
          17.92,
          20.29,
          15.77,
          39.42,
          19.82,
          17.81,
          13.37,
          12.69,
          21.7,
          19.65,
          9.55,
          18.35,
          15.06,
          20.69,
          17.78,
          24.06,
          16.31,
          16.93,
          18.69,
          31.27,
          16.04,
          17.46,
          13.94,
          9.68,
          30.4,
          18.29,
          22.23,
          32.4,
          28.55,
          18.04,
          12.54,
          10.29,
          34.81,
          9.94,
          25.56,
          19.49,
          38.01,
          26.41,
          11.24,
          48.27,
          20.29,
          13.81,
          11.02,
          18.29,
          17.59,
          20.08,
          16.45,
          3.07,
          20.23,
          15.01,
          12.02,
          17.07,
          26.86,
          25.28,
          14.73,
          10.51,
          17.92,
          27.2,
          22.76,
          17.29,
          19.44,
          16.66,
          10.07,
          32.68,
          15.98,
          34.83,
          13.03,
          18.28,
          24.71,
          21.16,
          28.97,
          22.49,
          5.75,
          16.32,
          22.75,
          40.17,
          27.28,
          12.03,
          21.01,
          12.46,
          11.35,
          15.38,
          44.3,
          22.42,
          20.92,
          15.36,
          20.49,
          25.21,
          18.24,
          14.31,
          14,
          7.25,
          38.07,
          23.95,
          25.71,
          17.31,
          29.93,
          10.65,
          12.43,
          24.08,
          11.69,
          13.42,
          14.26,
          15.95,
          12.48,
          29.8,
          8.52,
          14.52,
          11.38,
          22.82,
          19.08,
          20.27,
          11.17,
          12.26,
          18.26,
          8.51,
          10.33,
          14.15,
          16,
          13.16,
          17.47,
          34.3,
          41.19,
          27.05,
          16.43,
          8.35,
          18.64,
          11.87,
          9.78,
          7.51,
          14.07,
          13.13,
          17.26,
          24.55,
          19.77,
          29.85,
          48.17,
          25,
          13.39,
          16.49,
          21.5,
          12.66,
          16.21,
          13.81,
          17.51,
          24.52,
          20.76,
          31.71,
          10.59,
          10.63,
          50.81,
          15.81,
          7.25,
          31.85,
          16.82,
          32.9,
          17.89,
          14.48,
          9.6,
          34.63,
          34.65,
          23.33,
          45.35,
          23.17,
          40.55,
          20.69,
          20.9,
          30.46,
          18.15,
          23.1,
          15.69,
          19.81,
          28.44,
          15.48,
          16.58,
          7.56,
          10.34,
          43.11,
          13,
          13.51,
          18.71,
          12.74,
          13,
          16.4,
          20.53,
          16.47,
          26.59,
          38.73,
          24.27,
          12.76,
          30.06,
          25.89,
          48.33,
          13.27,
          28.17,
          12.9,
          28.15,
          11.59,
          7.74,
          30.14,
          12.16,
          13.42,
          8.58,
          15.98,
          13.42,
          16.27,
          10.09,
          20.45,
          13.28,
          22.12,
          24.01,
          15.69,
          11.61,
          10.77,
          15.53,
          10.07,
          12.6,
          32.83,
          35.83,
          29.03,
          27.18,
          22.67,
          17.82,
          18.78
         ],
         "xaxis": "x",
         "yaxis": "y"
        }
       ],
       "layout": {
        "barmode": "relative",
        "legend": {
         "tracegroupgap": 0
        },
        "margin": {
         "t": 60
        },
        "template": {
         "data": {
          "bar": [
           {
            "error_x": {
             "color": "#2a3f5f"
            },
            "error_y": {
             "color": "#2a3f5f"
            },
            "marker": {
             "line": {
              "color": "#E5ECF6",
              "width": 0.5
             },
             "pattern": {
              "fillmode": "overlay",
              "size": 10,
              "solidity": 0.2
             }
            },
            "type": "bar"
           }
          ],
          "barpolar": [
           {
            "marker": {
             "line": {
              "color": "#E5ECF6",
              "width": 0.5
             },
             "pattern": {
              "fillmode": "overlay",
              "size": 10,
              "solidity": 0.2
             }
            },
            "type": "barpolar"
           }
          ],
          "carpet": [
           {
            "aaxis": {
             "endlinecolor": "#2a3f5f",
             "gridcolor": "white",
             "linecolor": "white",
             "minorgridcolor": "white",
             "startlinecolor": "#2a3f5f"
            },
            "baxis": {
             "endlinecolor": "#2a3f5f",
             "gridcolor": "white",
             "linecolor": "white",
             "minorgridcolor": "white",
             "startlinecolor": "#2a3f5f"
            },
            "type": "carpet"
           }
          ],
          "choropleth": [
           {
            "colorbar": {
             "outlinewidth": 0,
             "ticks": ""
            },
            "type": "choropleth"
           }
          ],
          "contour": [
           {
            "colorbar": {
             "outlinewidth": 0,
             "ticks": ""
            },
            "colorscale": [
             [
              0,
              "#0d0887"
             ],
             [
              0.1111111111111111,
              "#46039f"
             ],
             [
              0.2222222222222222,
              "#7201a8"
             ],
             [
              0.3333333333333333,
              "#9c179e"
             ],
             [
              0.4444444444444444,
              "#bd3786"
             ],
             [
              0.5555555555555556,
              "#d8576b"
             ],
             [
              0.6666666666666666,
              "#ed7953"
             ],
             [
              0.7777777777777778,
              "#fb9f3a"
             ],
             [
              0.8888888888888888,
              "#fdca26"
             ],
             [
              1,
              "#f0f921"
             ]
            ],
            "type": "contour"
           }
          ],
          "contourcarpet": [
           {
            "colorbar": {
             "outlinewidth": 0,
             "ticks": ""
            },
            "type": "contourcarpet"
           }
          ],
          "heatmap": [
           {
            "colorbar": {
             "outlinewidth": 0,
             "ticks": ""
            },
            "colorscale": [
             [
              0,
              "#0d0887"
             ],
             [
              0.1111111111111111,
              "#46039f"
             ],
             [
              0.2222222222222222,
              "#7201a8"
             ],
             [
              0.3333333333333333,
              "#9c179e"
             ],
             [
              0.4444444444444444,
              "#bd3786"
             ],
             [
              0.5555555555555556,
              "#d8576b"
             ],
             [
              0.6666666666666666,
              "#ed7953"
             ],
             [
              0.7777777777777778,
              "#fb9f3a"
             ],
             [
              0.8888888888888888,
              "#fdca26"
             ],
             [
              1,
              "#f0f921"
             ]
            ],
            "type": "heatmap"
           }
          ],
          "heatmapgl": [
           {
            "colorbar": {
             "outlinewidth": 0,
             "ticks": ""
            },
            "colorscale": [
             [
              0,
              "#0d0887"
             ],
             [
              0.1111111111111111,
              "#46039f"
             ],
             [
              0.2222222222222222,
              "#7201a8"
             ],
             [
              0.3333333333333333,
              "#9c179e"
             ],
             [
              0.4444444444444444,
              "#bd3786"
             ],
             [
              0.5555555555555556,
              "#d8576b"
             ],
             [
              0.6666666666666666,
              "#ed7953"
             ],
             [
              0.7777777777777778,
              "#fb9f3a"
             ],
             [
              0.8888888888888888,
              "#fdca26"
             ],
             [
              1,
              "#f0f921"
             ]
            ],
            "type": "heatmapgl"
           }
          ],
          "histogram": [
           {
            "marker": {
             "pattern": {
              "fillmode": "overlay",
              "size": 10,
              "solidity": 0.2
             }
            },
            "type": "histogram"
           }
          ],
          "histogram2d": [
           {
            "colorbar": {
             "outlinewidth": 0,
             "ticks": ""
            },
            "colorscale": [
             [
              0,
              "#0d0887"
             ],
             [
              0.1111111111111111,
              "#46039f"
             ],
             [
              0.2222222222222222,
              "#7201a8"
             ],
             [
              0.3333333333333333,
              "#9c179e"
             ],
             [
              0.4444444444444444,
              "#bd3786"
             ],
             [
              0.5555555555555556,
              "#d8576b"
             ],
             [
              0.6666666666666666,
              "#ed7953"
             ],
             [
              0.7777777777777778,
              "#fb9f3a"
             ],
             [
              0.8888888888888888,
              "#fdca26"
             ],
             [
              1,
              "#f0f921"
             ]
            ],
            "type": "histogram2d"
           }
          ],
          "histogram2dcontour": [
           {
            "colorbar": {
             "outlinewidth": 0,
             "ticks": ""
            },
            "colorscale": [
             [
              0,
              "#0d0887"
             ],
             [
              0.1111111111111111,
              "#46039f"
             ],
             [
              0.2222222222222222,
              "#7201a8"
             ],
             [
              0.3333333333333333,
              "#9c179e"
             ],
             [
              0.4444444444444444,
              "#bd3786"
             ],
             [
              0.5555555555555556,
              "#d8576b"
             ],
             [
              0.6666666666666666,
              "#ed7953"
             ],
             [
              0.7777777777777778,
              "#fb9f3a"
             ],
             [
              0.8888888888888888,
              "#fdca26"
             ],
             [
              1,
              "#f0f921"
             ]
            ],
            "type": "histogram2dcontour"
           }
          ],
          "mesh3d": [
           {
            "colorbar": {
             "outlinewidth": 0,
             "ticks": ""
            },
            "type": "mesh3d"
           }
          ],
          "parcoords": [
           {
            "line": {
             "colorbar": {
              "outlinewidth": 0,
              "ticks": ""
             }
            },
            "type": "parcoords"
           }
          ],
          "pie": [
           {
            "automargin": true,
            "type": "pie"
           }
          ],
          "scatter": [
           {
            "fillpattern": {
             "fillmode": "overlay",
             "size": 10,
             "solidity": 0.2
            },
            "type": "scatter"
           }
          ],
          "scatter3d": [
           {
            "line": {
             "colorbar": {
              "outlinewidth": 0,
              "ticks": ""
             }
            },
            "marker": {
             "colorbar": {
              "outlinewidth": 0,
              "ticks": ""
             }
            },
            "type": "scatter3d"
           }
          ],
          "scattercarpet": [
           {
            "marker": {
             "colorbar": {
              "outlinewidth": 0,
              "ticks": ""
             }
            },
            "type": "scattercarpet"
           }
          ],
          "scattergeo": [
           {
            "marker": {
             "colorbar": {
              "outlinewidth": 0,
              "ticks": ""
             }
            },
            "type": "scattergeo"
           }
          ],
          "scattergl": [
           {
            "marker": {
             "colorbar": {
              "outlinewidth": 0,
              "ticks": ""
             }
            },
            "type": "scattergl"
           }
          ],
          "scattermapbox": [
           {
            "marker": {
             "colorbar": {
              "outlinewidth": 0,
              "ticks": ""
             }
            },
            "type": "scattermapbox"
           }
          ],
          "scatterpolar": [
           {
            "marker": {
             "colorbar": {
              "outlinewidth": 0,
              "ticks": ""
             }
            },
            "type": "scatterpolar"
           }
          ],
          "scatterpolargl": [
           {
            "marker": {
             "colorbar": {
              "outlinewidth": 0,
              "ticks": ""
             }
            },
            "type": "scatterpolargl"
           }
          ],
          "scatterternary": [
           {
            "marker": {
             "colorbar": {
              "outlinewidth": 0,
              "ticks": ""
             }
            },
            "type": "scatterternary"
           }
          ],
          "surface": [
           {
            "colorbar": {
             "outlinewidth": 0,
             "ticks": ""
            },
            "colorscale": [
             [
              0,
              "#0d0887"
             ],
             [
              0.1111111111111111,
              "#46039f"
             ],
             [
              0.2222222222222222,
              "#7201a8"
             ],
             [
              0.3333333333333333,
              "#9c179e"
             ],
             [
              0.4444444444444444,
              "#bd3786"
             ],
             [
              0.5555555555555556,
              "#d8576b"
             ],
             [
              0.6666666666666666,
              "#ed7953"
             ],
             [
              0.7777777777777778,
              "#fb9f3a"
             ],
             [
              0.8888888888888888,
              "#fdca26"
             ],
             [
              1,
              "#f0f921"
             ]
            ],
            "type": "surface"
           }
          ],
          "table": [
           {
            "cells": {
             "fill": {
              "color": "#EBF0F8"
             },
             "line": {
              "color": "white"
             }
            },
            "header": {
             "fill": {
              "color": "#C8D4E3"
             },
             "line": {
              "color": "white"
             }
            },
            "type": "table"
           }
          ]
         },
         "layout": {
          "annotationdefaults": {
           "arrowcolor": "#2a3f5f",
           "arrowhead": 0,
           "arrowwidth": 1
          },
          "autotypenumbers": "strict",
          "coloraxis": {
           "colorbar": {
            "outlinewidth": 0,
            "ticks": ""
           }
          },
          "colorscale": {
           "diverging": [
            [
             0,
             "#8e0152"
            ],
            [
             0.1,
             "#c51b7d"
            ],
            [
             0.2,
             "#de77ae"
            ],
            [
             0.3,
             "#f1b6da"
            ],
            [
             0.4,
             "#fde0ef"
            ],
            [
             0.5,
             "#f7f7f7"
            ],
            [
             0.6,
             "#e6f5d0"
            ],
            [
             0.7,
             "#b8e186"
            ],
            [
             0.8,
             "#7fbc41"
            ],
            [
             0.9,
             "#4d9221"
            ],
            [
             1,
             "#276419"
            ]
           ],
           "sequential": [
            [
             0,
             "#0d0887"
            ],
            [
             0.1111111111111111,
             "#46039f"
            ],
            [
             0.2222222222222222,
             "#7201a8"
            ],
            [
             0.3333333333333333,
             "#9c179e"
            ],
            [
             0.4444444444444444,
             "#bd3786"
            ],
            [
             0.5555555555555556,
             "#d8576b"
            ],
            [
             0.6666666666666666,
             "#ed7953"
            ],
            [
             0.7777777777777778,
             "#fb9f3a"
            ],
            [
             0.8888888888888888,
             "#fdca26"
            ],
            [
             1,
             "#f0f921"
            ]
           ],
           "sequentialminus": [
            [
             0,
             "#0d0887"
            ],
            [
             0.1111111111111111,
             "#46039f"
            ],
            [
             0.2222222222222222,
             "#7201a8"
            ],
            [
             0.3333333333333333,
             "#9c179e"
            ],
            [
             0.4444444444444444,
             "#bd3786"
            ],
            [
             0.5555555555555556,
             "#d8576b"
            ],
            [
             0.6666666666666666,
             "#ed7953"
            ],
            [
             0.7777777777777778,
             "#fb9f3a"
            ],
            [
             0.8888888888888888,
             "#fdca26"
            ],
            [
             1,
             "#f0f921"
            ]
           ]
          },
          "colorway": [
           "#636efa",
           "#EF553B",
           "#00cc96",
           "#ab63fa",
           "#FFA15A",
           "#19d3f3",
           "#FF6692",
           "#B6E880",
           "#FF97FF",
           "#FECB52"
          ],
          "font": {
           "color": "#2a3f5f"
          },
          "geo": {
           "bgcolor": "white",
           "lakecolor": "white",
           "landcolor": "#E5ECF6",
           "showlakes": true,
           "showland": true,
           "subunitcolor": "white"
          },
          "hoverlabel": {
           "align": "left"
          },
          "hovermode": "closest",
          "mapbox": {
           "style": "light"
          },
          "paper_bgcolor": "white",
          "plot_bgcolor": "#E5ECF6",
          "polar": {
           "angularaxis": {
            "gridcolor": "white",
            "linecolor": "white",
            "ticks": ""
           },
           "bgcolor": "#E5ECF6",
           "radialaxis": {
            "gridcolor": "white",
            "linecolor": "white",
            "ticks": ""
           }
          },
          "scene": {
           "xaxis": {
            "backgroundcolor": "#E5ECF6",
            "gridcolor": "white",
            "gridwidth": 2,
            "linecolor": "white",
            "showbackground": true,
            "ticks": "",
            "zerolinecolor": "white"
           },
           "yaxis": {
            "backgroundcolor": "#E5ECF6",
            "gridcolor": "white",
            "gridwidth": 2,
            "linecolor": "white",
            "showbackground": true,
            "ticks": "",
            "zerolinecolor": "white"
           },
           "zaxis": {
            "backgroundcolor": "#E5ECF6",
            "gridcolor": "white",
            "gridwidth": 2,
            "linecolor": "white",
            "showbackground": true,
            "ticks": "",
            "zerolinecolor": "white"
           }
          },
          "shapedefaults": {
           "line": {
            "color": "#2a3f5f"
           }
          },
          "ternary": {
           "aaxis": {
            "gridcolor": "white",
            "linecolor": "white",
            "ticks": ""
           },
           "baxis": {
            "gridcolor": "white",
            "linecolor": "white",
            "ticks": ""
           },
           "bgcolor": "#E5ECF6",
           "caxis": {
            "gridcolor": "white",
            "linecolor": "white",
            "ticks": ""
           }
          },
          "title": {
           "x": 0.05
          },
          "xaxis": {
           "automargin": true,
           "gridcolor": "white",
           "linecolor": "white",
           "ticks": "",
           "title": {
            "standoff": 15
           },
           "zerolinecolor": "white",
           "zerolinewidth": 2
          },
          "yaxis": {
           "automargin": true,
           "gridcolor": "white",
           "linecolor": "white",
           "ticks": "",
           "title": {
            "standoff": 15
           },
           "zerolinecolor": "white",
           "zerolinewidth": 2
          }
         }
        },
        "xaxis": {
         "anchor": "y",
         "domain": [
          0,
          1
         ],
         "title": {
          "text": "total_bill"
         }
        },
        "yaxis": {
         "anchor": "x",
         "domain": [
          0,
          1
         ],
         "title": {
          "text": "count"
         }
        }
       }
      }
     },
     "metadata": {},
     "output_type": "display_data"
    }
   ],
   "source": [
    "fig = px.histogram(df,x='total_bill',nbins=20)\n",
    "fig.show()"
   ]
  },
  {
   "attachments": {},
   "cell_type": "markdown",
   "metadata": {},
   "source": [
    "histogram se pta chlta hy k datanormalize hy k nhi"
   ]
  },
  {
   "cell_type": "code",
   "execution_count": 27,
   "metadata": {},
   "outputs": [
    {
     "data": {
      "application/vnd.plotly.v1+json": {
       "config": {
        "plotlyServerURL": "https://plot.ly"
       },
       "data": [
        {
         "alignmentgroup": "True",
         "box": {
          "visible": true
         },
         "hovertemplate": "sex=Female<br>day=%{x}<br>total_bill=%{y}<extra></extra>",
         "legendgroup": "Female",
         "marker": {
          "color": "#636efa"
         },
         "name": "Female",
         "offsetgroup": "Female",
         "orientation": "v",
         "points": "all",
         "scalegroup": "True",
         "showlegend": true,
         "type": "violin",
         "x": [
          "Sun",
          "Sun",
          "Sun",
          "Sun",
          "Sun",
          "Sun",
          "Sat",
          "Sat",
          "Sat",
          "Sat",
          "Sat",
          "Sat",
          "Sun",
          "Sun",
          "Sat",
          "Sat",
          "Sat",
          "Sat",
          "Sat",
          "Sat",
          "Sat",
          "Thur",
          "Thur",
          "Fri",
          "Fri",
          "Fri",
          "Fri",
          "Fri",
          "Sat",
          "Sat",
          "Sat",
          "Sat",
          "Sat",
          "Sun",
          "Sun",
          "Thur",
          "Thur",
          "Thur",
          "Thur",
          "Thur",
          "Thur",
          "Thur",
          "Thur",
          "Thur",
          "Thur",
          "Thur",
          "Thur",
          "Thur",
          "Thur",
          "Thur",
          "Thur",
          "Thur",
          "Thur",
          "Thur",
          "Thur",
          "Thur",
          "Thur",
          "Sun",
          "Sun",
          "Sun",
          "Sun",
          "Sun",
          "Sat",
          "Sat",
          "Sun",
          "Sun",
          "Sun",
          "Thur",
          "Thur",
          "Thur",
          "Thur",
          "Thur",
          "Thur",
          "Thur",
          "Sat",
          "Sat",
          "Sat",
          "Sat",
          "Sat",
          "Fri",
          "Fri",
          "Fri",
          "Fri",
          "Sat",
          "Sat",
          "Sat",
          "Thur"
         ],
         "x0": " ",
         "xaxis": "x",
         "y": [
          16.99,
          24.59,
          35.26,
          14.83,
          10.33,
          16.97,
          20.29,
          15.77,
          19.65,
          15.06,
          20.69,
          16.93,
          10.29,
          34.81,
          26.41,
          16.45,
          3.07,
          17.07,
          26.86,
          25.28,
          14.73,
          10.07,
          34.83,
          5.75,
          16.32,
          22.75,
          11.35,
          15.38,
          44.3,
          22.42,
          20.92,
          14.31,
          7.25,
          25.71,
          17.31,
          10.65,
          12.43,
          24.08,
          13.42,
          12.48,
          29.8,
          14.52,
          11.38,
          20.27,
          11.17,
          12.26,
          18.26,
          8.51,
          10.33,
          14.15,
          13.16,
          17.47,
          27.05,
          16.43,
          8.35,
          18.64,
          11.87,
          29.85,
          25,
          13.39,
          16.21,
          17.51,
          10.59,
          10.63,
          9.6,
          20.9,
          18.15,
          19.81,
          43.11,
          13,
          12.74,
          13,
          16.4,
          16.47,
          12.76,
          13.27,
          28.17,
          12.9,
          30.14,
          13.42,
          15.98,
          16.27,
          10.09,
          22.12,
          35.83,
          27.18,
          18.78
         ],
         "y0": " ",
         "yaxis": "y"
        },
        {
         "alignmentgroup": "True",
         "box": {
          "visible": true
         },
         "hovertemplate": "sex=Male<br>day=%{x}<br>total_bill=%{y}<extra></extra>",
         "legendgroup": "Male",
         "marker": {
          "color": "#EF553B"
         },
         "name": "Male",
         "offsetgroup": "Male",
         "orientation": "v",
         "points": "all",
         "scalegroup": "True",
         "showlegend": true,
         "type": "violin",
         "x": [
          "Sun",
          "Sun",
          "Sun",
          "Sun",
          "Sun",
          "Sun",
          "Sun",
          "Sun",
          "Sun",
          "Sun",
          "Sun",
          "Sun",
          "Sun",
          "Sat",
          "Sat",
          "Sat",
          "Sat",
          "Sat",
          "Sat",
          "Sat",
          "Sat",
          "Sat",
          "Sat",
          "Sat",
          "Sat",
          "Sat",
          "Sat",
          "Sat",
          "Sat",
          "Sun",
          "Sun",
          "Sun",
          "Sun",
          "Sun",
          "Sun",
          "Sun",
          "Sun",
          "Sun",
          "Sun",
          "Sun",
          "Sun",
          "Sun",
          "Sat",
          "Sat",
          "Sat",
          "Sat",
          "Sat",
          "Sat",
          "Sat",
          "Sat",
          "Sat",
          "Sat",
          "Sat",
          "Sat",
          "Sat",
          "Sat",
          "Thur",
          "Thur",
          "Thur",
          "Thur",
          "Thur",
          "Thur",
          "Thur",
          "Thur",
          "Thur",
          "Thur",
          "Thur",
          "Fri",
          "Fri",
          "Fri",
          "Fri",
          "Fri",
          "Fri",
          "Fri",
          "Sat",
          "Sat",
          "Sat",
          "Sat",
          "Sat",
          "Sun",
          "Sun",
          "Sun",
          "Thur",
          "Thur",
          "Thur",
          "Thur",
          "Thur",
          "Thur",
          "Thur",
          "Thur",
          "Thur",
          "Thur",
          "Thur",
          "Sun",
          "Sun",
          "Sun",
          "Sun",
          "Sun",
          "Sun",
          "Sun",
          "Sun",
          "Sun",
          "Sun",
          "Sun",
          "Sun",
          "Sun",
          "Sat",
          "Sat",
          "Sun",
          "Sun",
          "Sun",
          "Sun",
          "Sun",
          "Sun",
          "Sun",
          "Sun",
          "Sun",
          "Sun",
          "Sun",
          "Sun",
          "Sun",
          "Sun",
          "Sun",
          "Sun",
          "Thur",
          "Thur",
          "Thur",
          "Thur",
          "Thur",
          "Thur",
          "Thur",
          "Thur",
          "Sat",
          "Sat",
          "Sat",
          "Sat",
          "Sat",
          "Sat",
          "Sat",
          "Sat",
          "Sat",
          "Fri",
          "Fri",
          "Fri",
          "Sat",
          "Sat",
          "Sat",
          "Sat",
          "Sat",
          "Sat",
          "Sat",
          "Sat",
          "Sat",
          "Sat",
          "Sat",
          "Sat",
          "Sat"
         ],
         "x0": " ",
         "xaxis": "x",
         "y": [
          10.34,
          21.01,
          23.68,
          25.29,
          8.77,
          26.88,
          15.04,
          14.78,
          10.27,
          15.42,
          18.43,
          21.58,
          16.29,
          20.65,
          17.92,
          39.42,
          19.82,
          17.81,
          13.37,
          12.69,
          21.7,
          9.55,
          18.35,
          17.78,
          24.06,
          16.31,
          18.69,
          31.27,
          16.04,
          17.46,
          13.94,
          9.68,
          30.4,
          18.29,
          22.23,
          32.4,
          28.55,
          18.04,
          12.54,
          9.94,
          25.56,
          19.49,
          38.01,
          11.24,
          48.27,
          20.29,
          13.81,
          11.02,
          18.29,
          17.59,
          20.08,
          20.23,
          15.01,
          12.02,
          10.51,
          17.92,
          27.2,
          22.76,
          17.29,
          19.44,
          16.66,
          32.68,
          15.98,
          13.03,
          18.28,
          24.71,
          21.16,
          28.97,
          22.49,
          40.17,
          27.28,
          12.03,
          21.01,
          12.46,
          15.36,
          20.49,
          25.21,
          18.24,
          14,
          38.07,
          23.95,
          29.93,
          11.69,
          14.26,
          15.95,
          8.52,
          22.82,
          19.08,
          16,
          34.3,
          41.19,
          9.78,
          7.51,
          14.07,
          13.13,
          17.26,
          24.55,
          19.77,
          48.17,
          16.49,
          21.5,
          12.66,
          13.81,
          24.52,
          20.76,
          31.71,
          50.81,
          15.81,
          7.25,
          31.85,
          16.82,
          32.9,
          17.89,
          14.48,
          34.63,
          34.65,
          23.33,
          45.35,
          23.17,
          40.55,
          20.69,
          30.46,
          23.1,
          15.69,
          28.44,
          15.48,
          16.58,
          7.56,
          10.34,
          13.51,
          18.71,
          20.53,
          26.59,
          38.73,
          24.27,
          30.06,
          25.89,
          48.33,
          28.15,
          11.59,
          7.74,
          12.16,
          8.58,
          13.42,
          20.45,
          13.28,
          24.01,
          15.69,
          11.61,
          10.77,
          15.53,
          10.07,
          12.6,
          32.83,
          29.03,
          22.67,
          17.82
         ],
         "y0": " ",
         "yaxis": "y"
        }
       ],
       "layout": {
        "legend": {
         "title": {
          "text": "sex"
         },
         "tracegroupgap": 0
        },
        "margin": {
         "t": 60
        },
        "template": {
         "data": {
          "bar": [
           {
            "error_x": {
             "color": "#2a3f5f"
            },
            "error_y": {
             "color": "#2a3f5f"
            },
            "marker": {
             "line": {
              "color": "#E5ECF6",
              "width": 0.5
             },
             "pattern": {
              "fillmode": "overlay",
              "size": 10,
              "solidity": 0.2
             }
            },
            "type": "bar"
           }
          ],
          "barpolar": [
           {
            "marker": {
             "line": {
              "color": "#E5ECF6",
              "width": 0.5
             },
             "pattern": {
              "fillmode": "overlay",
              "size": 10,
              "solidity": 0.2
             }
            },
            "type": "barpolar"
           }
          ],
          "carpet": [
           {
            "aaxis": {
             "endlinecolor": "#2a3f5f",
             "gridcolor": "white",
             "linecolor": "white",
             "minorgridcolor": "white",
             "startlinecolor": "#2a3f5f"
            },
            "baxis": {
             "endlinecolor": "#2a3f5f",
             "gridcolor": "white",
             "linecolor": "white",
             "minorgridcolor": "white",
             "startlinecolor": "#2a3f5f"
            },
            "type": "carpet"
           }
          ],
          "choropleth": [
           {
            "colorbar": {
             "outlinewidth": 0,
             "ticks": ""
            },
            "type": "choropleth"
           }
          ],
          "contour": [
           {
            "colorbar": {
             "outlinewidth": 0,
             "ticks": ""
            },
            "colorscale": [
             [
              0,
              "#0d0887"
             ],
             [
              0.1111111111111111,
              "#46039f"
             ],
             [
              0.2222222222222222,
              "#7201a8"
             ],
             [
              0.3333333333333333,
              "#9c179e"
             ],
             [
              0.4444444444444444,
              "#bd3786"
             ],
             [
              0.5555555555555556,
              "#d8576b"
             ],
             [
              0.6666666666666666,
              "#ed7953"
             ],
             [
              0.7777777777777778,
              "#fb9f3a"
             ],
             [
              0.8888888888888888,
              "#fdca26"
             ],
             [
              1,
              "#f0f921"
             ]
            ],
            "type": "contour"
           }
          ],
          "contourcarpet": [
           {
            "colorbar": {
             "outlinewidth": 0,
             "ticks": ""
            },
            "type": "contourcarpet"
           }
          ],
          "heatmap": [
           {
            "colorbar": {
             "outlinewidth": 0,
             "ticks": ""
            },
            "colorscale": [
             [
              0,
              "#0d0887"
             ],
             [
              0.1111111111111111,
              "#46039f"
             ],
             [
              0.2222222222222222,
              "#7201a8"
             ],
             [
              0.3333333333333333,
              "#9c179e"
             ],
             [
              0.4444444444444444,
              "#bd3786"
             ],
             [
              0.5555555555555556,
              "#d8576b"
             ],
             [
              0.6666666666666666,
              "#ed7953"
             ],
             [
              0.7777777777777778,
              "#fb9f3a"
             ],
             [
              0.8888888888888888,
              "#fdca26"
             ],
             [
              1,
              "#f0f921"
             ]
            ],
            "type": "heatmap"
           }
          ],
          "heatmapgl": [
           {
            "colorbar": {
             "outlinewidth": 0,
             "ticks": ""
            },
            "colorscale": [
             [
              0,
              "#0d0887"
             ],
             [
              0.1111111111111111,
              "#46039f"
             ],
             [
              0.2222222222222222,
              "#7201a8"
             ],
             [
              0.3333333333333333,
              "#9c179e"
             ],
             [
              0.4444444444444444,
              "#bd3786"
             ],
             [
              0.5555555555555556,
              "#d8576b"
             ],
             [
              0.6666666666666666,
              "#ed7953"
             ],
             [
              0.7777777777777778,
              "#fb9f3a"
             ],
             [
              0.8888888888888888,
              "#fdca26"
             ],
             [
              1,
              "#f0f921"
             ]
            ],
            "type": "heatmapgl"
           }
          ],
          "histogram": [
           {
            "marker": {
             "pattern": {
              "fillmode": "overlay",
              "size": 10,
              "solidity": 0.2
             }
            },
            "type": "histogram"
           }
          ],
          "histogram2d": [
           {
            "colorbar": {
             "outlinewidth": 0,
             "ticks": ""
            },
            "colorscale": [
             [
              0,
              "#0d0887"
             ],
             [
              0.1111111111111111,
              "#46039f"
             ],
             [
              0.2222222222222222,
              "#7201a8"
             ],
             [
              0.3333333333333333,
              "#9c179e"
             ],
             [
              0.4444444444444444,
              "#bd3786"
             ],
             [
              0.5555555555555556,
              "#d8576b"
             ],
             [
              0.6666666666666666,
              "#ed7953"
             ],
             [
              0.7777777777777778,
              "#fb9f3a"
             ],
             [
              0.8888888888888888,
              "#fdca26"
             ],
             [
              1,
              "#f0f921"
             ]
            ],
            "type": "histogram2d"
           }
          ],
          "histogram2dcontour": [
           {
            "colorbar": {
             "outlinewidth": 0,
             "ticks": ""
            },
            "colorscale": [
             [
              0,
              "#0d0887"
             ],
             [
              0.1111111111111111,
              "#46039f"
             ],
             [
              0.2222222222222222,
              "#7201a8"
             ],
             [
              0.3333333333333333,
              "#9c179e"
             ],
             [
              0.4444444444444444,
              "#bd3786"
             ],
             [
              0.5555555555555556,
              "#d8576b"
             ],
             [
              0.6666666666666666,
              "#ed7953"
             ],
             [
              0.7777777777777778,
              "#fb9f3a"
             ],
             [
              0.8888888888888888,
              "#fdca26"
             ],
             [
              1,
              "#f0f921"
             ]
            ],
            "type": "histogram2dcontour"
           }
          ],
          "mesh3d": [
           {
            "colorbar": {
             "outlinewidth": 0,
             "ticks": ""
            },
            "type": "mesh3d"
           }
          ],
          "parcoords": [
           {
            "line": {
             "colorbar": {
              "outlinewidth": 0,
              "ticks": ""
             }
            },
            "type": "parcoords"
           }
          ],
          "pie": [
           {
            "automargin": true,
            "type": "pie"
           }
          ],
          "scatter": [
           {
            "fillpattern": {
             "fillmode": "overlay",
             "size": 10,
             "solidity": 0.2
            },
            "type": "scatter"
           }
          ],
          "scatter3d": [
           {
            "line": {
             "colorbar": {
              "outlinewidth": 0,
              "ticks": ""
             }
            },
            "marker": {
             "colorbar": {
              "outlinewidth": 0,
              "ticks": ""
             }
            },
            "type": "scatter3d"
           }
          ],
          "scattercarpet": [
           {
            "marker": {
             "colorbar": {
              "outlinewidth": 0,
              "ticks": ""
             }
            },
            "type": "scattercarpet"
           }
          ],
          "scattergeo": [
           {
            "marker": {
             "colorbar": {
              "outlinewidth": 0,
              "ticks": ""
             }
            },
            "type": "scattergeo"
           }
          ],
          "scattergl": [
           {
            "marker": {
             "colorbar": {
              "outlinewidth": 0,
              "ticks": ""
             }
            },
            "type": "scattergl"
           }
          ],
          "scattermapbox": [
           {
            "marker": {
             "colorbar": {
              "outlinewidth": 0,
              "ticks": ""
             }
            },
            "type": "scattermapbox"
           }
          ],
          "scatterpolar": [
           {
            "marker": {
             "colorbar": {
              "outlinewidth": 0,
              "ticks": ""
             }
            },
            "type": "scatterpolar"
           }
          ],
          "scatterpolargl": [
           {
            "marker": {
             "colorbar": {
              "outlinewidth": 0,
              "ticks": ""
             }
            },
            "type": "scatterpolargl"
           }
          ],
          "scatterternary": [
           {
            "marker": {
             "colorbar": {
              "outlinewidth": 0,
              "ticks": ""
             }
            },
            "type": "scatterternary"
           }
          ],
          "surface": [
           {
            "colorbar": {
             "outlinewidth": 0,
             "ticks": ""
            },
            "colorscale": [
             [
              0,
              "#0d0887"
             ],
             [
              0.1111111111111111,
              "#46039f"
             ],
             [
              0.2222222222222222,
              "#7201a8"
             ],
             [
              0.3333333333333333,
              "#9c179e"
             ],
             [
              0.4444444444444444,
              "#bd3786"
             ],
             [
              0.5555555555555556,
              "#d8576b"
             ],
             [
              0.6666666666666666,
              "#ed7953"
             ],
             [
              0.7777777777777778,
              "#fb9f3a"
             ],
             [
              0.8888888888888888,
              "#fdca26"
             ],
             [
              1,
              "#f0f921"
             ]
            ],
            "type": "surface"
           }
          ],
          "table": [
           {
            "cells": {
             "fill": {
              "color": "#EBF0F8"
             },
             "line": {
              "color": "white"
             }
            },
            "header": {
             "fill": {
              "color": "#C8D4E3"
             },
             "line": {
              "color": "white"
             }
            },
            "type": "table"
           }
          ]
         },
         "layout": {
          "annotationdefaults": {
           "arrowcolor": "#2a3f5f",
           "arrowhead": 0,
           "arrowwidth": 1
          },
          "autotypenumbers": "strict",
          "coloraxis": {
           "colorbar": {
            "outlinewidth": 0,
            "ticks": ""
           }
          },
          "colorscale": {
           "diverging": [
            [
             0,
             "#8e0152"
            ],
            [
             0.1,
             "#c51b7d"
            ],
            [
             0.2,
             "#de77ae"
            ],
            [
             0.3,
             "#f1b6da"
            ],
            [
             0.4,
             "#fde0ef"
            ],
            [
             0.5,
             "#f7f7f7"
            ],
            [
             0.6,
             "#e6f5d0"
            ],
            [
             0.7,
             "#b8e186"
            ],
            [
             0.8,
             "#7fbc41"
            ],
            [
             0.9,
             "#4d9221"
            ],
            [
             1,
             "#276419"
            ]
           ],
           "sequential": [
            [
             0,
             "#0d0887"
            ],
            [
             0.1111111111111111,
             "#46039f"
            ],
            [
             0.2222222222222222,
             "#7201a8"
            ],
            [
             0.3333333333333333,
             "#9c179e"
            ],
            [
             0.4444444444444444,
             "#bd3786"
            ],
            [
             0.5555555555555556,
             "#d8576b"
            ],
            [
             0.6666666666666666,
             "#ed7953"
            ],
            [
             0.7777777777777778,
             "#fb9f3a"
            ],
            [
             0.8888888888888888,
             "#fdca26"
            ],
            [
             1,
             "#f0f921"
            ]
           ],
           "sequentialminus": [
            [
             0,
             "#0d0887"
            ],
            [
             0.1111111111111111,
             "#46039f"
            ],
            [
             0.2222222222222222,
             "#7201a8"
            ],
            [
             0.3333333333333333,
             "#9c179e"
            ],
            [
             0.4444444444444444,
             "#bd3786"
            ],
            [
             0.5555555555555556,
             "#d8576b"
            ],
            [
             0.6666666666666666,
             "#ed7953"
            ],
            [
             0.7777777777777778,
             "#fb9f3a"
            ],
            [
             0.8888888888888888,
             "#fdca26"
            ],
            [
             1,
             "#f0f921"
            ]
           ]
          },
          "colorway": [
           "#636efa",
           "#EF553B",
           "#00cc96",
           "#ab63fa",
           "#FFA15A",
           "#19d3f3",
           "#FF6692",
           "#B6E880",
           "#FF97FF",
           "#FECB52"
          ],
          "font": {
           "color": "#2a3f5f"
          },
          "geo": {
           "bgcolor": "white",
           "lakecolor": "white",
           "landcolor": "#E5ECF6",
           "showlakes": true,
           "showland": true,
           "subunitcolor": "white"
          },
          "hoverlabel": {
           "align": "left"
          },
          "hovermode": "closest",
          "mapbox": {
           "style": "light"
          },
          "paper_bgcolor": "white",
          "plot_bgcolor": "#E5ECF6",
          "polar": {
           "angularaxis": {
            "gridcolor": "white",
            "linecolor": "white",
            "ticks": ""
           },
           "bgcolor": "#E5ECF6",
           "radialaxis": {
            "gridcolor": "white",
            "linecolor": "white",
            "ticks": ""
           }
          },
          "scene": {
           "xaxis": {
            "backgroundcolor": "#E5ECF6",
            "gridcolor": "white",
            "gridwidth": 2,
            "linecolor": "white",
            "showbackground": true,
            "ticks": "",
            "zerolinecolor": "white"
           },
           "yaxis": {
            "backgroundcolor": "#E5ECF6",
            "gridcolor": "white",
            "gridwidth": 2,
            "linecolor": "white",
            "showbackground": true,
            "ticks": "",
            "zerolinecolor": "white"
           },
           "zaxis": {
            "backgroundcolor": "#E5ECF6",
            "gridcolor": "white",
            "gridwidth": 2,
            "linecolor": "white",
            "showbackground": true,
            "ticks": "",
            "zerolinecolor": "white"
           }
          },
          "shapedefaults": {
           "line": {
            "color": "#2a3f5f"
           }
          },
          "ternary": {
           "aaxis": {
            "gridcolor": "white",
            "linecolor": "white",
            "ticks": ""
           },
           "baxis": {
            "gridcolor": "white",
            "linecolor": "white",
            "ticks": ""
           },
           "bgcolor": "#E5ECF6",
           "caxis": {
            "gridcolor": "white",
            "linecolor": "white",
            "ticks": ""
           }
          },
          "title": {
           "x": 0.05
          },
          "xaxis": {
           "automargin": true,
           "gridcolor": "white",
           "linecolor": "white",
           "ticks": "",
           "title": {
            "standoff": 15
           },
           "zerolinecolor": "white",
           "zerolinewidth": 2
          },
          "yaxis": {
           "automargin": true,
           "gridcolor": "white",
           "linecolor": "white",
           "ticks": "",
           "title": {
            "standoff": 15
           },
           "zerolinecolor": "white",
           "zerolinewidth": 2
          }
         }
        },
        "violinmode": "group",
        "xaxis": {
         "anchor": "y",
         "domain": [
          0,
          1
         ],
         "title": {
          "text": "day"
         }
        },
        "yaxis": {
         "anchor": "x",
         "domain": [
          0,
          1
         ],
         "title": {
          "text": "total_bill"
         }
        }
       }
      }
     },
     "metadata": {},
     "output_type": "display_data"
    }
   ],
   "source": [
    "fig = px.violin(df,x='day',y='total_bill',color='sex',box=True,points='all')\n",
    "fig.show()"
   ]
  },
  {
   "attachments": {},
   "cell_type": "markdown",
   "metadata": {},
   "source": [
    "Corelation= ek chz k bhrny se dosri ka brhna positive corelation R squre =+1,\n",
    "ek k brhny se dosri km hona negative corelation  Rsquare = -1, ek k brhny se dosri ko koi frq ni pr rha tu ye neutral corelation hoga Rsquare=0"
   ]
  },
  {
   "cell_type": "code",
   "execution_count": 1,
   "metadata": {},
   "outputs": [
    {
     "name": "stderr",
     "output_type": "stream",
     "text": [
      "C:\\Users\\silicon computers\\AppData\\Local\\Temp\\ipykernel_8532\\2970499948.py:5: FutureWarning:\n",
      "\n",
      "The default value of numeric_only in DataFrame.corr is deprecated. In a future version, it will default to False. Select only valid columns or specify the value of numeric_only to silence this warning.\n",
      "\n"
     ]
    },
    {
     "data": {
      "application/vnd.plotly.v1+json": {
       "config": {
        "plotlyServerURL": "https://plot.ly"
       },
       "data": [
        {
         "colorscale": [
          [
           0,
           "#440154"
          ],
          [
           0.1111111111111111,
           "#482878"
          ],
          [
           0.2222222222222222,
           "#3e4989"
          ],
          [
           0.3333333333333333,
           "#31688e"
          ],
          [
           0.4444444444444444,
           "#26828e"
          ],
          [
           0.5555555555555556,
           "#1f9e89"
          ],
          [
           0.6666666666666666,
           "#35b779"
          ],
          [
           0.7777777777777778,
           "#6ece58"
          ],
          [
           0.8888888888888888,
           "#b5de2b"
          ],
          [
           1,
           "#fde725"
          ]
         ],
         "type": "heatmap",
         "x": [
          "carat",
          "depth",
          "table",
          "price",
          "x",
          "y",
          "z"
         ],
         "y": [
          "carat",
          "depth",
          "table",
          "price",
          "x",
          "y",
          "z"
         ],
         "z": [
          [
           1,
           0.028224314279026518,
           0.18161754651523193,
           0.9215913011934687,
           0.9750942267264254,
           0.9517221990129883,
           0.9533873805614275
          ],
          [
           0.028224314279026518,
           1,
           -0.2957785215265925,
           -0.010647404584155393,
           -0.025289246978973112,
           -0.029340670703632984,
           0.09492388239528399
          ],
          [
           0.18161754651523193,
           -0.2957785215265925,
           1,
           0.1271339021217227,
           0.19534428095550047,
           0.18376014711635102,
           0.15092869156479616
          ],
          [
           0.9215913011934687,
           -0.010647404584155393,
           0.1271339021217227,
           1,
           0.8844351610161171,
           0.8654208978641909,
           0.8612494438514452
          ],
          [
           0.9750942267264254,
           -0.025289246978973112,
           0.19534428095550047,
           0.8844351610161171,
           1,
           0.9747014796703515,
           0.9707717985774582
          ],
          [
           0.9517221990129883,
           -0.029340670703632984,
           0.18376014711635102,
           0.8654208978641909,
           0.9747014796703515,
           1,
           0.9520057161562947
          ],
          [
           0.9533873805614275,
           0.09492388239528399,
           0.15092869156479616,
           0.8612494438514452,
           0.9707717985774582,
           0.9520057161562947,
           1
          ]
         ]
        }
       ],
       "layout": {
        "template": {
         "data": {
          "bar": [
           {
            "error_x": {
             "color": "#2a3f5f"
            },
            "error_y": {
             "color": "#2a3f5f"
            },
            "marker": {
             "line": {
              "color": "#E5ECF6",
              "width": 0.5
             },
             "pattern": {
              "fillmode": "overlay",
              "size": 10,
              "solidity": 0.2
             }
            },
            "type": "bar"
           }
          ],
          "barpolar": [
           {
            "marker": {
             "line": {
              "color": "#E5ECF6",
              "width": 0.5
             },
             "pattern": {
              "fillmode": "overlay",
              "size": 10,
              "solidity": 0.2
             }
            },
            "type": "barpolar"
           }
          ],
          "carpet": [
           {
            "aaxis": {
             "endlinecolor": "#2a3f5f",
             "gridcolor": "white",
             "linecolor": "white",
             "minorgridcolor": "white",
             "startlinecolor": "#2a3f5f"
            },
            "baxis": {
             "endlinecolor": "#2a3f5f",
             "gridcolor": "white",
             "linecolor": "white",
             "minorgridcolor": "white",
             "startlinecolor": "#2a3f5f"
            },
            "type": "carpet"
           }
          ],
          "choropleth": [
           {
            "colorbar": {
             "outlinewidth": 0,
             "ticks": ""
            },
            "type": "choropleth"
           }
          ],
          "contour": [
           {
            "colorbar": {
             "outlinewidth": 0,
             "ticks": ""
            },
            "colorscale": [
             [
              0,
              "#0d0887"
             ],
             [
              0.1111111111111111,
              "#46039f"
             ],
             [
              0.2222222222222222,
              "#7201a8"
             ],
             [
              0.3333333333333333,
              "#9c179e"
             ],
             [
              0.4444444444444444,
              "#bd3786"
             ],
             [
              0.5555555555555556,
              "#d8576b"
             ],
             [
              0.6666666666666666,
              "#ed7953"
             ],
             [
              0.7777777777777778,
              "#fb9f3a"
             ],
             [
              0.8888888888888888,
              "#fdca26"
             ],
             [
              1,
              "#f0f921"
             ]
            ],
            "type": "contour"
           }
          ],
          "contourcarpet": [
           {
            "colorbar": {
             "outlinewidth": 0,
             "ticks": ""
            },
            "type": "contourcarpet"
           }
          ],
          "heatmap": [
           {
            "colorbar": {
             "outlinewidth": 0,
             "ticks": ""
            },
            "colorscale": [
             [
              0,
              "#0d0887"
             ],
             [
              0.1111111111111111,
              "#46039f"
             ],
             [
              0.2222222222222222,
              "#7201a8"
             ],
             [
              0.3333333333333333,
              "#9c179e"
             ],
             [
              0.4444444444444444,
              "#bd3786"
             ],
             [
              0.5555555555555556,
              "#d8576b"
             ],
             [
              0.6666666666666666,
              "#ed7953"
             ],
             [
              0.7777777777777778,
              "#fb9f3a"
             ],
             [
              0.8888888888888888,
              "#fdca26"
             ],
             [
              1,
              "#f0f921"
             ]
            ],
            "type": "heatmap"
           }
          ],
          "heatmapgl": [
           {
            "colorbar": {
             "outlinewidth": 0,
             "ticks": ""
            },
            "colorscale": [
             [
              0,
              "#0d0887"
             ],
             [
              0.1111111111111111,
              "#46039f"
             ],
             [
              0.2222222222222222,
              "#7201a8"
             ],
             [
              0.3333333333333333,
              "#9c179e"
             ],
             [
              0.4444444444444444,
              "#bd3786"
             ],
             [
              0.5555555555555556,
              "#d8576b"
             ],
             [
              0.6666666666666666,
              "#ed7953"
             ],
             [
              0.7777777777777778,
              "#fb9f3a"
             ],
             [
              0.8888888888888888,
              "#fdca26"
             ],
             [
              1,
              "#f0f921"
             ]
            ],
            "type": "heatmapgl"
           }
          ],
          "histogram": [
           {
            "marker": {
             "pattern": {
              "fillmode": "overlay",
              "size": 10,
              "solidity": 0.2
             }
            },
            "type": "histogram"
           }
          ],
          "histogram2d": [
           {
            "colorbar": {
             "outlinewidth": 0,
             "ticks": ""
            },
            "colorscale": [
             [
              0,
              "#0d0887"
             ],
             [
              0.1111111111111111,
              "#46039f"
             ],
             [
              0.2222222222222222,
              "#7201a8"
             ],
             [
              0.3333333333333333,
              "#9c179e"
             ],
             [
              0.4444444444444444,
              "#bd3786"
             ],
             [
              0.5555555555555556,
              "#d8576b"
             ],
             [
              0.6666666666666666,
              "#ed7953"
             ],
             [
              0.7777777777777778,
              "#fb9f3a"
             ],
             [
              0.8888888888888888,
              "#fdca26"
             ],
             [
              1,
              "#f0f921"
             ]
            ],
            "type": "histogram2d"
           }
          ],
          "histogram2dcontour": [
           {
            "colorbar": {
             "outlinewidth": 0,
             "ticks": ""
            },
            "colorscale": [
             [
              0,
              "#0d0887"
             ],
             [
              0.1111111111111111,
              "#46039f"
             ],
             [
              0.2222222222222222,
              "#7201a8"
             ],
             [
              0.3333333333333333,
              "#9c179e"
             ],
             [
              0.4444444444444444,
              "#bd3786"
             ],
             [
              0.5555555555555556,
              "#d8576b"
             ],
             [
              0.6666666666666666,
              "#ed7953"
             ],
             [
              0.7777777777777778,
              "#fb9f3a"
             ],
             [
              0.8888888888888888,
              "#fdca26"
             ],
             [
              1,
              "#f0f921"
             ]
            ],
            "type": "histogram2dcontour"
           }
          ],
          "mesh3d": [
           {
            "colorbar": {
             "outlinewidth": 0,
             "ticks": ""
            },
            "type": "mesh3d"
           }
          ],
          "parcoords": [
           {
            "line": {
             "colorbar": {
              "outlinewidth": 0,
              "ticks": ""
             }
            },
            "type": "parcoords"
           }
          ],
          "pie": [
           {
            "automargin": true,
            "type": "pie"
           }
          ],
          "scatter": [
           {
            "fillpattern": {
             "fillmode": "overlay",
             "size": 10,
             "solidity": 0.2
            },
            "type": "scatter"
           }
          ],
          "scatter3d": [
           {
            "line": {
             "colorbar": {
              "outlinewidth": 0,
              "ticks": ""
             }
            },
            "marker": {
             "colorbar": {
              "outlinewidth": 0,
              "ticks": ""
             }
            },
            "type": "scatter3d"
           }
          ],
          "scattercarpet": [
           {
            "marker": {
             "colorbar": {
              "outlinewidth": 0,
              "ticks": ""
             }
            },
            "type": "scattercarpet"
           }
          ],
          "scattergeo": [
           {
            "marker": {
             "colorbar": {
              "outlinewidth": 0,
              "ticks": ""
             }
            },
            "type": "scattergeo"
           }
          ],
          "scattergl": [
           {
            "marker": {
             "colorbar": {
              "outlinewidth": 0,
              "ticks": ""
             }
            },
            "type": "scattergl"
           }
          ],
          "scattermapbox": [
           {
            "marker": {
             "colorbar": {
              "outlinewidth": 0,
              "ticks": ""
             }
            },
            "type": "scattermapbox"
           }
          ],
          "scatterpolar": [
           {
            "marker": {
             "colorbar": {
              "outlinewidth": 0,
              "ticks": ""
             }
            },
            "type": "scatterpolar"
           }
          ],
          "scatterpolargl": [
           {
            "marker": {
             "colorbar": {
              "outlinewidth": 0,
              "ticks": ""
             }
            },
            "type": "scatterpolargl"
           }
          ],
          "scatterternary": [
           {
            "marker": {
             "colorbar": {
              "outlinewidth": 0,
              "ticks": ""
             }
            },
            "type": "scatterternary"
           }
          ],
          "surface": [
           {
            "colorbar": {
             "outlinewidth": 0,
             "ticks": ""
            },
            "colorscale": [
             [
              0,
              "#0d0887"
             ],
             [
              0.1111111111111111,
              "#46039f"
             ],
             [
              0.2222222222222222,
              "#7201a8"
             ],
             [
              0.3333333333333333,
              "#9c179e"
             ],
             [
              0.4444444444444444,
              "#bd3786"
             ],
             [
              0.5555555555555556,
              "#d8576b"
             ],
             [
              0.6666666666666666,
              "#ed7953"
             ],
             [
              0.7777777777777778,
              "#fb9f3a"
             ],
             [
              0.8888888888888888,
              "#fdca26"
             ],
             [
              1,
              "#f0f921"
             ]
            ],
            "type": "surface"
           }
          ],
          "table": [
           {
            "cells": {
             "fill": {
              "color": "#EBF0F8"
             },
             "line": {
              "color": "white"
             }
            },
            "header": {
             "fill": {
              "color": "#C8D4E3"
             },
             "line": {
              "color": "white"
             }
            },
            "type": "table"
           }
          ]
         },
         "layout": {
          "annotationdefaults": {
           "arrowcolor": "#2a3f5f",
           "arrowhead": 0,
           "arrowwidth": 1
          },
          "autotypenumbers": "strict",
          "coloraxis": {
           "colorbar": {
            "outlinewidth": 0,
            "ticks": ""
           }
          },
          "colorscale": {
           "diverging": [
            [
             0,
             "#8e0152"
            ],
            [
             0.1,
             "#c51b7d"
            ],
            [
             0.2,
             "#de77ae"
            ],
            [
             0.3,
             "#f1b6da"
            ],
            [
             0.4,
             "#fde0ef"
            ],
            [
             0.5,
             "#f7f7f7"
            ],
            [
             0.6,
             "#e6f5d0"
            ],
            [
             0.7,
             "#b8e186"
            ],
            [
             0.8,
             "#7fbc41"
            ],
            [
             0.9,
             "#4d9221"
            ],
            [
             1,
             "#276419"
            ]
           ],
           "sequential": [
            [
             0,
             "#0d0887"
            ],
            [
             0.1111111111111111,
             "#46039f"
            ],
            [
             0.2222222222222222,
             "#7201a8"
            ],
            [
             0.3333333333333333,
             "#9c179e"
            ],
            [
             0.4444444444444444,
             "#bd3786"
            ],
            [
             0.5555555555555556,
             "#d8576b"
            ],
            [
             0.6666666666666666,
             "#ed7953"
            ],
            [
             0.7777777777777778,
             "#fb9f3a"
            ],
            [
             0.8888888888888888,
             "#fdca26"
            ],
            [
             1,
             "#f0f921"
            ]
           ],
           "sequentialminus": [
            [
             0,
             "#0d0887"
            ],
            [
             0.1111111111111111,
             "#46039f"
            ],
            [
             0.2222222222222222,
             "#7201a8"
            ],
            [
             0.3333333333333333,
             "#9c179e"
            ],
            [
             0.4444444444444444,
             "#bd3786"
            ],
            [
             0.5555555555555556,
             "#d8576b"
            ],
            [
             0.6666666666666666,
             "#ed7953"
            ],
            [
             0.7777777777777778,
             "#fb9f3a"
            ],
            [
             0.8888888888888888,
             "#fdca26"
            ],
            [
             1,
             "#f0f921"
            ]
           ]
          },
          "colorway": [
           "#636efa",
           "#EF553B",
           "#00cc96",
           "#ab63fa",
           "#FFA15A",
           "#19d3f3",
           "#FF6692",
           "#B6E880",
           "#FF97FF",
           "#FECB52"
          ],
          "font": {
           "color": "#2a3f5f"
          },
          "geo": {
           "bgcolor": "white",
           "lakecolor": "white",
           "landcolor": "#E5ECF6",
           "showlakes": true,
           "showland": true,
           "subunitcolor": "white"
          },
          "hoverlabel": {
           "align": "left"
          },
          "hovermode": "closest",
          "mapbox": {
           "style": "light"
          },
          "paper_bgcolor": "white",
          "plot_bgcolor": "#E5ECF6",
          "polar": {
           "angularaxis": {
            "gridcolor": "white",
            "linecolor": "white",
            "ticks": ""
           },
           "bgcolor": "#E5ECF6",
           "radialaxis": {
            "gridcolor": "white",
            "linecolor": "white",
            "ticks": ""
           }
          },
          "scene": {
           "xaxis": {
            "backgroundcolor": "#E5ECF6",
            "gridcolor": "white",
            "gridwidth": 2,
            "linecolor": "white",
            "showbackground": true,
            "ticks": "",
            "zerolinecolor": "white"
           },
           "yaxis": {
            "backgroundcolor": "#E5ECF6",
            "gridcolor": "white",
            "gridwidth": 2,
            "linecolor": "white",
            "showbackground": true,
            "ticks": "",
            "zerolinecolor": "white"
           },
           "zaxis": {
            "backgroundcolor": "#E5ECF6",
            "gridcolor": "white",
            "gridwidth": 2,
            "linecolor": "white",
            "showbackground": true,
            "ticks": "",
            "zerolinecolor": "white"
           }
          },
          "shapedefaults": {
           "line": {
            "color": "#2a3f5f"
           }
          },
          "ternary": {
           "aaxis": {
            "gridcolor": "white",
            "linecolor": "white",
            "ticks": ""
           },
           "baxis": {
            "gridcolor": "white",
            "linecolor": "white",
            "ticks": ""
           },
           "bgcolor": "#E5ECF6",
           "caxis": {
            "gridcolor": "white",
            "linecolor": "white",
            "ticks": ""
           }
          },
          "title": {
           "x": 0.05
          },
          "xaxis": {
           "automargin": true,
           "gridcolor": "white",
           "linecolor": "white",
           "ticks": "",
           "title": {
            "standoff": 15
           },
           "zerolinecolor": "white",
           "zerolinewidth": 2
          },
          "yaxis": {
           "automargin": true,
           "gridcolor": "white",
           "linecolor": "white",
           "ticks": "",
           "title": {
            "standoff": 15
           },
           "zerolinecolor": "white",
           "zerolinewidth": 2
          }
         }
        },
        "title": {
         "text": "Diamonds Dataset Correlation Mtrix"
        },
        "xaxis": {
         "title": {
          "text": "Features"
         }
        },
        "yaxis": {
         "title": {
          "text": "Features"
         }
        }
       }
      }
     },
     "metadata": {},
     "output_type": "display_data"
    }
   ],
   "source": [
    "#corelatio draw sirf numerical k liye bny ga\n",
    "import plotly.graph_objects as go\n",
    "import seaborn as sns\n",
    "diamonds = sns.load_dataset(\"diamonds\")\n",
    "corr = diamonds.corr()\n",
    "\n",
    "fig = go.Figure(data=go.Heatmap(\n",
    "                z=corr.values,\n",
    "                x=corr.index.values,\n",
    "                y=corr.columns.values,\n",
    "                colorscale='Viridis'))\n",
    "fig.update_layout(\n",
    "    title='Diamonds Dataset Correlation Mtrix',\n",
    "    xaxis_title='Features',\n",
    "    yaxis_title='Features')\n",
    "fig.show()\n",
    "\n",
    "\n"
   ]
  },
  {
   "cell_type": "code",
   "execution_count": 2,
   "metadata": {},
   "outputs": [
    {
     "name": "stdout",
     "output_type": "stream",
     "text": [
      "<class 'pandas.core.frame.DataFrame'>\n",
      "RangeIndex: 53940 entries, 0 to 53939\n",
      "Data columns (total 10 columns):\n",
      " #   Column   Non-Null Count  Dtype   \n",
      "---  ------   --------------  -----   \n",
      " 0   carat    53940 non-null  float64 \n",
      " 1   cut      53940 non-null  category\n",
      " 2   color    53940 non-null  category\n",
      " 3   clarity  53940 non-null  category\n",
      " 4   depth    53940 non-null  float64 \n",
      " 5   table    53940 non-null  float64 \n",
      " 6   price    53940 non-null  int64   \n",
      " 7   x        53940 non-null  float64 \n",
      " 8   y        53940 non-null  float64 \n",
      " 9   z        53940 non-null  float64 \n",
      "dtypes: category(3), float64(6), int64(1)\n",
      "memory usage: 3.0 MB\n"
     ]
    }
   ],
   "source": [
    "diamonds.info()"
   ]
  },
  {
   "cell_type": "code",
   "execution_count": 3,
   "metadata": {},
   "outputs": [
    {
     "data": {
      "text/plain": [
       "Index(['carat', 'cut', 'color', 'clarity', 'depth', 'table', 'price', 'x', 'y',\n",
       "       'z'],\n",
       "      dtype='object')"
      ]
     },
     "execution_count": 3,
     "metadata": {},
     "output_type": "execute_result"
    }
   ],
   "source": [
    "diamonds.columns"
   ]
  },
  {
   "cell_type": "code",
   "execution_count": 6,
   "metadata": {},
   "outputs": [
    {
     "data": {
      "application/vnd.plotly.v1+json": {
       "config": {
        "plotlyServerURL": "https://plot.ly"
       },
       "data": [
        {
         "branchvalues": "total",
         "customdata": [
          [
           "(?)",
           11342.333623375987
          ],
          [
           "(?)",
           14822.408049467234
          ],
          [
           "(?)",
           14319.054276787976
          ],
          [
           "(?)",
           14553.77502686296
          ],
          [
           "(?)",
           1733.1518831035191
          ],
          [
           "(?)",
           10663.599418929836
          ],
          [
           "(?)",
           10570.868202018219
          ],
          [
           "(?)",
           8904.077946196621
          ],
          [
           "(?)",
           3856.7149126014774
          ],
          [
           null,
           null
          ],
          [
           "(?)",
           6881.40616846329
          ],
          [
           "(?)",
           9784.665986000267
          ],
          [
           "(?)",
           10438.238783012726
          ],
          [
           "(?)",
           6751.920605196518
          ],
          [
           "(?)",
           2603.84364334471
          ],
          [
           "(?)",
           6570.020963642524
          ],
          [
           "(?)",
           6918.580104628437
          ],
          [
           "(?)",
           7013.552198611101
          ],
          [
           "(?)",
           9384.952979635704
          ],
          [
           "(?)",
           1575.581317204301
          ],
          [
           "(?)",
           5335.758661474431
          ],
          [
           "(?)",
           8312.544619248098
          ],
          [
           "(?)",
           6827.05298047745
          ],
          [
           "(?)",
           9594.138642571968
          ],
          [
           null,
           null
          ],
          [
           "(?)",
           4342.540676291953
          ],
          [
           "(?)",
           5264.69388168931
          ],
          [
           "(?)",
           8235.212023038157
          ],
          [
           "(?)",
           2846.6711128048782
          ],
          [
           null,
           null
          ],
          [
           "(?)",
           11025.694190437927
          ],
          [
           "(?)",
           12920.570120504792
          ],
          [
           "(?)",
           1350.3611078785057
          ],
          [
           "(?)",
           4573.052714877039
          ],
          [
           null,
           null
          ],
          [
           "(?)",
           6264.917029402102
          ],
          [
           "(?)",
           9712.393847785734
          ],
          [
           "(?)",
           8774.5162008728
          ],
          [
           "(?)",
           4696.391630231105
          ],
          [
           "(?)",
           8911.423578508085
          ],
          [
           "(?)",
           6537.189375636971
          ],
          [
           "(?)",
           7793.839183731062
          ],
          [
           "(?)",
           6510.903229416373
          ],
          [
           "(?)",
           5510.0327248767635
          ],
          [
           "(?)",
           6612.3448890328855
          ],
          [
           "(?)",
           7365.7180791388255
          ],
          [
           "(?)",
           8287.920628822281
          ],
          [
           "(?)",
           7926.08296158335
          ],
          [
           "(?)",
           5832.632482089961
          ],
          [
           "(?)",
           9657.883883926663
          ],
          [
           "(?)",
           7751.57585714418
          ],
          [
           "(?)",
           8156.044327276714
          ],
          [
           "(?)",
           7171.488769492503
          ],
          [
           "(?)",
           6138.728724315454
          ],
          [
           "(?)",
           2680.5764776658143
          ],
          [
           "(?)",
           4301.961702563675
          ],
          [
           "(?)",
           3722.6117208468195
          ],
          [
           "(?)",
           5245.986927937594
          ],
          [
           "(?)",
           3448.3175517247846
          ],
          [
           0.91,
           4115
          ],
          [
           "(?)",
           4989.929846192714
          ],
          [
           "(?)",
           5194.7219314613385
          ],
          [
           "(?)",
           4612.906535206106
          ],
          [
           "(?)",
           5029.699850825603
          ],
          [
           0.9,
           4194
          ],
          [
           "(?)",
           5530.544039306957
          ],
          [
           "(?)",
           11434.0608575619
          ],
          [
           "(?)",
           6255.083898234855
          ],
          [
           1,
           4633
          ],
          [
           0.7,
           1691
          ],
          [
           "(?)",
           8603.2953765324
          ],
          [
           "(?)",
           8585.789476708078
          ],
          [
           "(?)",
           7311.013271612471
          ],
          [
           "(?)",
           5156.730222881602
          ],
          [
           "(?)",
           6851.743554200167
          ],
          [
           "(?)",
           6854.951820206132
          ],
          [
           "(?)",
           7507.497057782124
          ],
          [
           "(?)",
           6095.860823573112
          ],
          [
           "(?)",
           8300.553605463787
          ],
          [
           "(?)",
           5207.349140588395
          ],
          [
           "(?)",
           7342.207431404622
          ],
          [
           "(?)",
           7617.532668807496
          ],
          [
           "(?)",
           8481.238229916846
          ],
          [
           "(?)",
           6160.3633675400015
          ],
          [
           "(?)",
           9085.661241351849
          ],
          [
           "(?)",
           8309.44345187645
          ],
          [
           "(?)",
           9024.798052451593
          ],
          [
           "(?)",
           8038.257703448565
          ],
          [
           "(?)",
           6395.266226312504
          ],
          [
           "(?)",
           6171.283805329891
          ],
          [
           "(?)",
           6501.219938999311
          ],
          [
           "(?)",
           7302.080380630911
          ],
          [
           "(?)",
           7597.350166051707
          ],
          [
           "(?)",
           5584.767764964306
          ],
          [
           "(?)",
           4408.900937361289
          ],
          [
           "(?)",
           7018.604759799153
          ],
          [
           "(?)",
           7952.842105464316
          ],
          [
           "(?)",
           7252.268296724541
          ],
          [
           "(?)",
           4936.906788642829
          ],
          [
           "(?)",
           3980.479400592729
          ],
          [
           "(?)",
           9039.285626999244
          ],
          [
           "(?)",
           8006.250089288167
          ],
          [
           "(?)",
           9076.011634163133
          ],
          [
           "(?)",
           8610.987822261328
          ],
          [
           1.01,
           2998
          ],
          [
           "(?)",
           5612.3544763821765
          ],
          [
           "(?)",
           7947.660003946474
          ],
          [
           "(?)",
           6250.955174793942
          ],
          [
           "(?)",
           6577.485467492301
          ],
          [
           "(?)",
           4701.878132274408
          ],
          [
           "(?)",
           5236.740713413235
          ],
          [
           "(?)",
           8696.935662327982
          ],
          [
           "(?)",
           6511.025848945295
          ],
          [
           "(?)",
           7201.680250698318
          ],
          [
           "(?)",
           7815.079333203775
          ],
          [
           "(?)",
           7472.103530518216
          ],
          [
           "(?)",
           8876.783603934105
          ],
          [
           "(?)",
           8056.240549655915
          ],
          [
           "(?)",
           5729.617962717862
          ],
          [
           "(?)",
           6634.897460136926
          ],
          [
           "(?)",
           8232.820695346894
          ],
          [
           "(?)",
           9096.290903326435
          ],
          [
           "(?)",
           7977.255472906389
          ],
          [
           "(?)",
           7761.956950558819
          ],
          [
           "(?)",
           5610.015038788256
          ],
          [
           "(?)",
           8121.278757608496
          ],
          [
           "(?)",
           7897.6762302587
          ],
          [
           "(?)",
           6848.462600682091
          ],
          [
           "(?)",
           7417.393264234609
          ],
          [
           "(?)",
           7282.953471958304
          ],
          [
           "(?)",
           8172.6698564117605
          ],
          [
           "(?)",
           10052.640069491525
          ],
          [
           "(?)",
           9497.63885876875
          ],
          [
           "(?)",
           8507.363199776984
          ],
          [
           "(?)",
           8478.036405005689
          ],
          [
           "(?)",
           9515.93728168807
          ],
          [
           "(?)",
           10067.063163382361
          ],
          [
           "(?)",
           7760.736718700492
          ],
          [
           "(?)",
           7656.411058083552
          ],
          [
           "(?)",
           9586.519550471434
          ],
          [
           "(?)",
           5110.675358329735
          ],
          [
           "(?)",
           6851.342201680978
          ],
          [
           "(?)",
           6511.61529327633
          ],
          [
           "(?)",
           6705.334356913183
          ],
          [
           "(?)",
           6947.2604279307225
          ],
          [
           "(?)",
           5221.143300444022
          ],
          [
           "(?)",
           7060.662392467579
          ],
          [
           "(?)",
           6899.821466295902
          ],
          [
           "(?)",
           6559.255446768391
          ],
          [
           "(?)",
           4954.497166384871
          ],
          [
           "(?)",
           7995.372019837967
          ],
          [
           "(?)",
           8883.648927246231
          ],
          [
           "(?)",
           7583.388415292329
          ],
          [
           "(?)",
           6514.984394804003
          ],
          [
           "(?)",
           5012.230972395617
          ],
          [
           "(?)",
           8386.526100600388
          ],
          [
           "(?)",
           8586.88473756948
          ],
          [
           "(?)",
           7969.833556163919
          ],
          [
           "(?)",
           6813.601232426477
          ],
          [
           "(?)",
           8629.377408171687
          ],
          [
           "(?)",
           8109.514891657768
          ],
          [
           "(?)",
           8769.71169629555
          ],
          [
           "(?)",
           8134.152465198367
          ],
          [
           "(?)",
           8421.884405649274
          ],
          [
           "(?)",
           8922.209307652662
          ],
          [
           "(?)",
           9023.12357617541
          ],
          [
           "(?)",
           11383.482551838772
          ],
          [
           "(?)",
           10196.157057583468
          ],
          [
           "(?)",
           10313.865151048041
          ],
          [
           "(?)",
           6468.953499303057
          ],
          [
           "(?)",
           8776.71601921757
          ],
          [
           "(?)",
           10228.421050564226
          ],
          [
           "(?)",
           9116.199992652319
          ],
          [
           "(?)",
           7545.43086389766
          ],
          [
           "(?)",
           7634.499593843523
          ],
          [
           "(?)",
           5252.77405371937
          ],
          [
           "(?)",
           6515.08217842801
          ],
          [
           "(?)",
           5819.97402844456
          ],
          [
           "(?)",
           5515.42492227849
          ],
          [
           "(?)",
           6369.271369435232
          ],
          [
           "(?)",
           5558.512363303345
          ],
          [
           "(?)",
           6777.994126855277
          ],
          [
           "(?)",
           6194.580135567522
          ],
          [
           "(?)",
           6172.10178993138
          ],
          [
           "(?)",
           6326.006471458149
          ],
          [
           "(?)",
           7231.4774739391705
          ],
          [
           "(?)",
           7037.80065325954
          ],
          [
           "(?)",
           6359.491470344024
          ],
          [
           "(?)",
           6022.529933949327
          ],
          [
           "(?)",
           6406.141983070649
          ],
          [
           "(?)",
           6880.0232610976645
          ],
          [
           "(?)",
           7991.774900798335
          ],
          [
           "(?)",
           7189.141955287393
          ],
          [
           "(?)",
           7824.931677607219
          ],
          [
           "(?)",
           5736.33815431459
          ],
          [
           "(?)",
           8666.10369416027
          ],
          [
           "(?)",
           9327.236953927157
          ],
          [
           "(?)",
           8838.55129558022
          ],
          [
           "(?)",
           7662.132238843658
          ],
          [
           "(?)",
           8186.752733618178
          ],
          [
           "(?)",
           9439.073987058222
          ],
          [
           "(?)",
           9897.264046215267
          ],
          [
           "(?)",
           9013.736438918275
          ],
          [
           "(?)",
           8967.403638705522
          ],
          [
           "(?)",
           6915.833128110223
          ],
          [
           "(?)",
           8122.337927727979
          ],
          [
           "(?)",
           8951.259971341558
          ],
          [
           "(?)",
           8348.086006049205
          ],
          [
           "(?)",
           7796.951766933264
          ],
          [
           "(?)",
           6599.510077640969
          ],
          [
           "(?)",
           6041.727990852598
          ],
          [
           "(?)",
           7765.089517072486
          ],
          [
           "(?)",
           7662.209063942418
          ],
          [
           "(?)",
           6208.862800295852
          ],
          [
           "(?)",
           6752.033613789937
          ],
          [
           "(?)",
           6462.0961002640515
          ],
          [
           "(?)",
           8252.323281296534
          ],
          [
           "(?)",
           7750.518525442223
          ],
          [
           "(?)",
           7137.504503255657
          ],
          [
           "(?)",
           6380.3701935190475
          ],
          [
           "(?)",
           8210.108155103018
          ],
          [
           "(?)",
           7818.50896836061
          ],
          [
           "(?)",
           7631.416318679095
          ],
          [
           "(?)",
           7266.8660393983255
          ],
          [
           "(?)",
           7397.978731760671
          ],
          [
           "(?)",
           8900.440113068455
          ],
          [
           "(?)",
           9499.10301755097
          ],
          [
           "(?)",
           7868.846711799154
          ],
          [
           "(?)",
           7939.545025078511
          ],
          [
           "(?)",
           9032.520546675727
          ],
          [
           "(?)",
           8955.254989637266
          ],
          [
           "(?)",
           10003.185208070341
          ],
          [
           "(?)",
           9381.708778865168
          ],
          [
           "(?)",
           9179.648060844336
          ],
          [
           "(?)",
           8768.967396480908
          ],
          [
           "(?)",
           10824.485688506555
          ],
          [
           "(?)",
           10376.077892165587
          ],
          [
           "(?)",
           9996.181904675606
          ],
          [
           "(?)",
           10565.10584179467
          ],
          [
           "(?)",
           9607.644215332548
          ],
          [
           "(?)",
           10047.02523198196
          ],
          [
           "(?)",
           10524.85142596718
          ],
          [
           "(?)",
           8418.455206748613
          ],
          [
           "(?)",
           7387.791738969647
          ],
          [
           "(?)",
           8456.969168368709
          ],
          [
           "(?)",
           6936.939934569247
          ],
          [
           "(?)",
           4004.223829787234
          ],
          [
           "(?)",
           2802.803263687662
          ],
          [
           "(?)",
           4702.711594929457
          ],
          [
           "(?)",
           10917.535757822023
          ],
          [
           "(?)",
           4842.998751346205
          ],
          [
           "(?)",
           4448.116276646731
          ],
          [
           "(?)",
           4743.988674463423
          ],
          [
           "(?)",
           5762.2693733503365
          ],
          [
           "(?)",
           2383.1686376411944
          ],
          [
           "(?)",
           5141.7528988380245
          ],
          [
           "(?)",
           5412.620073641968
          ],
          [
           "(?)",
           5689.215200405151
          ],
          [
           "(?)",
           3936.2084553778086
          ],
          [
           "(?)",
           4437.736573694438
          ],
          [
           "(?)",
           4519.011620899074
          ],
          [
           "(?)",
           6059.099468798627
          ],
          [
           "(?)",
           4431.897822642174
          ],
          [
           "(?)",
           4384.467687747036
          ],
          [
           "(?)",
           5264.278448643273
          ],
          [
           "(?)",
           6563.311502257298
          ],
          [
           "(?)",
           5483.753574610245
          ],
          [
           "(?)",
           6332.077235128197
          ],
          [
           "(?)",
           4971.032952352679
          ],
          [
           "(?)",
           6521.81715767275
          ],
          [
           "(?)",
           5529.305063363725
          ],
          [
           "(?)",
           8068.933708319912
          ],
          [
           "(?)",
           9579.562395318542
          ],
          [
           "(?)",
           6006.998882354506
          ],
          [
           "(?)",
           4790.404019019776
          ],
          [
           "(?)",
           14762.129469007827
          ],
          [
           "(?)",
           7886.668728152729
          ],
          [
           "(?)",
           5895.664694225025
          ],
          [
           "(?)",
           4705.028989326657
          ],
          [
           "(?)",
           9278.496616298786
          ],
          [
           "(?)",
           6053.559698794259
          ],
          [
           "(?)",
           7422.6788950005175
          ],
          [
           "(?)",
           7045.959951565633
          ],
          [
           "(?)",
           6361.39118012494
          ],
          [
           "(?)",
           6792.143752957711
          ],
          [
           "(?)",
           5960.618818970318
          ],
          [
           "(?)",
           7606.7621975026
          ],
          [
           "(?)",
           6826.173755065511
          ],
          [
           "(?)",
           6660.454259828567
          ],
          [
           "(?)",
           6077.7907249666
          ],
          [
           "(?)",
           7577.632204036424
          ],
          [
           "(?)",
           8045.082044621344
          ],
          [
           "(?)",
           7570.509205591482
          ],
          [
           "(?)",
           6426.209974581741
          ],
          [
           "(?)",
           6533.136276878625
          ],
          [
           "(?)",
           8033.557502367663
          ],
          [
           "(?)",
           8716.318055313875
          ],
          [
           "(?)",
           7721.109702732454
          ],
          [
           "(?)",
           7444.171286070399
          ],
          [
           "(?)",
           7303.009587371894
          ],
          [
           "(?)",
           8029.376915164473
          ],
          [
           "(?)",
           9038.734617625185
          ],
          [
           "(?)",
           8396.425338154417
          ],
          [
           "(?)",
           8051.212918951169
          ],
          [
           "(?)",
           8067.112156451463
          ],
          [
           "(?)",
           9008.757863243662
          ],
          [
           "(?)",
           10238.425748656306
          ],
          [
           "(?)",
           9432.288911216185
          ],
          [
           "(?)",
           9294.625972748336
          ],
          [
           "(?)",
           7638.293686345437
          ],
          [
           "(?)",
           8987.585954326314
          ],
          [
           "(?)",
           9933.514103927819
          ],
          [
           "(?)",
           8449.913312652341
          ],
          [
           "(?)",
           7569.890816658608
          ],
          [
           "(?)",
           8245.24482902468
          ],
          [
           "(?)",
           7652.211654636429
          ],
          [
           "(?)",
           8710.16279693341
          ],
          [
           "(?)",
           7871.931376676
          ],
          [
           "(?)",
           7378.038957647179
          ],
          [
           "(?)",
           7265.20037990196
          ]
         ],
         "domain": {
          "x": [
           0,
           1
          ],
          "y": [
           0,
           1
          ]
         },
         "hovertemplate": "labels=%{label}<br>price_sum=%{value}<br>parent=%{parent}<br>id=%{id}<br>carat=%{customdata[0]}<br>price=%{color}<extra></extra>",
         "ids": [
          "Ideal/D/IF",
          "Premium/D/IF",
          "Very Good/D/IF",
          "Good/D/IF",
          "Fair/D/IF",
          "Ideal/E/IF",
          "Premium/E/IF",
          "Very Good/E/IF",
          "Good/E/IF",
          "Fair/E/IF",
          "Ideal/F/IF",
          "Premium/F/IF",
          "Very Good/F/IF",
          "Good/F/IF",
          "Fair/F/IF",
          "Ideal/G/IF",
          "Premium/G/IF",
          "Very Good/G/IF",
          "Good/G/IF",
          "Fair/G/IF",
          "Ideal/H/IF",
          "Premium/H/IF",
          "Very Good/H/IF",
          "Good/H/IF",
          "Fair/H/IF",
          "Ideal/I/IF",
          "Premium/I/IF",
          "Very Good/I/IF",
          "Good/I/IF",
          "Fair/I/IF",
          "Ideal/J/IF",
          "Premium/J/IF",
          "Very Good/J/IF",
          "Good/J/IF",
          "Fair/J/IF",
          "Ideal/D/VVS1",
          "Premium/D/VVS1",
          "Very Good/D/VVS1",
          "Good/D/VVS1",
          "Fair/D/VVS1",
          "Ideal/E/VVS1",
          "Premium/E/VVS1",
          "Very Good/E/VVS1",
          "Good/E/VVS1",
          "Fair/E/VVS1",
          "Ideal/F/VVS1",
          "Premium/F/VVS1",
          "Very Good/F/VVS1",
          "Good/F/VVS1",
          "Fair/F/VVS1",
          "Ideal/G/VVS1",
          "Premium/G/VVS1",
          "Very Good/G/VVS1",
          "Good/G/VVS1",
          "Fair/G/VVS1",
          "Ideal/H/VVS1",
          "Premium/H/VVS1",
          "Very Good/H/VVS1",
          "Good/H/VVS1",
          "Fair/H/VVS1",
          "Ideal/I/VVS1",
          "Premium/I/VVS1",
          "Very Good/I/VVS1",
          "Good/I/VVS1",
          "Fair/I/VVS1",
          "Ideal/J/VVS1",
          "Premium/J/VVS1",
          "Very Good/J/VVS1",
          "Good/J/VVS1",
          "Fair/J/VVS1",
          "Ideal/D/VVS2",
          "Premium/D/VVS2",
          "Very Good/D/VVS2",
          "Good/D/VVS2",
          "Fair/D/VVS2",
          "Ideal/E/VVS2",
          "Premium/E/VVS2",
          "Very Good/E/VVS2",
          "Good/E/VVS2",
          "Fair/E/VVS2",
          "Ideal/F/VVS2",
          "Premium/F/VVS2",
          "Very Good/F/VVS2",
          "Good/F/VVS2",
          "Fair/F/VVS2",
          "Ideal/G/VVS2",
          "Premium/G/VVS2",
          "Very Good/G/VVS2",
          "Good/G/VVS2",
          "Fair/G/VVS2",
          "Ideal/H/VVS2",
          "Premium/H/VVS2",
          "Very Good/H/VVS2",
          "Good/H/VVS2",
          "Fair/H/VVS2",
          "Ideal/I/VVS2",
          "Premium/I/VVS2",
          "Very Good/I/VVS2",
          "Good/I/VVS2",
          "Fair/I/VVS2",
          "Ideal/J/VVS2",
          "Premium/J/VVS2",
          "Very Good/J/VVS2",
          "Good/J/VVS2",
          "Fair/J/VVS2",
          "Ideal/D/VS1",
          "Premium/D/VS1",
          "Very Good/D/VS1",
          "Good/D/VS1",
          "Fair/D/VS1",
          "Ideal/E/VS1",
          "Premium/E/VS1",
          "Very Good/E/VS1",
          "Good/E/VS1",
          "Fair/E/VS1",
          "Ideal/F/VS1",
          "Premium/F/VS1",
          "Very Good/F/VS1",
          "Good/F/VS1",
          "Fair/F/VS1",
          "Ideal/G/VS1",
          "Premium/G/VS1",
          "Very Good/G/VS1",
          "Good/G/VS1",
          "Fair/G/VS1",
          "Ideal/H/VS1",
          "Premium/H/VS1",
          "Very Good/H/VS1",
          "Good/H/VS1",
          "Fair/H/VS1",
          "Ideal/I/VS1",
          "Premium/I/VS1",
          "Very Good/I/VS1",
          "Good/I/VS1",
          "Fair/I/VS1",
          "Ideal/J/VS1",
          "Premium/J/VS1",
          "Very Good/J/VS1",
          "Good/J/VS1",
          "Fair/J/VS1",
          "Ideal/D/VS2",
          "Premium/D/VS2",
          "Very Good/D/VS2",
          "Good/D/VS2",
          "Fair/D/VS2",
          "Ideal/E/VS2",
          "Premium/E/VS2",
          "Very Good/E/VS2",
          "Good/E/VS2",
          "Fair/E/VS2",
          "Ideal/F/VS2",
          "Premium/F/VS2",
          "Very Good/F/VS2",
          "Good/F/VS2",
          "Fair/F/VS2",
          "Ideal/G/VS2",
          "Premium/G/VS2",
          "Very Good/G/VS2",
          "Good/G/VS2",
          "Fair/G/VS2",
          "Ideal/H/VS2",
          "Premium/H/VS2",
          "Very Good/H/VS2",
          "Good/H/VS2",
          "Fair/H/VS2",
          "Ideal/I/VS2",
          "Premium/I/VS2",
          "Very Good/I/VS2",
          "Good/I/VS2",
          "Fair/I/VS2",
          "Ideal/J/VS2",
          "Premium/J/VS2",
          "Very Good/J/VS2",
          "Good/J/VS2",
          "Fair/J/VS2",
          "Ideal/D/SI1",
          "Premium/D/SI1",
          "Very Good/D/SI1",
          "Good/D/SI1",
          "Fair/D/SI1",
          "Ideal/E/SI1",
          "Premium/E/SI1",
          "Very Good/E/SI1",
          "Good/E/SI1",
          "Fair/E/SI1",
          "Ideal/F/SI1",
          "Premium/F/SI1",
          "Very Good/F/SI1",
          "Good/F/SI1",
          "Fair/F/SI1",
          "Ideal/G/SI1",
          "Premium/G/SI1",
          "Very Good/G/SI1",
          "Good/G/SI1",
          "Fair/G/SI1",
          "Ideal/H/SI1",
          "Premium/H/SI1",
          "Very Good/H/SI1",
          "Good/H/SI1",
          "Fair/H/SI1",
          "Ideal/I/SI1",
          "Premium/I/SI1",
          "Very Good/I/SI1",
          "Good/I/SI1",
          "Fair/I/SI1",
          "Ideal/J/SI1",
          "Premium/J/SI1",
          "Very Good/J/SI1",
          "Good/J/SI1",
          "Fair/J/SI1",
          "Ideal/D/SI2",
          "Premium/D/SI2",
          "Very Good/D/SI2",
          "Good/D/SI2",
          "Fair/D/SI2",
          "Ideal/E/SI2",
          "Premium/E/SI2",
          "Very Good/E/SI2",
          "Good/E/SI2",
          "Fair/E/SI2",
          "Ideal/F/SI2",
          "Premium/F/SI2",
          "Very Good/F/SI2",
          "Good/F/SI2",
          "Fair/F/SI2",
          "Ideal/G/SI2",
          "Premium/G/SI2",
          "Very Good/G/SI2",
          "Good/G/SI2",
          "Fair/G/SI2",
          "Ideal/H/SI2",
          "Premium/H/SI2",
          "Very Good/H/SI2",
          "Good/H/SI2",
          "Fair/H/SI2",
          "Ideal/I/SI2",
          "Premium/I/SI2",
          "Very Good/I/SI2",
          "Good/I/SI2",
          "Fair/I/SI2",
          "Ideal/J/SI2",
          "Premium/J/SI2",
          "Very Good/J/SI2",
          "Good/J/SI2",
          "Fair/J/SI2",
          "Ideal/D/I1",
          "Premium/D/I1",
          "Very Good/D/I1",
          "Good/D/I1",
          "Fair/D/I1",
          "Ideal/E/I1",
          "Premium/E/I1",
          "Very Good/E/I1",
          "Good/E/I1",
          "Fair/E/I1",
          "Ideal/F/I1",
          "Premium/F/I1",
          "Very Good/F/I1",
          "Good/F/I1",
          "Fair/F/I1",
          "Ideal/G/I1",
          "Premium/G/I1",
          "Very Good/G/I1",
          "Good/G/I1",
          "Fair/G/I1",
          "Ideal/H/I1",
          "Premium/H/I1",
          "Very Good/H/I1",
          "Good/H/I1",
          "Fair/H/I1",
          "Ideal/I/I1",
          "Premium/I/I1",
          "Very Good/I/I1",
          "Good/I/I1",
          "Fair/I/I1",
          "Ideal/J/I1",
          "Premium/J/I1",
          "Very Good/J/I1",
          "Good/J/I1",
          "Fair/J/I1",
          "Ideal/D",
          "Premium/D",
          "Very Good/D",
          "Good/D",
          "Fair/D",
          "Ideal/E",
          "Premium/E",
          "Very Good/E",
          "Good/E",
          "Fair/E",
          "Ideal/F",
          "Premium/F",
          "Very Good/F",
          "Good/F",
          "Fair/F",
          "Ideal/G",
          "Premium/G",
          "Very Good/G",
          "Good/G",
          "Fair/G",
          "Ideal/H",
          "Premium/H",
          "Very Good/H",
          "Good/H",
          "Fair/H",
          "Ideal/I",
          "Premium/I",
          "Very Good/I",
          "Good/I",
          "Fair/I",
          "Ideal/J",
          "Premium/J",
          "Very Good/J",
          "Good/J",
          "Fair/J",
          "Ideal",
          "Premium",
          "Very Good",
          "Good",
          "Fair"
         ],
         "labels": [
          "IF",
          "IF",
          "IF",
          "IF",
          "IF",
          "IF",
          "IF",
          "IF",
          "IF",
          "IF",
          "IF",
          "IF",
          "IF",
          "IF",
          "IF",
          "IF",
          "IF",
          "IF",
          "IF",
          "IF",
          "IF",
          "IF",
          "IF",
          "IF",
          "IF",
          "IF",
          "IF",
          "IF",
          "IF",
          "IF",
          "IF",
          "IF",
          "IF",
          "IF",
          "IF",
          "VVS1",
          "VVS1",
          "VVS1",
          "VVS1",
          "VVS1",
          "VVS1",
          "VVS1",
          "VVS1",
          "VVS1",
          "VVS1",
          "VVS1",
          "VVS1",
          "VVS1",
          "VVS1",
          "VVS1",
          "VVS1",
          "VVS1",
          "VVS1",
          "VVS1",
          "VVS1",
          "VVS1",
          "VVS1",
          "VVS1",
          "VVS1",
          "VVS1",
          "VVS1",
          "VVS1",
          "VVS1",
          "VVS1",
          "VVS1",
          "VVS1",
          "VVS1",
          "VVS1",
          "VVS1",
          "VVS1",
          "VVS2",
          "VVS2",
          "VVS2",
          "VVS2",
          "VVS2",
          "VVS2",
          "VVS2",
          "VVS2",
          "VVS2",
          "VVS2",
          "VVS2",
          "VVS2",
          "VVS2",
          "VVS2",
          "VVS2",
          "VVS2",
          "VVS2",
          "VVS2",
          "VVS2",
          "VVS2",
          "VVS2",
          "VVS2",
          "VVS2",
          "VVS2",
          "VVS2",
          "VVS2",
          "VVS2",
          "VVS2",
          "VVS2",
          "VVS2",
          "VVS2",
          "VVS2",
          "VVS2",
          "VVS2",
          "VVS2",
          "VS1",
          "VS1",
          "VS1",
          "VS1",
          "VS1",
          "VS1",
          "VS1",
          "VS1",
          "VS1",
          "VS1",
          "VS1",
          "VS1",
          "VS1",
          "VS1",
          "VS1",
          "VS1",
          "VS1",
          "VS1",
          "VS1",
          "VS1",
          "VS1",
          "VS1",
          "VS1",
          "VS1",
          "VS1",
          "VS1",
          "VS1",
          "VS1",
          "VS1",
          "VS1",
          "VS1",
          "VS1",
          "VS1",
          "VS1",
          "VS1",
          "VS2",
          "VS2",
          "VS2",
          "VS2",
          "VS2",
          "VS2",
          "VS2",
          "VS2",
          "VS2",
          "VS2",
          "VS2",
          "VS2",
          "VS2",
          "VS2",
          "VS2",
          "VS2",
          "VS2",
          "VS2",
          "VS2",
          "VS2",
          "VS2",
          "VS2",
          "VS2",
          "VS2",
          "VS2",
          "VS2",
          "VS2",
          "VS2",
          "VS2",
          "VS2",
          "VS2",
          "VS2",
          "VS2",
          "VS2",
          "VS2",
          "SI1",
          "SI1",
          "SI1",
          "SI1",
          "SI1",
          "SI1",
          "SI1",
          "SI1",
          "SI1",
          "SI1",
          "SI1",
          "SI1",
          "SI1",
          "SI1",
          "SI1",
          "SI1",
          "SI1",
          "SI1",
          "SI1",
          "SI1",
          "SI1",
          "SI1",
          "SI1",
          "SI1",
          "SI1",
          "SI1",
          "SI1",
          "SI1",
          "SI1",
          "SI1",
          "SI1",
          "SI1",
          "SI1",
          "SI1",
          "SI1",
          "SI2",
          "SI2",
          "SI2",
          "SI2",
          "SI2",
          "SI2",
          "SI2",
          "SI2",
          "SI2",
          "SI2",
          "SI2",
          "SI2",
          "SI2",
          "SI2",
          "SI2",
          "SI2",
          "SI2",
          "SI2",
          "SI2",
          "SI2",
          "SI2",
          "SI2",
          "SI2",
          "SI2",
          "SI2",
          "SI2",
          "SI2",
          "SI2",
          "SI2",
          "SI2",
          "SI2",
          "SI2",
          "SI2",
          "SI2",
          "SI2",
          "I1",
          "I1",
          "I1",
          "I1",
          "I1",
          "I1",
          "I1",
          "I1",
          "I1",
          "I1",
          "I1",
          "I1",
          "I1",
          "I1",
          "I1",
          "I1",
          "I1",
          "I1",
          "I1",
          "I1",
          "I1",
          "I1",
          "I1",
          "I1",
          "I1",
          "I1",
          "I1",
          "I1",
          "I1",
          "I1",
          "I1",
          "I1",
          "I1",
          "I1",
          "I1",
          "D",
          "D",
          "D",
          "D",
          "D",
          "E",
          "E",
          "E",
          "E",
          "E",
          "F",
          "F",
          "F",
          "F",
          "F",
          "G",
          "G",
          "G",
          "G",
          "G",
          "H",
          "H",
          "H",
          "H",
          "H",
          "I",
          "I",
          "I",
          "I",
          "I",
          "J",
          "J",
          "J",
          "J",
          "J",
          "Ideal",
          "Premium",
          "Very Good",
          "Good",
          "Fair"
         ],
         "marker": {
          "coloraxis": "coloraxis",
          "colors": [
           11342.333623375987,
           14822.408049467234,
           14319.054276787976,
           14553.77502686296,
           1733.1518831035191,
           10663.599418929836,
           10570.868202018219,
           8904.077946196621,
           3856.7149126014774,
           null,
           6881.40616846329,
           9784.665986000267,
           10438.238783012726,
           6751.920605196518,
           2603.84364334471,
           6570.020963642524,
           6918.580104628437,
           7013.552198611101,
           9384.952979635704,
           1575.581317204301,
           5335.758661474431,
           8312.544619248098,
           6827.05298047745,
           9594.138642571968,
           null,
           4342.540676291953,
           5264.69388168931,
           8235.212023038157,
           2846.6711128048782,
           null,
           11025.694190437927,
           12920.570120504792,
           1350.3611078785057,
           4573.052714877039,
           null,
           6264.917029402102,
           9712.393847785734,
           8774.5162008728,
           4696.391630231105,
           8911.423578508085,
           6537.189375636971,
           7793.839183731062,
           6510.903229416373,
           5510.0327248767635,
           6612.3448890328855,
           7365.7180791388255,
           8287.920628822281,
           7926.08296158335,
           5832.632482089961,
           9657.883883926663,
           7751.57585714418,
           8156.044327276714,
           7171.488769492503,
           6138.728724315454,
           2680.5764776658143,
           4301.961702563675,
           3722.6117208468195,
           5245.986927937594,
           3448.3175517247846,
           4115,
           4989.929846192714,
           5194.7219314613385,
           4612.906535206106,
           5029.699850825603,
           4194,
           5530.544039306957,
           11434.0608575619,
           6255.083898234855,
           4633,
           1691,
           8603.2953765324,
           8585.789476708078,
           7311.013271612471,
           5156.730222881602,
           6851.743554200167,
           6854.951820206132,
           7507.497057782124,
           6095.860823573112,
           8300.553605463787,
           5207.349140588395,
           7342.207431404622,
           7617.532668807496,
           8481.238229916846,
           6160.3633675400015,
           9085.661241351849,
           8309.44345187645,
           9024.798052451593,
           8038.257703448565,
           6395.266226312504,
           6171.283805329891,
           6501.219938999311,
           7302.080380630911,
           7597.350166051707,
           5584.767764964306,
           4408.900937361289,
           7018.604759799153,
           7952.842105464316,
           7252.268296724541,
           4936.906788642829,
           3980.479400592729,
           9039.285626999244,
           8006.250089288167,
           9076.011634163133,
           8610.987822261328,
           2998,
           5612.3544763821765,
           7947.660003946474,
           6250.955174793942,
           6577.485467492301,
           4701.878132274408,
           5236.740713413235,
           8696.935662327982,
           6511.025848945295,
           7201.680250698318,
           7815.079333203775,
           7472.103530518216,
           8876.783603934105,
           8056.240549655915,
           5729.617962717862,
           6634.897460136926,
           8232.820695346894,
           9096.290903326435,
           7977.255472906389,
           7761.956950558819,
           5610.015038788256,
           8121.278757608496,
           7897.6762302587,
           6848.462600682091,
           7417.393264234609,
           7282.953471958304,
           8172.6698564117605,
           10052.640069491525,
           9497.63885876875,
           8507.363199776984,
           8478.036405005689,
           9515.93728168807,
           10067.063163382361,
           7760.736718700492,
           7656.411058083552,
           9586.519550471434,
           5110.675358329735,
           6851.342201680978,
           6511.61529327633,
           6705.334356913183,
           6947.2604279307225,
           5221.143300444022,
           7060.662392467579,
           6899.821466295902,
           6559.255446768391,
           4954.497166384871,
           7995.372019837967,
           8883.648927246231,
           7583.388415292329,
           6514.984394804003,
           5012.230972395617,
           8386.526100600388,
           8586.88473756948,
           7969.833556163919,
           6813.601232426477,
           8629.377408171687,
           8109.514891657768,
           8769.71169629555,
           8134.152465198367,
           8421.884405649274,
           8922.209307652662,
           9023.12357617541,
           11383.482551838772,
           10196.157057583468,
           10313.865151048041,
           6468.953499303057,
           8776.71601921757,
           10228.421050564226,
           9116.199992652319,
           7545.43086389766,
           7634.499593843523,
           5252.77405371937,
           6515.08217842801,
           5819.97402844456,
           5515.42492227849,
           6369.271369435232,
           5558.512363303345,
           6777.994126855277,
           6194.580135567522,
           6172.10178993138,
           6326.006471458149,
           7231.4774739391705,
           7037.80065325954,
           6359.491470344024,
           6022.529933949327,
           6406.141983070649,
           6880.0232610976645,
           7991.774900798335,
           7189.141955287393,
           7824.931677607219,
           5736.33815431459,
           8666.10369416027,
           9327.236953927157,
           8838.55129558022,
           7662.132238843658,
           8186.752733618178,
           9439.073987058222,
           9897.264046215267,
           9013.736438918275,
           8967.403638705522,
           6915.833128110223,
           8122.337927727979,
           8951.259971341558,
           8348.086006049205,
           7796.951766933264,
           6599.510077640969,
           6041.727990852598,
           7765.089517072486,
           7662.209063942418,
           6208.862800295852,
           6752.033613789937,
           6462.0961002640515,
           8252.323281296534,
           7750.518525442223,
           7137.504503255657,
           6380.3701935190475,
           8210.108155103018,
           7818.50896836061,
           7631.416318679095,
           7266.8660393983255,
           7397.978731760671,
           8900.440113068455,
           9499.10301755097,
           7868.846711799154,
           7939.545025078511,
           9032.520546675727,
           8955.254989637266,
           10003.185208070341,
           9381.708778865168,
           9179.648060844336,
           8768.967396480908,
           10824.485688506555,
           10376.077892165587,
           9996.181904675606,
           10565.10584179467,
           9607.644215332548,
           10047.02523198196,
           10524.85142596718,
           8418.455206748613,
           7387.791738969647,
           8456.969168368709,
           6936.939934569247,
           4004.223829787234,
           2802.803263687662,
           4702.711594929457,
           10917.535757822023,
           4842.998751346205,
           4448.116276646731,
           4743.988674463423,
           5762.2693733503365,
           2383.1686376411944,
           5141.7528988380245,
           5412.620073641968,
           5689.215200405151,
           3936.2084553778086,
           4437.736573694438,
           4519.011620899074,
           6059.099468798627,
           4431.897822642174,
           4384.467687747036,
           5264.278448643273,
           6563.311502257298,
           5483.753574610245,
           6332.077235128197,
           4971.032952352679,
           6521.81715767275,
           5529.305063363725,
           8068.933708319912,
           9579.562395318542,
           6006.998882354506,
           4790.404019019776,
           14762.129469007827,
           7886.668728152729,
           5895.664694225025,
           4705.028989326657,
           9278.496616298786,
           6053.559698794259,
           7422.6788950005175,
           7045.959951565633,
           6361.39118012494,
           6792.143752957711,
           5960.618818970318,
           7606.7621975026,
           6826.173755065511,
           6660.454259828567,
           6077.7907249666,
           7577.632204036424,
           8045.082044621344,
           7570.509205591482,
           6426.209974581741,
           6533.136276878625,
           8033.557502367663,
           8716.318055313875,
           7721.109702732454,
           7444.171286070399,
           7303.009587371894,
           8029.376915164473,
           9038.734617625185,
           8396.425338154417,
           8051.212918951169,
           8067.112156451463,
           9008.757863243662,
           10238.425748656306,
           9432.288911216185,
           9294.625972748336,
           7638.293686345437,
           8987.585954326314,
           9933.514103927819,
           8449.913312652341,
           7569.890816658608,
           8245.24482902468,
           7652.211654636429,
           8710.16279693341,
           7871.931376676,
           7378.038957647179,
           7265.20037990196
          ]
         },
         "name": "",
         "parents": [
          "Ideal/D",
          "Premium/D",
          "Very Good/D",
          "Good/D",
          "Fair/D",
          "Ideal/E",
          "Premium/E",
          "Very Good/E",
          "Good/E",
          "Fair/E",
          "Ideal/F",
          "Premium/F",
          "Very Good/F",
          "Good/F",
          "Fair/F",
          "Ideal/G",
          "Premium/G",
          "Very Good/G",
          "Good/G",
          "Fair/G",
          "Ideal/H",
          "Premium/H",
          "Very Good/H",
          "Good/H",
          "Fair/H",
          "Ideal/I",
          "Premium/I",
          "Very Good/I",
          "Good/I",
          "Fair/I",
          "Ideal/J",
          "Premium/J",
          "Very Good/J",
          "Good/J",
          "Fair/J",
          "Ideal/D",
          "Premium/D",
          "Very Good/D",
          "Good/D",
          "Fair/D",
          "Ideal/E",
          "Premium/E",
          "Very Good/E",
          "Good/E",
          "Fair/E",
          "Ideal/F",
          "Premium/F",
          "Very Good/F",
          "Good/F",
          "Fair/F",
          "Ideal/G",
          "Premium/G",
          "Very Good/G",
          "Good/G",
          "Fair/G",
          "Ideal/H",
          "Premium/H",
          "Very Good/H",
          "Good/H",
          "Fair/H",
          "Ideal/I",
          "Premium/I",
          "Very Good/I",
          "Good/I",
          "Fair/I",
          "Ideal/J",
          "Premium/J",
          "Very Good/J",
          "Good/J",
          "Fair/J",
          "Ideal/D",
          "Premium/D",
          "Very Good/D",
          "Good/D",
          "Fair/D",
          "Ideal/E",
          "Premium/E",
          "Very Good/E",
          "Good/E",
          "Fair/E",
          "Ideal/F",
          "Premium/F",
          "Very Good/F",
          "Good/F",
          "Fair/F",
          "Ideal/G",
          "Premium/G",
          "Very Good/G",
          "Good/G",
          "Fair/G",
          "Ideal/H",
          "Premium/H",
          "Very Good/H",
          "Good/H",
          "Fair/H",
          "Ideal/I",
          "Premium/I",
          "Very Good/I",
          "Good/I",
          "Fair/I",
          "Ideal/J",
          "Premium/J",
          "Very Good/J",
          "Good/J",
          "Fair/J",
          "Ideal/D",
          "Premium/D",
          "Very Good/D",
          "Good/D",
          "Fair/D",
          "Ideal/E",
          "Premium/E",
          "Very Good/E",
          "Good/E",
          "Fair/E",
          "Ideal/F",
          "Premium/F",
          "Very Good/F",
          "Good/F",
          "Fair/F",
          "Ideal/G",
          "Premium/G",
          "Very Good/G",
          "Good/G",
          "Fair/G",
          "Ideal/H",
          "Premium/H",
          "Very Good/H",
          "Good/H",
          "Fair/H",
          "Ideal/I",
          "Premium/I",
          "Very Good/I",
          "Good/I",
          "Fair/I",
          "Ideal/J",
          "Premium/J",
          "Very Good/J",
          "Good/J",
          "Fair/J",
          "Ideal/D",
          "Premium/D",
          "Very Good/D",
          "Good/D",
          "Fair/D",
          "Ideal/E",
          "Premium/E",
          "Very Good/E",
          "Good/E",
          "Fair/E",
          "Ideal/F",
          "Premium/F",
          "Very Good/F",
          "Good/F",
          "Fair/F",
          "Ideal/G",
          "Premium/G",
          "Very Good/G",
          "Good/G",
          "Fair/G",
          "Ideal/H",
          "Premium/H",
          "Very Good/H",
          "Good/H",
          "Fair/H",
          "Ideal/I",
          "Premium/I",
          "Very Good/I",
          "Good/I",
          "Fair/I",
          "Ideal/J",
          "Premium/J",
          "Very Good/J",
          "Good/J",
          "Fair/J",
          "Ideal/D",
          "Premium/D",
          "Very Good/D",
          "Good/D",
          "Fair/D",
          "Ideal/E",
          "Premium/E",
          "Very Good/E",
          "Good/E",
          "Fair/E",
          "Ideal/F",
          "Premium/F",
          "Very Good/F",
          "Good/F",
          "Fair/F",
          "Ideal/G",
          "Premium/G",
          "Very Good/G",
          "Good/G",
          "Fair/G",
          "Ideal/H",
          "Premium/H",
          "Very Good/H",
          "Good/H",
          "Fair/H",
          "Ideal/I",
          "Premium/I",
          "Very Good/I",
          "Good/I",
          "Fair/I",
          "Ideal/J",
          "Premium/J",
          "Very Good/J",
          "Good/J",
          "Fair/J",
          "Ideal/D",
          "Premium/D",
          "Very Good/D",
          "Good/D",
          "Fair/D",
          "Ideal/E",
          "Premium/E",
          "Very Good/E",
          "Good/E",
          "Fair/E",
          "Ideal/F",
          "Premium/F",
          "Very Good/F",
          "Good/F",
          "Fair/F",
          "Ideal/G",
          "Premium/G",
          "Very Good/G",
          "Good/G",
          "Fair/G",
          "Ideal/H",
          "Premium/H",
          "Very Good/H",
          "Good/H",
          "Fair/H",
          "Ideal/I",
          "Premium/I",
          "Very Good/I",
          "Good/I",
          "Fair/I",
          "Ideal/J",
          "Premium/J",
          "Very Good/J",
          "Good/J",
          "Fair/J",
          "Ideal/D",
          "Premium/D",
          "Very Good/D",
          "Good/D",
          "Fair/D",
          "Ideal/E",
          "Premium/E",
          "Very Good/E",
          "Good/E",
          "Fair/E",
          "Ideal/F",
          "Premium/F",
          "Very Good/F",
          "Good/F",
          "Fair/F",
          "Ideal/G",
          "Premium/G",
          "Very Good/G",
          "Good/G",
          "Fair/G",
          "Ideal/H",
          "Premium/H",
          "Very Good/H",
          "Good/H",
          "Fair/H",
          "Ideal/I",
          "Premium/I",
          "Very Good/I",
          "Good/I",
          "Fair/I",
          "Ideal/J",
          "Premium/J",
          "Very Good/J",
          "Good/J",
          "Fair/J",
          "Ideal",
          "Premium",
          "Very Good",
          "Good",
          "Fair",
          "Ideal",
          "Premium",
          "Very Good",
          "Good",
          "Fair",
          "Ideal",
          "Premium",
          "Very Good",
          "Good",
          "Fair",
          "Ideal",
          "Premium",
          "Very Good",
          "Good",
          "Fair",
          "Ideal",
          "Premium",
          "Very Good",
          "Good",
          "Fair",
          "Ideal",
          "Premium",
          "Very Good",
          "Good",
          "Fair",
          "Ideal",
          "Premium",
          "Very Good",
          "Good",
          "Fair",
          "",
          "",
          "",
          "",
          ""
         ],
         "type": "sunburst",
         "values": [
          183881,
          90565,
          236860,
          90273,
          4859,
          257456,
          122187,
          186308,
          13673,
          0,
          577194,
          112145,
          313364,
          46993,
          9376,
          1083161,
          288067,
          278494,
          89323,
          2976,
          448105,
          135390,
          76783,
          23795,
          0,
          142749,
          54247,
          77784,
          10496,
          0,
          62225,
          84312,
          8593,
          16428,
          0,
          389632,
          150840,
          155362,
          33621,
          13419,
          738849,
          283485,
          339566,
          81956,
          12346,
          1148943,
          317546,
          491818,
          76633,
          23399,
          1728064,
          501655,
          516673,
          110913,
          6649,
          624611,
          162821,
          234852,
          53311,
          4115,
          364157,
          153811,
          141893,
          58321,
          4194,
          58005,
          173865,
          60335,
          4633,
          1691,
          1027800,
          365513,
          368757,
          58641,
          32463,
          1296062,
          355854,
          608422,
          176288,
          40551,
          1728287,
          598522,
          862016,
          159618,
          40182,
          2937834,
          1188982,
          1120959,
          248285,
          52684,
          748844,
          312849,
          401381,
          109260,
          38299,
          508845,
          261643,
          217252,
          71708,
          23957,
          222584,
          218394,
          172853,
          56825,
          2998,
          904190,
          547324,
          517209,
          152933,
          14606,
          1290248,
          1086735,
          905182,
          330437,
          46311,
          2158465,
          1379831,
          1137075,
          367951,
          135401,
          3923423,
          2510676,
          1628705,
          653969,
          157393,
          1687423,
          1326977,
          963801,
          294072,
          147352,
          1609324,
          1180000,
          1081779,
          473508,
          112512,
          951620,
          890041,
          520751,
          190467,
          94499,
          1942973,
          989662,
          971865,
          373200,
          112822,
          2457536,
          1931278,
          1674737,
          603523,
          127752,
          2915823,
          2613088,
          1862110,
          697460,
          180225,
          3922132,
          3285060,
          2120445,
          795017,
          242300,
          2245754,
          2954662,
          1737203,
          611760,
          209548,
          2042562,
          2254249,
          1576772,
          655222,
          123396,
          1129175,
          1247463,
          979901,
          432285,
          93560,
          1837959,
          1799426,
          1598056,
          716018,
          247854,
          2208997,
          2064652,
          2020838,
          1122557,
          253575,
          2255876,
          2456604,
          1998029,
          890377,
          314129,
          2271131,
          2435695,
          1650407,
          854771,
          246976,
          3639501,
          3738558,
          2698868,
          982132,
          389685,
          2609997,
          2235798,
          1859918,
          782586,
          137249,
          1243109,
          1196855,
          914831,
          407231,
          127510,
          1118569,
          1831807,
          1389594,
          801751,
          243888,
          1825021,
          2330274,
          1904354,
          764669,
          325446,
          1963985,
          2482728,
          1457667,
          889784,
          402290,
          2241474,
          2763665,
          1536661,
          778555,
          453212,
          2515263,
          3500571,
          2096558,
          873705,
          548039,
          1970584,
          2230327,
          1324320,
          561574,
          299611,
          721069,
          1215596,
          767091,
          281224,
          138559,
          45850,
          45825,
          13114,
          27926,
          29532,
          64069,
          95978,
          75758,
          101157,
          18857,
          163945,
          120855,
          55288,
          48821,
          89023,
          64711,
          186370,
          51117,
          60720,
          168936,
          205777,
          179600,
          63106,
          53896,
          219074,
          69756,
          121071,
          48361,
          37579,
          119034,
          18908,
          59504,
          35827,
          15178,
          133286,
          7450854,
          5820962,
          5250817,
          2254363,
          699443,
          10138238,
          8270443,
          7715165,
          3194260,
          824838,
          12912518,
          10081319,
          8177367,
          3177637,
          1194025,
          18171930,
          13160170,
          8903461,
          3591553,
          1331126,
          12115278,
          12311428,
          8272552,
          3001931,
          1556112,
          9317974,
          8491146,
          6328079,
          2650994,
          819953,
          4406695,
          5086030,
          3460182,
          1404271,
          592103,
          74513487,
          63221498,
          48107623,
          19275009,
          7017600
         ]
        }
       ],
       "layout": {
        "coloraxis": {
         "colorbar": {
          "title": {
           "text": "price"
          }
         },
         "colorscale": [
          [
           0,
           "#0d0887"
          ],
          [
           0.1111111111111111,
           "#46039f"
          ],
          [
           0.2222222222222222,
           "#7201a8"
          ],
          [
           0.3333333333333333,
           "#9c179e"
          ],
          [
           0.4444444444444444,
           "#bd3786"
          ],
          [
           0.5555555555555556,
           "#d8576b"
          ],
          [
           0.6666666666666666,
           "#ed7953"
          ],
          [
           0.7777777777777778,
           "#fb9f3a"
          ],
          [
           0.8888888888888888,
           "#fdca26"
          ],
          [
           1,
           "#f0f921"
          ]
         ]
        },
        "legend": {
         "tracegroupgap": 0
        },
        "margin": {
         "t": 60
        },
        "template": {
         "data": {
          "bar": [
           {
            "error_x": {
             "color": "#2a3f5f"
            },
            "error_y": {
             "color": "#2a3f5f"
            },
            "marker": {
             "line": {
              "color": "#E5ECF6",
              "width": 0.5
             },
             "pattern": {
              "fillmode": "overlay",
              "size": 10,
              "solidity": 0.2
             }
            },
            "type": "bar"
           }
          ],
          "barpolar": [
           {
            "marker": {
             "line": {
              "color": "#E5ECF6",
              "width": 0.5
             },
             "pattern": {
              "fillmode": "overlay",
              "size": 10,
              "solidity": 0.2
             }
            },
            "type": "barpolar"
           }
          ],
          "carpet": [
           {
            "aaxis": {
             "endlinecolor": "#2a3f5f",
             "gridcolor": "white",
             "linecolor": "white",
             "minorgridcolor": "white",
             "startlinecolor": "#2a3f5f"
            },
            "baxis": {
             "endlinecolor": "#2a3f5f",
             "gridcolor": "white",
             "linecolor": "white",
             "minorgridcolor": "white",
             "startlinecolor": "#2a3f5f"
            },
            "type": "carpet"
           }
          ],
          "choropleth": [
           {
            "colorbar": {
             "outlinewidth": 0,
             "ticks": ""
            },
            "type": "choropleth"
           }
          ],
          "contour": [
           {
            "colorbar": {
             "outlinewidth": 0,
             "ticks": ""
            },
            "colorscale": [
             [
              0,
              "#0d0887"
             ],
             [
              0.1111111111111111,
              "#46039f"
             ],
             [
              0.2222222222222222,
              "#7201a8"
             ],
             [
              0.3333333333333333,
              "#9c179e"
             ],
             [
              0.4444444444444444,
              "#bd3786"
             ],
             [
              0.5555555555555556,
              "#d8576b"
             ],
             [
              0.6666666666666666,
              "#ed7953"
             ],
             [
              0.7777777777777778,
              "#fb9f3a"
             ],
             [
              0.8888888888888888,
              "#fdca26"
             ],
             [
              1,
              "#f0f921"
             ]
            ],
            "type": "contour"
           }
          ],
          "contourcarpet": [
           {
            "colorbar": {
             "outlinewidth": 0,
             "ticks": ""
            },
            "type": "contourcarpet"
           }
          ],
          "heatmap": [
           {
            "colorbar": {
             "outlinewidth": 0,
             "ticks": ""
            },
            "colorscale": [
             [
              0,
              "#0d0887"
             ],
             [
              0.1111111111111111,
              "#46039f"
             ],
             [
              0.2222222222222222,
              "#7201a8"
             ],
             [
              0.3333333333333333,
              "#9c179e"
             ],
             [
              0.4444444444444444,
              "#bd3786"
             ],
             [
              0.5555555555555556,
              "#d8576b"
             ],
             [
              0.6666666666666666,
              "#ed7953"
             ],
             [
              0.7777777777777778,
              "#fb9f3a"
             ],
             [
              0.8888888888888888,
              "#fdca26"
             ],
             [
              1,
              "#f0f921"
             ]
            ],
            "type": "heatmap"
           }
          ],
          "heatmapgl": [
           {
            "colorbar": {
             "outlinewidth": 0,
             "ticks": ""
            },
            "colorscale": [
             [
              0,
              "#0d0887"
             ],
             [
              0.1111111111111111,
              "#46039f"
             ],
             [
              0.2222222222222222,
              "#7201a8"
             ],
             [
              0.3333333333333333,
              "#9c179e"
             ],
             [
              0.4444444444444444,
              "#bd3786"
             ],
             [
              0.5555555555555556,
              "#d8576b"
             ],
             [
              0.6666666666666666,
              "#ed7953"
             ],
             [
              0.7777777777777778,
              "#fb9f3a"
             ],
             [
              0.8888888888888888,
              "#fdca26"
             ],
             [
              1,
              "#f0f921"
             ]
            ],
            "type": "heatmapgl"
           }
          ],
          "histogram": [
           {
            "marker": {
             "pattern": {
              "fillmode": "overlay",
              "size": 10,
              "solidity": 0.2
             }
            },
            "type": "histogram"
           }
          ],
          "histogram2d": [
           {
            "colorbar": {
             "outlinewidth": 0,
             "ticks": ""
            },
            "colorscale": [
             [
              0,
              "#0d0887"
             ],
             [
              0.1111111111111111,
              "#46039f"
             ],
             [
              0.2222222222222222,
              "#7201a8"
             ],
             [
              0.3333333333333333,
              "#9c179e"
             ],
             [
              0.4444444444444444,
              "#bd3786"
             ],
             [
              0.5555555555555556,
              "#d8576b"
             ],
             [
              0.6666666666666666,
              "#ed7953"
             ],
             [
              0.7777777777777778,
              "#fb9f3a"
             ],
             [
              0.8888888888888888,
              "#fdca26"
             ],
             [
              1,
              "#f0f921"
             ]
            ],
            "type": "histogram2d"
           }
          ],
          "histogram2dcontour": [
           {
            "colorbar": {
             "outlinewidth": 0,
             "ticks": ""
            },
            "colorscale": [
             [
              0,
              "#0d0887"
             ],
             [
              0.1111111111111111,
              "#46039f"
             ],
             [
              0.2222222222222222,
              "#7201a8"
             ],
             [
              0.3333333333333333,
              "#9c179e"
             ],
             [
              0.4444444444444444,
              "#bd3786"
             ],
             [
              0.5555555555555556,
              "#d8576b"
             ],
             [
              0.6666666666666666,
              "#ed7953"
             ],
             [
              0.7777777777777778,
              "#fb9f3a"
             ],
             [
              0.8888888888888888,
              "#fdca26"
             ],
             [
              1,
              "#f0f921"
             ]
            ],
            "type": "histogram2dcontour"
           }
          ],
          "mesh3d": [
           {
            "colorbar": {
             "outlinewidth": 0,
             "ticks": ""
            },
            "type": "mesh3d"
           }
          ],
          "parcoords": [
           {
            "line": {
             "colorbar": {
              "outlinewidth": 0,
              "ticks": ""
             }
            },
            "type": "parcoords"
           }
          ],
          "pie": [
           {
            "automargin": true,
            "type": "pie"
           }
          ],
          "scatter": [
           {
            "fillpattern": {
             "fillmode": "overlay",
             "size": 10,
             "solidity": 0.2
            },
            "type": "scatter"
           }
          ],
          "scatter3d": [
           {
            "line": {
             "colorbar": {
              "outlinewidth": 0,
              "ticks": ""
             }
            },
            "marker": {
             "colorbar": {
              "outlinewidth": 0,
              "ticks": ""
             }
            },
            "type": "scatter3d"
           }
          ],
          "scattercarpet": [
           {
            "marker": {
             "colorbar": {
              "outlinewidth": 0,
              "ticks": ""
             }
            },
            "type": "scattercarpet"
           }
          ],
          "scattergeo": [
           {
            "marker": {
             "colorbar": {
              "outlinewidth": 0,
              "ticks": ""
             }
            },
            "type": "scattergeo"
           }
          ],
          "scattergl": [
           {
            "marker": {
             "colorbar": {
              "outlinewidth": 0,
              "ticks": ""
             }
            },
            "type": "scattergl"
           }
          ],
          "scattermapbox": [
           {
            "marker": {
             "colorbar": {
              "outlinewidth": 0,
              "ticks": ""
             }
            },
            "type": "scattermapbox"
           }
          ],
          "scatterpolar": [
           {
            "marker": {
             "colorbar": {
              "outlinewidth": 0,
              "ticks": ""
             }
            },
            "type": "scatterpolar"
           }
          ],
          "scatterpolargl": [
           {
            "marker": {
             "colorbar": {
              "outlinewidth": 0,
              "ticks": ""
             }
            },
            "type": "scatterpolargl"
           }
          ],
          "scatterternary": [
           {
            "marker": {
             "colorbar": {
              "outlinewidth": 0,
              "ticks": ""
             }
            },
            "type": "scatterternary"
           }
          ],
          "surface": [
           {
            "colorbar": {
             "outlinewidth": 0,
             "ticks": ""
            },
            "colorscale": [
             [
              0,
              "#0d0887"
             ],
             [
              0.1111111111111111,
              "#46039f"
             ],
             [
              0.2222222222222222,
              "#7201a8"
             ],
             [
              0.3333333333333333,
              "#9c179e"
             ],
             [
              0.4444444444444444,
              "#bd3786"
             ],
             [
              0.5555555555555556,
              "#d8576b"
             ],
             [
              0.6666666666666666,
              "#ed7953"
             ],
             [
              0.7777777777777778,
              "#fb9f3a"
             ],
             [
              0.8888888888888888,
              "#fdca26"
             ],
             [
              1,
              "#f0f921"
             ]
            ],
            "type": "surface"
           }
          ],
          "table": [
           {
            "cells": {
             "fill": {
              "color": "#EBF0F8"
             },
             "line": {
              "color": "white"
             }
            },
            "header": {
             "fill": {
              "color": "#C8D4E3"
             },
             "line": {
              "color": "white"
             }
            },
            "type": "table"
           }
          ]
         },
         "layout": {
          "annotationdefaults": {
           "arrowcolor": "#2a3f5f",
           "arrowhead": 0,
           "arrowwidth": 1
          },
          "autotypenumbers": "strict",
          "coloraxis": {
           "colorbar": {
            "outlinewidth": 0,
            "ticks": ""
           }
          },
          "colorscale": {
           "diverging": [
            [
             0,
             "#8e0152"
            ],
            [
             0.1,
             "#c51b7d"
            ],
            [
             0.2,
             "#de77ae"
            ],
            [
             0.3,
             "#f1b6da"
            ],
            [
             0.4,
             "#fde0ef"
            ],
            [
             0.5,
             "#f7f7f7"
            ],
            [
             0.6,
             "#e6f5d0"
            ],
            [
             0.7,
             "#b8e186"
            ],
            [
             0.8,
             "#7fbc41"
            ],
            [
             0.9,
             "#4d9221"
            ],
            [
             1,
             "#276419"
            ]
           ],
           "sequential": [
            [
             0,
             "#0d0887"
            ],
            [
             0.1111111111111111,
             "#46039f"
            ],
            [
             0.2222222222222222,
             "#7201a8"
            ],
            [
             0.3333333333333333,
             "#9c179e"
            ],
            [
             0.4444444444444444,
             "#bd3786"
            ],
            [
             0.5555555555555556,
             "#d8576b"
            ],
            [
             0.6666666666666666,
             "#ed7953"
            ],
            [
             0.7777777777777778,
             "#fb9f3a"
            ],
            [
             0.8888888888888888,
             "#fdca26"
            ],
            [
             1,
             "#f0f921"
            ]
           ],
           "sequentialminus": [
            [
             0,
             "#0d0887"
            ],
            [
             0.1111111111111111,
             "#46039f"
            ],
            [
             0.2222222222222222,
             "#7201a8"
            ],
            [
             0.3333333333333333,
             "#9c179e"
            ],
            [
             0.4444444444444444,
             "#bd3786"
            ],
            [
             0.5555555555555556,
             "#d8576b"
            ],
            [
             0.6666666666666666,
             "#ed7953"
            ],
            [
             0.7777777777777778,
             "#fb9f3a"
            ],
            [
             0.8888888888888888,
             "#fdca26"
            ],
            [
             1,
             "#f0f921"
            ]
           ]
          },
          "colorway": [
           "#636efa",
           "#EF553B",
           "#00cc96",
           "#ab63fa",
           "#FFA15A",
           "#19d3f3",
           "#FF6692",
           "#B6E880",
           "#FF97FF",
           "#FECB52"
          ],
          "font": {
           "color": "#2a3f5f"
          },
          "geo": {
           "bgcolor": "white",
           "lakecolor": "white",
           "landcolor": "#E5ECF6",
           "showlakes": true,
           "showland": true,
           "subunitcolor": "white"
          },
          "hoverlabel": {
           "align": "left"
          },
          "hovermode": "closest",
          "mapbox": {
           "style": "light"
          },
          "paper_bgcolor": "white",
          "plot_bgcolor": "#E5ECF6",
          "polar": {
           "angularaxis": {
            "gridcolor": "white",
            "linecolor": "white",
            "ticks": ""
           },
           "bgcolor": "#E5ECF6",
           "radialaxis": {
            "gridcolor": "white",
            "linecolor": "white",
            "ticks": ""
           }
          },
          "scene": {
           "xaxis": {
            "backgroundcolor": "#E5ECF6",
            "gridcolor": "white",
            "gridwidth": 2,
            "linecolor": "white",
            "showbackground": true,
            "ticks": "",
            "zerolinecolor": "white"
           },
           "yaxis": {
            "backgroundcolor": "#E5ECF6",
            "gridcolor": "white",
            "gridwidth": 2,
            "linecolor": "white",
            "showbackground": true,
            "ticks": "",
            "zerolinecolor": "white"
           },
           "zaxis": {
            "backgroundcolor": "#E5ECF6",
            "gridcolor": "white",
            "gridwidth": 2,
            "linecolor": "white",
            "showbackground": true,
            "ticks": "",
            "zerolinecolor": "white"
           }
          },
          "shapedefaults": {
           "line": {
            "color": "#2a3f5f"
           }
          },
          "ternary": {
           "aaxis": {
            "gridcolor": "white",
            "linecolor": "white",
            "ticks": ""
           },
           "baxis": {
            "gridcolor": "white",
            "linecolor": "white",
            "ticks": ""
           },
           "bgcolor": "#E5ECF6",
           "caxis": {
            "gridcolor": "white",
            "linecolor": "white",
            "ticks": ""
           }
          },
          "title": {
           "x": 0.05
          },
          "xaxis": {
           "automargin": true,
           "gridcolor": "white",
           "linecolor": "white",
           "ticks": "",
           "title": {
            "standoff": 15
           },
           "zerolinecolor": "white",
           "zerolinewidth": 2
          },
          "yaxis": {
           "automargin": true,
           "gridcolor": "white",
           "linecolor": "white",
           "ticks": "",
           "title": {
            "standoff": 15
           },
           "zerolinecolor": "white",
           "zerolinewidth": 2
          }
         }
        }
       }
      }
     },
     "metadata": {},
     "output_type": "display_data"
    }
   ],
   "source": [
    "fig=px.sunburst(diamonds,path=['cut', 'color', 'clarity'],  #esky path me categorical variables aty hy numeric ni\n",
    "                 values='price',color='price',hover_data=['carat']\n",
    "                 )\n",
    "fig.show()  "
   ]
  },
  {
   "cell_type": "code",
   "execution_count": 7,
   "metadata": {},
   "outputs": [
    {
     "data": {
      "application/vnd.plotly.v1+json": {
       "config": {
        "plotlyServerURL": "https://plot.ly"
       },
       "data": [
        {
         "branchvalues": "total",
         "customdata": [
          [
           "(?)",
           "G"
          ],
          [
           "(?)",
           "I"
          ],
          [
           "(?)",
           "H"
          ],
          [
           "(?)",
           "G"
          ],
          [
           "(?)",
           "G"
          ],
          [
           "(?)",
           "F"
          ],
          [
           "(?)",
           "F"
          ],
          [
           null,
           null
          ],
          [
           "(?)",
           "F"
          ],
          [
           "(?)",
           "F"
          ],
          [
           "(?)",
           "E"
          ],
          [
           "(?)",
           "D"
          ],
          [
           "(?)",
           "D"
          ],
          [
           "(?)",
           "G"
          ],
          [
           "(?)",
           "E"
          ],
          [
           "(?)",
           "E"
          ],
          [
           "(?)",
           "J"
          ],
          [
           "(?)",
           "J"
          ],
          [
           "(?)",
           "I"
          ],
          [
           "(?)",
           "I"
          ],
          [
           "(?)",
           "I"
          ],
          [
           "(?)",
           "G"
          ],
          [
           "(?)",
           "E"
          ],
          [
           "(?)",
           "E"
          ],
          [
           "(?)",
           "I"
          ],
          [
           "(?)",
           "E"
          ],
          [
           "(?)",
           "J"
          ],
          [
           "(?)",
           "H"
          ],
          [
           "(?)",
           "F"
          ],
          [
           "(?)",
           "F"
          ],
          [
           "(?)",
           "E"
          ],
          [
           "(?)",
           "E"
          ],
          [
           "(?)",
           "D"
          ],
          [
           "(?)",
           "D"
          ],
          [
           "(?)",
           "G"
          ],
          [
           "(?)",
           "F"
          ],
          [
           "(?)",
           "I"
          ],
          [
           "(?)",
           "I"
          ],
          [
           "(?)",
           "F"
          ],
          [
           "(?)",
           "D"
          ],
          [
           "(?)",
           "E"
          ],
          [
           "(?)",
           "H"
          ],
          [
           "(?)",
           "G"
          ],
          [
           "(?)",
           "E"
          ],
          [
           "(?)",
           "E"
          ],
          [
           "(?)",
           "D"
          ],
          [
           "(?)",
           "D"
          ],
          [
           "(?)",
           "J"
          ],
          [
           "(?)",
           "J"
          ],
          [
           "(?)",
           "J"
          ],
          [
           "(?)",
           "E"
          ],
          [
           "(?)",
           "J"
          ],
          [
           "(?)",
           "I"
          ],
          [
           "(?)",
           "I"
          ],
          [
           "(?)",
           "F"
          ],
          [
           "(?)",
           "D"
          ],
          [
           "(?)",
           "E"
          ],
          [
           "(?)",
           "H"
          ],
          [
           "(?)",
           "G"
          ],
          [
           "(?)",
           "E"
          ],
          [
           "(?)",
           "E"
          ],
          [
           "(?)",
           "G"
          ],
          [
           "(?)",
           "G"
          ],
          [
           "(?)",
           "G"
          ],
          [
           "(?)",
           "H"
          ],
          [
           "(?)",
           "I"
          ],
          [
           "(?)",
           "I"
          ],
          [
           "(?)",
           "J"
          ],
          [
           "(?)",
           "J"
          ],
          [
           "(?)",
           "E"
          ],
          [
           "(?)",
           "E"
          ],
          [
           "(?)",
           "G"
          ],
          [
           "(?)",
           "H"
          ],
          [
           "(?)",
           "I"
          ],
          [
           "(?)",
           "D"
          ],
          [
           "(?)",
           "G"
          ],
          [
           "(?)",
           "D"
          ],
          [
           "(?)",
           "J"
          ],
          [
           "(?)",
           "G"
          ],
          [
           "(?)",
           "G"
          ],
          [
           "(?)",
           "H"
          ],
          [
           "(?)",
           "H"
          ],
          [
           "(?)",
           "H"
          ],
          [
           "(?)",
           "I"
          ],
          [
           "(?)",
           "I"
          ],
          [
           "(?)",
           "I"
          ],
          [
           "(?)",
           "I"
          ],
          [
           "(?)",
           "I"
          ],
          [
           "(?)",
           "J"
          ],
          [
           "(?)",
           "J"
          ],
          [
           "(?)",
           "F"
          ],
          [
           "(?)",
           "F"
          ],
          [
           "(?)",
           "J"
          ],
          [
           "(?)",
           "D"
          ],
          [
           "(?)",
           "I"
          ],
          [
           "(?)",
           "D"
          ],
          [
           "(?)",
           "G"
          ],
          [
           "(?)",
           "F"
          ],
          [
           "(?)",
           "J"
          ],
          [
           "(?)",
           "F"
          ],
          [
           "(?)",
           "D"
          ],
          [
           "(?)",
           "H"
          ],
          [
           "(?)",
           "E"
          ],
          [
           "(?)",
           "E"
          ],
          [
           "(?)",
           "F"
          ],
          [
           "(?)",
           "J"
          ],
          [
           "(?)",
           "F"
          ],
          [
           "(?)",
           "G"
          ],
          [
           "(?)",
           "H"
          ],
          [
           "(?)",
           "F"
          ],
          [
           "(?)",
           "H"
          ],
          [
           "(?)",
           "E"
          ],
          [
           "(?)",
           "H"
          ],
          [
           0.7,
           "J"
          ],
          [
           "(?)",
           "D"
          ],
          [
           "(?)",
           "D"
          ],
          [
           "(?)",
           "I"
          ],
          [
           "(?)",
           "D"
          ],
          [
           "(?)",
           "I"
          ],
          [
           "(?)",
           "E"
          ],
          [
           "(?)",
           "D"
          ],
          [
           "(?)",
           "D"
          ],
          [
           "(?)",
           "G"
          ],
          [
           "(?)",
           "F"
          ],
          [
           "(?)",
           "F"
          ],
          [
           "(?)",
           "H"
          ],
          [
           "(?)",
           "D"
          ],
          [
           "(?)",
           "G"
          ],
          [
           "(?)",
           "F"
          ],
          [
           "(?)",
           "F"
          ],
          [
           "(?)",
           "J"
          ],
          [
           "(?)",
           "I"
          ],
          [
           "(?)",
           "G"
          ],
          [
           "(?)",
           "J"
          ],
          [
           "(?)",
           "(?)"
          ],
          [
           "(?)",
           "(?)"
          ],
          [
           "(?)",
           "(?)"
          ],
          [
           "(?)",
           "H"
          ],
          [
           "(?)",
           "G"
          ],
          [
           "(?)",
           "F"
          ],
          [
           "(?)",
           "J"
          ],
          [
           "(?)",
           "J"
          ],
          [
           "(?)",
           "F"
          ],
          [
           "(?)",
           "H"
          ],
          [
           "(?)",
           "H"
          ],
          [
           "(?)",
           "H"
          ],
          [
           "(?)",
           "G"
          ],
          [
           "(?)",
           "F"
          ],
          [
           "(?)",
           "F"
          ],
          [
           "(?)",
           "J"
          ],
          [
           "(?)",
           "J"
          ],
          [
           null,
           null
          ],
          [
           "(?)",
           "H"
          ],
          [
           "(?)",
           "H"
          ],
          [
           "(?)",
           "H"
          ],
          [
           "(?)",
           "H"
          ],
          [
           "(?)",
           "G"
          ],
          [
           "(?)",
           "J"
          ],
          [
           "(?)",
           "H"
          ],
          [
           "(?)",
           "J"
          ],
          [
           "(?)",
           "(?)"
          ],
          [
           "(?)",
           "D"
          ],
          [
           "(?)",
           "J"
          ],
          [
           "(?)",
           "J"
          ],
          [
           "(?)",
           "H"
          ],
          [
           "(?)",
           "E"
          ],
          [
           "(?)",
           "G"
          ],
          [
           "(?)",
           "G"
          ],
          [
           "(?)",
           "G"
          ],
          [
           "(?)",
           "F"
          ],
          [
           "(?)",
           "F"
          ],
          [
           "(?)",
           "E"
          ],
          [
           "(?)",
           "E"
          ],
          [
           "(?)",
           "D"
          ],
          [
           "(?)",
           "F"
          ],
          [
           "(?)",
           "I"
          ],
          [
           "(?)",
           "G"
          ],
          [
           "(?)",
           "F"
          ],
          [
           "(?)",
           "F"
          ],
          [
           "(?)",
           "J"
          ],
          [
           "(?)",
           "D"
          ],
          [
           "(?)",
           "D"
          ],
          [
           "(?)",
           "F"
          ],
          [
           "(?)",
           "H"
          ],
          [
           "(?)",
           "J"
          ],
          [
           "(?)",
           "G"
          ],
          [
           "(?)",
           "G"
          ],
          [
           "(?)",
           "J"
          ],
          [
           "(?)",
           "J"
          ],
          [
           "(?)",
           "I"
          ],
          [
           "(?)",
           "G"
          ],
          [
           "(?)",
           "I"
          ],
          [
           "(?)",
           "E"
          ],
          [
           "(?)",
           "E"
          ],
          [
           "(?)",
           "F"
          ],
          [
           "(?)",
           "I"
          ],
          [
           "(?)",
           "F"
          ],
          [
           "(?)",
           "J"
          ],
          [
           "(?)",
           "D"
          ],
          [
           "(?)",
           "H"
          ],
          [
           "(?)",
           "I"
          ],
          [
           "(?)",
           "E"
          ],
          [
           "(?)",
           "J"
          ],
          [
           "(?)",
           "D"
          ],
          [
           "(?)",
           "D"
          ],
          [
           "(?)",
           "D"
          ],
          [
           "(?)",
           "D"
          ],
          [
           "(?)",
           "D"
          ],
          [
           "(?)",
           "H"
          ],
          [
           "(?)",
           "I"
          ],
          [
           "(?)",
           "F"
          ],
          [
           "(?)",
           "E"
          ],
          [
           "(?)",
           "E"
          ],
          [
           "(?)",
           "E"
          ],
          [
           "(?)",
           "J"
          ],
          [
           "(?)",
           "F"
          ],
          [
           "(?)",
           "J"
          ],
          [
           "(?)",
           "D"
          ],
          [
           "(?)",
           "I"
          ],
          [
           "(?)",
           "G"
          ],
          [
           "(?)",
           "H"
          ],
          [
           "(?)",
           "G"
          ],
          [
           "(?)",
           "E"
          ],
          [
           "(?)",
           "G"
          ],
          [
           1,
           "J"
          ],
          [
           "(?)",
           "H"
          ],
          [
           "(?)",
           "D"
          ],
          [
           "(?)",
           "I"
          ],
          [
           "(?)",
           "G"
          ],
          [
           "(?)",
           "I"
          ],
          [
           "(?)",
           "E"
          ],
          [
           "(?)",
           "D"
          ],
          [
           "(?)",
           "G"
          ],
          [
           "(?)",
           "J"
          ],
          [
           "(?)",
           "G"
          ],
          [
           "(?)",
           "I"
          ],
          [
           "(?)",
           "J"
          ],
          [
           "(?)",
           "G"
          ],
          [
           "(?)",
           "I"
          ],
          [
           "(?)",
           "H"
          ],
          [
           "(?)",
           "H"
          ],
          [
           "(?)",
           "F"
          ],
          [
           "(?)",
           "I"
          ],
          [
           "(?)",
           "E"
          ],
          [
           null,
           null
          ],
          [
           "(?)",
           "E"
          ],
          [
           "(?)",
           "D"
          ],
          [
           "(?)",
           "H"
          ],
          [
           "(?)",
           "D"
          ],
          [
           "(?)",
           "E"
          ],
          [
           "(?)",
           "H"
          ],
          [
           "(?)",
           "F"
          ],
          [
           "(?)",
           "H"
          ],
          [
           "(?)",
           "E"
          ],
          [
           "(?)",
           "H"
          ],
          [
           "(?)",
           "H"
          ],
          [
           "(?)",
           "F"
          ],
          [
           "(?)",
           "F"
          ],
          [
           "(?)",
           "E"
          ],
          [
           "(?)",
           "I"
          ],
          [
           "(?)",
           "D"
          ],
          [
           "(?)",
           "I"
          ],
          [
           "(?)",
           "D"
          ],
          [
           "(?)",
           "G"
          ],
          [
           "(?)",
           "D"
          ],
          [
           "(?)",
           "J"
          ],
          [
           "(?)",
           "J"
          ],
          [
           "(?)",
           "E"
          ],
          [
           "(?)",
           "(?)"
          ],
          [
           "(?)",
           "E"
          ],
          [
           "(?)",
           "D"
          ],
          [
           "(?)",
           "I"
          ],
          [
           "(?)",
           "I"
          ],
          [
           "(?)",
           "D"
          ],
          [
           0.9,
           "I"
          ],
          [
           "(?)",
           "D"
          ],
          [
           1.01,
           "J"
          ],
          [
           "(?)",
           "D"
          ],
          [
           "(?)",
           "H"
          ],
          [
           "(?)",
           "J"
          ],
          [
           "(?)",
           "E"
          ],
          [
           "(?)",
           "J"
          ],
          [
           "(?)",
           "D"
          ],
          [
           "(?)",
           "F"
          ],
          [
           "(?)",
           "H"
          ],
          [
           "(?)",
           "H"
          ],
          [
           "(?)",
           "I"
          ],
          [
           "(?)",
           "D"
          ],
          [
           "(?)",
           "G"
          ],
          [
           "(?)",
           "I"
          ],
          [
           "(?)",
           "I"
          ],
          [
           "(?)",
           "G"
          ],
          [
           "(?)",
           "G"
          ],
          [
           "(?)",
           "F"
          ],
          [
           "(?)",
           "H"
          ],
          [
           "(?)",
           "F"
          ],
          [
           "(?)",
           "E"
          ],
          [
           "(?)",
           "I"
          ],
          [
           "(?)",
           "G"
          ],
          [
           "(?)",
           "J"
          ],
          [
           0.91,
           "H"
          ],
          [
           "(?)",
           "E"
          ],
          [
           "(?)",
           "I"
          ],
          [
           "(?)",
           "H"
          ],
          [
           "(?)",
           "E"
          ],
          [
           "(?)",
           "I"
          ],
          [
           null,
           null
          ],
          [
           "(?)",
           "F"
          ],
          [
           "(?)",
           "D"
          ],
          [
           "(?)",
           "J"
          ],
          [
           "(?)",
           "F"
          ],
          [
           "(?)",
           "H"
          ],
          [
           "(?)",
           "D"
          ],
          [
           "(?)",
           "G"
          ],
          [
           "(?)",
           "G"
          ],
          [
           "(?)",
           "E"
          ],
          [
           "(?)",
           "F"
          ],
          [
           "(?)",
           "F"
          ],
          [
           "(?)",
           "H"
          ],
          [
           "(?)",
           "G"
          ]
         ],
         "domain": {
          "x": [
           0,
           1
          ],
          "y": [
           0,
           1
          ]
         },
         "hovertemplate": "labels=%{label}<br>price=%{value}<br>parent=%{parent}<br>id=%{id}<br>carat=%{customdata[0]}<br>color=%{customdata[1]}<extra></extra>",
         "ids": [
          "Fair/G/VS2",
          "Good/I/SI2",
          "Fair/H/SI2",
          "Premium/G/SI2",
          "Ideal/G/SI2",
          "Fair/F/SI2",
          "Good/F/SI2",
          "Fair/J/IF",
          "Ideal/F/VS2",
          "Very Good/F/VS2",
          "Fair/E/SI2",
          "Good/D/VVS1",
          "Ideal/D/VVS2",
          "Ideal/G/VS2",
          "Very Good/E/VVS1",
          "Good/E/VVS1",
          "Ideal/J/VS2",
          "Premium/J/VS2",
          "Good/I/VVS1",
          "Very Good/I/VVS1",
          "Premium/I/VVS1",
          "Fair/G/VVS1",
          "Good/E/VS2",
          "Very Good/E/VS2",
          "Good/I/IF",
          "Very Good/E/VVS2",
          "Ideal/J/VVS2",
          "Good/H",
          "Very Good/F",
          "Ideal/F",
          "Fair/E",
          "Good/E",
          "Fair/D/VS2",
          "Ideal/D",
          "Ideal/G/VS1",
          "Premium/F/SI1",
          "Premium/I/VS1",
          "Very Good/I/VS1",
          "Premium/F/VVS2",
          "Very Good/D/VS2",
          "Good/E/VVS2",
          "Very Good/H/VS1",
          "Premium/G/VS1",
          "Fair/E/VS2",
          "Ideal/E/SI1",
          "Fair/D/SI1",
          "Good/D/SI1",
          "Premium/J/VVS2",
          "Good/J/VS2",
          "Fair/J/VS2",
          "Premium/E/SI1",
          "Ideal/J/VS1",
          "Fair/I/VS2",
          "Good/I/VS1",
          "Good/F/VS1",
          "Fair/D/VS1",
          "Premium/E/VS1",
          "Good/H/SI1",
          "Very Good/G/SI1",
          "Very Good/E/I1",
          "Good/E/I1",
          "Very Good/G/I1",
          "Good/G/I1",
          "Fair/G/I1",
          "Ideal/H/I1",
          "Premium/I/I1",
          "Very Good/I/I1",
          "Ideal/J/I1",
          "Premium/J/I1",
          "Ideal/E",
          "Very Good/E",
          "Good/G",
          "Premium/H",
          "Premium/I",
          "Fair/D/I1",
          "Premium/G/SI1",
          "Premium/D/I1",
          "Fair/J/SI2",
          "Good/G/SI1",
          "Fair/G/SI1",
          "Ideal/H/SI1",
          "Premium/H/SI1",
          "Very Good/H/SI1",
          "Good/I/VVS2",
          "Ideal/I/SI1",
          "Premium/I/SI1",
          "Very Good/I/SI1",
          "Good/I/SI1",
          "Premium/J/SI1",
          "Fair/J/SI1",
          "Premium/F/SI2",
          "Very Good/F/SI2",
          "Premium/J/SI2",
          "Ideal/D/I1",
          "Ideal/I/VVS2",
          "Ideal/D/IF",
          "Ideal/G/IF",
          "Very Good/F/VVS2",
          "Good/J/IF",
          "Ideal/F/VVS2",
          "Premium/D/VVS1",
          "Premium/H/IF",
          "Fair/E/VVS2",
          "Premium/E/VVS2",
          "Good/F/VVS1",
          "Very Good/J/IF",
          "Fair/F/IF",
          "Good/G/VVS1",
          "Ideal/H/VVS2",
          "Fair/F/VVS2",
          "Premium/H/VVS2",
          "Good/E/IF",
          "Good/H/VVS2",
          "Fair/J/VVS1",
          "Very Good/D/IF",
          "Premium/D/IF",
          "Premium/I/VS2",
          "Ideal/D/VVS1",
          "Good/I/VS2",
          "Ideal/E/SI2",
          "Very Good/D/SI2",
          "Ideal/D/SI2",
          "Ideal/G/SI1",
          "Fair/F/SI1",
          "Ideal/F/VVS1",
          "Fair/H/SI1",
          "Premium/D/SI1",
          "Ideal/G/VVS1",
          "Very Good/F/SI1",
          "Good/F/SI1",
          "Ideal/J/SI1",
          "Premium/I/VVS2",
          "Fair/G/SI2",
          "Ideal/J/IF",
          "Very Good",
          "Premium",
          "Ideal",
          "Very Good/H",
          "Very Good/G",
          "Premium/F",
          "Fair/J/I1",
          "Good/J/I1",
          "Very Good/F/IF",
          "Fair/H/I1",
          "Very Good/H/I1",
          "Premium/H/I1",
          "Ideal/G/I1",
          "Fair/F/I1",
          "Good/F/I1",
          "Good/J/SI2",
          "Ideal/J/SI2",
          "Fair/I/IF",
          "Good/H/SI2",
          "Very Good/H/SI2",
          "Ideal/H/SI2",
          "Fair/H/VS2",
          "Good/G/SI2",
          "Premium/J/IF",
          "Very Good/H/VS2",
          "Very Good/J/SI1",
          "Fair",
          "Good/D/VS2",
          "Very Good/J/VS1",
          "Premium/J/VS1",
          "Ideal/H/VS1",
          "Ideal/E/VVS2",
          "Fair/G/VS1",
          "Good/G/VS1",
          "Very Good/G/VS1",
          "Fair/F/VS1",
          "Premium/F/VS1",
          "Fair/E/VS1",
          "Ideal/E/VS1",
          "Good/D/VS1",
          "Ideal/F/VS1",
          "Very Good/I/VVS2",
          "Premium/G/VS2",
          "Fair/F/VS2",
          "Good/F",
          "Fair/J/VS1",
          "Good/D/SI2",
          "Fair/D/SI2",
          "Ideal/F/SI2",
          "Very Good/H/VVS2",
          "Fair/J",
          "Very Good/G/SI2",
          "Ideal/G/VVS2",
          "Good/J",
          "Premium/J",
          "Fair/I",
          "Premium/G",
          "Ideal/I/IF",
          "Ideal/E/I1",
          "Premium/E/I1",
          "Premium/F/I1",
          "Good/I",
          "Very Good/F/VS1",
          "Very Good/J/VVS2",
          "Premium/D/SI2",
          "Fair/H",
          "Ideal/I/I1",
          "Good/E/VS1",
          "Good/J/VVS2",
          "Ideal/D/VS1",
          "Good/D",
          "Premium/D/VS1",
          "Good/D/I1",
          "Ideal/D/VS2",
          "Ideal/H/VS2",
          "Fair/I/SI2",
          "Good/F/VS2",
          "Very Good/E/SI1",
          "Good/E/SI1",
          "Fair/E/SI1",
          "Ideal/J/VVS1",
          "Ideal/F/SI1",
          "Very Good/J/VVS1",
          "Very Good/D/SI1",
          "Very Good/I/VS2",
          "Very Good/G/VS2",
          "Good/H/VS2",
          "Premium/G/VVS1",
          "Premium/E/VS2",
          "Good/G/VS2",
          "Good/J/VVS1",
          "Fair/H/VVS2",
          "Premium/D/VS2",
          "Ideal/I/VS1",
          "Very Good/G/VVS2",
          "Fair/I/VS1",
          "Fair/E/I1",
          "Premium/D/VVS2",
          "Good/G/VVS2",
          "Good/J/VS1",
          "Fair/G",
          "Fair/I/VVS2",
          "Good/J/SI1",
          "Ideal/G",
          "Fair/I/SI1",
          "Good/H/I1",
          "Premium/H/VS2",
          "Fair/F",
          "Fair/I/I1",
          "Very Good/E/IF",
          "Fair/E/IF",
          "Premium/E",
          "Very Good/D/VVS2",
          "Very Good/H/IF",
          "Very Good/D",
          "Premium/E/SI2",
          "Fair/H/VS1",
          "Very Good/F/VVS1",
          "Good/H/VS1",
          "Ideal/E/VS2",
          "Premium/H/VS1",
          "Premium/H/SI2",
          "Fair/F/VVS1",
          "Premium/F/VVS1",
          "Fair/E/VVS1",
          "Ideal/I/SI2",
          "Good/D/VVS2",
          "Ideal/I/VS2",
          "Very Good/D/VVS1",
          "Premium/G/VVS2",
          "Fair/D/VVS2",
          "Ideal/J",
          "Very Good/J/SI2",
          "Very Good/E/SI2",
          "Good",
          "Good/E/SI2",
          "Fair/D",
          "Very Good/I",
          "Ideal/I",
          "Very Good/D/VS1",
          "Fair/I/VVS1",
          "Ideal/D/SI1",
          "Fair/J/VVS2",
          "Good/D/IF",
          "Ideal/H",
          "Very Good/J",
          "Premium/E/IF",
          "Premium/J/VVS1",
          "Fair/D/VVS1",
          "Very Good/F/I1",
          "Ideal/H/IF",
          "Ideal/H/VVS1",
          "Premium/I/IF",
          "Premium/D",
          "Premium/G/I1",
          "Very Good/I/SI2",
          "Premium/I/SI2",
          "Very Good/G/VVS1",
          "Premium/G/IF",
          "Premium/F/VS2",
          "Very Good/H/VVS1",
          "Good/F/VVS2",
          "Very Good/E/VS1",
          "Good/I/I1",
          "Fair/G/VVS2",
          "Very Good/J/I1",
          "Fair/H/VVS1",
          "Ideal/E/VVS1",
          "Ideal/I/VVS1",
          "Good/H/VVS1",
          "Premium/E/VVS1",
          "Very Good/I/IF",
          "Fair/H/IF",
          "Premium/F/IF",
          "Very Good/D/I1",
          "Very Good/J/VS2",
          "Ideal/F/I1",
          "Premium/H/VVS1",
          "Fair/D/IF",
          "Fair/G/IF",
          "Good/G/IF",
          "Ideal/E/IF",
          "Good/F/IF",
          "Ideal/F/IF",
          "Good/H/IF",
          "Very Good/G/IF"
         ],
         "labels": [
          "VS2",
          "SI2",
          "SI2",
          "SI2",
          "SI2",
          "SI2",
          "SI2",
          "IF",
          "VS2",
          "VS2",
          "SI2",
          "VVS1",
          "VVS2",
          "VS2",
          "VVS1",
          "VVS1",
          "VS2",
          "VS2",
          "VVS1",
          "VVS1",
          "VVS1",
          "VVS1",
          "VS2",
          "VS2",
          "IF",
          "VVS2",
          "VVS2",
          "H",
          "F",
          "F",
          "E",
          "E",
          "VS2",
          "D",
          "VS1",
          "SI1",
          "VS1",
          "VS1",
          "VVS2",
          "VS2",
          "VVS2",
          "VS1",
          "VS1",
          "VS2",
          "SI1",
          "SI1",
          "SI1",
          "VVS2",
          "VS2",
          "VS2",
          "SI1",
          "VS1",
          "VS2",
          "VS1",
          "VS1",
          "VS1",
          "VS1",
          "SI1",
          "SI1",
          "I1",
          "I1",
          "I1",
          "I1",
          "I1",
          "I1",
          "I1",
          "I1",
          "I1",
          "I1",
          "E",
          "E",
          "G",
          "H",
          "I",
          "I1",
          "SI1",
          "I1",
          "SI2",
          "SI1",
          "SI1",
          "SI1",
          "SI1",
          "SI1",
          "VVS2",
          "SI1",
          "SI1",
          "SI1",
          "SI1",
          "SI1",
          "SI1",
          "SI2",
          "SI2",
          "SI2",
          "I1",
          "VVS2",
          "IF",
          "IF",
          "VVS2",
          "IF",
          "VVS2",
          "VVS1",
          "IF",
          "VVS2",
          "VVS2",
          "VVS1",
          "IF",
          "IF",
          "VVS1",
          "VVS2",
          "VVS2",
          "VVS2",
          "IF",
          "VVS2",
          "VVS1",
          "IF",
          "IF",
          "VS2",
          "VVS1",
          "VS2",
          "SI2",
          "SI2",
          "SI2",
          "SI1",
          "SI1",
          "VVS1",
          "SI1",
          "SI1",
          "VVS1",
          "SI1",
          "SI1",
          "SI1",
          "VVS2",
          "SI2",
          "IF",
          "Very Good",
          "Premium",
          "Ideal",
          "H",
          "G",
          "F",
          "I1",
          "I1",
          "IF",
          "I1",
          "I1",
          "I1",
          "I1",
          "I1",
          "I1",
          "SI2",
          "SI2",
          "IF",
          "SI2",
          "SI2",
          "SI2",
          "VS2",
          "SI2",
          "IF",
          "VS2",
          "SI1",
          "Fair",
          "VS2",
          "VS1",
          "VS1",
          "VS1",
          "VVS2",
          "VS1",
          "VS1",
          "VS1",
          "VS1",
          "VS1",
          "VS1",
          "VS1",
          "VS1",
          "VS1",
          "VVS2",
          "VS2",
          "VS2",
          "F",
          "VS1",
          "SI2",
          "SI2",
          "SI2",
          "VVS2",
          "J",
          "SI2",
          "VVS2",
          "J",
          "J",
          "I",
          "G",
          "IF",
          "I1",
          "I1",
          "I1",
          "I",
          "VS1",
          "VVS2",
          "SI2",
          "H",
          "I1",
          "VS1",
          "VVS2",
          "VS1",
          "D",
          "VS1",
          "I1",
          "VS2",
          "VS2",
          "SI2",
          "VS2",
          "SI1",
          "SI1",
          "SI1",
          "VVS1",
          "SI1",
          "VVS1",
          "SI1",
          "VS2",
          "VS2",
          "VS2",
          "VVS1",
          "VS2",
          "VS2",
          "VVS1",
          "VVS2",
          "VS2",
          "VS1",
          "VVS2",
          "VS1",
          "I1",
          "VVS2",
          "VVS2",
          "VS1",
          "G",
          "VVS2",
          "SI1",
          "G",
          "SI1",
          "I1",
          "VS2",
          "F",
          "I1",
          "IF",
          "IF",
          "E",
          "VVS2",
          "IF",
          "D",
          "SI2",
          "VS1",
          "VVS1",
          "VS1",
          "VS2",
          "VS1",
          "SI2",
          "VVS1",
          "VVS1",
          "VVS1",
          "SI2",
          "VVS2",
          "VS2",
          "VVS1",
          "VVS2",
          "VVS2",
          "J",
          "SI2",
          "SI2",
          "Good",
          "SI2",
          "D",
          "I",
          "I",
          "VS1",
          "VVS1",
          "SI1",
          "VVS2",
          "IF",
          "H",
          "J",
          "IF",
          "VVS1",
          "VVS1",
          "I1",
          "IF",
          "VVS1",
          "IF",
          "D",
          "I1",
          "SI2",
          "SI2",
          "VVS1",
          "IF",
          "VS2",
          "VVS1",
          "VVS2",
          "VS1",
          "I1",
          "VVS2",
          "I1",
          "VVS1",
          "VVS1",
          "VVS1",
          "VVS1",
          "VVS1",
          "IF",
          "IF",
          "IF",
          "I1",
          "VS2",
          "I1",
          "VVS1",
          "IF",
          "IF",
          "IF",
          "IF",
          "IF",
          "IF",
          "IF",
          "IF"
         ],
         "marker": {
          "colors": [
           "#636efa",
           "#EF553B",
           "#00cc96",
           "#636efa",
           "#636efa",
           "#ab63fa",
           "#ab63fa",
           "#FFA15A",
           "#ab63fa",
           "#ab63fa",
           "#19d3f3",
           "#FF6692",
           "#FF6692",
           "#636efa",
           "#19d3f3",
           "#19d3f3",
           "#B6E880",
           "#B6E880",
           "#EF553B",
           "#EF553B",
           "#EF553B",
           "#636efa",
           "#19d3f3",
           "#19d3f3",
           "#EF553B",
           "#19d3f3",
           "#B6E880",
           "#00cc96",
           "#ab63fa",
           "#ab63fa",
           "#19d3f3",
           "#19d3f3",
           "#FF6692",
           "#FF6692",
           "#636efa",
           "#ab63fa",
           "#EF553B",
           "#EF553B",
           "#ab63fa",
           "#FF6692",
           "#19d3f3",
           "#00cc96",
           "#636efa",
           "#19d3f3",
           "#19d3f3",
           "#FF6692",
           "#FF6692",
           "#B6E880",
           "#B6E880",
           "#B6E880",
           "#19d3f3",
           "#B6E880",
           "#EF553B",
           "#EF553B",
           "#ab63fa",
           "#FF6692",
           "#19d3f3",
           "#00cc96",
           "#636efa",
           "#19d3f3",
           "#19d3f3",
           "#636efa",
           "#636efa",
           "#636efa",
           "#00cc96",
           "#EF553B",
           "#EF553B",
           "#B6E880",
           "#B6E880",
           "#19d3f3",
           "#19d3f3",
           "#636efa",
           "#00cc96",
           "#EF553B",
           "#FF6692",
           "#636efa",
           "#FF6692",
           "#B6E880",
           "#636efa",
           "#636efa",
           "#00cc96",
           "#00cc96",
           "#00cc96",
           "#EF553B",
           "#EF553B",
           "#EF553B",
           "#EF553B",
           "#EF553B",
           "#B6E880",
           "#B6E880",
           "#ab63fa",
           "#ab63fa",
           "#B6E880",
           "#FF6692",
           "#EF553B",
           "#FF6692",
           "#636efa",
           "#ab63fa",
           "#B6E880",
           "#ab63fa",
           "#FF6692",
           "#00cc96",
           "#19d3f3",
           "#19d3f3",
           "#ab63fa",
           "#B6E880",
           "#ab63fa",
           "#636efa",
           "#00cc96",
           "#ab63fa",
           "#00cc96",
           "#19d3f3",
           "#00cc96",
           "#B6E880",
           "#FF6692",
           "#FF6692",
           "#EF553B",
           "#FF6692",
           "#EF553B",
           "#19d3f3",
           "#FF6692",
           "#FF6692",
           "#636efa",
           "#ab63fa",
           "#ab63fa",
           "#00cc96",
           "#FF6692",
           "#636efa",
           "#ab63fa",
           "#ab63fa",
           "#B6E880",
           "#EF553B",
           "#636efa",
           "#B6E880",
           "#FF97FF",
           "#FF97FF",
           "#FF97FF",
           "#00cc96",
           "#636efa",
           "#ab63fa",
           "#B6E880",
           "#B6E880",
           "#ab63fa",
           "#00cc96",
           "#00cc96",
           "#00cc96",
           "#636efa",
           "#ab63fa",
           "#ab63fa",
           "#B6E880",
           "#B6E880",
           "#FFA15A",
           "#00cc96",
           "#00cc96",
           "#00cc96",
           "#00cc96",
           "#636efa",
           "#B6E880",
           "#00cc96",
           "#B6E880",
           "#FF97FF",
           "#FF6692",
           "#B6E880",
           "#B6E880",
           "#00cc96",
           "#19d3f3",
           "#636efa",
           "#636efa",
           "#636efa",
           "#ab63fa",
           "#ab63fa",
           "#19d3f3",
           "#19d3f3",
           "#FF6692",
           "#ab63fa",
           "#EF553B",
           "#636efa",
           "#ab63fa",
           "#ab63fa",
           "#B6E880",
           "#FF6692",
           "#FF6692",
           "#ab63fa",
           "#00cc96",
           "#B6E880",
           "#636efa",
           "#636efa",
           "#B6E880",
           "#B6E880",
           "#EF553B",
           "#636efa",
           "#EF553B",
           "#19d3f3",
           "#19d3f3",
           "#ab63fa",
           "#EF553B",
           "#ab63fa",
           "#B6E880",
           "#FF6692",
           "#00cc96",
           "#EF553B",
           "#19d3f3",
           "#B6E880",
           "#FF6692",
           "#FF6692",
           "#FF6692",
           "#FF6692",
           "#FF6692",
           "#00cc96",
           "#EF553B",
           "#ab63fa",
           "#19d3f3",
           "#19d3f3",
           "#19d3f3",
           "#B6E880",
           "#ab63fa",
           "#B6E880",
           "#FF6692",
           "#EF553B",
           "#636efa",
           "#00cc96",
           "#636efa",
           "#19d3f3",
           "#636efa",
           "#B6E880",
           "#00cc96",
           "#FF6692",
           "#EF553B",
           "#636efa",
           "#EF553B",
           "#19d3f3",
           "#FF6692",
           "#636efa",
           "#B6E880",
           "#636efa",
           "#EF553B",
           "#B6E880",
           "#636efa",
           "#EF553B",
           "#00cc96",
           "#00cc96",
           "#ab63fa",
           "#EF553B",
           "#19d3f3",
           "#FFA15A",
           "#19d3f3",
           "#FF6692",
           "#00cc96",
           "#FF6692",
           "#19d3f3",
           "#00cc96",
           "#ab63fa",
           "#00cc96",
           "#19d3f3",
           "#00cc96",
           "#00cc96",
           "#ab63fa",
           "#ab63fa",
           "#19d3f3",
           "#EF553B",
           "#FF6692",
           "#EF553B",
           "#FF6692",
           "#636efa",
           "#FF6692",
           "#B6E880",
           "#B6E880",
           "#19d3f3",
           "#FF97FF",
           "#19d3f3",
           "#FF6692",
           "#EF553B",
           "#EF553B",
           "#FF6692",
           "#EF553B",
           "#FF6692",
           "#B6E880",
           "#FF6692",
           "#00cc96",
           "#B6E880",
           "#19d3f3",
           "#B6E880",
           "#FF6692",
           "#ab63fa",
           "#00cc96",
           "#00cc96",
           "#EF553B",
           "#FF6692",
           "#636efa",
           "#EF553B",
           "#EF553B",
           "#636efa",
           "#636efa",
           "#ab63fa",
           "#00cc96",
           "#ab63fa",
           "#19d3f3",
           "#EF553B",
           "#636efa",
           "#B6E880",
           "#00cc96",
           "#19d3f3",
           "#EF553B",
           "#00cc96",
           "#19d3f3",
           "#EF553B",
           "#FFA15A",
           "#ab63fa",
           "#FF6692",
           "#B6E880",
           "#ab63fa",
           "#00cc96",
           "#FF6692",
           "#636efa",
           "#636efa",
           "#19d3f3",
           "#ab63fa",
           "#ab63fa",
           "#00cc96",
           "#636efa"
          ]
         },
         "name": "",
         "parents": [
          "Fair/G",
          "Good/I",
          "Fair/H",
          "Premium/G",
          "Ideal/G",
          "Fair/F",
          "Good/F",
          "Fair/J",
          "Ideal/F",
          "Very Good/F",
          "Fair/E",
          "Good/D",
          "Ideal/D",
          "Ideal/G",
          "Very Good/E",
          "Good/E",
          "Ideal/J",
          "Premium/J",
          "Good/I",
          "Very Good/I",
          "Premium/I",
          "Fair/G",
          "Good/E",
          "Very Good/E",
          "Good/I",
          "Very Good/E",
          "Ideal/J",
          "Good",
          "Very Good",
          "Ideal",
          "Fair",
          "Good",
          "Fair/D",
          "Ideal",
          "Ideal/G",
          "Premium/F",
          "Premium/I",
          "Very Good/I",
          "Premium/F",
          "Very Good/D",
          "Good/E",
          "Very Good/H",
          "Premium/G",
          "Fair/E",
          "Ideal/E",
          "Fair/D",
          "Good/D",
          "Premium/J",
          "Good/J",
          "Fair/J",
          "Premium/E",
          "Ideal/J",
          "Fair/I",
          "Good/I",
          "Good/F",
          "Fair/D",
          "Premium/E",
          "Good/H",
          "Very Good/G",
          "Very Good/E",
          "Good/E",
          "Very Good/G",
          "Good/G",
          "Fair/G",
          "Ideal/H",
          "Premium/I",
          "Very Good/I",
          "Ideal/J",
          "Premium/J",
          "Ideal",
          "Very Good",
          "Good",
          "Premium",
          "Premium",
          "Fair/D",
          "Premium/G",
          "Premium/D",
          "Fair/J",
          "Good/G",
          "Fair/G",
          "Ideal/H",
          "Premium/H",
          "Very Good/H",
          "Good/I",
          "Ideal/I",
          "Premium/I",
          "Very Good/I",
          "Good/I",
          "Premium/J",
          "Fair/J",
          "Premium/F",
          "Very Good/F",
          "Premium/J",
          "Ideal/D",
          "Ideal/I",
          "Ideal/D",
          "Ideal/G",
          "Very Good/F",
          "Good/J",
          "Ideal/F",
          "Premium/D",
          "Premium/H",
          "Fair/E",
          "Premium/E",
          "Good/F",
          "Very Good/J",
          "Fair/F",
          "Good/G",
          "Ideal/H",
          "Fair/F",
          "Premium/H",
          "Good/E",
          "Good/H",
          "Fair/J",
          "Very Good/D",
          "Premium/D",
          "Premium/I",
          "Ideal/D",
          "Good/I",
          "Ideal/E",
          "Very Good/D",
          "Ideal/D",
          "Ideal/G",
          "Fair/F",
          "Ideal/F",
          "Fair/H",
          "Premium/D",
          "Ideal/G",
          "Very Good/F",
          "Good/F",
          "Ideal/J",
          "Premium/I",
          "Fair/G",
          "Ideal/J",
          "",
          "",
          "",
          "Very Good",
          "Very Good",
          "Premium",
          "Fair/J",
          "Good/J",
          "Very Good/F",
          "Fair/H",
          "Very Good/H",
          "Premium/H",
          "Ideal/G",
          "Fair/F",
          "Good/F",
          "Good/J",
          "Ideal/J",
          "Fair/I",
          "Good/H",
          "Very Good/H",
          "Ideal/H",
          "Fair/H",
          "Good/G",
          "Premium/J",
          "Very Good/H",
          "Very Good/J",
          "",
          "Good/D",
          "Very Good/J",
          "Premium/J",
          "Ideal/H",
          "Ideal/E",
          "Fair/G",
          "Good/G",
          "Very Good/G",
          "Fair/F",
          "Premium/F",
          "Fair/E",
          "Ideal/E",
          "Good/D",
          "Ideal/F",
          "Very Good/I",
          "Premium/G",
          "Fair/F",
          "Good",
          "Fair/J",
          "Good/D",
          "Fair/D",
          "Ideal/F",
          "Very Good/H",
          "Fair",
          "Very Good/G",
          "Ideal/G",
          "Good",
          "Premium",
          "Fair",
          "Premium",
          "Ideal/I",
          "Ideal/E",
          "Premium/E",
          "Premium/F",
          "Good",
          "Very Good/F",
          "Very Good/J",
          "Premium/D",
          "Fair",
          "Ideal/I",
          "Good/E",
          "Good/J",
          "Ideal/D",
          "Good",
          "Premium/D",
          "Good/D",
          "Ideal/D",
          "Ideal/H",
          "Fair/I",
          "Good/F",
          "Very Good/E",
          "Good/E",
          "Fair/E",
          "Ideal/J",
          "Ideal/F",
          "Very Good/J",
          "Very Good/D",
          "Very Good/I",
          "Very Good/G",
          "Good/H",
          "Premium/G",
          "Premium/E",
          "Good/G",
          "Good/J",
          "Fair/H",
          "Premium/D",
          "Ideal/I",
          "Very Good/G",
          "Fair/I",
          "Fair/E",
          "Premium/D",
          "Good/G",
          "Good/J",
          "Fair",
          "Fair/I",
          "Good/J",
          "Ideal",
          "Fair/I",
          "Good/H",
          "Premium/H",
          "Fair",
          "Fair/I",
          "Very Good/E",
          "Fair/E",
          "Premium",
          "Very Good/D",
          "Very Good/H",
          "Very Good",
          "Premium/E",
          "Fair/H",
          "Very Good/F",
          "Good/H",
          "Ideal/E",
          "Premium/H",
          "Premium/H",
          "Fair/F",
          "Premium/F",
          "Fair/E",
          "Ideal/I",
          "Good/D",
          "Ideal/I",
          "Very Good/D",
          "Premium/G",
          "Fair/D",
          "Ideal",
          "Very Good/J",
          "Very Good/E",
          "",
          "Good/E",
          "Fair",
          "Very Good",
          "Ideal",
          "Very Good/D",
          "Fair/I",
          "Ideal/D",
          "Fair/J",
          "Good/D",
          "Ideal",
          "Very Good",
          "Premium/E",
          "Premium/J",
          "Fair/D",
          "Very Good/F",
          "Ideal/H",
          "Ideal/H",
          "Premium/I",
          "Premium",
          "Premium/G",
          "Very Good/I",
          "Premium/I",
          "Very Good/G",
          "Premium/G",
          "Premium/F",
          "Very Good/H",
          "Good/F",
          "Very Good/E",
          "Good/I",
          "Fair/G",
          "Very Good/J",
          "Fair/H",
          "Ideal/E",
          "Ideal/I",
          "Good/H",
          "Premium/E",
          "Very Good/I",
          "Fair/H",
          "Premium/F",
          "Very Good/D",
          "Very Good/J",
          "Ideal/F",
          "Premium/H",
          "Fair/D",
          "Fair/G",
          "Good/G",
          "Ideal/E",
          "Good/F",
          "Ideal/F",
          "Good/H",
          "Very Good/G"
         ],
         "type": "sunburst",
         "values": [
          242300,
          561574,
          548039,
          2763665,
          2241474,
          402290,
          889784,
          0,
          2915823,
          1862110,
          325446,
          33621,
          1027800,
          3922132,
          339566,
          81956,
          1129175,
          1247463,
          58321,
          141893,
          153811,
          6649,
          603523,
          1674737,
          10496,
          608422,
          222584,
          3001931,
          8177367,
          12912518,
          824838,
          3194260,
          112822,
          7450854,
          3923423,
          2456604,
          1180000,
          1081779,
          598522,
          971865,
          176288,
          963801,
          2510676,
          127752,
          2208997,
          247854,
          716018,
          218394,
          432285,
          93560,
          2064652,
          951620,
          123396,
          473508,
          367951,
          14606,
          1086735,
          982132,
          1650407,
          75758,
          101157,
          51117,
          60720,
          168936,
          205777,
          121071,
          48361,
          18908,
          59504,
          10138238,
          7715165,
          3591553,
          12311428,
          8491146,
          29532,
          2435695,
          45825,
          138559,
          854771,
          246976,
          3639501,
          3738558,
          2698868,
          71708,
          2609997,
          2235798,
          1859918,
          782586,
          1196855,
          127510,
          2482728,
          1457667,
          1215596,
          45850,
          508845,
          183881,
          1083161,
          862016,
          16428,
          1728287,
          150840,
          135390,
          40551,
          355854,
          76633,
          8593,
          9376,
          110913,
          748844,
          40182,
          312849,
          13673,
          109260,
          1691,
          236860,
          90565,
          2254249,
          389632,
          655222,
          1825021,
          1389594,
          1118569,
          2271131,
          314129,
          1148943,
          389685,
          1799426,
          1728064,
          1998029,
          890377,
          1243109,
          261643,
          453212,
          62225,
          48107623,
          63221498,
          74513487,
          8272552,
          8903461,
          10081319,
          133286,
          15178,
          313364,
          219074,
          63106,
          179600,
          64711,
          89023,
          48821,
          281224,
          721069,
          0,
          873705,
          2096558,
          2515263,
          209548,
          778555,
          84312,
          1737203,
          914831,
          7017600,
          373200,
          520751,
          890041,
          1687423,
          1296062,
          157393,
          653969,
          1628705,
          135401,
          1379831,
          46311,
          1290248,
          152933,
          2158465,
          217252,
          3285060,
          180225,
          3177637,
          94499,
          801751,
          243888,
          1963985,
          401381,
          592103,
          1536661,
          2937834,
          1404271,
          5086030,
          819953,
          13160170,
          142749,
          64069,
          95978,
          120855,
          2650994,
          1137075,
          172853,
          1831807,
          1556112,
          69756,
          330437,
          56825,
          904190,
          2254363,
          547324,
          27926,
          1942973,
          2245754,
          299611,
          697460,
          2020838,
          1122557,
          253575,
          58005,
          2255876,
          60335,
          1598056,
          1576772,
          2120445,
          611760,
          501655,
          1931278,
          795017,
          4633,
          38299,
          989662,
          1609324,
          1120959,
          112512,
          18857,
          365513,
          248285,
          190467,
          1331126,
          23957,
          407231,
          18171930,
          137249,
          53896,
          2954662,
          1194025,
          119034,
          186308,
          0,
          8270443,
          368757,
          76783,
          5250817,
          2330274,
          147352,
          491818,
          294072,
          2457536,
          1326977,
          3500571,
          23399,
          317546,
          12346,
          1970584,
          58641,
          2042562,
          155362,
          1188982,
          32463,
          4406695,
          767091,
          1904354,
          19275009,
          764669,
          699443,
          6328079,
          9317974,
          517209,
          4194,
          1837959,
          2998,
          90273,
          12115278,
          3460182,
          122187,
          173865,
          13419,
          55288,
          448105,
          624611,
          54247,
          5820962,
          186370,
          1324320,
          2230327,
          516673,
          288067,
          2613088,
          234852,
          159618,
          905182,
          37579,
          52684,
          35827,
          4115,
          738849,
          364157,
          53311,
          283485,
          77784,
          0,
          112145,
          13114,
          979901,
          163945,
          162821,
          4859,
          2976,
          89323,
          257456,
          46993,
          577194,
          23795,
          278494
         ]
        }
       ],
       "layout": {
        "legend": {
         "tracegroupgap": 0
        },
        "margin": {
         "t": 60
        },
        "template": {
         "data": {
          "bar": [
           {
            "error_x": {
             "color": "#2a3f5f"
            },
            "error_y": {
             "color": "#2a3f5f"
            },
            "marker": {
             "line": {
              "color": "#E5ECF6",
              "width": 0.5
             },
             "pattern": {
              "fillmode": "overlay",
              "size": 10,
              "solidity": 0.2
             }
            },
            "type": "bar"
           }
          ],
          "barpolar": [
           {
            "marker": {
             "line": {
              "color": "#E5ECF6",
              "width": 0.5
             },
             "pattern": {
              "fillmode": "overlay",
              "size": 10,
              "solidity": 0.2
             }
            },
            "type": "barpolar"
           }
          ],
          "carpet": [
           {
            "aaxis": {
             "endlinecolor": "#2a3f5f",
             "gridcolor": "white",
             "linecolor": "white",
             "minorgridcolor": "white",
             "startlinecolor": "#2a3f5f"
            },
            "baxis": {
             "endlinecolor": "#2a3f5f",
             "gridcolor": "white",
             "linecolor": "white",
             "minorgridcolor": "white",
             "startlinecolor": "#2a3f5f"
            },
            "type": "carpet"
           }
          ],
          "choropleth": [
           {
            "colorbar": {
             "outlinewidth": 0,
             "ticks": ""
            },
            "type": "choropleth"
           }
          ],
          "contour": [
           {
            "colorbar": {
             "outlinewidth": 0,
             "ticks": ""
            },
            "colorscale": [
             [
              0,
              "#0d0887"
             ],
             [
              0.1111111111111111,
              "#46039f"
             ],
             [
              0.2222222222222222,
              "#7201a8"
             ],
             [
              0.3333333333333333,
              "#9c179e"
             ],
             [
              0.4444444444444444,
              "#bd3786"
             ],
             [
              0.5555555555555556,
              "#d8576b"
             ],
             [
              0.6666666666666666,
              "#ed7953"
             ],
             [
              0.7777777777777778,
              "#fb9f3a"
             ],
             [
              0.8888888888888888,
              "#fdca26"
             ],
             [
              1,
              "#f0f921"
             ]
            ],
            "type": "contour"
           }
          ],
          "contourcarpet": [
           {
            "colorbar": {
             "outlinewidth": 0,
             "ticks": ""
            },
            "type": "contourcarpet"
           }
          ],
          "heatmap": [
           {
            "colorbar": {
             "outlinewidth": 0,
             "ticks": ""
            },
            "colorscale": [
             [
              0,
              "#0d0887"
             ],
             [
              0.1111111111111111,
              "#46039f"
             ],
             [
              0.2222222222222222,
              "#7201a8"
             ],
             [
              0.3333333333333333,
              "#9c179e"
             ],
             [
              0.4444444444444444,
              "#bd3786"
             ],
             [
              0.5555555555555556,
              "#d8576b"
             ],
             [
              0.6666666666666666,
              "#ed7953"
             ],
             [
              0.7777777777777778,
              "#fb9f3a"
             ],
             [
              0.8888888888888888,
              "#fdca26"
             ],
             [
              1,
              "#f0f921"
             ]
            ],
            "type": "heatmap"
           }
          ],
          "heatmapgl": [
           {
            "colorbar": {
             "outlinewidth": 0,
             "ticks": ""
            },
            "colorscale": [
             [
              0,
              "#0d0887"
             ],
             [
              0.1111111111111111,
              "#46039f"
             ],
             [
              0.2222222222222222,
              "#7201a8"
             ],
             [
              0.3333333333333333,
              "#9c179e"
             ],
             [
              0.4444444444444444,
              "#bd3786"
             ],
             [
              0.5555555555555556,
              "#d8576b"
             ],
             [
              0.6666666666666666,
              "#ed7953"
             ],
             [
              0.7777777777777778,
              "#fb9f3a"
             ],
             [
              0.8888888888888888,
              "#fdca26"
             ],
             [
              1,
              "#f0f921"
             ]
            ],
            "type": "heatmapgl"
           }
          ],
          "histogram": [
           {
            "marker": {
             "pattern": {
              "fillmode": "overlay",
              "size": 10,
              "solidity": 0.2
             }
            },
            "type": "histogram"
           }
          ],
          "histogram2d": [
           {
            "colorbar": {
             "outlinewidth": 0,
             "ticks": ""
            },
            "colorscale": [
             [
              0,
              "#0d0887"
             ],
             [
              0.1111111111111111,
              "#46039f"
             ],
             [
              0.2222222222222222,
              "#7201a8"
             ],
             [
              0.3333333333333333,
              "#9c179e"
             ],
             [
              0.4444444444444444,
              "#bd3786"
             ],
             [
              0.5555555555555556,
              "#d8576b"
             ],
             [
              0.6666666666666666,
              "#ed7953"
             ],
             [
              0.7777777777777778,
              "#fb9f3a"
             ],
             [
              0.8888888888888888,
              "#fdca26"
             ],
             [
              1,
              "#f0f921"
             ]
            ],
            "type": "histogram2d"
           }
          ],
          "histogram2dcontour": [
           {
            "colorbar": {
             "outlinewidth": 0,
             "ticks": ""
            },
            "colorscale": [
             [
              0,
              "#0d0887"
             ],
             [
              0.1111111111111111,
              "#46039f"
             ],
             [
              0.2222222222222222,
              "#7201a8"
             ],
             [
              0.3333333333333333,
              "#9c179e"
             ],
             [
              0.4444444444444444,
              "#bd3786"
             ],
             [
              0.5555555555555556,
              "#d8576b"
             ],
             [
              0.6666666666666666,
              "#ed7953"
             ],
             [
              0.7777777777777778,
              "#fb9f3a"
             ],
             [
              0.8888888888888888,
              "#fdca26"
             ],
             [
              1,
              "#f0f921"
             ]
            ],
            "type": "histogram2dcontour"
           }
          ],
          "mesh3d": [
           {
            "colorbar": {
             "outlinewidth": 0,
             "ticks": ""
            },
            "type": "mesh3d"
           }
          ],
          "parcoords": [
           {
            "line": {
             "colorbar": {
              "outlinewidth": 0,
              "ticks": ""
             }
            },
            "type": "parcoords"
           }
          ],
          "pie": [
           {
            "automargin": true,
            "type": "pie"
           }
          ],
          "scatter": [
           {
            "fillpattern": {
             "fillmode": "overlay",
             "size": 10,
             "solidity": 0.2
            },
            "type": "scatter"
           }
          ],
          "scatter3d": [
           {
            "line": {
             "colorbar": {
              "outlinewidth": 0,
              "ticks": ""
             }
            },
            "marker": {
             "colorbar": {
              "outlinewidth": 0,
              "ticks": ""
             }
            },
            "type": "scatter3d"
           }
          ],
          "scattercarpet": [
           {
            "marker": {
             "colorbar": {
              "outlinewidth": 0,
              "ticks": ""
             }
            },
            "type": "scattercarpet"
           }
          ],
          "scattergeo": [
           {
            "marker": {
             "colorbar": {
              "outlinewidth": 0,
              "ticks": ""
             }
            },
            "type": "scattergeo"
           }
          ],
          "scattergl": [
           {
            "marker": {
             "colorbar": {
              "outlinewidth": 0,
              "ticks": ""
             }
            },
            "type": "scattergl"
           }
          ],
          "scattermapbox": [
           {
            "marker": {
             "colorbar": {
              "outlinewidth": 0,
              "ticks": ""
             }
            },
            "type": "scattermapbox"
           }
          ],
          "scatterpolar": [
           {
            "marker": {
             "colorbar": {
              "outlinewidth": 0,
              "ticks": ""
             }
            },
            "type": "scatterpolar"
           }
          ],
          "scatterpolargl": [
           {
            "marker": {
             "colorbar": {
              "outlinewidth": 0,
              "ticks": ""
             }
            },
            "type": "scatterpolargl"
           }
          ],
          "scatterternary": [
           {
            "marker": {
             "colorbar": {
              "outlinewidth": 0,
              "ticks": ""
             }
            },
            "type": "scatterternary"
           }
          ],
          "surface": [
           {
            "colorbar": {
             "outlinewidth": 0,
             "ticks": ""
            },
            "colorscale": [
             [
              0,
              "#0d0887"
             ],
             [
              0.1111111111111111,
              "#46039f"
             ],
             [
              0.2222222222222222,
              "#7201a8"
             ],
             [
              0.3333333333333333,
              "#9c179e"
             ],
             [
              0.4444444444444444,
              "#bd3786"
             ],
             [
              0.5555555555555556,
              "#d8576b"
             ],
             [
              0.6666666666666666,
              "#ed7953"
             ],
             [
              0.7777777777777778,
              "#fb9f3a"
             ],
             [
              0.8888888888888888,
              "#fdca26"
             ],
             [
              1,
              "#f0f921"
             ]
            ],
            "type": "surface"
           }
          ],
          "table": [
           {
            "cells": {
             "fill": {
              "color": "#EBF0F8"
             },
             "line": {
              "color": "white"
             }
            },
            "header": {
             "fill": {
              "color": "#C8D4E3"
             },
             "line": {
              "color": "white"
             }
            },
            "type": "table"
           }
          ]
         },
         "layout": {
          "annotationdefaults": {
           "arrowcolor": "#2a3f5f",
           "arrowhead": 0,
           "arrowwidth": 1
          },
          "autotypenumbers": "strict",
          "coloraxis": {
           "colorbar": {
            "outlinewidth": 0,
            "ticks": ""
           }
          },
          "colorscale": {
           "diverging": [
            [
             0,
             "#8e0152"
            ],
            [
             0.1,
             "#c51b7d"
            ],
            [
             0.2,
             "#de77ae"
            ],
            [
             0.3,
             "#f1b6da"
            ],
            [
             0.4,
             "#fde0ef"
            ],
            [
             0.5,
             "#f7f7f7"
            ],
            [
             0.6,
             "#e6f5d0"
            ],
            [
             0.7,
             "#b8e186"
            ],
            [
             0.8,
             "#7fbc41"
            ],
            [
             0.9,
             "#4d9221"
            ],
            [
             1,
             "#276419"
            ]
           ],
           "sequential": [
            [
             0,
             "#0d0887"
            ],
            [
             0.1111111111111111,
             "#46039f"
            ],
            [
             0.2222222222222222,
             "#7201a8"
            ],
            [
             0.3333333333333333,
             "#9c179e"
            ],
            [
             0.4444444444444444,
             "#bd3786"
            ],
            [
             0.5555555555555556,
             "#d8576b"
            ],
            [
             0.6666666666666666,
             "#ed7953"
            ],
            [
             0.7777777777777778,
             "#fb9f3a"
            ],
            [
             0.8888888888888888,
             "#fdca26"
            ],
            [
             1,
             "#f0f921"
            ]
           ],
           "sequentialminus": [
            [
             0,
             "#0d0887"
            ],
            [
             0.1111111111111111,
             "#46039f"
            ],
            [
             0.2222222222222222,
             "#7201a8"
            ],
            [
             0.3333333333333333,
             "#9c179e"
            ],
            [
             0.4444444444444444,
             "#bd3786"
            ],
            [
             0.5555555555555556,
             "#d8576b"
            ],
            [
             0.6666666666666666,
             "#ed7953"
            ],
            [
             0.7777777777777778,
             "#fb9f3a"
            ],
            [
             0.8888888888888888,
             "#fdca26"
            ],
            [
             1,
             "#f0f921"
            ]
           ]
          },
          "colorway": [
           "#636efa",
           "#EF553B",
           "#00cc96",
           "#ab63fa",
           "#FFA15A",
           "#19d3f3",
           "#FF6692",
           "#B6E880",
           "#FF97FF",
           "#FECB52"
          ],
          "font": {
           "color": "#2a3f5f"
          },
          "geo": {
           "bgcolor": "white",
           "lakecolor": "white",
           "landcolor": "#E5ECF6",
           "showlakes": true,
           "showland": true,
           "subunitcolor": "white"
          },
          "hoverlabel": {
           "align": "left"
          },
          "hovermode": "closest",
          "mapbox": {
           "style": "light"
          },
          "paper_bgcolor": "white",
          "plot_bgcolor": "#E5ECF6",
          "polar": {
           "angularaxis": {
            "gridcolor": "white",
            "linecolor": "white",
            "ticks": ""
           },
           "bgcolor": "#E5ECF6",
           "radialaxis": {
            "gridcolor": "white",
            "linecolor": "white",
            "ticks": ""
           }
          },
          "scene": {
           "xaxis": {
            "backgroundcolor": "#E5ECF6",
            "gridcolor": "white",
            "gridwidth": 2,
            "linecolor": "white",
            "showbackground": true,
            "ticks": "",
            "zerolinecolor": "white"
           },
           "yaxis": {
            "backgroundcolor": "#E5ECF6",
            "gridcolor": "white",
            "gridwidth": 2,
            "linecolor": "white",
            "showbackground": true,
            "ticks": "",
            "zerolinecolor": "white"
           },
           "zaxis": {
            "backgroundcolor": "#E5ECF6",
            "gridcolor": "white",
            "gridwidth": 2,
            "linecolor": "white",
            "showbackground": true,
            "ticks": "",
            "zerolinecolor": "white"
           }
          },
          "shapedefaults": {
           "line": {
            "color": "#2a3f5f"
           }
          },
          "ternary": {
           "aaxis": {
            "gridcolor": "white",
            "linecolor": "white",
            "ticks": ""
           },
           "baxis": {
            "gridcolor": "white",
            "linecolor": "white",
            "ticks": ""
           },
           "bgcolor": "#E5ECF6",
           "caxis": {
            "gridcolor": "white",
            "linecolor": "white",
            "ticks": ""
           }
          },
          "title": {
           "x": 0.05
          },
          "xaxis": {
           "automargin": true,
           "gridcolor": "white",
           "linecolor": "white",
           "ticks": "",
           "title": {
            "standoff": 15
           },
           "zerolinecolor": "white",
           "zerolinewidth": 2
          },
          "yaxis": {
           "automargin": true,
           "gridcolor": "white",
           "linecolor": "white",
           "ticks": "",
           "title": {
            "standoff": 15
           },
           "zerolinecolor": "white",
           "zerolinewidth": 2
          }
         }
        }
       }
      }
     },
     "metadata": {},
     "output_type": "display_data"
    }
   ],
   "source": [
    "fig=px.sunburst(diamonds,path=['cut', 'color', 'clarity'],  #esky path me categorical variables aty hy numeric ni\n",
    "                 values='price',color='color',hover_data=['carat']\n",
    "                 )\n",
    "fig.show()  "
   ]
  },
  {
   "cell_type": "code",
   "execution_count": 8,
   "metadata": {},
   "outputs": [
    {
     "data": {
      "application/vnd.plotly.v1+json": {
       "config": {
        "plotlyServerURL": "https://plot.ly"
       },
       "data": [
        {
         "branchvalues": "total",
         "customdata": [
          [
           "(?)",
           "Fair"
          ],
          [
           "(?)",
           "Premium"
          ],
          [
           "(?)",
           "Fair"
          ],
          [
           "(?)",
           "Premium"
          ],
          [
           "(?)",
           "Ideal"
          ],
          [
           "(?)",
           "Fair"
          ],
          [
           "(?)",
           "Good"
          ],
          [
           "(?)",
           "Fair"
          ],
          [
           "(?)",
           "Good"
          ],
          [
           "(?)",
           "Good"
          ],
          [
           "(?)",
           "Premium"
          ],
          [
           "(?)",
           "Very Good"
          ],
          [
           "(?)",
           "Very Good"
          ],
          [
           "(?)",
           "Good"
          ],
          [
           "(?)",
           "Very Good"
          ],
          [
           "(?)",
           "Very Good"
          ],
          [
           "(?)",
           "Good"
          ],
          [
           "(?)",
           "Very Good"
          ],
          [
           "(?)",
           "Premium"
          ],
          [
           "(?)",
           "Ideal"
          ],
          [
           "(?)",
           "Ideal"
          ],
          [
           "(?)",
           "Fair"
          ],
          [
           "(?)",
           "Fair"
          ],
          [
           "(?)",
           "Good"
          ],
          [
           "(?)",
           "Fair"
          ],
          [
           "(?)",
           "Fair"
          ],
          [
           "(?)",
           "Ideal"
          ],
          [
           0.91,
           "Fair"
          ],
          [
           "(?)",
           "Premium"
          ],
          [
           "(?)",
           "Fair"
          ],
          [
           "(?)",
           "Fair"
          ],
          [
           "(?)",
           "Fair"
          ],
          [
           "(?)",
           "Good"
          ],
          [
           "(?)",
           "Good"
          ],
          [
           "(?)",
           "Premium"
          ],
          [
           "(?)",
           "Fair"
          ],
          [
           "(?)",
           "Premium"
          ],
          [
           "(?)",
           "Very Good"
          ],
          [
           "(?)",
           "Very Good"
          ],
          [
           "(?)",
           "Ideal"
          ],
          [
           "(?)",
           "Very Good"
          ],
          [
           "(?)",
           "Fair"
          ],
          [
           "(?)",
           "Fair"
          ],
          [
           "(?)",
           "Ideal"
          ],
          [
           "(?)",
           "Good"
          ],
          [
           "(?)",
           "Ideal"
          ],
          [
           "(?)",
           "Ideal"
          ],
          [
           "(?)",
           "Ideal"
          ],
          [
           "(?)",
           "Ideal"
          ],
          [
           "(?)",
           "Fair"
          ],
          [
           "(?)",
           "Premium"
          ],
          [
           "(?)",
           "Ideal"
          ],
          [
           "(?)",
           "Very Good"
          ],
          [
           "(?)",
           "Good"
          ],
          [
           "(?)",
           "Ideal"
          ],
          [
           "(?)",
           "Premium"
          ],
          [
           "(?)",
           "Ideal"
          ],
          [
           "(?)",
           "Ideal"
          ],
          [
           "(?)",
           "Very Good"
          ],
          [
           "(?)",
           "Ideal"
          ],
          [
           "(?)",
           "Fair"
          ],
          [
           "(?)",
           "Good"
          ],
          [
           "(?)",
           "Fair"
          ],
          [
           "(?)",
           "Fair"
          ],
          [
           "(?)",
           "Fair"
          ],
          [
           "(?)",
           "Premium"
          ],
          [
           "(?)",
           "Good"
          ],
          [
           "(?)",
           "Very Good"
          ],
          [
           "(?)",
           "Ideal"
          ],
          [
           "(?)",
           "Premium"
          ],
          [
           "(?)",
           "Good"
          ],
          [
           "(?)",
           "Fair"
          ],
          [
           "(?)",
           "Good"
          ],
          [
           "(?)",
           "Good"
          ],
          [
           "(?)",
           "Ideal"
          ],
          [
           "(?)",
           "Fair"
          ],
          [
           "(?)",
           "Good"
          ],
          [
           "(?)",
           "Good"
          ],
          [
           "(?)",
           "Fair"
          ],
          [
           "(?)",
           "Good"
          ],
          [
           "(?)",
           "Premium"
          ],
          [
           "(?)",
           "Very Good"
          ],
          [
           "(?)",
           "Good"
          ],
          [
           "(?)",
           "Fair"
          ],
          [
           "(?)",
           "Ideal"
          ],
          [
           "(?)",
           "Ideal"
          ],
          [
           "(?)",
           "Very Good"
          ],
          [
           "(?)",
           "Good"
          ],
          [
           "(?)",
           "Good"
          ],
          [
           "(?)",
           "Fair"
          ],
          [
           "(?)",
           "Very Good"
          ],
          [
           "(?)",
           "Good"
          ],
          [
           "(?)",
           "Ideal"
          ],
          [
           "(?)",
           "Premium"
          ],
          [
           "(?)",
           "Fair"
          ],
          [
           "(?)",
           "Ideal"
          ],
          [
           "(?)",
           "Very Good"
          ],
          [
           "(?)",
           "Good"
          ],
          [
           "(?)",
           "Very Good"
          ],
          [
           "(?)",
           "Fair"
          ],
          [
           "(?)",
           "Very Good"
          ],
          [
           "(?)",
           "Good"
          ],
          [
           "(?)",
           "Fair"
          ],
          [
           "(?)",
           "Premium"
          ],
          [
           "(?)",
           "Very Good"
          ],
          [
           "(?)",
           "Ideal"
          ],
          [
           "(?)",
           "Premium"
          ],
          [
           "(?)",
           "Fair"
          ],
          [
           "(?)",
           "Good"
          ],
          [
           "(?)",
           "Fair"
          ],
          [
           "(?)",
           "Very Good"
          ],
          [
           "(?)",
           "Ideal"
          ],
          [
           "(?)",
           "Good"
          ],
          [
           "(?)",
           "Fair"
          ],
          [
           "(?)",
           "Ideal"
          ],
          [
           "(?)",
           "Premium"
          ],
          [
           "(?)",
           "Fair"
          ],
          [
           "(?)",
           "Good"
          ],
          [
           "(?)",
           "Fair"
          ],
          [
           "(?)",
           "Ideal"
          ],
          [
           "(?)",
           "Ideal"
          ],
          [
           "(?)",
           "Good"
          ],
          [
           "(?)",
           "Very Good"
          ],
          [
           1.01,
           "Fair"
          ],
          [
           "(?)",
           "Ideal"
          ],
          [
           "(?)",
           "Very Good"
          ],
          [
           "(?)",
           "Premium"
          ],
          [
           "(?)",
           "Very Good"
          ],
          [
           "(?)",
           "Good"
          ],
          [
           "(?)",
           "Very Good"
          ],
          [
           "(?)",
           "Very Good"
          ],
          [
           "(?)",
           "Premium"
          ],
          [
           "(?)",
           "Premium"
          ],
          [
           "(?)",
           "Very Good"
          ],
          [
           "(?)",
           "Ideal"
          ],
          [
           "(?)",
           "Good"
          ],
          [
           "(?)",
           "Ideal"
          ],
          [
           "(?)",
           "Fair"
          ],
          [
           "(?)",
           "Very Good"
          ],
          [
           "(?)",
           "Ideal"
          ],
          [
           "(?)",
           "Premium"
          ],
          [
           "(?)",
           "Ideal"
          ],
          [
           "(?)",
           "Premium"
          ],
          [
           "(?)",
           "Ideal"
          ],
          [
           "(?)",
           "Fair"
          ],
          [
           "(?)",
           "Premium"
          ],
          [
           "(?)",
           "Good"
          ],
          [
           "(?)",
           "Fair"
          ],
          [
           "(?)",
           "Very Good"
          ],
          [
           "(?)",
           "Ideal"
          ],
          [
           "(?)",
           "Good"
          ],
          [
           "(?)",
           "Fair"
          ],
          [
           "(?)",
           "Premium"
          ],
          [
           "(?)",
           "Very Good"
          ],
          [
           "(?)",
           "Good"
          ],
          [
           "(?)",
           "Premium"
          ],
          [
           "(?)",
           "Ideal"
          ],
          [
           "(?)",
           "Premium"
          ],
          [
           0.9,
           "Fair"
          ],
          [
           "(?)",
           "Ideal"
          ],
          [
           1,
           "Good"
          ],
          [
           "(?)",
           "Premium"
          ],
          [
           0.7,
           "Fair"
          ],
          [
           "(?)",
           "Ideal"
          ],
          [
           "(?)",
           "Very Good"
          ],
          [
           "(?)",
           "Premium"
          ],
          [
           "(?)",
           "Premium"
          ],
          [
           "(?)",
           "Very Good"
          ],
          [
           "(?)",
           "Very Good"
          ],
          [
           "(?)",
           "Very Good"
          ],
          [
           "(?)",
           "Premium"
          ],
          [
           "(?)",
           "Good"
          ],
          [
           "(?)",
           "Premium"
          ],
          [
           "(?)",
           "Premium"
          ],
          [
           "(?)",
           "Very Good"
          ],
          [
           "(?)",
           "Fair"
          ],
          [
           "(?)",
           "Ideal"
          ],
          [
           "(?)",
           "Very Good"
          ],
          [
           "(?)",
           "Ideal"
          ],
          [
           "(?)",
           "Fair"
          ],
          [
           "(?)",
           "Good"
          ],
          [
           "(?)",
           "Premium"
          ],
          [
           "(?)",
           "Fair"
          ],
          [
           "(?)",
           "Good"
          ],
          [
           "(?)",
           "Very Good"
          ],
          [
           "(?)",
           "Premium"
          ],
          [
           "(?)",
           "Ideal"
          ],
          [
           "(?)",
           "Very Good"
          ],
          [
           "(?)",
           "Good"
          ],
          [
           "(?)",
           "Very Good"
          ],
          [
           "(?)",
           "Premium"
          ],
          [
           "(?)",
           "Fair"
          ],
          [
           "(?)",
           "Good"
          ],
          [
           "(?)",
           "Ideal"
          ],
          [
           "(?)",
           "Fair"
          ],
          [
           "(?)",
           "Very Good"
          ],
          [
           "(?)",
           "Fair"
          ],
          [
           "(?)",
           "Good"
          ],
          [
           "(?)",
           "Ideal"
          ],
          [
           "(?)",
           "Premium"
          ],
          [
           "(?)",
           "Fair"
          ],
          [
           "(?)",
           "Fair"
          ],
          [
           "(?)",
           "Premium"
          ],
          [
           "(?)",
           "Very Good"
          ],
          [
           "(?)",
           "Good"
          ],
          [
           "(?)",
           "Premium"
          ],
          [
           "(?)",
           "Fair"
          ],
          [
           "(?)",
           "Ideal"
          ],
          [
           "(?)",
           "Fair"
          ],
          [
           "(?)",
           "Good"
          ],
          [
           "(?)",
           "Premium"
          ],
          [
           "(?)",
           "Good"
          ],
          [
           "(?)",
           "Very Good"
          ],
          [
           "(?)",
           "Ideal"
          ],
          [
           "(?)",
           "Good"
          ],
          [
           "(?)",
           "Premium"
          ],
          [
           "(?)",
           "Ideal"
          ],
          [
           "(?)",
           "Premium"
          ],
          [
           "(?)",
           "Very Good"
          ],
          [
           "(?)",
           "Ideal"
          ],
          [
           "(?)",
           "Premium"
          ],
          [
           "(?)",
           "Ideal"
          ],
          [
           "(?)",
           "Very Good"
          ],
          [
           "(?)",
           "Good"
          ],
          [
           "(?)",
           "Ideal"
          ],
          [
           "(?)",
           "Very Good"
          ],
          [
           "(?)",
           "Fair"
          ],
          [
           "(?)",
           "Good"
          ],
          [
           "(?)",
           "Good"
          ],
          [
           "(?)",
           "Very Good"
          ],
          [
           "(?)",
           "Premium"
          ],
          [
           "(?)",
           "Ideal"
          ],
          [
           "(?)",
           "Very Good"
          ],
          [
           "(?)",
           "Very Good"
          ],
          [
           "(?)",
           "Premium"
          ],
          [
           "(?)",
           "Ideal"
          ],
          [
           "(?)",
           "Ideal"
          ],
          [
           "(?)",
           "Good"
          ],
          [
           "(?)",
           "Very Good"
          ],
          [
           "(?)",
           "Premium"
          ],
          [
           "(?)",
           "Very Good"
          ],
          [
           "(?)",
           "Premium"
          ],
          [
           null,
           null
          ],
          [
           "(?)",
           "Very Good"
          ],
          [
           "(?)",
           "Good"
          ],
          [
           "(?)",
           "Ideal"
          ],
          [
           "(?)",
           "Very Good"
          ],
          [
           "(?)",
           "Good"
          ],
          [
           "(?)",
           "Premium"
          ],
          [
           "(?)",
           "Good"
          ],
          [
           "(?)",
           "Good"
          ],
          [
           "(?)",
           "Fair"
          ],
          [
           "(?)",
           "Premium"
          ],
          [
           "(?)",
           "Very Good"
          ],
          [
           "(?)",
           "Good"
          ],
          [
           "(?)",
           "Ideal"
          ],
          [
           "(?)",
           "Premium"
          ],
          [
           "(?)",
           "Very Good"
          ],
          [
           "(?)",
           "Ideal"
          ],
          [
           null,
           null
          ],
          [
           "(?)",
           "Premium"
          ],
          [
           "(?)",
           "Very Good"
          ],
          [
           "(?)",
           "Very Good"
          ],
          [
           "(?)",
           "Premium"
          ],
          [
           "(?)",
           "Fair"
          ],
          [
           "(?)",
           "Good"
          ],
          [
           "(?)",
           "Fair"
          ],
          [
           "(?)",
           "Premium"
          ],
          [
           "(?)",
           "Fair"
          ],
          [
           "(?)",
           "Premium"
          ],
          [
           "(?)",
           "Premium"
          ],
          [
           "(?)",
           "Ideal"
          ],
          [
           "(?)",
           "Very Good"
          ],
          [
           null,
           null
          ],
          [
           "(?)",
           "Premium"
          ],
          [
           "(?)",
           "Ideal"
          ],
          [
           "(?)",
           "Good"
          ],
          [
           "(?)",
           "Good"
          ],
          [
           "(?)",
           "Fair"
          ],
          [
           "(?)",
           "Ideal"
          ],
          [
           "(?)",
           "Good"
          ],
          [
           "(?)",
           "Very Good"
          ],
          [
           "(?)",
           "Premium"
          ],
          [
           "(?)",
           "Good"
          ],
          [
           "(?)",
           "Premium"
          ],
          [
           "(?)",
           "Premium"
          ],
          [
           "(?)",
           "Ideal"
          ],
          [
           "(?)",
           "Very Good"
          ],
          [
           "(?)",
           "Very Good"
          ],
          [
           "(?)",
           "Very Good"
          ],
          [
           "(?)",
           "Premium"
          ],
          [
           "(?)",
           "Ideal"
          ],
          [
           "(?)",
           "Good"
          ],
          [
           "(?)",
           "Good"
          ],
          [
           "(?)",
           "Fair"
          ],
          [
           "(?)",
           "Very Good"
          ],
          [
           "(?)",
           "Ideal"
          ],
          [
           "(?)",
           "Good"
          ],
          [
           "(?)",
           "Premium"
          ],
          [
           "(?)",
           "Premium"
          ],
          [
           "(?)",
           "Ideal"
          ],
          [
           "(?)",
           "Very Good"
          ],
          [
           "(?)",
           "Very Good"
          ],
          [
           "(?)",
           "Fair"
          ],
          [
           "(?)",
           "Good"
          ],
          [
           "(?)",
           "Ideal"
          ],
          [
           null,
           null
          ],
          [
           "(?)",
           "Premium"
          ],
          [
           "(?)",
           "Ideal"
          ],
          [
           "(?)",
           "Ideal"
          ],
          [
           "(?)",
           "Good"
          ],
          [
           "(?)",
           "Premium"
          ],
          [
           "(?)",
           "Very Good"
          ],
          [
           "(?)",
           "Premium"
          ],
          [
           "(?)",
           "Very Good"
          ],
          [
           "(?)",
           "Good"
          ],
          [
           "(?)",
           "Fair"
          ],
          [
           "(?)",
           "Ideal"
          ],
          [
           "(?)",
           "Premium"
          ],
          [
           "(?)",
           "Fair"
          ]
         ],
         "domain": {
          "x": [
           0,
           1
          ],
          "y": [
           0,
           1
          ]
         },
         "hovertemplate": "labels=%{label}<br>price=%{value}<br>parent=%{parent}<br>id=%{id}<br>carat=%{customdata[0]}<br>cut=%{customdata[1]}<extra></extra>",
         "ids": [
          "Fair/H/VS1",
          "Premium/H/VVS2",
          "Fair/I/SI1",
          "Premium/G",
          "Ideal/F/I1",
          "Fair/J",
          "Good/G/VS1",
          "Fair/G/VS1",
          "Good/E/IF",
          "Good/H/VS1",
          "Premium/J/SI2",
          "Very Good/I/VVS2",
          "Very Good/G/SI2",
          "Good/G",
          "Very Good/F/VVS1",
          "Very Good/D/VVS1",
          "Good/E/VVS1",
          "Very Good/E/VVS1",
          "Premium/E/I1",
          "Ideal/I/VVS2",
          "Ideal/G/SI1",
          "Fair/E/VVS1",
          "Fair/J/SI2",
          "Good/I/SI2",
          "Fair/I/VS2",
          "Fair/I/SI2",
          "Ideal/D/SI1",
          "Fair/H/VVS1",
          "Premium/F/SI2",
          "Fair/F/VVS2",
          "Fair/E/SI1",
          "Fair/F/SI1",
          "Good/I/SI1",
          "Good/J/SI2",
          "Premium/D/VVS1",
          "Fair/D/VVS2",
          "Premium/I/VVS2",
          "Very Good/I/I1",
          "Very Good/D/IF",
          "Ideal/D/VVS1",
          "Very Good/G/IF",
          "Fair/D/IF",
          "Fair/J/I1",
          "Ideal/E",
          "Good/G/IF",
          "Ideal/H/IF",
          "Ideal/I",
          "Ideal/F/IF",
          "Ideal/E/VS2",
          "Fair/D/SI1",
          "Premium/E/SI1",
          "Ideal/I/VS1",
          "Very Good/E/SI1",
          "Good/E/SI1",
          "Ideal/F/SI1",
          "Premium/G/VS1",
          "Ideal/G/VS1",
          "Ideal/E/SI1",
          "Very Good/I/VS1",
          "Ideal/J/VS2",
          "Fair/J/VS2",
          "Good/J/VS2",
          "Fair/J/VS1",
          "Fair/D/VS2",
          "Fair/E/VS2",
          "Premium/F/VS2",
          "Good/I/VS2",
          "Very Good/I/VS2",
          "Ideal/G/VS2",
          "Premium/G/VS2",
          "Good",
          "Fair/H/VS2",
          "Good/H/VS2",
          "Good/J/VS1",
          "Ideal/D/IF",
          "Fair/G/SI2",
          "Good/H/SI1",
          "Good/I/I1",
          "Fair/I/I1",
          "Good/J/I1",
          "Premium/F",
          "Very Good/F",
          "Good/F",
          "Fair/F",
          "Ideal/G",
          "Ideal/H",
          "Very Good/H",
          "Good/H",
          "Good/I",
          "Fair/I",
          "Very Good/J",
          "Good/J",
          "Ideal",
          "Premium",
          "Fair/H/I1",
          "Ideal/H/I1",
          "Very Good/G/I1",
          "Good/F/I1",
          "Very Good/J/SI1",
          "Fair/J/SI1",
          "Very Good/D/SI2",
          "Good/D/SI2",
          "Fair/D/SI2",
          "Premium/E/SI2",
          "Very Good/E/SI2",
          "Ideal/F/SI2",
          "Premium/G/SI1",
          "Fair/F/SI2",
          "Good/H/SI2",
          "Fair/H/SI2",
          "Very Good/I/SI2",
          "Ideal/J/SI2",
          "Good/D/I1",
          "Fair/D/I1",
          "Ideal/E/I1",
          "Premium/F/I1",
          "Fair/F/VS1",
          "Good/F/VS1",
          "Fair/G/VS2",
          "Ideal/J/VVS1",
          "Ideal/I/VVS1",
          "Good/F/VVS2",
          "Very Good/F/VVS2",
          "Fair/J/VVS2",
          "Ideal/D/VS1",
          "Very Good/G/VVS1",
          "Premium/E/VVS1",
          "Very Good/I/VVS1",
          "Good/I/VVS1",
          "Very Good/F/VS1",
          "Very Good/D/VS1",
          "Premium/G/VVS1",
          "Premium/G/IF",
          "Very Good/J/VVS2",
          "Ideal/H/VVS1",
          "Good/F/IF",
          "Ideal/F/VS1",
          "Fair/E/VS1",
          "Very Good/H/VVS2",
          "Ideal/H/VVS2",
          "Premium/F/IF",
          "Ideal/E/VVS1",
          "Premium/E/VS1",
          "Ideal/E/VS1",
          "Fair/D/VS1",
          "Premium/J/VVS1",
          "Good/D/VS1",
          "Fair/D/VVS1",
          "Very Good/J/SI2",
          "Ideal/D/I1",
          "Good/G/VVS1",
          "Fair/G/VVS1",
          "Premium/F/VS1",
          "Very Good/F/SI2",
          "Good/G/SI2",
          "Premium/G/SI2",
          "Ideal/G/SI2",
          "Premium/I/VVS1",
          "Fair/I/VVS1",
          "Ideal/E/SI2",
          "Good/J/VVS1",
          "Premium/D/SI2",
          "Fair/J/VVS1",
          "Ideal/J/SI1",
          "Very Good/D/VVS2",
          "Premium/H/VVS1",
          "Premium/D/I1",
          "Very Good/F/I1",
          "Very Good/E/I1",
          "Very Good",
          "Premium/D/IF",
          "Good/D/IF",
          "Premium/J",
          "Premium/I",
          "Very Good/F/IF",
          "Fair/F/IF",
          "Ideal/G/IF",
          "Very Good/G",
          "Ideal/F",
          "Fair/E",
          "Good/E",
          "Premium/I/IF",
          "Fair/D",
          "Good/D",
          "Very Good/D",
          "Premium/D",
          "Ideal/D",
          "Very Good/J/I1",
          "Good/H/I1",
          "Very Good/H/I1",
          "Premium/H/I1",
          "Fair/G/I1",
          "Good/G/I1",
          "Ideal/G/I1",
          "Fair/F/I1",
          "Very Good/I/SI1",
          "Fair/E/I1",
          "Good/E/I1",
          "Ideal/F/VVS1",
          "Premium/I/SI1",
          "Fair",
          "Fair/H/SI1",
          "Premium/G/VVS2",
          "Very Good/G/VVS2",
          "Good/G/VVS2",
          "Premium/J/VS2",
          "Fair/G/VVS2",
          "Ideal/H/VS2",
          "Fair/I/VVS2",
          "Good/G/VS2",
          "Premium/J/VVS2",
          "Good/F/VS2",
          "Very Good/F/VS2",
          "Ideal/F/VS2",
          "Good/J/VVS2",
          "Premium/D/VS2",
          "Ideal/D/VS2",
          "Premium/D/VS1",
          "Very Good/J/VS1",
          "Ideal/J/VS1",
          "Premium/H/VS1",
          "Ideal/H/VS1",
          "Very Good/E/VS1",
          "Good/D/SI1",
          "Ideal/G/VVS2",
          "Very Good/G/VS2",
          "Fair/G/SI1",
          "Good/D/VVS2",
          "Good/G/SI1",
          "Very Good/H/SI1",
          "Premium/H/SI1",
          "Ideal/H/SI1",
          "Very Good/G/SI1",
          "Very Good/F/SI1",
          "Premium/F/VVS2",
          "Ideal/I/IF",
          "Ideal/D/VVS2",
          "Good/J/SI1",
          "Very Good/E",
          "Premium/E",
          "Very Good/D/VS2",
          "Premium/E/VS2",
          "Fair/H/IF",
          "Very Good/E/VS2",
          "Good/E/VS2",
          "Ideal/D/SI2",
          "Very Good/I/IF",
          "Good/I/IF",
          "Premium/J/I1",
          "Good/D/VS2",
          "Good/H/IF",
          "Fair/G/IF",
          "Premium/H/IF",
          "Very Good/G/VS1",
          "Good/E/VS1",
          "Ideal/E/IF",
          "Premium/E/IF",
          "Very Good/E/IF",
          "Ideal/J",
          "Fair/E/IF",
          "Premium/D/VVS2",
          "Very Good/I",
          "Very Good/H/VS1",
          "Premium/I/VS1",
          "Fair/H",
          "Good/I/VS1",
          "Fair/I/VS1",
          "Premium/H",
          "Fair/G",
          "Premium/J/VS1",
          "Premium/J/SI1",
          "Ideal/J/I1",
          "Very Good/H/IF",
          "Fair/I/IF",
          "Premium/J/IF",
          "Ideal/F/VVS2",
          "Good/H/VVS2",
          "Good/E/SI2",
          "Fair/F/VVS1",
          "Ideal/G/VVS1",
          "Good/F/SI1",
          "Very Good/J/VS2",
          "Premium/F/SI1",
          "Good/E/VVS2",
          "Premium/D/SI1",
          "Premium/I/SI2",
          "Ideal/I/SI2",
          "Very Good/D/SI1",
          "Very Good/H/VVS1",
          "Very Good/H/SI2",
          "Premium/H/SI2",
          "Ideal/H/SI2",
          "Good/H/VVS1",
          "Good/F/SI2",
          "Fair/E/VVS2",
          "Very Good/D/I1",
          "Ideal/J/IF",
          "Good/F/VVS1",
          "Premium/I/VS2",
          "Premium/I/I1",
          "Ideal/I/I1",
          "Very Good/J/IF",
          "Very Good/J/VVS1",
          "Fair/F/VS2",
          "Good/J/IF",
          "Ideal/J/VVS2",
          "Fair/J/IF",
          "Premium/G/I1",
          "Ideal/I/SI1",
          "Ideal/E/VVS2",
          "Good/D/VVS1",
          "Premium/E/VVS2",
          "Very Good/E/VVS2",
          "Premium/H/VS2",
          "Very Good/H/VS2",
          "Good/I/VVS2",
          "Fair/H/VVS2",
          "Ideal/I/VS2",
          "Premium/F/VVS1",
          "Fair/E/SI2"
         ],
         "labels": [
          "VS1",
          "VVS2",
          "SI1",
          "G",
          "I1",
          "J",
          "VS1",
          "VS1",
          "IF",
          "VS1",
          "SI2",
          "VVS2",
          "SI2",
          "G",
          "VVS1",
          "VVS1",
          "VVS1",
          "VVS1",
          "I1",
          "VVS2",
          "SI1",
          "VVS1",
          "SI2",
          "SI2",
          "VS2",
          "SI2",
          "SI1",
          "VVS1",
          "SI2",
          "VVS2",
          "SI1",
          "SI1",
          "SI1",
          "SI2",
          "VVS1",
          "VVS2",
          "VVS2",
          "I1",
          "IF",
          "VVS1",
          "IF",
          "IF",
          "I1",
          "E",
          "IF",
          "IF",
          "I",
          "IF",
          "VS2",
          "SI1",
          "SI1",
          "VS1",
          "SI1",
          "SI1",
          "SI1",
          "VS1",
          "VS1",
          "SI1",
          "VS1",
          "VS2",
          "VS2",
          "VS2",
          "VS1",
          "VS2",
          "VS2",
          "VS2",
          "VS2",
          "VS2",
          "VS2",
          "VS2",
          "Good",
          "VS2",
          "VS2",
          "VS1",
          "IF",
          "SI2",
          "SI1",
          "I1",
          "I1",
          "I1",
          "F",
          "F",
          "F",
          "F",
          "G",
          "H",
          "H",
          "H",
          "I",
          "I",
          "J",
          "J",
          "Ideal",
          "Premium",
          "I1",
          "I1",
          "I1",
          "I1",
          "SI1",
          "SI1",
          "SI2",
          "SI2",
          "SI2",
          "SI2",
          "SI2",
          "SI2",
          "SI1",
          "SI2",
          "SI2",
          "SI2",
          "SI2",
          "SI2",
          "I1",
          "I1",
          "I1",
          "I1",
          "VS1",
          "VS1",
          "VS2",
          "VVS1",
          "VVS1",
          "VVS2",
          "VVS2",
          "VVS2",
          "VS1",
          "VVS1",
          "VVS1",
          "VVS1",
          "VVS1",
          "VS1",
          "VS1",
          "VVS1",
          "IF",
          "VVS2",
          "VVS1",
          "IF",
          "VS1",
          "VS1",
          "VVS2",
          "VVS2",
          "IF",
          "VVS1",
          "VS1",
          "VS1",
          "VS1",
          "VVS1",
          "VS1",
          "VVS1",
          "SI2",
          "I1",
          "VVS1",
          "VVS1",
          "VS1",
          "SI2",
          "SI2",
          "SI2",
          "SI2",
          "VVS1",
          "VVS1",
          "SI2",
          "VVS1",
          "SI2",
          "VVS1",
          "SI1",
          "VVS2",
          "VVS1",
          "I1",
          "I1",
          "I1",
          "Very Good",
          "IF",
          "IF",
          "J",
          "I",
          "IF",
          "IF",
          "IF",
          "G",
          "F",
          "E",
          "E",
          "IF",
          "D",
          "D",
          "D",
          "D",
          "D",
          "I1",
          "I1",
          "I1",
          "I1",
          "I1",
          "I1",
          "I1",
          "I1",
          "SI1",
          "I1",
          "I1",
          "VVS1",
          "SI1",
          "Fair",
          "SI1",
          "VVS2",
          "VVS2",
          "VVS2",
          "VS2",
          "VVS2",
          "VS2",
          "VVS2",
          "VS2",
          "VVS2",
          "VS2",
          "VS2",
          "VS2",
          "VVS2",
          "VS2",
          "VS2",
          "VS1",
          "VS1",
          "VS1",
          "VS1",
          "VS1",
          "VS1",
          "SI1",
          "VVS2",
          "VS2",
          "SI1",
          "VVS2",
          "SI1",
          "SI1",
          "SI1",
          "SI1",
          "SI1",
          "SI1",
          "VVS2",
          "IF",
          "VVS2",
          "SI1",
          "E",
          "E",
          "VS2",
          "VS2",
          "IF",
          "VS2",
          "VS2",
          "SI2",
          "IF",
          "IF",
          "I1",
          "VS2",
          "IF",
          "IF",
          "IF",
          "VS1",
          "VS1",
          "IF",
          "IF",
          "IF",
          "J",
          "IF",
          "VVS2",
          "I",
          "VS1",
          "VS1",
          "H",
          "VS1",
          "VS1",
          "H",
          "G",
          "VS1",
          "SI1",
          "I1",
          "IF",
          "IF",
          "IF",
          "VVS2",
          "VVS2",
          "SI2",
          "VVS1",
          "VVS1",
          "SI1",
          "VS2",
          "SI1",
          "VVS2",
          "SI1",
          "SI2",
          "SI2",
          "SI1",
          "VVS1",
          "SI2",
          "SI2",
          "SI2",
          "VVS1",
          "SI2",
          "VVS2",
          "I1",
          "IF",
          "VVS1",
          "VS2",
          "I1",
          "I1",
          "IF",
          "VVS1",
          "VS2",
          "IF",
          "VVS2",
          "IF",
          "I1",
          "SI1",
          "VVS2",
          "VVS1",
          "VVS2",
          "VVS2",
          "VS2",
          "VS2",
          "VVS2",
          "VVS2",
          "VS2",
          "VVS1",
          "SI2"
         ],
         "marker": {
          "colors": [
           "#636efa",
           "#EF553B",
           "#636efa",
           "#EF553B",
           "#00cc96",
           "#636efa",
           "#ab63fa",
           "#636efa",
           "#ab63fa",
           "#ab63fa",
           "#EF553B",
           "#FFA15A",
           "#FFA15A",
           "#ab63fa",
           "#FFA15A",
           "#FFA15A",
           "#ab63fa",
           "#FFA15A",
           "#EF553B",
           "#00cc96",
           "#00cc96",
           "#636efa",
           "#636efa",
           "#ab63fa",
           "#636efa",
           "#636efa",
           "#00cc96",
           "#636efa",
           "#EF553B",
           "#636efa",
           "#636efa",
           "#636efa",
           "#ab63fa",
           "#ab63fa",
           "#EF553B",
           "#636efa",
           "#EF553B",
           "#FFA15A",
           "#FFA15A",
           "#00cc96",
           "#FFA15A",
           "#636efa",
           "#636efa",
           "#00cc96",
           "#ab63fa",
           "#00cc96",
           "#00cc96",
           "#00cc96",
           "#00cc96",
           "#636efa",
           "#EF553B",
           "#00cc96",
           "#FFA15A",
           "#ab63fa",
           "#00cc96",
           "#EF553B",
           "#00cc96",
           "#00cc96",
           "#FFA15A",
           "#00cc96",
           "#636efa",
           "#ab63fa",
           "#636efa",
           "#636efa",
           "#636efa",
           "#EF553B",
           "#ab63fa",
           "#FFA15A",
           "#00cc96",
           "#EF553B",
           "#ab63fa",
           "#636efa",
           "#ab63fa",
           "#ab63fa",
           "#00cc96",
           "#636efa",
           "#ab63fa",
           "#ab63fa",
           "#636efa",
           "#ab63fa",
           "#EF553B",
           "#FFA15A",
           "#ab63fa",
           "#636efa",
           "#00cc96",
           "#00cc96",
           "#FFA15A",
           "#ab63fa",
           "#ab63fa",
           "#636efa",
           "#FFA15A",
           "#ab63fa",
           "#00cc96",
           "#EF553B",
           "#636efa",
           "#00cc96",
           "#FFA15A",
           "#ab63fa",
           "#FFA15A",
           "#636efa",
           "#FFA15A",
           "#ab63fa",
           "#636efa",
           "#EF553B",
           "#FFA15A",
           "#00cc96",
           "#EF553B",
           "#636efa",
           "#ab63fa",
           "#636efa",
           "#FFA15A",
           "#00cc96",
           "#ab63fa",
           "#636efa",
           "#00cc96",
           "#EF553B",
           "#636efa",
           "#ab63fa",
           "#636efa",
           "#00cc96",
           "#00cc96",
           "#ab63fa",
           "#FFA15A",
           "#636efa",
           "#00cc96",
           "#FFA15A",
           "#EF553B",
           "#FFA15A",
           "#ab63fa",
           "#FFA15A",
           "#FFA15A",
           "#EF553B",
           "#EF553B",
           "#FFA15A",
           "#00cc96",
           "#ab63fa",
           "#00cc96",
           "#636efa",
           "#FFA15A",
           "#00cc96",
           "#EF553B",
           "#00cc96",
           "#EF553B",
           "#00cc96",
           "#636efa",
           "#EF553B",
           "#ab63fa",
           "#636efa",
           "#FFA15A",
           "#00cc96",
           "#ab63fa",
           "#636efa",
           "#EF553B",
           "#FFA15A",
           "#ab63fa",
           "#EF553B",
           "#00cc96",
           "#EF553B",
           "#636efa",
           "#00cc96",
           "#ab63fa",
           "#EF553B",
           "#636efa",
           "#00cc96",
           "#FFA15A",
           "#EF553B",
           "#EF553B",
           "#FFA15A",
           "#FFA15A",
           "#FFA15A",
           "#EF553B",
           "#ab63fa",
           "#EF553B",
           "#EF553B",
           "#FFA15A",
           "#636efa",
           "#00cc96",
           "#FFA15A",
           "#00cc96",
           "#636efa",
           "#ab63fa",
           "#EF553B",
           "#636efa",
           "#ab63fa",
           "#FFA15A",
           "#EF553B",
           "#00cc96",
           "#FFA15A",
           "#ab63fa",
           "#FFA15A",
           "#EF553B",
           "#636efa",
           "#ab63fa",
           "#00cc96",
           "#636efa",
           "#FFA15A",
           "#636efa",
           "#ab63fa",
           "#00cc96",
           "#EF553B",
           "#636efa",
           "#636efa",
           "#EF553B",
           "#FFA15A",
           "#ab63fa",
           "#EF553B",
           "#636efa",
           "#00cc96",
           "#636efa",
           "#ab63fa",
           "#EF553B",
           "#ab63fa",
           "#FFA15A",
           "#00cc96",
           "#ab63fa",
           "#EF553B",
           "#00cc96",
           "#EF553B",
           "#FFA15A",
           "#00cc96",
           "#EF553B",
           "#00cc96",
           "#FFA15A",
           "#ab63fa",
           "#00cc96",
           "#FFA15A",
           "#636efa",
           "#ab63fa",
           "#ab63fa",
           "#FFA15A",
           "#EF553B",
           "#00cc96",
           "#FFA15A",
           "#FFA15A",
           "#EF553B",
           "#00cc96",
           "#00cc96",
           "#ab63fa",
           "#FFA15A",
           "#EF553B",
           "#FFA15A",
           "#EF553B",
           "#19d3f3",
           "#FFA15A",
           "#ab63fa",
           "#00cc96",
           "#FFA15A",
           "#ab63fa",
           "#EF553B",
           "#ab63fa",
           "#ab63fa",
           "#636efa",
           "#EF553B",
           "#FFA15A",
           "#ab63fa",
           "#00cc96",
           "#EF553B",
           "#FFA15A",
           "#00cc96",
           "#19d3f3",
           "#EF553B",
           "#FFA15A",
           "#FFA15A",
           "#EF553B",
           "#636efa",
           "#ab63fa",
           "#636efa",
           "#EF553B",
           "#636efa",
           "#EF553B",
           "#EF553B",
           "#00cc96",
           "#FFA15A",
           "#19d3f3",
           "#EF553B",
           "#00cc96",
           "#ab63fa",
           "#ab63fa",
           "#636efa",
           "#00cc96",
           "#ab63fa",
           "#FFA15A",
           "#EF553B",
           "#ab63fa",
           "#EF553B",
           "#EF553B",
           "#00cc96",
           "#FFA15A",
           "#FFA15A",
           "#FFA15A",
           "#EF553B",
           "#00cc96",
           "#ab63fa",
           "#ab63fa",
           "#636efa",
           "#FFA15A",
           "#00cc96",
           "#ab63fa",
           "#EF553B",
           "#EF553B",
           "#00cc96",
           "#FFA15A",
           "#FFA15A",
           "#636efa",
           "#ab63fa",
           "#00cc96",
           "#19d3f3",
           "#EF553B",
           "#00cc96",
           "#00cc96",
           "#ab63fa",
           "#EF553B",
           "#FFA15A",
           "#EF553B",
           "#FFA15A",
           "#ab63fa",
           "#636efa",
           "#00cc96",
           "#EF553B",
           "#636efa"
          ]
         },
         "name": "",
         "parents": [
          "Fair/H",
          "Premium/H",
          "Fair/I",
          "Premium",
          "Ideal/F",
          "Fair",
          "Good/G",
          "Fair/G",
          "Good/E",
          "Good/H",
          "Premium/J",
          "Very Good/I",
          "Very Good/G",
          "Good",
          "Very Good/F",
          "Very Good/D",
          "Good/E",
          "Very Good/E",
          "Premium/E",
          "Ideal/I",
          "Ideal/G",
          "Fair/E",
          "Fair/J",
          "Good/I",
          "Fair/I",
          "Fair/I",
          "Ideal/D",
          "Fair/H",
          "Premium/F",
          "Fair/F",
          "Fair/E",
          "Fair/F",
          "Good/I",
          "Good/J",
          "Premium/D",
          "Fair/D",
          "Premium/I",
          "Very Good/I",
          "Very Good/D",
          "Ideal/D",
          "Very Good/G",
          "Fair/D",
          "Fair/J",
          "Ideal",
          "Good/G",
          "Ideal/H",
          "Ideal",
          "Ideal/F",
          "Ideal/E",
          "Fair/D",
          "Premium/E",
          "Ideal/I",
          "Very Good/E",
          "Good/E",
          "Ideal/F",
          "Premium/G",
          "Ideal/G",
          "Ideal/E",
          "Very Good/I",
          "Ideal/J",
          "Fair/J",
          "Good/J",
          "Fair/J",
          "Fair/D",
          "Fair/E",
          "Premium/F",
          "Good/I",
          "Very Good/I",
          "Ideal/G",
          "Premium/G",
          "",
          "Fair/H",
          "Good/H",
          "Good/J",
          "Ideal/D",
          "Fair/G",
          "Good/H",
          "Good/I",
          "Fair/I",
          "Good/J",
          "Premium",
          "Very Good",
          "Good",
          "Fair",
          "Ideal",
          "Ideal",
          "Very Good",
          "Good",
          "Good",
          "Fair",
          "Very Good",
          "Good",
          "",
          "",
          "Fair/H",
          "Ideal/H",
          "Very Good/G",
          "Good/F",
          "Very Good/J",
          "Fair/J",
          "Very Good/D",
          "Good/D",
          "Fair/D",
          "Premium/E",
          "Very Good/E",
          "Ideal/F",
          "Premium/G",
          "Fair/F",
          "Good/H",
          "Fair/H",
          "Very Good/I",
          "Ideal/J",
          "Good/D",
          "Fair/D",
          "Ideal/E",
          "Premium/F",
          "Fair/F",
          "Good/F",
          "Fair/G",
          "Ideal/J",
          "Ideal/I",
          "Good/F",
          "Very Good/F",
          "Fair/J",
          "Ideal/D",
          "Very Good/G",
          "Premium/E",
          "Very Good/I",
          "Good/I",
          "Very Good/F",
          "Very Good/D",
          "Premium/G",
          "Premium/G",
          "Very Good/J",
          "Ideal/H",
          "Good/F",
          "Ideal/F",
          "Fair/E",
          "Very Good/H",
          "Ideal/H",
          "Premium/F",
          "Ideal/E",
          "Premium/E",
          "Ideal/E",
          "Fair/D",
          "Premium/J",
          "Good/D",
          "Fair/D",
          "Very Good/J",
          "Ideal/D",
          "Good/G",
          "Fair/G",
          "Premium/F",
          "Very Good/F",
          "Good/G",
          "Premium/G",
          "Ideal/G",
          "Premium/I",
          "Fair/I",
          "Ideal/E",
          "Good/J",
          "Premium/D",
          "Fair/J",
          "Ideal/J",
          "Very Good/D",
          "Premium/H",
          "Premium/D",
          "Very Good/F",
          "Very Good/E",
          "",
          "Premium/D",
          "Good/D",
          "Premium",
          "Premium",
          "Very Good/F",
          "Fair/F",
          "Ideal/G",
          "Very Good",
          "Ideal",
          "Fair",
          "Good",
          "Premium/I",
          "Fair",
          "Good",
          "Very Good",
          "Premium",
          "Ideal",
          "Very Good/J",
          "Good/H",
          "Very Good/H",
          "Premium/H",
          "Fair/G",
          "Good/G",
          "Ideal/G",
          "Fair/F",
          "Very Good/I",
          "Fair/E",
          "Good/E",
          "Ideal/F",
          "Premium/I",
          "",
          "Fair/H",
          "Premium/G",
          "Very Good/G",
          "Good/G",
          "Premium/J",
          "Fair/G",
          "Ideal/H",
          "Fair/I",
          "Good/G",
          "Premium/J",
          "Good/F",
          "Very Good/F",
          "Ideal/F",
          "Good/J",
          "Premium/D",
          "Ideal/D",
          "Premium/D",
          "Very Good/J",
          "Ideal/J",
          "Premium/H",
          "Ideal/H",
          "Very Good/E",
          "Good/D",
          "Ideal/G",
          "Very Good/G",
          "Fair/G",
          "Good/D",
          "Good/G",
          "Very Good/H",
          "Premium/H",
          "Ideal/H",
          "Very Good/G",
          "Very Good/F",
          "Premium/F",
          "Ideal/I",
          "Ideal/D",
          "Good/J",
          "Very Good",
          "Premium",
          "Very Good/D",
          "Premium/E",
          "Fair/H",
          "Very Good/E",
          "Good/E",
          "Ideal/D",
          "Very Good/I",
          "Good/I",
          "Premium/J",
          "Good/D",
          "Good/H",
          "Fair/G",
          "Premium/H",
          "Very Good/G",
          "Good/E",
          "Ideal/E",
          "Premium/E",
          "Very Good/E",
          "Ideal",
          "Fair/E",
          "Premium/D",
          "Very Good",
          "Very Good/H",
          "Premium/I",
          "Fair",
          "Good/I",
          "Fair/I",
          "Premium",
          "Fair",
          "Premium/J",
          "Premium/J",
          "Ideal/J",
          "Very Good/H",
          "Fair/I",
          "Premium/J",
          "Ideal/F",
          "Good/H",
          "Good/E",
          "Fair/F",
          "Ideal/G",
          "Good/F",
          "Very Good/J",
          "Premium/F",
          "Good/E",
          "Premium/D",
          "Premium/I",
          "Ideal/I",
          "Very Good/D",
          "Very Good/H",
          "Very Good/H",
          "Premium/H",
          "Ideal/H",
          "Good/H",
          "Good/F",
          "Fair/E",
          "Very Good/D",
          "Ideal/J",
          "Good/F",
          "Premium/I",
          "Premium/I",
          "Ideal/I",
          "Very Good/J",
          "Very Good/J",
          "Fair/F",
          "Good/J",
          "Ideal/J",
          "Fair/J",
          "Premium/G",
          "Ideal/I",
          "Ideal/E",
          "Good/D",
          "Premium/E",
          "Very Good/E",
          "Premium/H",
          "Very Good/H",
          "Good/I",
          "Fair/H",
          "Ideal/I",
          "Premium/F",
          "Fair/E"
         ],
         "type": "sunburst",
         "values": [
          147352,
          312849,
          137249,
          13160170,
          163945,
          592103,
          653969,
          157393,
          13673,
          294072,
          1215596,
          217252,
          1536661,
          3591553,
          491818,
          155362,
          81956,
          339566,
          95978,
          508845,
          2271131,
          12346,
          138559,
          561574,
          123396,
          299611,
          1837959,
          4115,
          2482728,
          40182,
          253575,
          314129,
          782586,
          281224,
          150840,
          32463,
          261643,
          48361,
          236860,
          389632,
          278494,
          4859,
          133286,
          10138238,
          89323,
          448105,
          9317974,
          577194,
          2457536,
          247854,
          2064652,
          1609324,
          2020838,
          1122557,
          2255876,
          2510676,
          3923423,
          2208997,
          1081779,
          1129175,
          93560,
          432285,
          94499,
          112822,
          127752,
          2613088,
          655222,
          1576772,
          3922132,
          3285060,
          19275009,
          209548,
          611760,
          190467,
          183881,
          453212,
          982132,
          37579,
          119034,
          15178,
          10081319,
          8177367,
          3177637,
          1194025,
          18171930,
          12115278,
          8272552,
          3001931,
          2650994,
          819953,
          3460182,
          1404271,
          74513487,
          63221498,
          219074,
          205777,
          51117,
          48821,
          914831,
          127510,
          1389594,
          801751,
          243888,
          2330274,
          1904354,
          1963985,
          2435695,
          402290,
          873705,
          548039,
          1324320,
          721069,
          27926,
          29532,
          64069,
          120855,
          135401,
          367951,
          242300,
          58005,
          364157,
          159618,
          862016,
          2998,
          904190,
          516673,
          283485,
          141893,
          58321,
          1137075,
          517209,
          501655,
          288067,
          172853,
          624611,
          46993,
          2158465,
          46311,
          401381,
          748844,
          112145,
          738849,
          1086735,
          1290248,
          14606,
          173865,
          152933,
          13419,
          767091,
          45850,
          110913,
          6649,
          1379831,
          1457667,
          778555,
          2763665,
          2241474,
          153811,
          4194,
          1825021,
          4633,
          1831807,
          1691,
          1243109,
          368757,
          162821,
          45825,
          55288,
          75758,
          48107623,
          90565,
          90273,
          5086030,
          8491146,
          313364,
          9376,
          1083161,
          8903461,
          12912518,
          824838,
          3194260,
          54247,
          699443,
          2254363,
          5250817,
          5820962,
          7450854,
          35827,
          53896,
          63106,
          179600,
          168936,
          60720,
          64711,
          89023,
          1859918,
          18857,
          101157,
          1148943,
          2235798,
          7017600,
          389685,
          1188982,
          1120959,
          248285,
          1247463,
          52684,
          2245754,
          23957,
          795017,
          218394,
          697460,
          1862110,
          2915823,
          56825,
          989662,
          1942973,
          547324,
          520751,
          951620,
          1326977,
          1687423,
          905182,
          716018,
          2937834,
          2120445,
          246976,
          58641,
          854771,
          2698868,
          3738558,
          3639501,
          1650407,
          1998029,
          598522,
          142749,
          1027800,
          407231,
          7715165,
          8270443,
          971865,
          1931278,
          0,
          1674737,
          603523,
          1118569,
          77784,
          10496,
          59504,
          373200,
          23795,
          2976,
          135390,
          1628705,
          330437,
          257456,
          122187,
          186308,
          4406695,
          0,
          365513,
          6328079,
          963801,
          1180000,
          1556112,
          473508,
          112512,
          12311428,
          1331126,
          890041,
          1196855,
          18908,
          76783,
          0,
          84312,
          1728287,
          109260,
          764669,
          23399,
          1728064,
          890377,
          979901,
          2456604,
          176288,
          1799426,
          2230327,
          1970584,
          1598056,
          234852,
          2096558,
          3500571,
          2515263,
          53311,
          889784,
          40551,
          13114,
          62225,
          76633,
          2254249,
          121071,
          69756,
          8593,
          60335,
          180225,
          16428,
          222584,
          0,
          186370,
          2609997,
          1296062,
          33621,
          355854,
          608422,
          2954662,
          1737203,
          71708,
          38299,
          2042562,
          317546,
          325446
         ]
        }
       ],
       "layout": {
        "legend": {
         "tracegroupgap": 0
        },
        "margin": {
         "t": 60
        },
        "template": {
         "data": {
          "bar": [
           {
            "error_x": {
             "color": "#2a3f5f"
            },
            "error_y": {
             "color": "#2a3f5f"
            },
            "marker": {
             "line": {
              "color": "#E5ECF6",
              "width": 0.5
             },
             "pattern": {
              "fillmode": "overlay",
              "size": 10,
              "solidity": 0.2
             }
            },
            "type": "bar"
           }
          ],
          "barpolar": [
           {
            "marker": {
             "line": {
              "color": "#E5ECF6",
              "width": 0.5
             },
             "pattern": {
              "fillmode": "overlay",
              "size": 10,
              "solidity": 0.2
             }
            },
            "type": "barpolar"
           }
          ],
          "carpet": [
           {
            "aaxis": {
             "endlinecolor": "#2a3f5f",
             "gridcolor": "white",
             "linecolor": "white",
             "minorgridcolor": "white",
             "startlinecolor": "#2a3f5f"
            },
            "baxis": {
             "endlinecolor": "#2a3f5f",
             "gridcolor": "white",
             "linecolor": "white",
             "minorgridcolor": "white",
             "startlinecolor": "#2a3f5f"
            },
            "type": "carpet"
           }
          ],
          "choropleth": [
           {
            "colorbar": {
             "outlinewidth": 0,
             "ticks": ""
            },
            "type": "choropleth"
           }
          ],
          "contour": [
           {
            "colorbar": {
             "outlinewidth": 0,
             "ticks": ""
            },
            "colorscale": [
             [
              0,
              "#0d0887"
             ],
             [
              0.1111111111111111,
              "#46039f"
             ],
             [
              0.2222222222222222,
              "#7201a8"
             ],
             [
              0.3333333333333333,
              "#9c179e"
             ],
             [
              0.4444444444444444,
              "#bd3786"
             ],
             [
              0.5555555555555556,
              "#d8576b"
             ],
             [
              0.6666666666666666,
              "#ed7953"
             ],
             [
              0.7777777777777778,
              "#fb9f3a"
             ],
             [
              0.8888888888888888,
              "#fdca26"
             ],
             [
              1,
              "#f0f921"
             ]
            ],
            "type": "contour"
           }
          ],
          "contourcarpet": [
           {
            "colorbar": {
             "outlinewidth": 0,
             "ticks": ""
            },
            "type": "contourcarpet"
           }
          ],
          "heatmap": [
           {
            "colorbar": {
             "outlinewidth": 0,
             "ticks": ""
            },
            "colorscale": [
             [
              0,
              "#0d0887"
             ],
             [
              0.1111111111111111,
              "#46039f"
             ],
             [
              0.2222222222222222,
              "#7201a8"
             ],
             [
              0.3333333333333333,
              "#9c179e"
             ],
             [
              0.4444444444444444,
              "#bd3786"
             ],
             [
              0.5555555555555556,
              "#d8576b"
             ],
             [
              0.6666666666666666,
              "#ed7953"
             ],
             [
              0.7777777777777778,
              "#fb9f3a"
             ],
             [
              0.8888888888888888,
              "#fdca26"
             ],
             [
              1,
              "#f0f921"
             ]
            ],
            "type": "heatmap"
           }
          ],
          "heatmapgl": [
           {
            "colorbar": {
             "outlinewidth": 0,
             "ticks": ""
            },
            "colorscale": [
             [
              0,
              "#0d0887"
             ],
             [
              0.1111111111111111,
              "#46039f"
             ],
             [
              0.2222222222222222,
              "#7201a8"
             ],
             [
              0.3333333333333333,
              "#9c179e"
             ],
             [
              0.4444444444444444,
              "#bd3786"
             ],
             [
              0.5555555555555556,
              "#d8576b"
             ],
             [
              0.6666666666666666,
              "#ed7953"
             ],
             [
              0.7777777777777778,
              "#fb9f3a"
             ],
             [
              0.8888888888888888,
              "#fdca26"
             ],
             [
              1,
              "#f0f921"
             ]
            ],
            "type": "heatmapgl"
           }
          ],
          "histogram": [
           {
            "marker": {
             "pattern": {
              "fillmode": "overlay",
              "size": 10,
              "solidity": 0.2
             }
            },
            "type": "histogram"
           }
          ],
          "histogram2d": [
           {
            "colorbar": {
             "outlinewidth": 0,
             "ticks": ""
            },
            "colorscale": [
             [
              0,
              "#0d0887"
             ],
             [
              0.1111111111111111,
              "#46039f"
             ],
             [
              0.2222222222222222,
              "#7201a8"
             ],
             [
              0.3333333333333333,
              "#9c179e"
             ],
             [
              0.4444444444444444,
              "#bd3786"
             ],
             [
              0.5555555555555556,
              "#d8576b"
             ],
             [
              0.6666666666666666,
              "#ed7953"
             ],
             [
              0.7777777777777778,
              "#fb9f3a"
             ],
             [
              0.8888888888888888,
              "#fdca26"
             ],
             [
              1,
              "#f0f921"
             ]
            ],
            "type": "histogram2d"
           }
          ],
          "histogram2dcontour": [
           {
            "colorbar": {
             "outlinewidth": 0,
             "ticks": ""
            },
            "colorscale": [
             [
              0,
              "#0d0887"
             ],
             [
              0.1111111111111111,
              "#46039f"
             ],
             [
              0.2222222222222222,
              "#7201a8"
             ],
             [
              0.3333333333333333,
              "#9c179e"
             ],
             [
              0.4444444444444444,
              "#bd3786"
             ],
             [
              0.5555555555555556,
              "#d8576b"
             ],
             [
              0.6666666666666666,
              "#ed7953"
             ],
             [
              0.7777777777777778,
              "#fb9f3a"
             ],
             [
              0.8888888888888888,
              "#fdca26"
             ],
             [
              1,
              "#f0f921"
             ]
            ],
            "type": "histogram2dcontour"
           }
          ],
          "mesh3d": [
           {
            "colorbar": {
             "outlinewidth": 0,
             "ticks": ""
            },
            "type": "mesh3d"
           }
          ],
          "parcoords": [
           {
            "line": {
             "colorbar": {
              "outlinewidth": 0,
              "ticks": ""
             }
            },
            "type": "parcoords"
           }
          ],
          "pie": [
           {
            "automargin": true,
            "type": "pie"
           }
          ],
          "scatter": [
           {
            "fillpattern": {
             "fillmode": "overlay",
             "size": 10,
             "solidity": 0.2
            },
            "type": "scatter"
           }
          ],
          "scatter3d": [
           {
            "line": {
             "colorbar": {
              "outlinewidth": 0,
              "ticks": ""
             }
            },
            "marker": {
             "colorbar": {
              "outlinewidth": 0,
              "ticks": ""
             }
            },
            "type": "scatter3d"
           }
          ],
          "scattercarpet": [
           {
            "marker": {
             "colorbar": {
              "outlinewidth": 0,
              "ticks": ""
             }
            },
            "type": "scattercarpet"
           }
          ],
          "scattergeo": [
           {
            "marker": {
             "colorbar": {
              "outlinewidth": 0,
              "ticks": ""
             }
            },
            "type": "scattergeo"
           }
          ],
          "scattergl": [
           {
            "marker": {
             "colorbar": {
              "outlinewidth": 0,
              "ticks": ""
             }
            },
            "type": "scattergl"
           }
          ],
          "scattermapbox": [
           {
            "marker": {
             "colorbar": {
              "outlinewidth": 0,
              "ticks": ""
             }
            },
            "type": "scattermapbox"
           }
          ],
          "scatterpolar": [
           {
            "marker": {
             "colorbar": {
              "outlinewidth": 0,
              "ticks": ""
             }
            },
            "type": "scatterpolar"
           }
          ],
          "scatterpolargl": [
           {
            "marker": {
             "colorbar": {
              "outlinewidth": 0,
              "ticks": ""
             }
            },
            "type": "scatterpolargl"
           }
          ],
          "scatterternary": [
           {
            "marker": {
             "colorbar": {
              "outlinewidth": 0,
              "ticks": ""
             }
            },
            "type": "scatterternary"
           }
          ],
          "surface": [
           {
            "colorbar": {
             "outlinewidth": 0,
             "ticks": ""
            },
            "colorscale": [
             [
              0,
              "#0d0887"
             ],
             [
              0.1111111111111111,
              "#46039f"
             ],
             [
              0.2222222222222222,
              "#7201a8"
             ],
             [
              0.3333333333333333,
              "#9c179e"
             ],
             [
              0.4444444444444444,
              "#bd3786"
             ],
             [
              0.5555555555555556,
              "#d8576b"
             ],
             [
              0.6666666666666666,
              "#ed7953"
             ],
             [
              0.7777777777777778,
              "#fb9f3a"
             ],
             [
              0.8888888888888888,
              "#fdca26"
             ],
             [
              1,
              "#f0f921"
             ]
            ],
            "type": "surface"
           }
          ],
          "table": [
           {
            "cells": {
             "fill": {
              "color": "#EBF0F8"
             },
             "line": {
              "color": "white"
             }
            },
            "header": {
             "fill": {
              "color": "#C8D4E3"
             },
             "line": {
              "color": "white"
             }
            },
            "type": "table"
           }
          ]
         },
         "layout": {
          "annotationdefaults": {
           "arrowcolor": "#2a3f5f",
           "arrowhead": 0,
           "arrowwidth": 1
          },
          "autotypenumbers": "strict",
          "coloraxis": {
           "colorbar": {
            "outlinewidth": 0,
            "ticks": ""
           }
          },
          "colorscale": {
           "diverging": [
            [
             0,
             "#8e0152"
            ],
            [
             0.1,
             "#c51b7d"
            ],
            [
             0.2,
             "#de77ae"
            ],
            [
             0.3,
             "#f1b6da"
            ],
            [
             0.4,
             "#fde0ef"
            ],
            [
             0.5,
             "#f7f7f7"
            ],
            [
             0.6,
             "#e6f5d0"
            ],
            [
             0.7,
             "#b8e186"
            ],
            [
             0.8,
             "#7fbc41"
            ],
            [
             0.9,
             "#4d9221"
            ],
            [
             1,
             "#276419"
            ]
           ],
           "sequential": [
            [
             0,
             "#0d0887"
            ],
            [
             0.1111111111111111,
             "#46039f"
            ],
            [
             0.2222222222222222,
             "#7201a8"
            ],
            [
             0.3333333333333333,
             "#9c179e"
            ],
            [
             0.4444444444444444,
             "#bd3786"
            ],
            [
             0.5555555555555556,
             "#d8576b"
            ],
            [
             0.6666666666666666,
             "#ed7953"
            ],
            [
             0.7777777777777778,
             "#fb9f3a"
            ],
            [
             0.8888888888888888,
             "#fdca26"
            ],
            [
             1,
             "#f0f921"
            ]
           ],
           "sequentialminus": [
            [
             0,
             "#0d0887"
            ],
            [
             0.1111111111111111,
             "#46039f"
            ],
            [
             0.2222222222222222,
             "#7201a8"
            ],
            [
             0.3333333333333333,
             "#9c179e"
            ],
            [
             0.4444444444444444,
             "#bd3786"
            ],
            [
             0.5555555555555556,
             "#d8576b"
            ],
            [
             0.6666666666666666,
             "#ed7953"
            ],
            [
             0.7777777777777778,
             "#fb9f3a"
            ],
            [
             0.8888888888888888,
             "#fdca26"
            ],
            [
             1,
             "#f0f921"
            ]
           ]
          },
          "colorway": [
           "#636efa",
           "#EF553B",
           "#00cc96",
           "#ab63fa",
           "#FFA15A",
           "#19d3f3",
           "#FF6692",
           "#B6E880",
           "#FF97FF",
           "#FECB52"
          ],
          "font": {
           "color": "#2a3f5f"
          },
          "geo": {
           "bgcolor": "white",
           "lakecolor": "white",
           "landcolor": "#E5ECF6",
           "showlakes": true,
           "showland": true,
           "subunitcolor": "white"
          },
          "hoverlabel": {
           "align": "left"
          },
          "hovermode": "closest",
          "mapbox": {
           "style": "light"
          },
          "paper_bgcolor": "white",
          "plot_bgcolor": "#E5ECF6",
          "polar": {
           "angularaxis": {
            "gridcolor": "white",
            "linecolor": "white",
            "ticks": ""
           },
           "bgcolor": "#E5ECF6",
           "radialaxis": {
            "gridcolor": "white",
            "linecolor": "white",
            "ticks": ""
           }
          },
          "scene": {
           "xaxis": {
            "backgroundcolor": "#E5ECF6",
            "gridcolor": "white",
            "gridwidth": 2,
            "linecolor": "white",
            "showbackground": true,
            "ticks": "",
            "zerolinecolor": "white"
           },
           "yaxis": {
            "backgroundcolor": "#E5ECF6",
            "gridcolor": "white",
            "gridwidth": 2,
            "linecolor": "white",
            "showbackground": true,
            "ticks": "",
            "zerolinecolor": "white"
           },
           "zaxis": {
            "backgroundcolor": "#E5ECF6",
            "gridcolor": "white",
            "gridwidth": 2,
            "linecolor": "white",
            "showbackground": true,
            "ticks": "",
            "zerolinecolor": "white"
           }
          },
          "shapedefaults": {
           "line": {
            "color": "#2a3f5f"
           }
          },
          "ternary": {
           "aaxis": {
            "gridcolor": "white",
            "linecolor": "white",
            "ticks": ""
           },
           "baxis": {
            "gridcolor": "white",
            "linecolor": "white",
            "ticks": ""
           },
           "bgcolor": "#E5ECF6",
           "caxis": {
            "gridcolor": "white",
            "linecolor": "white",
            "ticks": ""
           }
          },
          "title": {
           "x": 0.05
          },
          "xaxis": {
           "automargin": true,
           "gridcolor": "white",
           "linecolor": "white",
           "ticks": "",
           "title": {
            "standoff": 15
           },
           "zerolinecolor": "white",
           "zerolinewidth": 2
          },
          "yaxis": {
           "automargin": true,
           "gridcolor": "white",
           "linecolor": "white",
           "ticks": "",
           "title": {
            "standoff": 15
           },
           "zerolinecolor": "white",
           "zerolinewidth": 2
          }
         }
        }
       }
      }
     },
     "metadata": {},
     "output_type": "display_data"
    }
   ],
   "source": [
    "fig=px.sunburst(diamonds,path=['cut', 'color', 'clarity'],  #esky path me categorical variables aty hy numeric ni\n",
    "                 values='price',color='cut',hover_data=['carat']\n",
    "                 )\n",
    "fig.show()  "
   ]
  }
 ],
 "metadata": {
  "kernelspec": {
   "display_name": "Python 3",
   "language": "python",
   "name": "python3"
  },
  "language_info": {
   "codemirror_mode": {
    "name": "ipython",
    "version": 3
   },
   "file_extension": ".py",
   "mimetype": "text/x-python",
   "name": "python",
   "nbconvert_exporter": "python",
   "pygments_lexer": "ipython3",
   "version": "3.11.2"
  },
  "orig_nbformat": 4
 },
 "nbformat": 4,
 "nbformat_minor": 2
}
